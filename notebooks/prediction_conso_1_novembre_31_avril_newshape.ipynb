{
 "cells": [
  {
   "cell_type": "code",
   "execution_count": 1,
   "id": "ab5851d8",
   "metadata": {},
   "outputs": [],
   "source": [
    "import sys\n",
    "import os\n",
    "import importlib\n",
    "\n",
    "# Ajout du chemin une fois\n",
    "sys.path.append(os.path.abspath('../python_files'))\n",
    "\n",
    "# Liste des noms des modules à importer et recharger\n",
    "module_names = [\n",
    "    'preprocessing',\n",
    "    'imports',\n",
    "    'files',\n",
    "    'clustering',\n",
    "    'profile_prediction',\n",
    "    'prediction_24h'\n",
    "]\n",
    "\n",
    "# Import et reload automatique\n",
    "modules = {}\n",
    "for name in module_names:\n",
    "    modules[name] = importlib.import_module(name)\n",
    "    importlib.reload(modules[name])\n",
    "\n",
    "# Importer tout en global namespace (équivalent à from ... import *)\n",
    "for name in module_names:\n",
    "    exec(f'from {name} import *')\n"
   ]
  },
  {
   "cell_type": "code",
   "execution_count": 2,
   "id": "7f230a24",
   "metadata": {},
   "outputs": [],
   "source": [
    "consommation_chauffage = extract_and_concat_consommation(Simulation_Dataset, column_index=4, prefix=\"consommation_heat_\")\n"
   ]
  },
  {
   "cell_type": "code",
   "execution_count": 3,
   "id": "e470e7a4",
   "metadata": {},
   "outputs": [],
   "source": [
    "\n",
    "# Exemple d'utilisation\n",
    "city_groups = {\n",
    "    \"Weather_Dataset\": Weather_Dataset\n",
    "   \n",
    "    \n",
    "}\n",
    "\n",
    "prefix_column_map = {\n",
    "    \"Text_\": 1,\n",
    "    \"Hum_\": 3,\n",
    "    \"Wind_\": 4,\n",
    "    \"Solar_\": 5,\n",
    "    \"Ground_\": 10\n",
    "}\n",
    "\n",
    "combined_data = extract_and_combine_all(city_groups, prefix_column_map)\n",
    "\n",
    "city_groups = {\n",
    "    \"Simulation_Dataset\":Simulation_Dataset  \n",
    "}\n",
    "\n",
    "prefix_column_map = {\n",
    "    \"Tint_\": 2,   \n",
    "}\n",
    "\n",
    "combined_Tint = extract_and_combine_all(city_groups, prefix_column_map)\n"
   ]
  },
  {
   "cell_type": "code",
   "execution_count": 4,
   "id": "bbeda070",
   "metadata": {},
   "outputs": [],
   "source": [
    "Text_combined = combined_data.get('Text_combined_Weather_Dataset')\n",
    "Hum_combined = combined_data.get('Hum_combined_Weather_Dataset')\n",
    "Wind_combined = combined_data.get('Wind_combined_Weather_Dataset')\n",
    "Tint_combined = combined_Tint.get('Tint_combined_Simulation_Dataset')\n"
   ]
  },
  {
   "cell_type": "code",
   "execution_count": 5,
   "id": "e18a7374",
   "metadata": {},
   "outputs": [],
   "source": [
    "start_date = \"2018-01-01\"\n",
    "dates = pd.date_range(start=start_date, periods=len(consommation_chauffage), freq=\"D\") \n",
    "consommation_chauffage.insert(0, \"Date\", dates)\n",
    "Text_combined.insert(0, \"Date\", dates)\n",
    "Hum_combined.insert(0, \"Date\", dates)"
   ]
  },
  {
   "cell_type": "code",
   "execution_count": 6,
   "id": "dd7aadcc",
   "metadata": {},
   "outputs": [],
   "source": [
    "def add_heating_season(df, date_column='Date'):\n",
    "    \"\"\"\n",
    "    Ajoute une colonne 'heat_on' qui vaut 1 si la date est entre le 1er novembre et le 30 avril, sinon 0.\n",
    "\n",
    "    \"\"\" \n",
    "    # Extraire le mois et le jour\n",
    "    month_day = df[date_column].dt.month * 100 + df[date_column].dt.day\n",
    "    \n",
    "    # Appliquer la condition: 1 si entre 1101 (1er nov) et 0430 (30 avril), sinon 0\n",
    "    df['heat_on'] = ((month_day >= 1101) | (month_day <= 430)).astype(int)\n",
    "    \n",
    "    return df\n",
    "\n"
   ]
  },
  {
   "cell_type": "code",
   "execution_count": 7,
   "id": "15ee7d7e",
   "metadata": {},
   "outputs": [
    {
     "data": {
      "text/html": [
       "<div>\n",
       "<style scoped>\n",
       "    .dataframe tbody tr th:only-of-type {\n",
       "        vertical-align: middle;\n",
       "    }\n",
       "\n",
       "    .dataframe tbody tr th {\n",
       "        vertical-align: top;\n",
       "    }\n",
       "\n",
       "    .dataframe thead th {\n",
       "        text-align: right;\n",
       "    }\n",
       "</style>\n",
       "<table border=\"1\" class=\"dataframe\">\n",
       "  <thead>\n",
       "    <tr style=\"text-align: right;\">\n",
       "      <th></th>\n",
       "      <th>Date</th>\n",
       "      <th>0</th>\n",
       "      <th>1</th>\n",
       "      <th>2</th>\n",
       "      <th>3</th>\n",
       "      <th>4</th>\n",
       "      <th>5</th>\n",
       "      <th>6</th>\n",
       "      <th>7</th>\n",
       "      <th>8</th>\n",
       "      <th>...</th>\n",
       "      <th>15</th>\n",
       "      <th>16</th>\n",
       "      <th>17</th>\n",
       "      <th>18</th>\n",
       "      <th>19</th>\n",
       "      <th>20</th>\n",
       "      <th>21</th>\n",
       "      <th>22</th>\n",
       "      <th>23</th>\n",
       "      <th>heat_on</th>\n",
       "    </tr>\n",
       "  </thead>\n",
       "  <tbody>\n",
       "    <tr>\n",
       "      <th>0</th>\n",
       "      <td>2018-01-01</td>\n",
       "      <td>82.0</td>\n",
       "      <td>81.0</td>\n",
       "      <td>80.5</td>\n",
       "      <td>83.0</td>\n",
       "      <td>84.5</td>\n",
       "      <td>84.0</td>\n",
       "      <td>85.0</td>\n",
       "      <td>85.0</td>\n",
       "      <td>81.0</td>\n",
       "      <td>...</td>\n",
       "      <td>58.0</td>\n",
       "      <td>72.0</td>\n",
       "      <td>79.0</td>\n",
       "      <td>83.5</td>\n",
       "      <td>83.0</td>\n",
       "      <td>84.0</td>\n",
       "      <td>86.0</td>\n",
       "      <td>86.5</td>\n",
       "      <td>86.5</td>\n",
       "      <td>1</td>\n",
       "    </tr>\n",
       "    <tr>\n",
       "      <th>1</th>\n",
       "      <td>2018-01-02</td>\n",
       "      <td>87.0</td>\n",
       "      <td>88.0</td>\n",
       "      <td>88.5</td>\n",
       "      <td>89.0</td>\n",
       "      <td>89.0</td>\n",
       "      <td>89.5</td>\n",
       "      <td>89.5</td>\n",
       "      <td>89.5</td>\n",
       "      <td>90.0</td>\n",
       "      <td>...</td>\n",
       "      <td>86.0</td>\n",
       "      <td>86.5</td>\n",
       "      <td>88.0</td>\n",
       "      <td>89.5</td>\n",
       "      <td>89.5</td>\n",
       "      <td>89.5</td>\n",
       "      <td>90.5</td>\n",
       "      <td>91.0</td>\n",
       "      <td>91.0</td>\n",
       "      <td>1</td>\n",
       "    </tr>\n",
       "    <tr>\n",
       "      <th>2</th>\n",
       "      <td>2018-01-03</td>\n",
       "      <td>91.0</td>\n",
       "      <td>90.0</td>\n",
       "      <td>88.0</td>\n",
       "      <td>84.5</td>\n",
       "      <td>80.5</td>\n",
       "      <td>78.0</td>\n",
       "      <td>76.0</td>\n",
       "      <td>76.0</td>\n",
       "      <td>78.0</td>\n",
       "      <td>...</td>\n",
       "      <td>69.5</td>\n",
       "      <td>69.0</td>\n",
       "      <td>71.0</td>\n",
       "      <td>73.5</td>\n",
       "      <td>75.0</td>\n",
       "      <td>75.5</td>\n",
       "      <td>75.5</td>\n",
       "      <td>80.0</td>\n",
       "      <td>85.0</td>\n",
       "      <td>1</td>\n",
       "    </tr>\n",
       "    <tr>\n",
       "      <th>3</th>\n",
       "      <td>2018-01-04</td>\n",
       "      <td>85.0</td>\n",
       "      <td>84.5</td>\n",
       "      <td>84.5</td>\n",
       "      <td>85.0</td>\n",
       "      <td>84.5</td>\n",
       "      <td>83.5</td>\n",
       "      <td>82.5</td>\n",
       "      <td>81.5</td>\n",
       "      <td>80.5</td>\n",
       "      <td>...</td>\n",
       "      <td>61.0</td>\n",
       "      <td>60.5</td>\n",
       "      <td>63.0</td>\n",
       "      <td>69.5</td>\n",
       "      <td>74.5</td>\n",
       "      <td>74.5</td>\n",
       "      <td>70.5</td>\n",
       "      <td>73.0</td>\n",
       "      <td>77.5</td>\n",
       "      <td>1</td>\n",
       "    </tr>\n",
       "    <tr>\n",
       "      <th>4</th>\n",
       "      <td>2018-01-05</td>\n",
       "      <td>76.5</td>\n",
       "      <td>76.0</td>\n",
       "      <td>77.0</td>\n",
       "      <td>79.5</td>\n",
       "      <td>81.5</td>\n",
       "      <td>83.0</td>\n",
       "      <td>84.5</td>\n",
       "      <td>84.5</td>\n",
       "      <td>84.5</td>\n",
       "      <td>...</td>\n",
       "      <td>55.5</td>\n",
       "      <td>60.0</td>\n",
       "      <td>68.0</td>\n",
       "      <td>75.0</td>\n",
       "      <td>79.0</td>\n",
       "      <td>82.5</td>\n",
       "      <td>86.5</td>\n",
       "      <td>91.0</td>\n",
       "      <td>94.0</td>\n",
       "      <td>1</td>\n",
       "    </tr>\n",
       "    <tr>\n",
       "      <th>...</th>\n",
       "      <td>...</td>\n",
       "      <td>...</td>\n",
       "      <td>...</td>\n",
       "      <td>...</td>\n",
       "      <td>...</td>\n",
       "      <td>...</td>\n",
       "      <td>...</td>\n",
       "      <td>...</td>\n",
       "      <td>...</td>\n",
       "      <td>...</td>\n",
       "      <td>...</td>\n",
       "      <td>...</td>\n",
       "      <td>...</td>\n",
       "      <td>...</td>\n",
       "      <td>...</td>\n",
       "      <td>...</td>\n",
       "      <td>...</td>\n",
       "      <td>...</td>\n",
       "      <td>...</td>\n",
       "      <td>...</td>\n",
       "      <td>...</td>\n",
       "    </tr>\n",
       "    <tr>\n",
       "      <th>2550</th>\n",
       "      <td>2024-12-25</td>\n",
       "      <td>98.0</td>\n",
       "      <td>98.5</td>\n",
       "      <td>99.5</td>\n",
       "      <td>100.0</td>\n",
       "      <td>100.0</td>\n",
       "      <td>100.0</td>\n",
       "      <td>99.5</td>\n",
       "      <td>99.5</td>\n",
       "      <td>100.0</td>\n",
       "      <td>...</td>\n",
       "      <td>72.5</td>\n",
       "      <td>70.5</td>\n",
       "      <td>73.0</td>\n",
       "      <td>78.0</td>\n",
       "      <td>82.5</td>\n",
       "      <td>87.5</td>\n",
       "      <td>92.0</td>\n",
       "      <td>94.5</td>\n",
       "      <td>96.5</td>\n",
       "      <td>1</td>\n",
       "    </tr>\n",
       "    <tr>\n",
       "      <th>2551</th>\n",
       "      <td>2024-12-26</td>\n",
       "      <td>98.5</td>\n",
       "      <td>99.0</td>\n",
       "      <td>99.0</td>\n",
       "      <td>99.5</td>\n",
       "      <td>100.0</td>\n",
       "      <td>100.0</td>\n",
       "      <td>99.5</td>\n",
       "      <td>99.0</td>\n",
       "      <td>99.0</td>\n",
       "      <td>...</td>\n",
       "      <td>58.0</td>\n",
       "      <td>58.5</td>\n",
       "      <td>65.0</td>\n",
       "      <td>74.5</td>\n",
       "      <td>81.0</td>\n",
       "      <td>83.0</td>\n",
       "      <td>84.5</td>\n",
       "      <td>86.0</td>\n",
       "      <td>89.0</td>\n",
       "      <td>1</td>\n",
       "    </tr>\n",
       "    <tr>\n",
       "      <th>2552</th>\n",
       "      <td>2024-12-27</td>\n",
       "      <td>90.5</td>\n",
       "      <td>90.5</td>\n",
       "      <td>91.5</td>\n",
       "      <td>92.0</td>\n",
       "      <td>92.0</td>\n",
       "      <td>92.5</td>\n",
       "      <td>93.5</td>\n",
       "      <td>94.5</td>\n",
       "      <td>94.5</td>\n",
       "      <td>...</td>\n",
       "      <td>55.5</td>\n",
       "      <td>54.0</td>\n",
       "      <td>59.0</td>\n",
       "      <td>72.5</td>\n",
       "      <td>83.0</td>\n",
       "      <td>86.5</td>\n",
       "      <td>88.5</td>\n",
       "      <td>92.0</td>\n",
       "      <td>95.0</td>\n",
       "      <td>1</td>\n",
       "    </tr>\n",
       "    <tr>\n",
       "      <th>2553</th>\n",
       "      <td>2024-12-28</td>\n",
       "      <td>97.0</td>\n",
       "      <td>98.0</td>\n",
       "      <td>98.0</td>\n",
       "      <td>98.5</td>\n",
       "      <td>99.0</td>\n",
       "      <td>99.0</td>\n",
       "      <td>99.5</td>\n",
       "      <td>100.0</td>\n",
       "      <td>100.0</td>\n",
       "      <td>...</td>\n",
       "      <td>89.5</td>\n",
       "      <td>87.0</td>\n",
       "      <td>86.5</td>\n",
       "      <td>90.0</td>\n",
       "      <td>93.0</td>\n",
       "      <td>93.5</td>\n",
       "      <td>94.5</td>\n",
       "      <td>95.5</td>\n",
       "      <td>96.5</td>\n",
       "      <td>1</td>\n",
       "    </tr>\n",
       "    <tr>\n",
       "      <th>2554</th>\n",
       "      <td>2024-12-29</td>\n",
       "      <td>97.5</td>\n",
       "      <td>98.0</td>\n",
       "      <td>98.0</td>\n",
       "      <td>98.5</td>\n",
       "      <td>99.0</td>\n",
       "      <td>99.0</td>\n",
       "      <td>99.5</td>\n",
       "      <td>99.5</td>\n",
       "      <td>99.5</td>\n",
       "      <td>...</td>\n",
       "      <td>91.5</td>\n",
       "      <td>90.0</td>\n",
       "      <td>91.5</td>\n",
       "      <td>96.5</td>\n",
       "      <td>100.0</td>\n",
       "      <td>100.0</td>\n",
       "      <td>100.0</td>\n",
       "      <td>100.0</td>\n",
       "      <td>100.0</td>\n",
       "      <td>1</td>\n",
       "    </tr>\n",
       "  </tbody>\n",
       "</table>\n",
       "<p>2555 rows × 26 columns</p>\n",
       "</div>"
      ],
      "text/plain": [
       "           Date     0     1     2      3      4      5     6      7      8  \\\n",
       "0    2018-01-01  82.0  81.0  80.5   83.0   84.5   84.0  85.0   85.0   81.0   \n",
       "1    2018-01-02  87.0  88.0  88.5   89.0   89.0   89.5  89.5   89.5   90.0   \n",
       "2    2018-01-03  91.0  90.0  88.0   84.5   80.5   78.0  76.0   76.0   78.0   \n",
       "3    2018-01-04  85.0  84.5  84.5   85.0   84.5   83.5  82.5   81.5   80.5   \n",
       "4    2018-01-05  76.5  76.0  77.0   79.5   81.5   83.0  84.5   84.5   84.5   \n",
       "...         ...   ...   ...   ...    ...    ...    ...   ...    ...    ...   \n",
       "2550 2024-12-25  98.0  98.5  99.5  100.0  100.0  100.0  99.5   99.5  100.0   \n",
       "2551 2024-12-26  98.5  99.0  99.0   99.5  100.0  100.0  99.5   99.0   99.0   \n",
       "2552 2024-12-27  90.5  90.5  91.5   92.0   92.0   92.5  93.5   94.5   94.5   \n",
       "2553 2024-12-28  97.0  98.0  98.0   98.5   99.0   99.0  99.5  100.0  100.0   \n",
       "2554 2024-12-29  97.5  98.0  98.0   98.5   99.0   99.0  99.5   99.5   99.5   \n",
       "\n",
       "      ...    15    16    17    18     19     20     21     22     23  heat_on  \n",
       "0     ...  58.0  72.0  79.0  83.5   83.0   84.0   86.0   86.5   86.5        1  \n",
       "1     ...  86.0  86.5  88.0  89.5   89.5   89.5   90.5   91.0   91.0        1  \n",
       "2     ...  69.5  69.0  71.0  73.5   75.0   75.5   75.5   80.0   85.0        1  \n",
       "3     ...  61.0  60.5  63.0  69.5   74.5   74.5   70.5   73.0   77.5        1  \n",
       "4     ...  55.5  60.0  68.0  75.0   79.0   82.5   86.5   91.0   94.0        1  \n",
       "...   ...   ...   ...   ...   ...    ...    ...    ...    ...    ...      ...  \n",
       "2550  ...  72.5  70.5  73.0  78.0   82.5   87.5   92.0   94.5   96.5        1  \n",
       "2551  ...  58.0  58.5  65.0  74.5   81.0   83.0   84.5   86.0   89.0        1  \n",
       "2552  ...  55.5  54.0  59.0  72.5   83.0   86.5   88.5   92.0   95.0        1  \n",
       "2553  ...  89.5  87.0  86.5  90.0   93.0   93.5   94.5   95.5   96.5        1  \n",
       "2554  ...  91.5  90.0  91.5  96.5  100.0  100.0  100.0  100.0  100.0        1  \n",
       "\n",
       "[2555 rows x 26 columns]"
      ]
     },
     "execution_count": 7,
     "metadata": {},
     "output_type": "execute_result"
    }
   ],
   "source": [
    "\n",
    "add_heating_season(consommation_chauffage)\n",
    "add_heating_season(Text_combined)\n",
    "add_heating_season(Hum_combined)"
   ]
  },
  {
   "cell_type": "code",
   "execution_count": 8,
   "id": "f66b2c5c",
   "metadata": {},
   "outputs": [],
   "source": [
    "df_conso = consommation_chauffage[consommation_chauffage[\"heat_on\"] == 1].copy()\n",
    "df_Text = Text_combined[Text_combined[\"heat_on\"] == 1].copy()\n",
    "df_Hum = Hum_combined[Hum_combined[\"heat_on\"] == 1].copy()\n",
    "\n"
   ]
  },
  {
   "cell_type": "code",
   "execution_count": 9,
   "id": "8024e803",
   "metadata": {},
   "outputs": [],
   "source": [
    "clustering_heat_toulouse = clustering(\n",
    "    df=df_conso.drop(columns=[\"Date\"]),  \n",
    "    n_parts=1,                          \n",
    "    status_column=\"heat_on\",           \n",
    "    n_clusters_list=[3]                \n",
    ")\n",
    "\n"
   ]
  },
  {
   "cell_type": "code",
   "execution_count": 10,
   "id": "29bc32dd",
   "metadata": {},
   "outputs": [
    {
     "data": {
      "image/png": "[encoded data removed]",
      "text/plain": [
       "<Figure size 1000x1000 with 4 Axes>"
      ]
     },
     "metadata": {},
     "output_type": "display_data"
    }
   ],
   "source": [
    "plot_clusters(clustering_heat_toulouse.drop(columns=[\"heat_on\"]))"
   ]
  },
  {
   "cell_type": "code",
   "execution_count": 193,
   "id": "3593486f",
   "metadata": {},
   "outputs": [],
   "source": [
    "Text_conso_heat_tou=pd.concat([df_Text,clustering_heat_toulouse[\"clusters_1\"]],axis=1)"
   ]
  },
  {
   "cell_type": "code",
   "execution_count": 194,
   "id": "d4f55271",
   "metadata": {},
   "outputs": [],
   "source": [
    "Text_combined['clusters'] = 4\n",
    "\n",
    "# Assigner les valeurs de clustering_heat_toulouse uniquement pour les indices correspondants\n",
    "valid_indices = Text_combined.index.intersection(clustering_heat_toulouse.index)\n",
    "Text_combined.loc[valid_indices, 'clusters'] = clustering_heat_toulouse.loc[valid_indices, 'clusters_1'].values"
   ]
  },
  {
   "cell_type": "code",
   "execution_count": 200,
   "id": "3a5e936e",
   "metadata": {},
   "outputs": [],
   "source": [
    "Text_conso_heat_tou.loc[Text_conso_heat_tou['clusters_1'] == 3, 'heat_on'] = 0\n"
   ]
  },
  {
   "cell_type": "code",
   "execution_count": 201,
   "id": "a98376a2",
   "metadata": {},
   "outputs": [
    {
     "data": {
      "text/plain": [
       "array([1, 0])"
      ]
     },
     "execution_count": 201,
     "metadata": {},
     "output_type": "execute_result"
    }
   ],
   "source": [
    "Text_conso_heat_tou['heat_on'].unique()"
   ]
  },
  {
   "cell_type": "code",
   "execution_count": 202,
   "id": "457cfb36",
   "metadata": {},
   "outputs": [
    {
     "name": "stdout",
     "output_type": "stream",
     "text": [
      "\n",
      "Évaluation de Random Forest...\n"
     ]
    },
    {
     "data": {
      "image/png": "[encoded data removed]",
      "text/plain": [
       "<Figure size 500x400 with 2 Axes>"
      ]
     },
     "metadata": {},
     "output_type": "display_data"
    },
    {
     "name": "stdout",
     "output_type": "stream",
     "text": [
      "Random Forest - F1: 0.7375 - Accuracy: 0.7362 - Temps: 0.80s\n",
      "###################################################################\n",
      "\n",
      "Évaluation de Logistic Regression...\n"
     ]
    },
    {
     "name": "stderr",
     "output_type": "stream",
     "text": [
      "c:\\Users\\toubia\\anaconda3\\envs\\notebook\\Lib\\site-packages\\sklearn\\linear_model\\_logistic.py:465: ConvergenceWarning:\n",
      "\n",
      "lbfgs failed to converge (status=1):\n",
      "STOP: TOTAL NO. OF ITERATIONS REACHED LIMIT.\n",
      "\n",
      "Increase the number of iterations (max_iter) or scale the data as shown in:\n",
      "    https://scikit-learn.org/stable/modules/preprocessing.html\n",
      "Please also refer to the documentation for alternative solver options:\n",
      "    https://scikit-learn.org/stable/modules/linear_model.html#logistic-regression\n",
      "\n"
     ]
    },
    {
     "data": {
      "image/png": "[encoded data removed]",
      "text/plain": [
       "<Figure size 500x400 with 2 Axes>"
      ]
     },
     "metadata": {},
     "output_type": "display_data"
    },
    {
     "name": "stdout",
     "output_type": "stream",
     "text": [
      "Logistic Regression - F1: 0.7723 - Accuracy: 0.7717 - Temps: 0.64s\n",
      "###################################################################\n",
      "\n",
      "Évaluation de SVC...\n"
     ]
    },
    {
     "data": {
      "image/png": "[encoded data removed]",
      "text/plain": [
       "<Figure size 500x400 with 2 Axes>"
      ]
     },
     "metadata": {},
     "output_type": "display_data"
    },
    {
     "name": "stdout",
     "output_type": "stream",
     "text": [
      "SVC - F1: 0.6695 - Accuracy: 0.6693 - Temps: 0.11s\n",
      "###################################################################\n",
      "\n",
      "Évaluation de KNN...\n"
     ]
    },
    {
     "data": {
      "image/png": "[encoded data removed]",
      "text/plain": [
       "<Figure size 500x400 with 2 Axes>"
      ]
     },
     "metadata": {},
     "output_type": "display_data"
    },
    {
     "name": "stdout",
     "output_type": "stream",
     "text": [
      "KNN - F1: 0.5472 - Accuracy: 0.5512 - Temps: 0.03s\n",
      "###################################################################\n",
      "\n",
      "Évaluation de Gradient Boosting...\n"
     ]
    },
    {
     "data": {
      "image/png": "[encoded data removed]",
      "text/plain": [
       "<Figure size 500x400 with 2 Axes>"
      ]
     },
     "metadata": {},
     "output_type": "display_data"
    },
    {
     "name": "stdout",
     "output_type": "stream",
     "text": [
      "Gradient Boosting - F1: 0.7260 - Accuracy: 0.7244 - Temps: 4.84s\n",
      "###################################################################\n"
     ]
    }
   ],
   "source": [
    "\n",
    "Text_conso_heat_tou.columns = Text_conso_heat_tou.columns.astype(str)\n",
    "re, Test_Text_heat_toulouse = evaluate_models_split(\n",
    "    df=Text_conso_heat_tou.drop(columns=[\"Date\"]),\n",
    "    target_cols=\"clusters_1\",\n",
    "    models=models,\n",
    "    split_ratio=8\n",
    ")"
   ]
  },
  {
   "cell_type": "code",
   "execution_count": 204,
   "id": "f992a4a2",
   "metadata": {},
   "outputs": [],
   "source": [
    "Text_conso_heat_tou=pd.concat([df_Text,clustering_heat_toulouse.drop(columns=[\"heat_on\"])],axis=1)"
   ]
  },
  {
   "cell_type": "code",
   "execution_count": 206,
   "id": "a46e067a",
   "metadata": {},
   "outputs": [],
   "source": [
    "Text_combined['clusters'] = 4\n",
    "\n",
    "# Assigner les valeurs de clustering_heat_toulouse uniquement pour les indices correspondants\n",
    "valid_indices = Text_combined.index.intersection(clustering_heat_toulouse.index)\n",
    "Text_combined.loc[valid_indices, 'clusters'] = clustering_heat_toulouse.loc[valid_indices, 'clusters_1'].values"
   ]
  },
  {
   "cell_type": "code",
   "execution_count": 207,
   "id": "9f2da5b0",
   "metadata": {},
   "outputs": [],
   "source": [
    "# On récupère uniquement les indices communs aux deux DataFrames\n",
    "common_indices = Test_Text_heat_toulouse.index.intersection(Text_conso_heat_tou.index)\n",
    "\n",
    "# On assigne uniquement sur ces indices communs\n",
    "Text_conso_heat_tou.loc[common_indices, \"clusters_1\"] = Test_Text_heat_toulouse.loc[common_indices, \"y_pred_Logistic Regression_clusters_1\"]\n"
   ]
  },
  {
   "cell_type": "code",
   "execution_count": 208,
   "id": "08672eb4",
   "metadata": {},
   "outputs": [],
   "source": [
    "Text_conso_j_1=pd.concat([Text_combined,consommation_chauffage.drop(columns=[\"Date\",\"heat_on\"])],axis=1)\n"
   ]
  },
  {
   "cell_type": "code",
   "execution_count": 209,
   "id": "1448c4b4",
   "metadata": {},
   "outputs": [],
   "source": [
    "\n",
    "Text_conso_heat_tou = Text_conso_heat_tou.sort_values('Date')\n",
    "Text_conso_j_1 = Text_conso_j_1.sort_values('Date')\n",
    "\n",
    "# Créer une liste pour stocker les lignes combinées\n",
    "combined_rows = []\n",
    "\n",
    "# Parcourir chaque ligne de Text_conso_heat_tou\n",
    "for index, row in Text_conso_heat_tou.iterrows():\n",
    "    jour_precedent = row['Date'] - pd.Timedelta(days=1)  # Trouver jour j-1\n",
    "    \n",
    "    # Vérifier si j-1 existe dans Text_combined\n",
    "    prev_row = Text_conso_j_1[Text_conso_j_1['Date'] == jour_precedent]\n",
    "    \n",
    "    if not prev_row.empty:\n",
    "        prev_row = prev_row.iloc[0]  # Sélectionner uniquement la première correspondance\n",
    "        \n",
    "        # Ajouter un suffixe \"_j-1\" aux colonnes du jour précédent\n",
    "        #prev_row = prev_row.rename(lambda x: f\"{x}_j-1\")\n",
    "\n",
    "        # Fusionner proprement les deux lignes\n",
    "        combined_row = pd.concat([prev_row.to_frame().T.reset_index(drop=True), \n",
    "                                  row.to_frame().T.reset_index(drop=True)], axis=1)\n",
    "        \n",
    "        combined_rows.append(combined_row)  # Ajouter la ligne fusionnée\n",
    "    else:\n",
    "        # Si aucune correspondance, passer à la ligne suivante sans l'ajouter\n",
    "        continue\n",
    "\n",
    "# Convertir la liste en DataFrame final\n",
    "Text_final = pd.concat(combined_rows, ignore_index=True)\n",
    "\n",
    "Text_final2 = Text_final.drop(columns=[col for col in Text_final.columns if \"Date\" in str(col).lower()], errors='ignore')\n",
    "\n"
   ]
  },
  {
   "cell_type": "code",
   "execution_count": 210,
   "id": "f4065018",
   "metadata": {},
   "outputs": [],
   "source": [
    "# Ajouter un suffixe automatique pour rendre les noms de colonnes uniques\n",
    "def make_unique_columns(columns):\n",
    "    seen = {}\n",
    "    unique_cols = []\n",
    "    for col in columns:\n",
    "        if col not in seen:\n",
    "            seen[col] = 1\n",
    "            unique_cols.append(col)\n",
    "        else:\n",
    "            seen[col] += 1\n",
    "            unique_cols.append(f\"{col}_{seen[col]}\")\n",
    "    return unique_cols\n",
    "\n",
    "Text_final2.columns = make_unique_columns(Text_final2.columns)\n",
    "\n",
    "cols = Text_final2.columns.tolist()\n",
    "\n",
    "first_part = cols[:-25]              \n",
    "twentyfour_last_cols = cols[-25:-1]  \n",
    "two_before_last = cols[-1:]      \n",
    "new_cols = first_part + two_before_last + twentyfour_last_cols\n",
    "\n",
    "Text_final_reordered = Text_final2[new_cols]"
   ]
  },
  {
   "cell_type": "code",
   "execution_count": 211,
   "id": "2c8046a3",
   "metadata": {},
   "outputs": [
    {
     "data": {
      "text/plain": [
       "(1266, 102)"
      ]
     },
     "execution_count": 211,
     "metadata": {},
     "output_type": "execute_result"
    }
   ],
   "source": [
    "Text_final_reordered.shape"
   ]
  },
  {
   "cell_type": "code",
   "execution_count": 212,
   "id": "728a90da",
   "metadata": {},
   "outputs": [],
   "source": [
    "Text_final_reordered.columns = Text_final_reordered.columns.astype(str)\n",
    "\n",
    "Text_final_reordered = Text_final_reordered.drop(\n",
    "    columns=[col for col in Text_final_reordered.columns if col.startswith(\"Dat\")]\n",
    ")\n"
   ]
  },
  {
   "cell_type": "code",
   "execution_count": 213,
   "id": "cef6a387",
   "metadata": {},
   "outputs": [
    {
     "name": "stdout",
     "output_type": "stream",
     "text": [
      "Shape de X_train2 : (1012, 1, 76)\n",
      "Shape de X_test2 : (254, 1, 76)\n",
      "Shape de y_train2 : (1012, 24)\n",
      "Shape de y_test2 : (254, 24)\n"
     ]
    }
   ],
   "source": [
    "from sklearn.preprocessing import MinMaxScaler\n",
    "y2= Text_final_reordered.iloc[:, -24:].values \n",
    "X2 = Text_final_reordered.iloc[:, :-24].values \n",
    "\n",
    "scaler_X = MinMaxScaler()\n",
    "scaler_y = MinMaxScaler()\n",
    "X2 = scaler_X.fit_transform(X2)\n",
    "y2 = scaler_y.fit_transform(y2)\n",
    "\n",
    "\n",
    "split_index = int((X2.shape[0] * 8) / 10)\n",
    "X2 = X2.reshape(X2.shape[0], 1, X2.shape[1])\n",
    "\n",
    "X_train2 = X2[:split_index, :]\n",
    "X_test2 = X2[split_index:, :]\n",
    "y_train2 = y2[:split_index, :]\n",
    "y_test2 = y2[split_index:, :]\n",
    "\n",
    "\n",
    "\n",
    "# Vérification des dimensions\n",
    "print(\"Shape de X_train2 :\", X_train2.shape)\n",
    "print(\"Shape de X_test2 :\", X_test2.shape)\n",
    "print(\"Shape de y_train2 :\", y_train2.shape)\n",
    "print(\"Shape de y_test2 :\", y_test2.shape)"
   ]
  },
  {
   "cell_type": "code",
   "execution_count": 214,
   "id": "e295e39d",
   "metadata": {},
   "outputs": [],
   "source": [
    "\n",
    "def train_and_evaluate(model, X_train, y_train, X_test, y_test, scaler_temp, scaler_cons):\n",
    "    # Compilation du modèle avec optimizer, loss et métriques\n",
    "    model.compile(optimizer='adam', loss='mean_squared_error', metrics=['mae', 'mse'])\n",
    "    # Callback early stopping pour éviter le surapprentissage\n",
    "    early_stopping = EarlyStopping(monitor='val_loss', patience=10, restore_best_weights=True)\n",
    "    \n",
    "    # Séparation d'un ensemble validation à partir des données d'entraînement (sans shuffle)\n",
    "    X_train, X_val, y_train, y_val = train_test_split(X_train, y_train, test_size=0.1, shuffle=False)\n",
    "    # Entraînement du modèle avec validation et early stopping\n",
    "    history = model.fit(X_train, y_train, epochs=100, batch_size=32, validation_data=(X_val, y_val), callbacks=[early_stopping])\n",
    "    \n",
    "    # Affichage de la courbe de loss durant l'entraînement\n",
    "    plt.figure(figsize=(12, 6))\n",
    "    plt.plot(history.history['loss'], label='Train Loss')\n",
    "    plt.plot(history.history['val_loss'], label='Val Loss')\n",
    "    plt.title('Loss during training')\n",
    "    plt.xlabel('Epochs')\n",
    "    plt.ylabel('Loss')\n",
    "    plt.legend()\n",
    "    plt.show()\n",
    "   \n",
    "    # Évaluation du modèle sur l'ensemble validation\n",
    "    loss, mae, mse = model.evaluate(X_val, y_val)\n",
    "    rmse = np.sqrt(mse) \n",
    "    print(f\"Validation Loss : {loss}\")\n",
    "    print(f\"Validation MAE: {mae}\")\n",
    "    print(f\"Validation MSE: {mse}\")\n",
    "    print(f\"Validation RMSE: {rmse}\")\n",
    "    \n",
    "    # Prédiction sur l'ensemble test\n",
    "    predictions = model.predict(X_test) \n",
    "    y_test_reshape = y_test.reshape(-1, 24) \n",
    "    # Inverse transformation de la normalisation de la consommation\n",
    "    predictions_norm = scaler_cons.inverse_transform(predictions)\n",
    "    y_test_reshape_norm = scaler_cons.inverse_transform(y_test_reshape)\n",
    "\n",
    "    # Calcul des métriques sur l'ensemble test\n",
    "    mae_test = mean_absolute_error(y_test_reshape_norm, predictions_norm)\n",
    "    mse_test = mean_squared_error(y_test_reshape_norm, predictions_norm)\n",
    "    rmse_test = np.sqrt(mse_test)\n",
    "    r2 = r2_score(y_test_reshape_norm, predictions_norm)\n",
    "    cvrmse = rmse_test / np.mean(y_test_reshape_norm)\n",
    "\n",
    "    print(f\"Test MAE: {mae_test}\")\n",
    "    print(f\"Test MSE: {mse_test}\")\n",
    "    print(f\"Test RMSE: {rmse_test}\")\n",
    "    print(f\"Test R²: {r2}\")\n",
    "    print(f\"Test CVRMSE: {cvrmse}\")\n",
    "\n",
    "    return history, loss, mae, mse, rmse, mae_test, mse_test, rmse_test, r2, cvrmse, predictions\n",
    "\n",
    "\n",
    "\n",
    "def model_lstm(X_train2, y_train2, X_test2, y_test2, scaler_temp, scaler_cons):\n",
    "    # Définition du modèle LSTM séquentiel\n",
    "    model2 = Sequential()\n",
    "    # Couche LSTM avec 68 unités, activation tanh, forme d'entrée adaptée\n",
    "    model2.add(LSTM(68, activation='tanh', input_shape=(X_train2.shape[1], X_train2.shape[2])))  \n",
    "    # Couche Dropout pour régularisation\n",
    "    model2.add(Dropout(0.2))\n",
    "    # Couche Dense finale avec 24 sorties et activation linéaire (prédiction continue)\n",
    "    model2.add(Dense(24, activation='linear'))   \n",
    "    \n",
    "    # Entraînement et évaluation du modèle\n",
    "    history2, loss2, mae2, mse2, rmse2, mae_test2, mse_test2, rmse_test2, r2, cvrmse, predictions2 = train_and_evaluate(\n",
    "        model2, X_train2, y_train2, X_test2, y_test2, scaler_temp, scaler_cons\n",
    "    )\n",
    "    \n",
    "    return model2, history2, loss2, mae2, mse2, rmse2, mae_test2, mse_test2, rmse_test2, r2, cvrmse, predictions2\n"
   ]
  },
  {
   "cell_type": "code",
   "execution_count": 215,
   "id": "d4defc2e",
   "metadata": {},
   "outputs": [
    {
     "name": "stdout",
     "output_type": "stream",
     "text": [
      "Epoch 1/100\n"
     ]
    },
    {
     "name": "stderr",
     "output_type": "stream",
     "text": [
      "c:\\Users\\toubia\\anaconda3\\envs\\notebook\\Lib\\site-packages\\keras\\src\\layers\\rnn\\rnn.py:200: UserWarning:\n",
      "\n",
      "Do not pass an `input_shape`/`input_dim` argument to a layer. When using Sequential models, prefer using an `Input(shape)` object as the first layer in the model instead.\n",
      "\n"
     ]
    },
    {
     "name": "stdout",
     "output_type": "stream",
     "text": [
      "\u001b[1m29/29\u001b[0m \u001b[32m━━━━━━━━━━━━━━━━━━━━\u001b[0m\u001b[37m\u001b[0m \u001b[1m3s\u001b[0m 20ms/step - loss: 0.0647 - mae: 0.1785 - mse: 0.0647 - val_loss: 0.0398 - val_mae: 0.1432 - val_mse: 0.0398\n",
      "Epoch 2/100\n",
      "\u001b[1m29/29\u001b[0m \u001b[32m━━━━━━━━━━━━━━━━━━━━\u001b[0m\u001b[37m\u001b[0m \u001b[1m0s\u001b[0m 6ms/step - loss: 0.0306 - mae: 0.1276 - mse: 0.0306 - val_loss: 0.0190 - val_mae: 0.0914 - val_mse: 0.0190\n",
      "Epoch 3/100\n",
      "\u001b[1m29/29\u001b[0m \u001b[32m━━━━━━━━━━━━━━━━━━━━\u001b[0m\u001b[37m\u001b[0m \u001b[1m0s\u001b[0m 6ms/step - loss: 0.0199 - mae: 0.0978 - mse: 0.0199 - val_loss: 0.0178 - val_mae: 0.0864 - val_mse: 0.0178\n",
      "Epoch 4/100\n",
      "\u001b[1m29/29\u001b[0m \u001b[32m━━━━━━━━━━━━━━━━━━━━\u001b[0m\u001b[37m\u001b[0m \u001b[1m0s\u001b[0m 6ms/step - loss: 0.0190 - mae: 0.0936 - mse: 0.0190 - val_loss: 0.0173 - val_mae: 0.0837 - val_mse: 0.0173\n",
      "Epoch 5/100\n",
      "\u001b[1m29/29\u001b[0m \u001b[32m━━━━━━━━━━━━━━━━━━━━\u001b[0m\u001b[37m\u001b[0m \u001b[1m0s\u001b[0m 6ms/step - loss: 0.0178 - mae: 0.0917 - mse: 0.0178 - val_loss: 0.0158 - val_mae: 0.0811 - val_mse: 0.0158\n",
      "Epoch 6/100\n",
      "\u001b[1m29/29\u001b[0m \u001b[32m━━━━━━━━━━━━━━━━━━━━\u001b[0m\u001b[37m\u001b[0m \u001b[1m0s\u001b[0m 11ms/step - loss: 0.0177 - mae: 0.0908 - mse: 0.0177 - val_loss: 0.0150 - val_mae: 0.0794 - val_mse: 0.0150\n",
      "Epoch 7/100\n",
      "\u001b[1m29/29\u001b[0m \u001b[32m━━━━━━━━━━━━━━━━━━━━\u001b[0m\u001b[37m\u001b[0m \u001b[1m0s\u001b[0m 6ms/step - loss: 0.0160 - mae: 0.0868 - mse: 0.0160 - val_loss: 0.0147 - val_mae: 0.0783 - val_mse: 0.0147\n",
      "Epoch 8/100\n",
      "\u001b[1m29/29\u001b[0m \u001b[32m━━━━━━━━━━━━━━━━━━━━\u001b[0m\u001b[37m\u001b[0m \u001b[1m0s\u001b[0m 6ms/step - loss: 0.0144 - mae: 0.0826 - mse: 0.0144 - val_loss: 0.0136 - val_mae: 0.0742 - val_mse: 0.0136\n",
      "Epoch 9/100\n",
      "\u001b[1m29/29\u001b[0m \u001b[32m━━━━━━━━━━━━━━━━━━━━\u001b[0m\u001b[37m\u001b[0m \u001b[1m0s\u001b[0m 6ms/step - loss: 0.0142 - mae: 0.0802 - mse: 0.0142 - val_loss: 0.0129 - val_mae: 0.0748 - val_mse: 0.0129\n",
      "Epoch 10/100\n",
      "\u001b[1m29/29\u001b[0m \u001b[32m━━━━━━━━━━━━━━━━━━━━\u001b[0m\u001b[37m\u001b[0m \u001b[1m0s\u001b[0m 7ms/step - loss: 0.0135 - mae: 0.0789 - mse: 0.0135 - val_loss: 0.0129 - val_mae: 0.0742 - val_mse: 0.0129\n",
      "Epoch 11/100\n",
      "\u001b[1m29/29\u001b[0m \u001b[32m━━━━━━━━━━━━━━━━━━━━\u001b[0m\u001b[37m\u001b[0m \u001b[1m0s\u001b[0m 6ms/step - loss: 0.0147 - mae: 0.0827 - mse: 0.0147 - val_loss: 0.0124 - val_mae: 0.0730 - val_mse: 0.0124\n",
      "Epoch 12/100\n",
      "\u001b[1m29/29\u001b[0m \u001b[32m━━━━━━━━━━━━━━━━━━━━\u001b[0m\u001b[37m\u001b[0m \u001b[1m0s\u001b[0m 6ms/step - loss: 0.0123 - mae: 0.0764 - mse: 0.0123 - val_loss: 0.0118 - val_mae: 0.0731 - val_mse: 0.0118\n",
      "Epoch 13/100\n",
      "\u001b[1m29/29\u001b[0m \u001b[32m━━━━━━━━━━━━━━━━━━━━\u001b[0m\u001b[37m\u001b[0m \u001b[1m0s\u001b[0m 6ms/step - loss: 0.0117 - mae: 0.0753 - mse: 0.0117 - val_loss: 0.0112 - val_mae: 0.0694 - val_mse: 0.0112\n",
      "Epoch 14/100\n",
      "\u001b[1m29/29\u001b[0m \u001b[32m━━━━━━━━━━━━━━━━━━━━\u001b[0m\u001b[37m\u001b[0m \u001b[1m0s\u001b[0m 6ms/step - loss: 0.0112 - mae: 0.0735 - mse: 0.0112 - val_loss: 0.0104 - val_mae: 0.0665 - val_mse: 0.0104\n",
      "Epoch 15/100\n",
      "\u001b[1m29/29\u001b[0m \u001b[32m━━━━━━━━━━━━━━━━━━━━\u001b[0m\u001b[37m\u001b[0m \u001b[1m0s\u001b[0m 6ms/step - loss: 0.0112 - mae: 0.0723 - mse: 0.0112 - val_loss: 0.0102 - val_mae: 0.0657 - val_mse: 0.0102\n",
      "Epoch 16/100\n",
      "\u001b[1m29/29\u001b[0m \u001b[32m━━━━━━━━━━━━━━━━━━━━\u001b[0m\u001b[37m\u001b[0m \u001b[1m0s\u001b[0m 6ms/step - loss: 0.0107 - mae: 0.0710 - mse: 0.0107 - val_loss: 0.0101 - val_mae: 0.0667 - val_mse: 0.0101\n",
      "Epoch 17/100\n",
      "\u001b[1m29/29\u001b[0m \u001b[32m━━━━━━━━━━━━━━━━━━━━\u001b[0m\u001b[37m\u001b[0m \u001b[1m0s\u001b[0m 6ms/step - loss: 0.0101 - mae: 0.0693 - mse: 0.0101 - val_loss: 0.0093 - val_mae: 0.0628 - val_mse: 0.0093\n",
      "Epoch 18/100\n",
      "\u001b[1m29/29\u001b[0m \u001b[32m━━━━━━━━━━━━━━━━━━━━\u001b[0m\u001b[37m\u001b[0m \u001b[1m0s\u001b[0m 6ms/step - loss: 0.0098 - mae: 0.0678 - mse: 0.0098 - val_loss: 0.0091 - val_mae: 0.0635 - val_mse: 0.0091\n",
      "Epoch 19/100\n",
      "\u001b[1m29/29\u001b[0m \u001b[32m━━━━━━━━━━━━━━━━━━━━\u001b[0m\u001b[37m\u001b[0m \u001b[1m0s\u001b[0m 6ms/step - loss: 0.0100 - mae: 0.0693 - mse: 0.0100 - val_loss: 0.0094 - val_mae: 0.0621 - val_mse: 0.0094\n",
      "Epoch 20/100\n",
      "\u001b[1m29/29\u001b[0m \u001b[32m━━━━━━━━━━━━━━━━━━━━\u001b[0m\u001b[37m\u001b[0m \u001b[1m0s\u001b[0m 6ms/step - loss: 0.0089 - mae: 0.0655 - mse: 0.0089 - val_loss: 0.0089 - val_mae: 0.0619 - val_mse: 0.0089\n",
      "Epoch 21/100\n",
      "\u001b[1m29/29\u001b[0m \u001b[32m━━━━━━━━━━━━━━━━━━━━\u001b[0m\u001b[37m\u001b[0m \u001b[1m0s\u001b[0m 7ms/step - loss: 0.0102 - mae: 0.0688 - mse: 0.0102 - val_loss: 0.0086 - val_mae: 0.0622 - val_mse: 0.0086\n",
      "Epoch 22/100\n",
      "\u001b[1m29/29\u001b[0m \u001b[32m━━━━━━━━━━━━━━━━━━━━\u001b[0m\u001b[37m\u001b[0m \u001b[1m0s\u001b[0m 7ms/step - loss: 0.0098 - mae: 0.0669 - mse: 0.0098 - val_loss: 0.0085 - val_mae: 0.0616 - val_mse: 0.0085\n",
      "Epoch 23/100\n",
      "\u001b[1m29/29\u001b[0m \u001b[32m━━━━━━━━━━━━━━━━━━━━\u001b[0m\u001b[37m\u001b[0m \u001b[1m0s\u001b[0m 7ms/step - loss: 0.0085 - mae: 0.0636 - mse: 0.0085 - val_loss: 0.0086 - val_mae: 0.0602 - val_mse: 0.0086\n",
      "Epoch 24/100\n",
      "\u001b[1m29/29\u001b[0m \u001b[32m━━━━━━━━━━━━━━━━━━━━\u001b[0m\u001b[37m\u001b[0m \u001b[1m0s\u001b[0m 7ms/step - loss: 0.0092 - mae: 0.0660 - mse: 0.0092 - val_loss: 0.0084 - val_mae: 0.0615 - val_mse: 0.0084\n",
      "Epoch 25/100\n",
      "\u001b[1m29/29\u001b[0m \u001b[32m━━━━━━━━━━━━━━━━━━━━\u001b[0m\u001b[37m\u001b[0m \u001b[1m0s\u001b[0m 7ms/step - loss: 0.0088 - mae: 0.0644 - mse: 0.0088 - val_loss: 0.0082 - val_mae: 0.0592 - val_mse: 0.0082\n",
      "Epoch 26/100\n",
      "\u001b[1m29/29\u001b[0m \u001b[32m━━━━━━━━━━━━━━━━━━━━\u001b[0m\u001b[37m\u001b[0m \u001b[1m0s\u001b[0m 7ms/step - loss: 0.0086 - mae: 0.0647 - mse: 0.0086 - val_loss: 0.0085 - val_mae: 0.0615 - val_mse: 0.0085\n",
      "Epoch 27/100\n",
      "\u001b[1m29/29\u001b[0m \u001b[32m━━━━━━━━━━━━━━━━━━━━\u001b[0m\u001b[37m\u001b[0m \u001b[1m0s\u001b[0m 6ms/step - loss: 0.0087 - mae: 0.0652 - mse: 0.0087 - val_loss: 0.0080 - val_mae: 0.0569 - val_mse: 0.0080\n",
      "Epoch 28/100\n",
      "\u001b[1m29/29\u001b[0m \u001b[32m━━━━━━━━━━━━━━━━━━━━\u001b[0m\u001b[37m\u001b[0m \u001b[1m0s\u001b[0m 6ms/step - loss: 0.0090 - mae: 0.0653 - mse: 0.0090 - val_loss: 0.0080 - val_mae: 0.0588 - val_mse: 0.0080\n",
      "Epoch 29/100\n",
      "\u001b[1m29/29\u001b[0m \u001b[32m━━━━━━━━━━━━━━━━━━━━\u001b[0m\u001b[37m\u001b[0m \u001b[1m0s\u001b[0m 6ms/step - loss: 0.0085 - mae: 0.0628 - mse: 0.0085 - val_loss: 0.0081 - val_mae: 0.0599 - val_mse: 0.0081\n",
      "Epoch 30/100\n",
      "\u001b[1m29/29\u001b[0m \u001b[32m━━━━━━━━━━━━━━━━━━━━\u001b[0m\u001b[37m\u001b[0m \u001b[1m0s\u001b[0m 6ms/step - loss: 0.0089 - mae: 0.0645 - mse: 0.0089 - val_loss: 0.0079 - val_mae: 0.0575 - val_mse: 0.0079\n",
      "Epoch 31/100\n",
      "\u001b[1m29/29\u001b[0m \u001b[32m━━━━━━━━━━━━━━━━━━━━\u001b[0m\u001b[37m\u001b[0m \u001b[1m0s\u001b[0m 8ms/step - loss: 0.0086 - mae: 0.0642 - mse: 0.0086 - val_loss: 0.0078 - val_mae: 0.0575 - val_mse: 0.0078\n",
      "Epoch 32/100\n",
      "\u001b[1m29/29\u001b[0m \u001b[32m━━━━━━━━━━━━━━━━━━━━\u001b[0m\u001b[37m\u001b[0m \u001b[1m0s\u001b[0m 7ms/step - loss: 0.0080 - mae: 0.0616 - mse: 0.0080 - val_loss: 0.0082 - val_mae: 0.0597 - val_mse: 0.0082\n",
      "Epoch 33/100\n",
      "\u001b[1m29/29\u001b[0m \u001b[32m━━━━━━━━━━━━━━━━━━━━\u001b[0m\u001b[37m\u001b[0m \u001b[1m1s\u001b[0m 17ms/step - loss: 0.0084 - mae: 0.0630 - mse: 0.0084 - val_loss: 0.0080 - val_mae: 0.0584 - val_mse: 0.0080\n",
      "Epoch 34/100\n",
      "\u001b[1m29/29\u001b[0m \u001b[32m━━━━━━━━━━━━━━━━━━━━\u001b[0m\u001b[37m\u001b[0m \u001b[1m0s\u001b[0m 9ms/step - loss: 0.0081 - mae: 0.0617 - mse: 0.0081 - val_loss: 0.0077 - val_mae: 0.0576 - val_mse: 0.0077\n",
      "Epoch 35/100\n",
      "\u001b[1m29/29\u001b[0m \u001b[32m━━━━━━━━━━━━━━━━━━━━\u001b[0m\u001b[37m\u001b[0m \u001b[1m0s\u001b[0m 6ms/step - loss: 0.0077 - mae: 0.0606 - mse: 0.0077 - val_loss: 0.0079 - val_mae: 0.0573 - val_mse: 0.0079\n",
      "Epoch 36/100\n",
      "\u001b[1m29/29\u001b[0m \u001b[32m━━━━━━━━━━━━━━━━━━━━\u001b[0m\u001b[37m\u001b[0m \u001b[1m0s\u001b[0m 7ms/step - loss: 0.0077 - mae: 0.0611 - mse: 0.0077 - val_loss: 0.0078 - val_mae: 0.0573 - val_mse: 0.0078\n",
      "Epoch 37/100\n",
      "\u001b[1m29/29\u001b[0m \u001b[32m━━━━━━━━━━━━━━━━━━━━\u001b[0m\u001b[37m\u001b[0m \u001b[1m0s\u001b[0m 7ms/step - loss: 0.0080 - mae: 0.0612 - mse: 0.0080 - val_loss: 0.0078 - val_mae: 0.0581 - val_mse: 0.0078\n",
      "Epoch 38/100\n",
      "\u001b[1m29/29\u001b[0m \u001b[32m━━━━━━━━━━━━━━━━━━━━\u001b[0m\u001b[37m\u001b[0m \u001b[1m0s\u001b[0m 6ms/step - loss: 0.0080 - mae: 0.0618 - mse: 0.0080 - val_loss: 0.0077 - val_mae: 0.0572 - val_mse: 0.0077\n",
      "Epoch 39/100\n",
      "\u001b[1m29/29\u001b[0m \u001b[32m━━━━━━━━━━━━━━━━━━━━\u001b[0m\u001b[37m\u001b[0m \u001b[1m0s\u001b[0m 6ms/step - loss: 0.0083 - mae: 0.0614 - mse: 0.0083 - val_loss: 0.0082 - val_mae: 0.0599 - val_mse: 0.0082\n",
      "Epoch 40/100\n",
      "\u001b[1m29/29\u001b[0m \u001b[32m━━━━━━━━━━━━━━━━━━━━\u001b[0m\u001b[37m\u001b[0m \u001b[1m0s\u001b[0m 6ms/step - loss: 0.0085 - mae: 0.0617 - mse: 0.0085 - val_loss: 0.0077 - val_mae: 0.0563 - val_mse: 0.0077\n",
      "Epoch 41/100\n",
      "\u001b[1m29/29\u001b[0m \u001b[32m━━━━━━━━━━━━━━━━━━━━\u001b[0m\u001b[37m\u001b[0m \u001b[1m0s\u001b[0m 6ms/step - loss: 0.0080 - mae: 0.0609 - mse: 0.0080 - val_loss: 0.0075 - val_mae: 0.0554 - val_mse: 0.0075\n",
      "Epoch 42/100\n",
      "\u001b[1m29/29\u001b[0m \u001b[32m━━━━━━━━━━━━━━━━━━━━\u001b[0m\u001b[37m\u001b[0m \u001b[1m0s\u001b[0m 6ms/step - loss: 0.0075 - mae: 0.0589 - mse: 0.0075 - val_loss: 0.0077 - val_mae: 0.0567 - val_mse: 0.0077\n",
      "Epoch 43/100\n",
      "\u001b[1m29/29\u001b[0m \u001b[32m━━━━━━━━━━━━━━━━━━━━\u001b[0m\u001b[37m\u001b[0m \u001b[1m0s\u001b[0m 6ms/step - loss: 0.0076 - mae: 0.0598 - mse: 0.0076 - val_loss: 0.0079 - val_mae: 0.0593 - val_mse: 0.0079\n",
      "Epoch 44/100\n",
      "\u001b[1m29/29\u001b[0m \u001b[32m━━━━━━━━━━━━━━━━━━━━\u001b[0m\u001b[37m\u001b[0m \u001b[1m0s\u001b[0m 6ms/step - loss: 0.0083 - mae: 0.0615 - mse: 0.0083 - val_loss: 0.0075 - val_mae: 0.0553 - val_mse: 0.0075\n",
      "Epoch 45/100\n",
      "\u001b[1m29/29\u001b[0m \u001b[32m━━━━━━━━━━━━━━━━━━━━\u001b[0m\u001b[37m\u001b[0m \u001b[1m0s\u001b[0m 6ms/step - loss: 0.0083 - mae: 0.0627 - mse: 0.0083 - val_loss: 0.0075 - val_mae: 0.0559 - val_mse: 0.0075\n",
      "Epoch 46/100\n",
      "\u001b[1m29/29\u001b[0m \u001b[32m━━━━━━━━━━━━━━━━━━━━\u001b[0m\u001b[37m\u001b[0m \u001b[1m0s\u001b[0m 6ms/step - loss: 0.0075 - mae: 0.0593 - mse: 0.0075 - val_loss: 0.0078 - val_mae: 0.0567 - val_mse: 0.0078\n",
      "Epoch 47/100\n",
      "\u001b[1m29/29\u001b[0m \u001b[32m━━━━━━━━━━━━━━━━━━━━\u001b[0m\u001b[37m\u001b[0m \u001b[1m0s\u001b[0m 6ms/step - loss: 0.0072 - mae: 0.0583 - mse: 0.0072 - val_loss: 0.0076 - val_mae: 0.0559 - val_mse: 0.0076\n",
      "Epoch 48/100\n",
      "\u001b[1m29/29\u001b[0m \u001b[32m━━━━━━━━━━━━━━━━━━━━\u001b[0m\u001b[37m\u001b[0m \u001b[1m0s\u001b[0m 6ms/step - loss: 0.0074 - mae: 0.0578 - mse: 0.0074 - val_loss: 0.0075 - val_mae: 0.0549 - val_mse: 0.0075\n",
      "Epoch 49/100\n",
      "\u001b[1m29/29\u001b[0m \u001b[32m━━━━━━━━━━━━━━━━━━━━\u001b[0m\u001b[37m\u001b[0m \u001b[1m0s\u001b[0m 6ms/step - loss: 0.0074 - mae: 0.0577 - mse: 0.0074 - val_loss: 0.0074 - val_mae: 0.0552 - val_mse: 0.0074\n",
      "Epoch 50/100\n",
      "\u001b[1m29/29\u001b[0m \u001b[32m━━━━━━━━━━━━━━━━━━━━\u001b[0m\u001b[37m\u001b[0m \u001b[1m0s\u001b[0m 7ms/step - loss: 0.0073 - mae: 0.0587 - mse: 0.0073 - val_loss: 0.0080 - val_mae: 0.0567 - val_mse: 0.0080\n",
      "Epoch 51/100\n",
      "\u001b[1m29/29\u001b[0m \u001b[32m━━━━━━━━━━━━━━━━━━━━\u001b[0m\u001b[37m\u001b[0m \u001b[1m0s\u001b[0m 6ms/step - loss: 0.0072 - mae: 0.0579 - mse: 0.0072 - val_loss: 0.0073 - val_mae: 0.0543 - val_mse: 0.0073\n",
      "Epoch 52/100\n",
      "\u001b[1m29/29\u001b[0m \u001b[32m━━━━━━━━━━━━━━━━━━━━\u001b[0m\u001b[37m\u001b[0m \u001b[1m0s\u001b[0m 6ms/step - loss: 0.0081 - mae: 0.0607 - mse: 0.0081 - val_loss: 0.0077 - val_mae: 0.0564 - val_mse: 0.0077\n",
      "Epoch 53/100\n",
      "\u001b[1m29/29\u001b[0m \u001b[32m━━━━━━━━━━━━━━━━━━━━\u001b[0m\u001b[37m\u001b[0m \u001b[1m0s\u001b[0m 6ms/step - loss: 0.0073 - mae: 0.0577 - mse: 0.0073 - val_loss: 0.0074 - val_mae: 0.0557 - val_mse: 0.0074\n",
      "Epoch 54/100\n",
      "\u001b[1m29/29\u001b[0m \u001b[32m━━━━━━━━━━━━━━━━━━━━\u001b[0m\u001b[37m\u001b[0m \u001b[1m0s\u001b[0m 6ms/step - loss: 0.0078 - mae: 0.0600 - mse: 0.0078 - val_loss: 0.0072 - val_mae: 0.0540 - val_mse: 0.0072\n",
      "Epoch 55/100\n",
      "\u001b[1m29/29\u001b[0m \u001b[32m━━━━━━━━━━━━━━━━━━━━\u001b[0m\u001b[37m\u001b[0m \u001b[1m0s\u001b[0m 6ms/step - loss: 0.0073 - mae: 0.0580 - mse: 0.0073 - val_loss: 0.0080 - val_mae: 0.0564 - val_mse: 0.0080\n",
      "Epoch 56/100\n",
      "\u001b[1m29/29\u001b[0m \u001b[32m━━━━━━━━━━━━━━━━━━━━\u001b[0m\u001b[37m\u001b[0m \u001b[1m0s\u001b[0m 6ms/step - loss: 0.0074 - mae: 0.0594 - mse: 0.0074 - val_loss: 0.0074 - val_mae: 0.0549 - val_mse: 0.0074\n",
      "Epoch 57/100\n",
      "\u001b[1m29/29\u001b[0m \u001b[32m━━━━━━━━━━━━━━━━━━━━\u001b[0m\u001b[37m\u001b[0m \u001b[1m0s\u001b[0m 6ms/step - loss: 0.0069 - mae: 0.0560 - mse: 0.0069 - val_loss: 0.0073 - val_mae: 0.0545 - val_mse: 0.0073\n",
      "Epoch 58/100\n",
      "\u001b[1m29/29\u001b[0m \u001b[32m━━━━━━━━━━━━━━━━━━━━\u001b[0m\u001b[37m\u001b[0m \u001b[1m0s\u001b[0m 7ms/step - loss: 0.0068 - mae: 0.0565 - mse: 0.0068 - val_loss: 0.0074 - val_mae: 0.0544 - val_mse: 0.0074\n",
      "Epoch 59/100\n",
      "\u001b[1m29/29\u001b[0m \u001b[32m━━━━━━━━━━━━━━━━━━━━\u001b[0m\u001b[37m\u001b[0m \u001b[1m0s\u001b[0m 6ms/step - loss: 0.0073 - mae: 0.0585 - mse: 0.0073 - val_loss: 0.0087 - val_mae: 0.0590 - val_mse: 0.0087\n",
      "Epoch 60/100\n",
      "\u001b[1m29/29\u001b[0m \u001b[32m━━━━━━━━━━━━━━━━━━━━\u001b[0m\u001b[37m\u001b[0m \u001b[1m0s\u001b[0m 7ms/step - loss: 0.0078 - mae: 0.0603 - mse: 0.0078 - val_loss: 0.0073 - val_mae: 0.0553 - val_mse: 0.0073\n",
      "Epoch 61/100\n",
      "\u001b[1m29/29\u001b[0m \u001b[32m━━━━━━━━━━━━━━━━━━━━\u001b[0m\u001b[37m\u001b[0m \u001b[1m0s\u001b[0m 6ms/step - loss: 0.0073 - mae: 0.0584 - mse: 0.0073 - val_loss: 0.0078 - val_mae: 0.0549 - val_mse: 0.0078\n",
      "Epoch 62/100\n",
      "\u001b[1m29/29\u001b[0m \u001b[32m━━━━━━━━━━━━━━━━━━━━\u001b[0m\u001b[37m\u001b[0m \u001b[1m0s\u001b[0m 6ms/step - loss: 0.0069 - mae: 0.0567 - mse: 0.0069 - val_loss: 0.0074 - val_mae: 0.0548 - val_mse: 0.0074\n",
      "Epoch 63/100\n",
      "\u001b[1m29/29\u001b[0m \u001b[32m━━━━━━━━━━━━━━━━━━━━\u001b[0m\u001b[37m\u001b[0m \u001b[1m0s\u001b[0m 6ms/step - loss: 0.0066 - mae: 0.0556 - mse: 0.0066 - val_loss: 0.0072 - val_mae: 0.0535 - val_mse: 0.0072\n",
      "Epoch 64/100\n",
      "\u001b[1m29/29\u001b[0m \u001b[32m━━━━━━━━━━━━━━━━━━━━\u001b[0m\u001b[37m\u001b[0m \u001b[1m0s\u001b[0m 6ms/step - loss: 0.0081 - mae: 0.0611 - mse: 0.0081 - val_loss: 0.0072 - val_mae: 0.0532 - val_mse: 0.0072\n",
      "Epoch 65/100\n",
      "\u001b[1m29/29\u001b[0m \u001b[32m━━━━━━━━━━━━━━━━━━━━\u001b[0m\u001b[37m\u001b[0m \u001b[1m0s\u001b[0m 6ms/step - loss: 0.0073 - mae: 0.0577 - mse: 0.0073 - val_loss: 0.0072 - val_mae: 0.0540 - val_mse: 0.0072\n",
      "Epoch 66/100\n",
      "\u001b[1m29/29\u001b[0m \u001b[32m━━━━━━━━━━━━━━━━━━━━\u001b[0m\u001b[37m\u001b[0m \u001b[1m0s\u001b[0m 6ms/step - loss: 0.0074 - mae: 0.0593 - mse: 0.0074 - val_loss: 0.0078 - val_mae: 0.0555 - val_mse: 0.0078\n",
      "Epoch 67/100\n",
      "\u001b[1m29/29\u001b[0m \u001b[32m━━━━━━━━━━━━━━━━━━━━\u001b[0m\u001b[37m\u001b[0m \u001b[1m0s\u001b[0m 6ms/step - loss: 0.0069 - mae: 0.0570 - mse: 0.0069 - val_loss: 0.0071 - val_mae: 0.0538 - val_mse: 0.0071\n",
      "Epoch 68/100\n",
      "\u001b[1m29/29\u001b[0m \u001b[32m━━━━━━━━━━━━━━━━━━━━\u001b[0m\u001b[37m\u001b[0m \u001b[1m0s\u001b[0m 6ms/step - loss: 0.0077 - mae: 0.0594 - mse: 0.0077 - val_loss: 0.0073 - val_mae: 0.0536 - val_mse: 0.0073\n",
      "Epoch 69/100\n",
      "\u001b[1m29/29\u001b[0m \u001b[32m━━━━━━━━━━━━━━━━━━━━\u001b[0m\u001b[37m\u001b[0m \u001b[1m0s\u001b[0m 6ms/step - loss: 0.0069 - mae: 0.0563 - mse: 0.0069 - val_loss: 0.0072 - val_mae: 0.0540 - val_mse: 0.0072\n",
      "Epoch 70/100\n",
      "\u001b[1m29/29\u001b[0m \u001b[32m━━━━━━━━━━━━━━━━━━━━\u001b[0m\u001b[37m\u001b[0m \u001b[1m0s\u001b[0m 6ms/step - loss: 0.0066 - mae: 0.0550 - mse: 0.0066 - val_loss: 0.0072 - val_mae: 0.0541 - val_mse: 0.0072\n",
      "Epoch 71/100\n",
      "\u001b[1m29/29\u001b[0m \u001b[32m━━━━━━━━━━━━━━━━━━━━\u001b[0m\u001b[37m\u001b[0m \u001b[1m0s\u001b[0m 6ms/step - loss: 0.0070 - mae: 0.0568 - mse: 0.0070 - val_loss: 0.0071 - val_mae: 0.0538 - val_mse: 0.0071\n",
      "Epoch 72/100\n",
      "\u001b[1m29/29\u001b[0m \u001b[32m━━━━━━━━━━━━━━━━━━━━\u001b[0m\u001b[37m\u001b[0m \u001b[1m0s\u001b[0m 6ms/step - loss: 0.0074 - mae: 0.0573 - mse: 0.0074 - val_loss: 0.0071 - val_mae: 0.0532 - val_mse: 0.0071\n",
      "Epoch 73/100\n",
      "\u001b[1m29/29\u001b[0m \u001b[32m━━━━━━━━━━━━━━━━━━━━\u001b[0m\u001b[37m\u001b[0m \u001b[1m0s\u001b[0m 6ms/step - loss: 0.0072 - mae: 0.0573 - mse: 0.0072 - val_loss: 0.0071 - val_mae: 0.0519 - val_mse: 0.0071\n",
      "Epoch 74/100\n",
      "\u001b[1m29/29\u001b[0m \u001b[32m━━━━━━━━━━━━━━━━━━━━\u001b[0m\u001b[37m\u001b[0m \u001b[1m0s\u001b[0m 6ms/step - loss: 0.0067 - mae: 0.0564 - mse: 0.0067 - val_loss: 0.0072 - val_mae: 0.0530 - val_mse: 0.0072\n",
      "Epoch 75/100\n",
      "\u001b[1m29/29\u001b[0m \u001b[32m━━━━━━━━━━━━━━━━━━━━\u001b[0m\u001b[37m\u001b[0m \u001b[1m0s\u001b[0m 6ms/step - loss: 0.0067 - mae: 0.0553 - mse: 0.0067 - val_loss: 0.0076 - val_mae: 0.0566 - val_mse: 0.0076\n",
      "Epoch 76/100\n",
      "\u001b[1m29/29\u001b[0m \u001b[32m━━━━━━━━━━━━━━━━━━━━\u001b[0m\u001b[37m\u001b[0m \u001b[1m0s\u001b[0m 6ms/step - loss: 0.0071 - mae: 0.0571 - mse: 0.0071 - val_loss: 0.0071 - val_mae: 0.0517 - val_mse: 0.0071\n",
      "Epoch 77/100\n",
      "\u001b[1m29/29\u001b[0m \u001b[32m━━━━━━━━━━━━━━━━━━━━\u001b[0m\u001b[37m\u001b[0m \u001b[1m0s\u001b[0m 6ms/step - loss: 0.0063 - mae: 0.0539 - mse: 0.0063 - val_loss: 0.0074 - val_mae: 0.0558 - val_mse: 0.0074\n",
      "Epoch 78/100\n",
      "\u001b[1m29/29\u001b[0m \u001b[32m━━━━━━━━━━━━━━━━━━━━\u001b[0m\u001b[37m\u001b[0m \u001b[1m0s\u001b[0m 6ms/step - loss: 0.0064 - mae: 0.0549 - mse: 0.0064 - val_loss: 0.0070 - val_mae: 0.0528 - val_mse: 0.0070\n",
      "Epoch 79/100\n",
      "\u001b[1m29/29\u001b[0m \u001b[32m━━━━━━━━━━━━━━━━━━━━\u001b[0m\u001b[37m\u001b[0m \u001b[1m0s\u001b[0m 6ms/step - loss: 0.0066 - mae: 0.0542 - mse: 0.0066 - val_loss: 0.0073 - val_mae: 0.0531 - val_mse: 0.0073\n",
      "Epoch 80/100\n",
      "\u001b[1m29/29\u001b[0m \u001b[32m━━━━━━━━━━━━━━━━━━━━\u001b[0m\u001b[37m\u001b[0m \u001b[1m0s\u001b[0m 6ms/step - loss: 0.0067 - mae: 0.0556 - mse: 0.0067 - val_loss: 0.0071 - val_mae: 0.0530 - val_mse: 0.0071\n",
      "Epoch 81/100\n",
      "\u001b[1m29/29\u001b[0m \u001b[32m━━━━━━━━━━━━━━━━━━━━\u001b[0m\u001b[37m\u001b[0m \u001b[1m0s\u001b[0m 6ms/step - loss: 0.0064 - mae: 0.0546 - mse: 0.0064 - val_loss: 0.0074 - val_mae: 0.0538 - val_mse: 0.0074\n",
      "Epoch 82/100\n",
      "\u001b[1m29/29\u001b[0m \u001b[32m━━━━━━━━━━━━━━━━━━━━\u001b[0m\u001b[37m\u001b[0m \u001b[1m0s\u001b[0m 6ms/step - loss: 0.0068 - mae: 0.0548 - mse: 0.0068 - val_loss: 0.0071 - val_mae: 0.0531 - val_mse: 0.0071\n",
      "Epoch 83/100\n",
      "\u001b[1m29/29\u001b[0m \u001b[32m━━━━━━━━━━━━━━━━━━━━\u001b[0m\u001b[37m\u001b[0m \u001b[1m0s\u001b[0m 6ms/step - loss: 0.0067 - mae: 0.0545 - mse: 0.0067 - val_loss: 0.0072 - val_mae: 0.0531 - val_mse: 0.0072\n",
      "Epoch 84/100\n",
      "\u001b[1m29/29\u001b[0m \u001b[32m━━━━━━━━━━━━━━━━━━━━\u001b[0m\u001b[37m\u001b[0m \u001b[1m0s\u001b[0m 6ms/step - loss: 0.0064 - mae: 0.0546 - mse: 0.0064 - val_loss: 0.0072 - val_mae: 0.0526 - val_mse: 0.0072\n",
      "Epoch 85/100\n",
      "\u001b[1m29/29\u001b[0m \u001b[32m━━━━━━━━━━━━━━━━━━━━\u001b[0m\u001b[37m\u001b[0m \u001b[1m0s\u001b[0m 6ms/step - loss: 0.0066 - mae: 0.0541 - mse: 0.0066 - val_loss: 0.0073 - val_mae: 0.0545 - val_mse: 0.0073\n",
      "Epoch 86/100\n",
      "\u001b[1m29/29\u001b[0m \u001b[32m━━━━━━━━━━━━━━━━━━━━\u001b[0m\u001b[37m\u001b[0m \u001b[1m0s\u001b[0m 6ms/step - loss: 0.0066 - mae: 0.0562 - mse: 0.0066 - val_loss: 0.0077 - val_mae: 0.0541 - val_mse: 0.0077\n",
      "Epoch 87/100\n",
      "\u001b[1m29/29\u001b[0m \u001b[32m━━━━━━━━━━━━━━━━━━━━\u001b[0m\u001b[37m\u001b[0m \u001b[1m0s\u001b[0m 6ms/step - loss: 0.0070 - mae: 0.0570 - mse: 0.0070 - val_loss: 0.0072 - val_mae: 0.0527 - val_mse: 0.0072\n",
      "Epoch 88/100\n",
      "\u001b[1m29/29\u001b[0m \u001b[32m━━━━━━━━━━━━━━━━━━━━\u001b[0m\u001b[37m\u001b[0m \u001b[1m0s\u001b[0m 6ms/step - loss: 0.0065 - mae: 0.0541 - mse: 0.0065 - val_loss: 0.0071 - val_mae: 0.0532 - val_mse: 0.0071\n"
     ]
    },
    {
     "data": {
      "image/png": "[encoded data removed]",
      "text/plain": [
       "<Figure size 1200x600 with 1 Axes>"
      ]
     },
     "metadata": {},
     "output_type": "display_data"
    },
    {
     "name": "stdout",
     "output_type": "stream",
     "text": [
      "\u001b[1m4/4\u001b[0m \u001b[32m━━━━━━━━━━━━━━━━━━━━\u001b[0m\u001b[37m\u001b[0m \u001b[1m0s\u001b[0m 11ms/step - loss: 0.0095 - mae: 0.0635 - mse: 0.0095\n",
      "Validation Loss : 0.007010936737060547\n",
      "Validation MAE: 0.052803605794906616\n",
      "Validation MSE: 0.007010936737060547\n",
      "Validation RMSE: 0.08373133664919334\n",
      "\u001b[1m8/8\u001b[0m \u001b[32m━━━━━━━━━━━━━━━━━━━━\u001b[0m\u001b[37m\u001b[0m \u001b[1m0s\u001b[0m 25ms/step\n",
      "Test MAE: 232.08405265316162\n",
      "Test MSE: 124606.3031547931\n",
      "Test RMSE: 352.996180085271\n",
      "Test R²: 0.7627067457540048\n",
      "Test CVRMSE: 0.5684285563526891\n"
     ]
    }
   ],
   "source": [
    "model2, history2, loss2, mae2, mse2, rmse2, mae_test2, mse_test2, rmse_test2, r2, cvrmse, predictions2 = model_lstm(\n",
    "    X_train2, \n",
    "    y_train2, \n",
    "    X_test2, \n",
    "    y_test2, \n",
    "    scaler_X, \n",
    "    scaler_y\n",
    ")\n",
    "  "
   ]
  },
  {
   "cell_type": "code",
   "execution_count": null,
   "id": "6160dd64",
   "metadata": {},
   "outputs": [],
   "source": []
  },
  {
   "cell_type": "code",
   "execution_count": null,
   "id": "019f572a",
   "metadata": {},
   "outputs": [],
   "source": []
  },
  {
   "cell_type": "code",
   "execution_count": null,
   "id": "3145b75a",
   "metadata": {},
   "outputs": [],
   "source": []
  },
  {
   "cell_type": "code",
   "execution_count": 245,
   "id": "142cfb36",
   "metadata": {},
   "outputs": [],
   "source": [
    "import pandas as pd\n",
    "\n",
    "Text_conso_heat_tou = Text_conso_heat_tou.sort_values('Date')\n",
    "Text_conso_j_1 = Text_conso_j_1.sort_values('Date')\n",
    "\n",
    "combined_rows = []\n",
    "\n",
    "for index, row in Text_conso_heat_tou.iterrows():\n",
    "    jour_precedent_1 = row['Date'] - pd.Timedelta(days=1)  # jour j-1\n",
    "    jour_precedent_2 = row['Date'] - pd.Timedelta(days=2)  # jour j-2\n",
    "    \n",
    "    prev_row_1 = Text_conso_j_1[Text_conso_j_1['Date'] == jour_precedent_1]\n",
    "    prev_row_2 = Text_conso_j_1[Text_conso_j_1['Date'] == jour_precedent_2]\n",
    "    \n",
    "    if not prev_row_1.empty and not prev_row_2.empty:\n",
    "        prev_row_1 = prev_row_1.iloc[0].add_suffix('_j-1')\n",
    "        prev_row_2 = prev_row_2.iloc[0].add_suffix('_j-2')\n",
    "        \n",
    "        # La ligne du jour actuel sans suffixe\n",
    "        current_row = row\n",
    "        \n",
    "        # Concaténer les 3 lignes (jour j-2, jour j-1, jour j)\n",
    "        combined_row = pd.concat([\n",
    "            prev_row_2, \n",
    "            prev_row_1,\n",
    "            current_row\n",
    "        ]).to_frame().T.reset_index(drop=True)\n",
    "        \n",
    "        combined_rows.append(combined_row)\n",
    "    else:\n",
    "        continue  # passer si l'un des jours précédents est absent\n",
    "\n",
    "Text_final = pd.concat(combined_rows, ignore_index=True)\n",
    "\n",
    "# Optionnel : supprimer colonnes date\n",
    "Text_final2 = Text_final.drop(\n",
    "    columns=[col for col in Text_final.columns if isinstance(col, str) and \"date\" in col.lower()],\n",
    "    errors='ignore'\n",
    ")\n"
   ]
  },
  {
   "cell_type": "code",
   "execution_count": 249,
   "id": "b3df62f0",
   "metadata": {},
   "outputs": [],
   "source": [
    "# Ajouter un suffixe automatique pour rendre les noms de colonnes uniques\n",
    "def make_unique_columns(columns):\n",
    "    seen = {}\n",
    "    unique_cols = []\n",
    "    for col in columns:\n",
    "        if col not in seen:\n",
    "            seen[col] = 1\n",
    "            unique_cols.append(col)\n",
    "        else:\n",
    "            seen[col] += 1\n",
    "            unique_cols.append(f\"{col}_{seen[col]}\")\n",
    "    return unique_cols\n",
    "\n",
    "Text_final2.columns = make_unique_columns(Text_final2.columns)\n",
    "\n",
    "cols = Text_final2.columns.tolist()\n",
    "\n",
    "first_part = cols[:-25]              \n",
    "twentyfour_last_cols = cols[-25:-1]  \n",
    "two_before_last = cols[-1:]      \n",
    "new_cols = first_part + two_before_last + twentyfour_last_cols\n",
    "\n",
    "Text_final_reordered = Text_final2[new_cols]"
   ]
  },
  {
   "cell_type": "code",
   "execution_count": 251,
   "id": "2da01947",
   "metadata": {},
   "outputs": [
    {
     "data": {
      "text/plain": [
       "(1265, 150)"
      ]
     },
     "execution_count": 251,
     "metadata": {},
     "output_type": "execute_result"
    }
   ],
   "source": [
    "Text_final_reordered.shape"
   ]
  },
  {
   "cell_type": "code",
   "execution_count": 252,
   "id": "6fefa3c1",
   "metadata": {},
   "outputs": [
    {
     "name": "stdout",
     "output_type": "stream",
     "text": [
      "Shape de X : (1265, 24, 5)\n"
     ]
    }
   ],
   "source": [
    "X = np.stack([\n",
    "    Text_final_reordered.iloc[:, :24].values,\n",
    "    Text_final_reordered.iloc[:, 26:50].values,     \n",
    "    Text_final_reordered.iloc[:, 50:74].values,\n",
    "    Text_final_reordered.iloc[:, 76:100].values,\n",
    "    Text_final_reordered.iloc[:, 100:124].values            \n",
    "], axis=2)\n",
    "\n",
    "print(\"Shape de X :\", X.shape)"
   ]
  },
  {
   "cell_type": "code",
   "execution_count": 88,
   "id": "56c93172",
   "metadata": {},
   "outputs": [
    {
     "data": {
      "text/html": [
       "<div>\n",
       "<style scoped>\n",
       "    .dataframe tbody tr th:only-of-type {\n",
       "        vertical-align: middle;\n",
       "    }\n",
       "\n",
       "    .dataframe tbody tr th {\n",
       "        vertical-align: top;\n",
       "    }\n",
       "\n",
       "    .dataframe thead th {\n",
       "        text-align: right;\n",
       "    }\n",
       "</style>\n",
       "<table border=\"1\" class=\"dataframe\">\n",
       "  <thead>\n",
       "    <tr style=\"text-align: right;\">\n",
       "      <th></th>\n",
       "      <th>0_j-2</th>\n",
       "      <th>1_j-2</th>\n",
       "      <th>2_j-2</th>\n",
       "      <th>3_j-2</th>\n",
       "      <th>4_j-2</th>\n",
       "      <th>5_j-2</th>\n",
       "      <th>6_j-2</th>\n",
       "      <th>7_j-2</th>\n",
       "      <th>8_j-2</th>\n",
       "      <th>9_j-2</th>\n",
       "      <th>10_j-2</th>\n",
       "      <th>11_j-2</th>\n",
       "      <th>12_j-2</th>\n",
       "      <th>13_j-2</th>\n",
       "      <th>14_j-2</th>\n",
       "      <th>15_j-2</th>\n",
       "      <th>16_j-2</th>\n",
       "      <th>17_j-2</th>\n",
       "      <th>18_j-2</th>\n",
       "      <th>19_j-2</th>\n",
       "      <th>20_j-2</th>\n",
       "      <th>21_j-2</th>\n",
       "      <th>22_j-2</th>\n",
       "      <th>23_j-2</th>\n",
       "      <th>heat_on_j-2</th>\n",
       "      <th>clusters_j-2</th>\n",
       "      <th>0_j-2_2</th>\n",
       "      <th>1_j-2_2</th>\n",
       "      <th>2_j-2_2</th>\n",
       "      <th>3_j-2_2</th>\n",
       "      <th>4_j-2_2</th>\n",
       "      <th>5_j-2_2</th>\n",
       "      <th>6_j-2_2</th>\n",
       "      <th>7_j-2_2</th>\n",
       "      <th>8_j-2_2</th>\n",
       "      <th>9_j-2_2</th>\n",
       "      <th>10_j-2_2</th>\n",
       "      <th>11_j-2_2</th>\n",
       "      <th>12_j-2_2</th>\n",
       "      <th>13_j-2_2</th>\n",
       "      <th>14_j-2_2</th>\n",
       "      <th>15_j-2_2</th>\n",
       "      <th>16_j-2_2</th>\n",
       "      <th>17_j-2_2</th>\n",
       "      <th>18_j-2_2</th>\n",
       "      <th>19_j-2_2</th>\n",
       "      <th>20_j-2_2</th>\n",
       "      <th>21_j-2_2</th>\n",
       "      <th>22_j-2_2</th>\n",
       "      <th>23_j-2_2</th>\n",
       "      <th>0_j-1</th>\n",
       "      <th>1_j-1</th>\n",
       "      <th>2_j-1</th>\n",
       "      <th>3_j-1</th>\n",
       "      <th>4_j-1</th>\n",
       "      <th>5_j-1</th>\n",
       "      <th>6_j-1</th>\n",
       "      <th>7_j-1</th>\n",
       "      <th>8_j-1</th>\n",
       "      <th>9_j-1</th>\n",
       "      <th>10_j-1</th>\n",
       "      <th>11_j-1</th>\n",
       "      <th>12_j-1</th>\n",
       "      <th>13_j-1</th>\n",
       "      <th>14_j-1</th>\n",
       "      <th>15_j-1</th>\n",
       "      <th>16_j-1</th>\n",
       "      <th>17_j-1</th>\n",
       "      <th>18_j-1</th>\n",
       "      <th>19_j-1</th>\n",
       "      <th>20_j-1</th>\n",
       "      <th>21_j-1</th>\n",
       "      <th>22_j-1</th>\n",
       "      <th>23_j-1</th>\n",
       "      <th>heat_on_j-1</th>\n",
       "      <th>clusters_j-1</th>\n",
       "      <th>0_j-1_2</th>\n",
       "      <th>1_j-1_2</th>\n",
       "      <th>2_j-1_2</th>\n",
       "      <th>3_j-1_2</th>\n",
       "      <th>4_j-1_2</th>\n",
       "      <th>5_j-1_2</th>\n",
       "      <th>6_j-1_2</th>\n",
       "      <th>7_j-1_2</th>\n",
       "      <th>8_j-1_2</th>\n",
       "      <th>9_j-1_2</th>\n",
       "      <th>10_j-1_2</th>\n",
       "      <th>11_j-1_2</th>\n",
       "      <th>12_j-1_2</th>\n",
       "      <th>13_j-1_2</th>\n",
       "      <th>14_j-1_2</th>\n",
       "      <th>15_j-1_2</th>\n",
       "      <th>16_j-1_2</th>\n",
       "      <th>17_j-1_2</th>\n",
       "      <th>18_j-1_2</th>\n",
       "      <th>19_j-1_2</th>\n",
       "      <th>20_j-1_2</th>\n",
       "      <th>21_j-1_2</th>\n",
       "      <th>22_j-1_2</th>\n",
       "      <th>23_j-1_2</th>\n",
       "      <th>0</th>\n",
       "      <th>1</th>\n",
       "      <th>2</th>\n",
       "      <th>3</th>\n",
       "      <th>4</th>\n",
       "      <th>5</th>\n",
       "      <th>6</th>\n",
       "      <th>7</th>\n",
       "      <th>8</th>\n",
       "      <th>9</th>\n",
       "      <th>10</th>\n",
       "      <th>11</th>\n",
       "      <th>12</th>\n",
       "      <th>13</th>\n",
       "      <th>14</th>\n",
       "      <th>15</th>\n",
       "      <th>16</th>\n",
       "      <th>17</th>\n",
       "      <th>18</th>\n",
       "      <th>19</th>\n",
       "      <th>20</th>\n",
       "      <th>21</th>\n",
       "      <th>22</th>\n",
       "      <th>23</th>\n",
       "      <th>heat_on</th>\n",
       "      <th>clusters_1</th>\n",
       "      <th>0</th>\n",
       "      <th>1</th>\n",
       "      <th>2</th>\n",
       "      <th>3</th>\n",
       "      <th>4</th>\n",
       "      <th>5</th>\n",
       "      <th>6</th>\n",
       "      <th>7</th>\n",
       "      <th>8</th>\n",
       "      <th>9</th>\n",
       "      <th>10</th>\n",
       "      <th>11</th>\n",
       "      <th>12</th>\n",
       "      <th>13</th>\n",
       "      <th>14</th>\n",
       "      <th>15</th>\n",
       "      <th>16</th>\n",
       "      <th>17</th>\n",
       "      <th>18</th>\n",
       "      <th>19</th>\n",
       "      <th>20</th>\n",
       "      <th>21</th>\n",
       "      <th>22</th>\n",
       "      <th>23</th>\n",
       "    </tr>\n",
       "  </thead>\n",
       "  <tbody>\n",
       "    <tr>\n",
       "      <th>0</th>\n",
       "      <td>9.06</td>\n",
       "      <td>8.93</td>\n",
       "      <td>8.5</td>\n",
       "      <td>8.14</td>\n",
       "      <td>7.985</td>\n",
       "      <td>7.81</td>\n",
       "      <td>7.8</td>\n",
       "      <td>7.81</td>\n",
       "      <td>7.95</td>\n",
       "      <td>8.76</td>\n",
       "      <td>10.415</td>\n",
       "      <td>12.35</td>\n",
       "      <td>13.595</td>\n",
       "      <td>14.29</td>\n",
       "      <td>14.29</td>\n",
       "      <td>12.995</td>\n",
       "      <td>11.43</td>\n",
       "      <td>10.35</td>\n",
       "      <td>9.955</td>\n",
       "      <td>10.115</td>\n",
       "      <td>10.08</td>\n",
       "      <td>9.875</td>\n",
       "      <td>9.74</td>\n",
       "      <td>9.695</td>\n",
       "      <td>1</td>\n",
       "      <td>0</td>\n",
       "      <td>0.0</td>\n",
       "      <td>1191.035222</td>\n",
       "      <td>1312.758731</td>\n",
       "      <td>1419.587492</td>\n",
       "      <td>1513.17473</td>\n",
       "      <td>1578.453365</td>\n",
       "      <td>1964.393414</td>\n",
       "      <td>2340.466249</td>\n",
       "      <td>2674.424141</td>\n",
       "      <td>1974.679566</td>\n",
       "      <td>764.431616</td>\n",
       "      <td>0.0</td>\n",
       "      <td>0.0</td>\n",
       "      <td>0.0</td>\n",
       "      <td>0.0</td>\n",
       "      <td>0.0</td>\n",
       "      <td>46.882802</td>\n",
       "      <td>0.0</td>\n",
       "      <td>12.597284</td>\n",
       "      <td>165.032178</td>\n",
       "      <td>309.615664</td>\n",
       "      <td>454.360768</td>\n",
       "      <td>581.485442</td>\n",
       "      <td>692.696269</td>\n",
       "      <td>9.5</td>\n",
       "      <td>9.2</td>\n",
       "      <td>8.975</td>\n",
       "      <td>8.84</td>\n",
       "      <td>8.77</td>\n",
       "      <td>8.62</td>\n",
       "      <td>8.66</td>\n",
       "      <td>8.93</td>\n",
       "      <td>9.17</td>\n",
       "      <td>9.26</td>\n",
       "      <td>9.5</td>\n",
       "      <td>10.34</td>\n",
       "      <td>11.485</td>\n",
       "      <td>12.41</td>\n",
       "      <td>12.905</td>\n",
       "      <td>13.14</td>\n",
       "      <td>13.225</td>\n",
       "      <td>13.055</td>\n",
       "      <td>12.945</td>\n",
       "      <td>13.215</td>\n",
       "      <td>13.515</td>\n",
       "      <td>13.56</td>\n",
       "      <td>13.555</td>\n",
       "      <td>13.675</td>\n",
       "      <td>1</td>\n",
       "      <td>0</td>\n",
       "      <td>810.107258</td>\n",
       "      <td>932.496397</td>\n",
       "      <td>1038.400298</td>\n",
       "      <td>1125.989678</td>\n",
       "      <td>1203.801168</td>\n",
       "      <td>1262.344356</td>\n",
       "      <td>1615.840151</td>\n",
       "      <td>1906.159536</td>\n",
       "      <td>2163.834353</td>\n",
       "      <td>2141.193211</td>\n",
       "      <td>2045.397519</td>\n",
       "      <td>1392.473496</td>\n",
       "      <td>1642.885784</td>\n",
       "      <td>1425.817471</td>\n",
       "      <td>1235.423295</td>\n",
       "      <td>1216.862847</td>\n",
       "      <td>1081.300624</td>\n",
       "      <td>1000.744376</td>\n",
       "      <td>927.574038</td>\n",
       "      <td>938.912098</td>\n",
       "      <td>939.342954</td>\n",
       "      <td>961.082691</td>\n",
       "      <td>984.154059</td>\n",
       "      <td>990.419856</td>\n",
       "      <td>13.715</td>\n",
       "      <td>13.685</td>\n",
       "      <td>13.87</td>\n",
       "      <td>14.49</td>\n",
       "      <td>15.24</td>\n",
       "      <td>15.57</td>\n",
       "      <td>15.76</td>\n",
       "      <td>15.765</td>\n",
       "      <td>15.485</td>\n",
       "      <td>15.33</td>\n",
       "      <td>15.45</td>\n",
       "      <td>15.78</td>\n",
       "      <td>16.045</td>\n",
       "      <td>16.045</td>\n",
       "      <td>15.995</td>\n",
       "      <td>15.965</td>\n",
       "      <td>15.585</td>\n",
       "      <td>14.83</td>\n",
       "      <td>14.145</td>\n",
       "      <td>13.705</td>\n",
       "      <td>13.27</td>\n",
       "      <td>12.95</td>\n",
       "      <td>12.925</td>\n",
       "      <td>13.19</td>\n",
       "      <td>1</td>\n",
       "      <td>2.0</td>\n",
       "      <td>1003.897458</td>\n",
       "      <td>1022.89932</td>\n",
       "      <td>1018.746767</td>\n",
       "      <td>970.512303</td>\n",
       "      <td>901.581261</td>\n",
       "      <td>847.178108</td>\n",
       "      <td>864.854141</td>\n",
       "      <td>891.012656</td>\n",
       "      <td>970.925253</td>\n",
       "      <td>970.136841</td>\n",
       "      <td>727.212779</td>\n",
       "      <td>200.974158</td>\n",
       "      <td>0.0</td>\n",
       "      <td>0.0</td>\n",
       "      <td>0.0</td>\n",
       "      <td>0.0</td>\n",
       "      <td>0.0</td>\n",
       "      <td>0.0</td>\n",
       "      <td>0.0</td>\n",
       "      <td>68.356592</td>\n",
       "      <td>200.292594</td>\n",
       "      <td>324.326513</td>\n",
       "      <td>405.764384</td>\n",
       "      <td>454.396293</td>\n",
       "    </tr>\n",
       "  </tbody>\n",
       "</table>\n",
       "</div>"
      ],
      "text/plain": [
       "  0_j-2 1_j-2 2_j-2 3_j-2  4_j-2 5_j-2 6_j-2 7_j-2 8_j-2 9_j-2  10_j-2 11_j-2  \\\n",
       "0  9.06  8.93   8.5  8.14  7.985  7.81   7.8  7.81  7.95  8.76  10.415  12.35   \n",
       "\n",
       "   12_j-2 13_j-2 14_j-2  15_j-2 16_j-2 17_j-2 18_j-2  19_j-2 20_j-2 21_j-2  \\\n",
       "0  13.595  14.29  14.29  12.995  11.43  10.35  9.955  10.115  10.08  9.875   \n",
       "\n",
       "  22_j-2 23_j-2 heat_on_j-2 clusters_j-2 0_j-2_2      1_j-2_2      2_j-2_2  \\\n",
       "0   9.74  9.695           1            0     0.0  1191.035222  1312.758731   \n",
       "\n",
       "       3_j-2_2     4_j-2_2      5_j-2_2      6_j-2_2      7_j-2_2  \\\n",
       "0  1419.587492  1513.17473  1578.453365  1964.393414  2340.466249   \n",
       "\n",
       "       8_j-2_2      9_j-2_2    10_j-2_2 11_j-2_2 12_j-2_2 13_j-2_2 14_j-2_2  \\\n",
       "0  2674.424141  1974.679566  764.431616      0.0      0.0      0.0      0.0   \n",
       "\n",
       "  15_j-2_2   16_j-2_2 17_j-2_2   18_j-2_2    19_j-2_2    20_j-2_2    21_j-2_2  \\\n",
       "0      0.0  46.882802      0.0  12.597284  165.032178  309.615664  454.360768   \n",
       "\n",
       "     22_j-2_2    23_j-2_2 0_j-1 1_j-1  2_j-1 3_j-1 4_j-1 5_j-1 6_j-1 7_j-1  \\\n",
       "0  581.485442  692.696269   9.5   9.2  8.975  8.84  8.77  8.62  8.66  8.93   \n",
       "\n",
       "  8_j-1 9_j-1 10_j-1 11_j-1  12_j-1 13_j-1  14_j-1 15_j-1  16_j-1  17_j-1  \\\n",
       "0  9.17  9.26    9.5  10.34  11.485  12.41  12.905  13.14  13.225  13.055   \n",
       "\n",
       "   18_j-1  19_j-1  20_j-1 21_j-1  22_j-1  23_j-1 heat_on_j-1 clusters_j-1  \\\n",
       "0  12.945  13.215  13.515  13.56  13.555  13.675           1            0   \n",
       "\n",
       "      0_j-1_2     1_j-1_2      2_j-1_2      3_j-1_2      4_j-1_2      5_j-1_2  \\\n",
       "0  810.107258  932.496397  1038.400298  1125.989678  1203.801168  1262.344356   \n",
       "\n",
       "       6_j-1_2      7_j-1_2      8_j-1_2      9_j-1_2     10_j-1_2  \\\n",
       "0  1615.840151  1906.159536  2163.834353  2141.193211  2045.397519   \n",
       "\n",
       "      11_j-1_2     12_j-1_2     13_j-1_2     14_j-1_2     15_j-1_2  \\\n",
       "0  1392.473496  1642.885784  1425.817471  1235.423295  1216.862847   \n",
       "\n",
       "      16_j-1_2     17_j-1_2    18_j-1_2    19_j-1_2    20_j-1_2    21_j-1_2  \\\n",
       "0  1081.300624  1000.744376  927.574038  938.912098  939.342954  961.082691   \n",
       "\n",
       "     22_j-1_2    23_j-1_2       0       1      2      3      4      5      6  \\\n",
       "0  984.154059  990.419856  13.715  13.685  13.87  14.49  15.24  15.57  15.76   \n",
       "\n",
       "        7       8      9     10     11      12      13      14      15  \\\n",
       "0  15.765  15.485  15.33  15.45  15.78  16.045  16.045  15.995  15.965   \n",
       "\n",
       "       16     17      18      19     20     21      22     23 heat_on  \\\n",
       "0  15.585  14.83  14.145  13.705  13.27  12.95  12.925  13.19       1   \n",
       "\n",
       "  clusters_1            0           1            2           3           4  \\\n",
       "0        2.0  1003.897458  1022.89932  1018.746767  970.512303  901.581261   \n",
       "\n",
       "            5           6           7           8           9          10  \\\n",
       "0  847.178108  864.854141  891.012656  970.925253  970.136841  727.212779   \n",
       "\n",
       "           11   12   13   14   15   16   17   18         19          20  \\\n",
       "0  200.974158  0.0  0.0  0.0  0.0  0.0  0.0  0.0  68.356592  200.292594   \n",
       "\n",
       "           21          22          23  \n",
       "0  324.326513  405.764384  454.396293  "
      ]
     },
     "execution_count": 88,
     "metadata": {},
     "output_type": "execute_result"
    }
   ],
   "source": [
    "pd.set_option('display.max_columns', None)\n",
    "\n",
    "Text_final_reordered.head(1)"
   ]
  },
  {
   "cell_type": "code",
   "execution_count": 253,
   "id": "336049b5",
   "metadata": {},
   "outputs": [
    {
     "data": {
      "text/plain": [
       "array([[9.06, 0.0, 9.5, 810.1072582387496, 13.715],\n",
       "       [8.929999999999998, 1191.0352218384069, 9.2, 932.4963969348099,\n",
       "        13.685],\n",
       "       [8.5, 1312.7587309635564, 8.974999999999998, 1038.4002983638056,\n",
       "        13.87],\n",
       "       [8.14, 1419.5874918518457, 8.84, 1125.9896778158943, 14.49],\n",
       "       [7.9849999999999985, 1513.1747298933917, 8.769999999999998,\n",
       "        1203.8011678240146, 15.24],\n",
       "       [7.81, 1578.4533647967182, 8.620000000000001, 1262.344355640278,\n",
       "        15.57],\n",
       "       [7.8, 1964.393413599108, 8.66, 1615.840150506956, 15.76],\n",
       "       [7.81, 2340.4662491240088, 8.929999999999998, 1906.1595357490953,\n",
       "        15.765],\n",
       "       [7.95, 2674.4241410197283, 9.170000000000002, 2163.834352832608,\n",
       "        15.485],\n",
       "       [8.76, 1974.679566279352, 9.26, 2141.1932113074654, 15.33],\n",
       "       [10.415, 764.4316159963491, 9.5, 2045.3975186558016, 15.45],\n",
       "       [12.35, 0.0, 10.34, 1392.473495759099, 15.78],\n",
       "       [13.595, 0.0, 11.485, 1642.8857837311662, 16.045],\n",
       "       [14.29, 0.0, 12.41, 1425.817470940499, 16.045],\n",
       "       [14.29, 0.0, 12.905, 1235.4232953277751, 15.995],\n",
       "       [12.995, 0.0, 13.14, 1216.8628466606533, 15.965],\n",
       "       [11.43, 46.88280217524152, 13.225, 1081.3006235721405, 15.585],\n",
       "       [10.35, 0.0, 13.055, 1000.7443760872702, 14.83],\n",
       "       [9.955, 12.597283641574904, 12.945, 927.5740382191944, 14.145],\n",
       "       [10.114999999999998, 165.0321776132405, 13.215, 938.9120980010048,\n",
       "        13.705],\n",
       "       [10.08, 309.6156641179259, 13.515, 939.342953604646, 13.27],\n",
       "       [9.875, 454.36076796190895, 13.56, 961.0826908467352, 12.95],\n",
       "       [9.739999999999998, 581.4854421606288, 13.555, 984.1540591067603,\n",
       "        12.925],\n",
       "       [9.695, 692.6962685558465, 13.675, 990.4198555110416, 13.19]],\n",
       "      dtype=object)"
      ]
     },
     "execution_count": 253,
     "metadata": {},
     "output_type": "execute_result"
    }
   ],
   "source": [
    "X[0]"
   ]
  },
  {
   "cell_type": "code",
   "execution_count": 254,
   "id": "04c9111e",
   "metadata": {},
   "outputs": [],
   "source": [
    "y = Text_final_reordered.iloc[:, -24:].values"
   ]
  },
  {
   "cell_type": "code",
   "execution_count": 255,
   "id": "19b0dd74",
   "metadata": {},
   "outputs": [],
   "source": [
    "from sklearn.preprocessing import MinMaxScaler\n",
    "import numpy as np\n",
    "\n",
    "# X shape: (n_samples, time_steps, n_features)\n",
    "# Y shape: (n_samples, time_steps)\n",
    "\n",
    "# On doit normaliser X feature par feature,\n",
    "# donc on reshape X en 2D (pour scaler), puis on reshape après\n",
    "\n",
    "n_samples, time_steps, n_features = X.shape\n",
    "\n",
    "# Reshape X en 2D (n_samples*time_steps, n_features)\n",
    "X_reshaped = X.reshape(-1, n_features)\n",
    "\n",
    "scaler_X = MinMaxScaler()\n",
    "X_scaled_reshaped = scaler_X.fit_transform(X_reshaped)\n",
    "\n",
    "# Revenir à la forme 3D\n",
    "X_scaled = X_scaled_reshaped.reshape(n_samples, time_steps, n_features)\n",
    "\n",
    "# Pour Y (2D), on peut scaler directement\n",
    "scaler_Y = MinMaxScaler()\n",
    "Y_scaled = scaler_Y.fit_transform(y)  # (n_samples, time_steps)\n",
    "\n",
    "# Maintenant X_scaled et Y_scaled sont prêts pour entraîner le modèle\n"
   ]
  },
  {
   "cell_type": "code",
   "execution_count": 256,
   "id": "a8a2f95e",
   "metadata": {},
   "outputs": [],
   "source": [
    "X_train, X_test, y_train, y_test = train_test_split(\n",
    "    X_scaled, Y_scaled, test_size=0.2, random_state=42, shuffle=False\n",
    ")"
   ]
  },
  {
   "cell_type": "code",
   "execution_count": 257,
   "id": "68d80e82",
   "metadata": {},
   "outputs": [
    {
     "name": "stdout",
     "output_type": "stream",
     "text": [
      "Epoch 1/100\n"
     ]
    },
    {
     "name": "stderr",
     "output_type": "stream",
     "text": [
      "c:\\Users\\toubia\\anaconda3\\envs\\notebook\\Lib\\site-packages\\keras\\src\\layers\\rnn\\rnn.py:200: UserWarning:\n",
      "\n",
      "Do not pass an `input_shape`/`input_dim` argument to a layer. When using Sequential models, prefer using an `Input(shape)` object as the first layer in the model instead.\n",
      "\n"
     ]
    },
    {
     "name": "stdout",
     "output_type": "stream",
     "text": [
      "\u001b[1m29/29\u001b[0m \u001b[32m━━━━━━━━━━━━━━━━━━━━\u001b[0m\u001b[37m\u001b[0m \u001b[1m4s\u001b[0m 31ms/step - loss: 0.0598 - mae: 0.1727 - mse: 0.0598 - val_loss: 0.0282 - val_mae: 0.1196 - val_mse: 0.0282\n",
      "Epoch 2/100\n",
      "\u001b[1m29/29\u001b[0m \u001b[32m━━━━━━━━━━━━━━━━━━━━\u001b[0m\u001b[37m\u001b[0m \u001b[1m0s\u001b[0m 15ms/step - loss: 0.0302 - mae: 0.1279 - mse: 0.0302 - val_loss: 0.0227 - val_mae: 0.0952 - val_mse: 0.0227\n",
      "Epoch 3/100\n",
      "\u001b[1m29/29\u001b[0m \u001b[32m━━━━━━━━━━━━━━━━━━━━\u001b[0m\u001b[37m\u001b[0m \u001b[1m1s\u001b[0m 17ms/step - loss: 0.0232 - mae: 0.1039 - mse: 0.0232 - val_loss: 0.0180 - val_mae: 0.0872 - val_mse: 0.0180\n",
      "Epoch 4/100\n",
      "\u001b[1m29/29\u001b[0m \u001b[32m━━━━━━━━━━━━━━━━━━━━\u001b[0m\u001b[37m\u001b[0m \u001b[1m1s\u001b[0m 17ms/step - loss: 0.0213 - mae: 0.1021 - mse: 0.0213 - val_loss: 0.0177 - val_mae: 0.0896 - val_mse: 0.0177\n",
      "Epoch 5/100\n",
      "\u001b[1m29/29\u001b[0m \u001b[32m━━━━━━━━━━━━━━━━━━━━\u001b[0m\u001b[37m\u001b[0m \u001b[1m1s\u001b[0m 18ms/step - loss: 0.0200 - mae: 0.0994 - mse: 0.0200 - val_loss: 0.0177 - val_mae: 0.0874 - val_mse: 0.0177\n",
      "Epoch 6/100\n",
      "\u001b[1m29/29\u001b[0m \u001b[32m━━━━━━━━━━━━━━━━━━━━\u001b[0m\u001b[37m\u001b[0m \u001b[1m0s\u001b[0m 15ms/step - loss: 0.0175 - mae: 0.0937 - mse: 0.0175 - val_loss: 0.0188 - val_mae: 0.0899 - val_mse: 0.0188\n",
      "Epoch 7/100\n",
      "\u001b[1m29/29\u001b[0m \u001b[32m━━━━━━━━━━━━━━━━━━━━\u001b[0m\u001b[37m\u001b[0m \u001b[1m1s\u001b[0m 17ms/step - loss: 0.0171 - mae: 0.0914 - mse: 0.0171 - val_loss: 0.0167 - val_mae: 0.0864 - val_mse: 0.0167\n",
      "Epoch 8/100\n",
      "\u001b[1m29/29\u001b[0m \u001b[32m━━━━━━━━━━━━━━━━━━━━\u001b[0m\u001b[37m\u001b[0m \u001b[1m1s\u001b[0m 18ms/step - loss: 0.0186 - mae: 0.0942 - mse: 0.0186 - val_loss: 0.0187 - val_mae: 0.0884 - val_mse: 0.0187\n",
      "Epoch 9/100\n",
      "\u001b[1m29/29\u001b[0m \u001b[32m━━━━━━━━━━━━━━━━━━━━\u001b[0m\u001b[37m\u001b[0m \u001b[1m1s\u001b[0m 22ms/step - loss: 0.0170 - mae: 0.0910 - mse: 0.0170 - val_loss: 0.0170 - val_mae: 0.0870 - val_mse: 0.0170\n",
      "Epoch 10/100\n",
      "\u001b[1m29/29\u001b[0m \u001b[32m━━━━━━━━━━━━━━━━━━━━\u001b[0m\u001b[37m\u001b[0m \u001b[1m1s\u001b[0m 18ms/step - loss: 0.0150 - mae: 0.0855 - mse: 0.0150 - val_loss: 0.0174 - val_mae: 0.0933 - val_mse: 0.0174\n",
      "Epoch 11/100\n",
      "\u001b[1m29/29\u001b[0m \u001b[32m━━━━━━━━━━━━━━━━━━━━\u001b[0m\u001b[37m\u001b[0m \u001b[1m1s\u001b[0m 19ms/step - loss: 0.0170 - mae: 0.0920 - mse: 0.0170 - val_loss: 0.0160 - val_mae: 0.0843 - val_mse: 0.0160\n",
      "Epoch 12/100\n",
      "\u001b[1m29/29\u001b[0m \u001b[32m━━━━━━━━━━━━━━━━━━━━\u001b[0m\u001b[37m\u001b[0m \u001b[1m1s\u001b[0m 16ms/step - loss: 0.0176 - mae: 0.0918 - mse: 0.0176 - val_loss: 0.0159 - val_mae: 0.0813 - val_mse: 0.0159\n",
      "Epoch 13/100\n",
      "\u001b[1m29/29\u001b[0m \u001b[32m━━━━━━━━━━━━━━━━━━━━\u001b[0m\u001b[37m\u001b[0m \u001b[1m1s\u001b[0m 17ms/step - loss: 0.0167 - mae: 0.0895 - mse: 0.0167 - val_loss: 0.0166 - val_mae: 0.0832 - val_mse: 0.0166\n",
      "Epoch 14/100\n",
      "\u001b[1m29/29\u001b[0m \u001b[32m━━━━━━━━━━━━━━━━━━━━\u001b[0m\u001b[37m\u001b[0m \u001b[1m1s\u001b[0m 17ms/step - loss: 0.0160 - mae: 0.0869 - mse: 0.0160 - val_loss: 0.0158 - val_mae: 0.0787 - val_mse: 0.0158\n",
      "Epoch 15/100\n",
      "\u001b[1m29/29\u001b[0m \u001b[32m━━━━━━━━━━━━━━━━━━━━\u001b[0m\u001b[37m\u001b[0m \u001b[1m1s\u001b[0m 24ms/step - loss: 0.0157 - mae: 0.0854 - mse: 0.0157 - val_loss: 0.0157 - val_mae: 0.0823 - val_mse: 0.0157\n",
      "Epoch 16/100\n",
      "\u001b[1m29/29\u001b[0m \u001b[32m━━━━━━━━━━━━━━━━━━━━\u001b[0m\u001b[37m\u001b[0m \u001b[1m0s\u001b[0m 15ms/step - loss: 0.0144 - mae: 0.0844 - mse: 0.0144 - val_loss: 0.0155 - val_mae: 0.0796 - val_mse: 0.0155\n",
      "Epoch 17/100\n",
      "\u001b[1m29/29\u001b[0m \u001b[32m━━━━━━━━━━━━━━━━━━━━\u001b[0m\u001b[37m\u001b[0m \u001b[1m1s\u001b[0m 19ms/step - loss: 0.0151 - mae: 0.0825 - mse: 0.0151 - val_loss: 0.0149 - val_mae: 0.0793 - val_mse: 0.0149\n",
      "Epoch 18/100\n",
      "\u001b[1m29/29\u001b[0m \u001b[32m━━━━━━━━━━━━━━━━━━━━\u001b[0m\u001b[37m\u001b[0m \u001b[1m1s\u001b[0m 24ms/step - loss: 0.0152 - mae: 0.0841 - mse: 0.0152 - val_loss: 0.0149 - val_mae: 0.0800 - val_mse: 0.0149\n",
      "Epoch 19/100\n",
      "\u001b[1m29/29\u001b[0m \u001b[32m━━━━━━━━━━━━━━━━━━━━\u001b[0m\u001b[37m\u001b[0m \u001b[1m1s\u001b[0m 21ms/step - loss: 0.0161 - mae: 0.0856 - mse: 0.0161 - val_loss: 0.0152 - val_mae: 0.0836 - val_mse: 0.0152\n",
      "Epoch 20/100\n",
      "\u001b[1m29/29\u001b[0m \u001b[32m━━━━━━━━━━━━━━━━━━━━\u001b[0m\u001b[37m\u001b[0m \u001b[1m1s\u001b[0m 18ms/step - loss: 0.0140 - mae: 0.0806 - mse: 0.0140 - val_loss: 0.0146 - val_mae: 0.0780 - val_mse: 0.0146\n",
      "Epoch 21/100\n",
      "\u001b[1m29/29\u001b[0m \u001b[32m━━━━━━━━━━━━━━━━━━━━\u001b[0m\u001b[37m\u001b[0m \u001b[1m1s\u001b[0m 19ms/step - loss: 0.0136 - mae: 0.0805 - mse: 0.0136 - val_loss: 0.0146 - val_mae: 0.0773 - val_mse: 0.0146\n",
      "Epoch 22/100\n",
      "\u001b[1m29/29\u001b[0m \u001b[32m━━━━━━━━━━━━━━━━━━━━\u001b[0m\u001b[37m\u001b[0m \u001b[1m1s\u001b[0m 16ms/step - loss: 0.0148 - mae: 0.0825 - mse: 0.0148 - val_loss: 0.0160 - val_mae: 0.0830 - val_mse: 0.0160\n",
      "Epoch 23/100\n",
      "\u001b[1m29/29\u001b[0m \u001b[32m━━━━━━━━━━━━━━━━━━━━\u001b[0m\u001b[37m\u001b[0m \u001b[1m1s\u001b[0m 17ms/step - loss: 0.0139 - mae: 0.0811 - mse: 0.0139 - val_loss: 0.0130 - val_mae: 0.0753 - val_mse: 0.0130\n",
      "Epoch 24/100\n",
      "\u001b[1m29/29\u001b[0m \u001b[32m━━━━━━━━━━━━━━━━━━━━\u001b[0m\u001b[37m\u001b[0m \u001b[1m1s\u001b[0m 18ms/step - loss: 0.0140 - mae: 0.0828 - mse: 0.0140 - val_loss: 0.0140 - val_mae: 0.0790 - val_mse: 0.0140\n",
      "Epoch 25/100\n",
      "\u001b[1m29/29\u001b[0m \u001b[32m━━━━━━━━━━━━━━━━━━━━\u001b[0m\u001b[37m\u001b[0m \u001b[1m0s\u001b[0m 16ms/step - loss: 0.0138 - mae: 0.0817 - mse: 0.0138 - val_loss: 0.0140 - val_mae: 0.0786 - val_mse: 0.0140\n",
      "Epoch 26/100\n",
      "\u001b[1m29/29\u001b[0m \u001b[32m━━━━━━━━━━━━━━━━━━━━\u001b[0m\u001b[37m\u001b[0m \u001b[1m1s\u001b[0m 17ms/step - loss: 0.0133 - mae: 0.0812 - mse: 0.0133 - val_loss: 0.0134 - val_mae: 0.0750 - val_mse: 0.0134\n",
      "Epoch 27/100\n",
      "\u001b[1m29/29\u001b[0m \u001b[32m━━━━━━━━━━━━━━━━━━━━\u001b[0m\u001b[37m\u001b[0m \u001b[1m0s\u001b[0m 16ms/step - loss: 0.0134 - mae: 0.0794 - mse: 0.0134 - val_loss: 0.0127 - val_mae: 0.0763 - val_mse: 0.0127\n",
      "Epoch 28/100\n",
      "\u001b[1m29/29\u001b[0m \u001b[32m━━━━━━━━━━━━━━━━━━━━\u001b[0m\u001b[37m\u001b[0m \u001b[1m1s\u001b[0m 18ms/step - loss: 0.0122 - mae: 0.0773 - mse: 0.0122 - val_loss: 0.0123 - val_mae: 0.0748 - val_mse: 0.0123\n",
      "Epoch 29/100\n",
      "\u001b[1m29/29\u001b[0m \u001b[32m━━━━━━━━━━━━━━━━━━━━\u001b[0m\u001b[37m\u001b[0m \u001b[1m0s\u001b[0m 15ms/step - loss: 0.0124 - mae: 0.0772 - mse: 0.0124 - val_loss: 0.0117 - val_mae: 0.0713 - val_mse: 0.0117\n",
      "Epoch 30/100\n",
      "\u001b[1m29/29\u001b[0m \u001b[32m━━━━━━━━━━━━━━━━━━━━\u001b[0m\u001b[37m\u001b[0m \u001b[1m1s\u001b[0m 17ms/step - loss: 0.0125 - mae: 0.0766 - mse: 0.0125 - val_loss: 0.0115 - val_mae: 0.0714 - val_mse: 0.0115\n",
      "Epoch 31/100\n",
      "\u001b[1m29/29\u001b[0m \u001b[32m━━━━━━━━━━━━━━━━━━━━\u001b[0m\u001b[37m\u001b[0m \u001b[1m1s\u001b[0m 28ms/step - loss: 0.0116 - mae: 0.0735 - mse: 0.0116 - val_loss: 0.0114 - val_mae: 0.0714 - val_mse: 0.0114\n",
      "Epoch 32/100\n",
      "\u001b[1m29/29\u001b[0m \u001b[32m━━━━━━━━━━━━━━━━━━━━\u001b[0m\u001b[37m\u001b[0m \u001b[1m0s\u001b[0m 15ms/step - loss: 0.0126 - mae: 0.0780 - mse: 0.0126 - val_loss: 0.0115 - val_mae: 0.0723 - val_mse: 0.0115\n",
      "Epoch 33/100\n",
      "\u001b[1m29/29\u001b[0m \u001b[32m━━━━━━━━━━━━━━━━━━━━\u001b[0m\u001b[37m\u001b[0m \u001b[1m1s\u001b[0m 17ms/step - loss: 0.0110 - mae: 0.0741 - mse: 0.0110 - val_loss: 0.0133 - val_mae: 0.0753 - val_mse: 0.0133\n",
      "Epoch 34/100\n",
      "\u001b[1m29/29\u001b[0m \u001b[32m━━━━━━━━━━━━━━━━━━━━\u001b[0m\u001b[37m\u001b[0m \u001b[1m1s\u001b[0m 17ms/step - loss: 0.0116 - mae: 0.0760 - mse: 0.0116 - val_loss: 0.0114 - val_mae: 0.0745 - val_mse: 0.0114\n",
      "Epoch 35/100\n",
      "\u001b[1m29/29\u001b[0m \u001b[32m━━━━━━━━━━━━━━━━━━━━\u001b[0m\u001b[37m\u001b[0m \u001b[1m1s\u001b[0m 25ms/step - loss: 0.0116 - mae: 0.0756 - mse: 0.0116 - val_loss: 0.0109 - val_mae: 0.0680 - val_mse: 0.0109\n",
      "Epoch 36/100\n",
      "\u001b[1m29/29\u001b[0m \u001b[32m━━━━━━━━━━━━━━━━━━━━\u001b[0m\u001b[37m\u001b[0m \u001b[1m1s\u001b[0m 19ms/step - loss: 0.0117 - mae: 0.0754 - mse: 0.0117 - val_loss: 0.0128 - val_mae: 0.0764 - val_mse: 0.0128\n",
      "Epoch 37/100\n",
      "\u001b[1m29/29\u001b[0m \u001b[32m━━━━━━━━━━━━━━━━━━━━\u001b[0m\u001b[37m\u001b[0m \u001b[1m1s\u001b[0m 21ms/step - loss: 0.0114 - mae: 0.0733 - mse: 0.0114 - val_loss: 0.0109 - val_mae: 0.0696 - val_mse: 0.0109\n",
      "Epoch 38/100\n",
      "\u001b[1m29/29\u001b[0m \u001b[32m━━━━━━━━━━━━━━━━━━━━\u001b[0m\u001b[37m\u001b[0m \u001b[1m1s\u001b[0m 18ms/step - loss: 0.0119 - mae: 0.0760 - mse: 0.0119 - val_loss: 0.0111 - val_mae: 0.0701 - val_mse: 0.0111\n",
      "Epoch 39/100\n",
      "\u001b[1m29/29\u001b[0m \u001b[32m━━━━━━━━━━━━━━━━━━━━\u001b[0m\u001b[37m\u001b[0m \u001b[1m0s\u001b[0m 15ms/step - loss: 0.0111 - mae: 0.0717 - mse: 0.0111 - val_loss: 0.0108 - val_mae: 0.0695 - val_mse: 0.0108\n",
      "Epoch 40/100\n",
      "\u001b[1m29/29\u001b[0m \u001b[32m━━━━━━━━━━━━━━━━━━━━\u001b[0m\u001b[37m\u001b[0m \u001b[1m1s\u001b[0m 18ms/step - loss: 0.0116 - mae: 0.0734 - mse: 0.0116 - val_loss: 0.0101 - val_mae: 0.0671 - val_mse: 0.0101\n",
      "Epoch 41/100\n",
      "\u001b[1m29/29\u001b[0m \u001b[32m━━━━━━━━━━━━━━━━━━━━\u001b[0m\u001b[37m\u001b[0m \u001b[1m1s\u001b[0m 18ms/step - loss: 0.0111 - mae: 0.0740 - mse: 0.0111 - val_loss: 0.0113 - val_mae: 0.0695 - val_mse: 0.0113\n",
      "Epoch 42/100\n",
      "\u001b[1m29/29\u001b[0m \u001b[32m━━━━━━━━━━━━━━━━━━━━\u001b[0m\u001b[37m\u001b[0m \u001b[1m1s\u001b[0m 16ms/step - loss: 0.0116 - mae: 0.0744 - mse: 0.0116 - val_loss: 0.0103 - val_mae: 0.0674 - val_mse: 0.0103\n",
      "Epoch 43/100\n",
      "\u001b[1m29/29\u001b[0m \u001b[32m━━━━━━━━━━━━━━━━━━━━\u001b[0m\u001b[37m\u001b[0m \u001b[1m1s\u001b[0m 16ms/step - loss: 0.0105 - mae: 0.0713 - mse: 0.0105 - val_loss: 0.0110 - val_mae: 0.0733 - val_mse: 0.0110\n",
      "Epoch 44/100\n",
      "\u001b[1m29/29\u001b[0m \u001b[32m━━━━━━━━━━━━━━━━━━━━\u001b[0m\u001b[37m\u001b[0m \u001b[1m1s\u001b[0m 16ms/step - loss: 0.0109 - mae: 0.0727 - mse: 0.0109 - val_loss: 0.0099 - val_mae: 0.0652 - val_mse: 0.0099\n",
      "Epoch 45/100\n",
      "\u001b[1m29/29\u001b[0m \u001b[32m━━━━━━━━━━━━━━━━━━━━\u001b[0m\u001b[37m\u001b[0m \u001b[1m1s\u001b[0m 18ms/step - loss: 0.0113 - mae: 0.0736 - mse: 0.0113 - val_loss: 0.0112 - val_mae: 0.0705 - val_mse: 0.0112\n",
      "Epoch 46/100\n",
      "\u001b[1m29/29\u001b[0m \u001b[32m━━━━━━━━━━━━━━━━━━━━\u001b[0m\u001b[37m\u001b[0m \u001b[1m0s\u001b[0m 15ms/step - loss: 0.0109 - mae: 0.0721 - mse: 0.0109 - val_loss: 0.0106 - val_mae: 0.0684 - val_mse: 0.0106\n",
      "Epoch 47/100\n",
      "\u001b[1m29/29\u001b[0m \u001b[32m━━━━━━━━━━━━━━━━━━━━\u001b[0m\u001b[37m\u001b[0m \u001b[1m1s\u001b[0m 17ms/step - loss: 0.0099 - mae: 0.0689 - mse: 0.0099 - val_loss: 0.0101 - val_mae: 0.0649 - val_mse: 0.0101\n",
      "Epoch 48/100\n",
      "\u001b[1m29/29\u001b[0m \u001b[32m━━━━━━━━━━━━━━━━━━━━\u001b[0m\u001b[37m\u001b[0m \u001b[1m1s\u001b[0m 17ms/step - loss: 0.0109 - mae: 0.0715 - mse: 0.0109 - val_loss: 0.0105 - val_mae: 0.0662 - val_mse: 0.0105\n",
      "Epoch 49/100\n",
      "\u001b[1m29/29\u001b[0m \u001b[32m━━━━━━━━━━━━━━━━━━━━\u001b[0m\u001b[37m\u001b[0m \u001b[1m1s\u001b[0m 18ms/step - loss: 0.0110 - mae: 0.0711 - mse: 0.0110 - val_loss: 0.0101 - val_mae: 0.0660 - val_mse: 0.0101\n",
      "Epoch 50/100\n",
      "\u001b[1m29/29\u001b[0m \u001b[32m━━━━━━━━━━━━━━━━━━━━\u001b[0m\u001b[37m\u001b[0m \u001b[1m0s\u001b[0m 15ms/step - loss: 0.0094 - mae: 0.0668 - mse: 0.0094 - val_loss: 0.0102 - val_mae: 0.0662 - val_mse: 0.0102\n",
      "Epoch 51/100\n",
      "\u001b[1m29/29\u001b[0m \u001b[32m━━━━━━━━━━━━━━━━━━━━\u001b[0m\u001b[37m\u001b[0m \u001b[1m1s\u001b[0m 17ms/step - loss: 0.0101 - mae: 0.0698 - mse: 0.0101 - val_loss: 0.0096 - val_mae: 0.0652 - val_mse: 0.0096\n",
      "Epoch 52/100\n",
      "\u001b[1m29/29\u001b[0m \u001b[32m━━━━━━━━━━━━━━━━━━━━\u001b[0m\u001b[37m\u001b[0m \u001b[1m1s\u001b[0m 20ms/step - loss: 0.0108 - mae: 0.0711 - mse: 0.0108 - val_loss: 0.0103 - val_mae: 0.0675 - val_mse: 0.0103\n",
      "Epoch 53/100\n",
      "\u001b[1m29/29\u001b[0m \u001b[32m━━━━━━━━━━━━━━━━━━━━\u001b[0m\u001b[37m\u001b[0m \u001b[1m1s\u001b[0m 15ms/step - loss: 0.0099 - mae: 0.0683 - mse: 0.0099 - val_loss: 0.0109 - val_mae: 0.0697 - val_mse: 0.0109\n",
      "Epoch 54/100\n",
      "\u001b[1m29/29\u001b[0m \u001b[32m━━━━━━━━━━━━━━━━━━━━\u001b[0m\u001b[37m\u001b[0m \u001b[1m1s\u001b[0m 23ms/step - loss: 0.0105 - mae: 0.0696 - mse: 0.0105 - val_loss: 0.0099 - val_mae: 0.0676 - val_mse: 0.0099\n",
      "Epoch 55/100\n",
      "\u001b[1m29/29\u001b[0m \u001b[32m━━━━━━━━━━━━━━━━━━━━\u001b[0m\u001b[37m\u001b[0m \u001b[1m1s\u001b[0m 19ms/step - loss: 0.0107 - mae: 0.0702 - mse: 0.0107 - val_loss: 0.0128 - val_mae: 0.0727 - val_mse: 0.0128\n",
      "Epoch 56/100\n",
      "\u001b[1m29/29\u001b[0m \u001b[32m━━━━━━━━━━━━━━━━━━━━\u001b[0m\u001b[37m\u001b[0m \u001b[1m1s\u001b[0m 16ms/step - loss: 0.0120 - mae: 0.0740 - mse: 0.0120 - val_loss: 0.0096 - val_mae: 0.0640 - val_mse: 0.0096\n",
      "Epoch 57/100\n",
      "\u001b[1m29/29\u001b[0m \u001b[32m━━━━━━━━━━━━━━━━━━━━\u001b[0m\u001b[37m\u001b[0m \u001b[1m1s\u001b[0m 17ms/step - loss: 0.0105 - mae: 0.0697 - mse: 0.0105 - val_loss: 0.0098 - val_mae: 0.0657 - val_mse: 0.0098\n",
      "Epoch 58/100\n",
      "\u001b[1m29/29\u001b[0m \u001b[32m━━━━━━━━━━━━━━━━━━━━\u001b[0m\u001b[37m\u001b[0m \u001b[1m1s\u001b[0m 16ms/step - loss: 0.0100 - mae: 0.0695 - mse: 0.0100 - val_loss: 0.0097 - val_mae: 0.0649 - val_mse: 0.0097\n",
      "Epoch 59/100\n",
      "\u001b[1m29/29\u001b[0m \u001b[32m━━━━━━━━━━━━━━━━━━━━\u001b[0m\u001b[37m\u001b[0m \u001b[1m1s\u001b[0m 18ms/step - loss: 0.0097 - mae: 0.0678 - mse: 0.0097 - val_loss: 0.0117 - val_mae: 0.0701 - val_mse: 0.0117\n",
      "Epoch 60/100\n",
      "\u001b[1m29/29\u001b[0m \u001b[32m━━━━━━━━━━━━━━━━━━━━\u001b[0m\u001b[37m\u001b[0m \u001b[1m0s\u001b[0m 16ms/step - loss: 0.0102 - mae: 0.0690 - mse: 0.0102 - val_loss: 0.0091 - val_mae: 0.0635 - val_mse: 0.0091\n",
      "Epoch 61/100\n",
      "\u001b[1m29/29\u001b[0m \u001b[32m━━━━━━━━━━━━━━━━━━━━\u001b[0m\u001b[37m\u001b[0m \u001b[1m1s\u001b[0m 18ms/step - loss: 0.0095 - mae: 0.0664 - mse: 0.0095 - val_loss: 0.0102 - val_mae: 0.0677 - val_mse: 0.0102\n",
      "Epoch 62/100\n",
      "\u001b[1m29/29\u001b[0m \u001b[32m━━━━━━━━━━━━━━━━━━━━\u001b[0m\u001b[37m\u001b[0m \u001b[1m1s\u001b[0m 17ms/step - loss: 0.0094 - mae: 0.0666 - mse: 0.0094 - val_loss: 0.0094 - val_mae: 0.0637 - val_mse: 0.0094\n",
      "Epoch 63/100\n",
      "\u001b[1m29/29\u001b[0m \u001b[32m━━━━━━━━━━━━━━━━━━━━\u001b[0m\u001b[37m\u001b[0m \u001b[1m1s\u001b[0m 19ms/step - loss: 0.0096 - mae: 0.0683 - mse: 0.0096 - val_loss: 0.0097 - val_mae: 0.0633 - val_mse: 0.0097\n",
      "Epoch 64/100\n",
      "\u001b[1m29/29\u001b[0m \u001b[32m━━━━━━━━━━━━━━━━━━━━\u001b[0m\u001b[37m\u001b[0m \u001b[1m1s\u001b[0m 21ms/step - loss: 0.0094 - mae: 0.0660 - mse: 0.0094 - val_loss: 0.0092 - val_mae: 0.0631 - val_mse: 0.0092\n",
      "Epoch 65/100\n",
      "\u001b[1m29/29\u001b[0m \u001b[32m━━━━━━━━━━━━━━━━━━━━\u001b[0m\u001b[37m\u001b[0m \u001b[1m1s\u001b[0m 22ms/step - loss: 0.0095 - mae: 0.0675 - mse: 0.0095 - val_loss: 0.0118 - val_mae: 0.0687 - val_mse: 0.0118\n",
      "Epoch 66/100\n",
      "\u001b[1m29/29\u001b[0m \u001b[32m━━━━━━━━━━━━━━━━━━━━\u001b[0m\u001b[37m\u001b[0m \u001b[1m1s\u001b[0m 18ms/step - loss: 0.0096 - mae: 0.0664 - mse: 0.0096 - val_loss: 0.0100 - val_mae: 0.0646 - val_mse: 0.0100\n",
      "Epoch 67/100\n",
      "\u001b[1m29/29\u001b[0m \u001b[32m━━━━━━━━━━━━━━━━━━━━\u001b[0m\u001b[37m\u001b[0m \u001b[1m0s\u001b[0m 15ms/step - loss: 0.0087 - mae: 0.0640 - mse: 0.0087 - val_loss: 0.0094 - val_mae: 0.0631 - val_mse: 0.0094\n",
      "Epoch 68/100\n",
      "\u001b[1m29/29\u001b[0m \u001b[32m━━━━━━━━━━━━━━━━━━━━\u001b[0m\u001b[37m\u001b[0m \u001b[1m1s\u001b[0m 17ms/step - loss: 0.0096 - mae: 0.0674 - mse: 0.0096 - val_loss: 0.0102 - val_mae: 0.0664 - val_mse: 0.0102\n",
      "Epoch 69/100\n",
      "\u001b[1m29/29\u001b[0m \u001b[32m━━━━━━━━━━━━━━━━━━━━\u001b[0m\u001b[37m\u001b[0m \u001b[1m1s\u001b[0m 19ms/step - loss: 0.0094 - mae: 0.0679 - mse: 0.0094 - val_loss: 0.0097 - val_mae: 0.0616 - val_mse: 0.0097\n",
      "Epoch 70/100\n",
      "\u001b[1m29/29\u001b[0m \u001b[32m━━━━━━━━━━━━━━━━━━━━\u001b[0m\u001b[37m\u001b[0m \u001b[1m1s\u001b[0m 17ms/step - loss: 0.0085 - mae: 0.0638 - mse: 0.0085 - val_loss: 0.0089 - val_mae: 0.0607 - val_mse: 0.0089\n",
      "Epoch 71/100\n",
      "\u001b[1m29/29\u001b[0m \u001b[32m━━━━━━━━━━━━━━━━━━━━\u001b[0m\u001b[37m\u001b[0m \u001b[1m1s\u001b[0m 17ms/step - loss: 0.0094 - mae: 0.0654 - mse: 0.0094 - val_loss: 0.0099 - val_mae: 0.0640 - val_mse: 0.0099\n",
      "Epoch 72/100\n",
      "\u001b[1m29/29\u001b[0m \u001b[32m━━━━━━━━━━━━━━━━━━━━\u001b[0m\u001b[37m\u001b[0m \u001b[1m1s\u001b[0m 15ms/step - loss: 0.0091 - mae: 0.0639 - mse: 0.0091 - val_loss: 0.0101 - val_mae: 0.0648 - val_mse: 0.0101\n",
      "Epoch 73/100\n",
      "\u001b[1m29/29\u001b[0m \u001b[32m━━━━━━━━━━━━━━━━━━━━\u001b[0m\u001b[37m\u001b[0m \u001b[1m1s\u001b[0m 19ms/step - loss: 0.0093 - mae: 0.0668 - mse: 0.0093 - val_loss: 0.0099 - val_mae: 0.0630 - val_mse: 0.0099\n",
      "Epoch 74/100\n",
      "\u001b[1m29/29\u001b[0m \u001b[32m━━━━━━━━━━━━━━━━━━━━\u001b[0m\u001b[37m\u001b[0m \u001b[1m1s\u001b[0m 16ms/step - loss: 0.0092 - mae: 0.0657 - mse: 0.0092 - val_loss: 0.0097 - val_mae: 0.0602 - val_mse: 0.0097\n",
      "Epoch 75/100\n",
      "\u001b[1m29/29\u001b[0m \u001b[32m━━━━━━━━━━━━━━━━━━━━\u001b[0m\u001b[37m\u001b[0m \u001b[1m1s\u001b[0m 23ms/step - loss: 0.0089 - mae: 0.0631 - mse: 0.0089 - val_loss: 0.0134 - val_mae: 0.0684 - val_mse: 0.0134\n",
      "Epoch 76/100\n",
      "\u001b[1m29/29\u001b[0m \u001b[32m━━━━━━━━━━━━━━━━━━━━\u001b[0m\u001b[37m\u001b[0m \u001b[1m1s\u001b[0m 18ms/step - loss: 0.0098 - mae: 0.0668 - mse: 0.0098 - val_loss: 0.0093 - val_mae: 0.0626 - val_mse: 0.0093\n",
      "Epoch 77/100\n",
      "\u001b[1m29/29\u001b[0m \u001b[32m━━━━━━━━━━━━━━━━━━━━\u001b[0m\u001b[37m\u001b[0m \u001b[1m0s\u001b[0m 15ms/step - loss: 0.0086 - mae: 0.0631 - mse: 0.0086 - val_loss: 0.0107 - val_mae: 0.0653 - val_mse: 0.0107\n",
      "Epoch 78/100\n",
      "\u001b[1m29/29\u001b[0m \u001b[32m━━━━━━━━━━━━━━━━━━━━\u001b[0m\u001b[37m\u001b[0m \u001b[1m1s\u001b[0m 19ms/step - loss: 0.0085 - mae: 0.0626 - mse: 0.0085 - val_loss: 0.0102 - val_mae: 0.0622 - val_mse: 0.0102\n",
      "Epoch 79/100\n",
      "\u001b[1m29/29\u001b[0m \u001b[32m━━━━━━━━━━━━━━━━━━━━\u001b[0m\u001b[37m\u001b[0m \u001b[1m1s\u001b[0m 17ms/step - loss: 0.0084 - mae: 0.0624 - mse: 0.0084 - val_loss: 0.0100 - val_mae: 0.0688 - val_mse: 0.0100\n",
      "Epoch 80/100\n",
      "\u001b[1m29/29\u001b[0m \u001b[32m━━━━━━━━━━━━━━━━━━━━\u001b[0m\u001b[37m\u001b[0m \u001b[1m1s\u001b[0m 18ms/step - loss: 0.0090 - mae: 0.0646 - mse: 0.0090 - val_loss: 0.0091 - val_mae: 0.0641 - val_mse: 0.0091\n"
     ]
    },
    {
     "data": {
      "image/png": "[encoded data removed]",
      "text/plain": [
       "<Figure size 1200x600 with 1 Axes>"
      ]
     },
     "metadata": {},
     "output_type": "display_data"
    },
    {
     "name": "stdout",
     "output_type": "stream",
     "text": [
      "\u001b[1m4/4\u001b[0m \u001b[32m━━━━━━━━━━━━━━━━━━━━\u001b[0m\u001b[37m\u001b[0m \u001b[1m0s\u001b[0m 28ms/step - loss: 0.0119 - mae: 0.0725 - mse: 0.0119 \n",
      "Validation Loss : 0.00894893053919077\n",
      "Validation MAE: 0.06068822368979454\n",
      "Validation MSE: 0.00894893053919077\n",
      "Validation RMSE: 0.09459878719725094\n",
      "\u001b[1m8/8\u001b[0m \u001b[32m━━━━━━━━━━━━━━━━━━━━\u001b[0m\u001b[37m\u001b[0m \u001b[1m0s\u001b[0m 31ms/step\n",
      "Test MAE: 244.55616084918265\n",
      "Test MSE: 132910.11664201753\n",
      "Test RMSE: 364.56839775550696\n",
      "Test R²: 0.7530831013846614\n",
      "Test CVRMSE: 0.5847979460543229\n"
     ]
    }
   ],
   "source": [
    "model2, history2, loss2, mae2, mse2, rmse2, mae_test2, mse_test2, rmse_test2, r2, cvrmse, predictions2 = model_lstm(\n",
    "    X_train, \n",
    "    y_train, \n",
    "    X_test, \n",
    "    y_test, \n",
    "    scaler_X, \n",
    "    scaler_Y\n",
    ")\n",
    "  "
   ]
  },
  {
   "cell_type": "code",
   "execution_count": 140,
   "id": "1e44f226",
   "metadata": {},
   "outputs": [
    {
     "data": {
      "text/html": [
       "<div>\n",
       "<style scoped>\n",
       "    .dataframe tbody tr th:only-of-type {\n",
       "        vertical-align: middle;\n",
       "    }\n",
       "\n",
       "    .dataframe tbody tr th {\n",
       "        vertical-align: top;\n",
       "    }\n",
       "\n",
       "    .dataframe thead th {\n",
       "        text-align: right;\n",
       "    }\n",
       "</style>\n",
       "<table border=\"1\" class=\"dataframe\">\n",
       "  <thead>\n",
       "    <tr style=\"text-align: right;\">\n",
       "      <th></th>\n",
       "      <th>0_j-2</th>\n",
       "      <th>1_j-2</th>\n",
       "      <th>2_j-2</th>\n",
       "      <th>3_j-2</th>\n",
       "      <th>4_j-2</th>\n",
       "      <th>5_j-2</th>\n",
       "      <th>6_j-2</th>\n",
       "      <th>7_j-2</th>\n",
       "      <th>8_j-2</th>\n",
       "      <th>9_j-2</th>\n",
       "      <th>10_j-2</th>\n",
       "      <th>11_j-2</th>\n",
       "      <th>12_j-2</th>\n",
       "      <th>13_j-2</th>\n",
       "      <th>14_j-2</th>\n",
       "      <th>15_j-2</th>\n",
       "      <th>16_j-2</th>\n",
       "      <th>17_j-2</th>\n",
       "      <th>18_j-2</th>\n",
       "      <th>19_j-2</th>\n",
       "      <th>20_j-2</th>\n",
       "      <th>21_j-2</th>\n",
       "      <th>22_j-2</th>\n",
       "      <th>23_j-2</th>\n",
       "      <th>heat_on_j-2</th>\n",
       "      <th>clusters_j-2</th>\n",
       "      <th>0_j-2_2</th>\n",
       "      <th>1_j-2_2</th>\n",
       "      <th>2_j-2_2</th>\n",
       "      <th>3_j-2_2</th>\n",
       "      <th>4_j-2_2</th>\n",
       "      <th>5_j-2_2</th>\n",
       "      <th>6_j-2_2</th>\n",
       "      <th>7_j-2_2</th>\n",
       "      <th>8_j-2_2</th>\n",
       "      <th>9_j-2_2</th>\n",
       "      <th>10_j-2_2</th>\n",
       "      <th>11_j-2_2</th>\n",
       "      <th>12_j-2_2</th>\n",
       "      <th>13_j-2_2</th>\n",
       "      <th>14_j-2_2</th>\n",
       "      <th>15_j-2_2</th>\n",
       "      <th>16_j-2_2</th>\n",
       "      <th>17_j-2_2</th>\n",
       "      <th>18_j-2_2</th>\n",
       "      <th>19_j-2_2</th>\n",
       "      <th>20_j-2_2</th>\n",
       "      <th>21_j-2_2</th>\n",
       "      <th>22_j-2_2</th>\n",
       "      <th>23_j-2_2</th>\n",
       "      <th>0_j-1</th>\n",
       "      <th>1_j-1</th>\n",
       "      <th>2_j-1</th>\n",
       "      <th>3_j-1</th>\n",
       "      <th>4_j-1</th>\n",
       "      <th>5_j-1</th>\n",
       "      <th>6_j-1</th>\n",
       "      <th>7_j-1</th>\n",
       "      <th>8_j-1</th>\n",
       "      <th>9_j-1</th>\n",
       "      <th>10_j-1</th>\n",
       "      <th>11_j-1</th>\n",
       "      <th>12_j-1</th>\n",
       "      <th>13_j-1</th>\n",
       "      <th>14_j-1</th>\n",
       "      <th>15_j-1</th>\n",
       "      <th>16_j-1</th>\n",
       "      <th>17_j-1</th>\n",
       "      <th>18_j-1</th>\n",
       "      <th>19_j-1</th>\n",
       "      <th>20_j-1</th>\n",
       "      <th>21_j-1</th>\n",
       "      <th>22_j-1</th>\n",
       "      <th>23_j-1</th>\n",
       "      <th>heat_on_j-1</th>\n",
       "      <th>clusters_j-1</th>\n",
       "      <th>0_j-1_2</th>\n",
       "      <th>1_j-1_2</th>\n",
       "      <th>2_j-1_2</th>\n",
       "      <th>3_j-1_2</th>\n",
       "      <th>4_j-1_2</th>\n",
       "      <th>5_j-1_2</th>\n",
       "      <th>6_j-1_2</th>\n",
       "      <th>7_j-1_2</th>\n",
       "      <th>8_j-1_2</th>\n",
       "      <th>9_j-1_2</th>\n",
       "      <th>10_j-1_2</th>\n",
       "      <th>11_j-1_2</th>\n",
       "      <th>12_j-1_2</th>\n",
       "      <th>13_j-1_2</th>\n",
       "      <th>14_j-1_2</th>\n",
       "      <th>15_j-1_2</th>\n",
       "      <th>16_j-1_2</th>\n",
       "      <th>17_j-1_2</th>\n",
       "      <th>18_j-1_2</th>\n",
       "      <th>19_j-1_2</th>\n",
       "      <th>20_j-1_2</th>\n",
       "      <th>21_j-1_2</th>\n",
       "      <th>22_j-1_2</th>\n",
       "      <th>23_j-1_2</th>\n",
       "      <th>0</th>\n",
       "      <th>1</th>\n",
       "      <th>2</th>\n",
       "      <th>3</th>\n",
       "      <th>4</th>\n",
       "      <th>5</th>\n",
       "      <th>6</th>\n",
       "      <th>7</th>\n",
       "      <th>8</th>\n",
       "      <th>9</th>\n",
       "      <th>10</th>\n",
       "      <th>11</th>\n",
       "      <th>12</th>\n",
       "      <th>13</th>\n",
       "      <th>14</th>\n",
       "      <th>15</th>\n",
       "      <th>16</th>\n",
       "      <th>17</th>\n",
       "      <th>18</th>\n",
       "      <th>19</th>\n",
       "      <th>20</th>\n",
       "      <th>21</th>\n",
       "      <th>22</th>\n",
       "      <th>23</th>\n",
       "      <th>heat_on</th>\n",
       "      <th>clusters_1</th>\n",
       "      <th>0</th>\n",
       "      <th>1</th>\n",
       "      <th>2</th>\n",
       "      <th>3</th>\n",
       "      <th>4</th>\n",
       "      <th>5</th>\n",
       "      <th>6</th>\n",
       "      <th>7</th>\n",
       "      <th>8</th>\n",
       "      <th>9</th>\n",
       "      <th>10</th>\n",
       "      <th>11</th>\n",
       "      <th>12</th>\n",
       "      <th>13</th>\n",
       "      <th>14</th>\n",
       "      <th>15</th>\n",
       "      <th>16</th>\n",
       "      <th>17</th>\n",
       "      <th>18</th>\n",
       "      <th>19</th>\n",
       "      <th>20</th>\n",
       "      <th>21</th>\n",
       "      <th>22</th>\n",
       "      <th>23</th>\n",
       "    </tr>\n",
       "  </thead>\n",
       "  <tbody>\n",
       "    <tr>\n",
       "      <th>0</th>\n",
       "      <td>9.06</td>\n",
       "      <td>8.93</td>\n",
       "      <td>8.5</td>\n",
       "      <td>8.14</td>\n",
       "      <td>7.985</td>\n",
       "      <td>7.81</td>\n",
       "      <td>7.8</td>\n",
       "      <td>7.81</td>\n",
       "      <td>7.95</td>\n",
       "      <td>8.76</td>\n",
       "      <td>10.415</td>\n",
       "      <td>12.35</td>\n",
       "      <td>13.595</td>\n",
       "      <td>14.29</td>\n",
       "      <td>14.29</td>\n",
       "      <td>12.995</td>\n",
       "      <td>11.43</td>\n",
       "      <td>10.35</td>\n",
       "      <td>9.955</td>\n",
       "      <td>10.115</td>\n",
       "      <td>10.08</td>\n",
       "      <td>9.875</td>\n",
       "      <td>9.74</td>\n",
       "      <td>9.695</td>\n",
       "      <td>1</td>\n",
       "      <td>2</td>\n",
       "      <td>0.0</td>\n",
       "      <td>1191.035222</td>\n",
       "      <td>1312.758731</td>\n",
       "      <td>1419.587492</td>\n",
       "      <td>1513.17473</td>\n",
       "      <td>1578.453365</td>\n",
       "      <td>1964.393414</td>\n",
       "      <td>2340.466249</td>\n",
       "      <td>2674.424141</td>\n",
       "      <td>1974.679566</td>\n",
       "      <td>764.431616</td>\n",
       "      <td>0.0</td>\n",
       "      <td>0.0</td>\n",
       "      <td>0.0</td>\n",
       "      <td>0.0</td>\n",
       "      <td>0.0</td>\n",
       "      <td>46.882802</td>\n",
       "      <td>0.0</td>\n",
       "      <td>12.597284</td>\n",
       "      <td>165.032178</td>\n",
       "      <td>309.615664</td>\n",
       "      <td>454.360768</td>\n",
       "      <td>581.485442</td>\n",
       "      <td>692.696269</td>\n",
       "      <td>9.5</td>\n",
       "      <td>9.2</td>\n",
       "      <td>8.975</td>\n",
       "      <td>8.84</td>\n",
       "      <td>8.77</td>\n",
       "      <td>8.62</td>\n",
       "      <td>8.66</td>\n",
       "      <td>8.93</td>\n",
       "      <td>9.17</td>\n",
       "      <td>9.26</td>\n",
       "      <td>9.5</td>\n",
       "      <td>10.34</td>\n",
       "      <td>11.485</td>\n",
       "      <td>12.41</td>\n",
       "      <td>12.905</td>\n",
       "      <td>13.14</td>\n",
       "      <td>13.225</td>\n",
       "      <td>13.055</td>\n",
       "      <td>12.945</td>\n",
       "      <td>13.215</td>\n",
       "      <td>13.515</td>\n",
       "      <td>13.56</td>\n",
       "      <td>13.555</td>\n",
       "      <td>13.675</td>\n",
       "      <td>1</td>\n",
       "      <td>2</td>\n",
       "      <td>810.107258</td>\n",
       "      <td>932.496397</td>\n",
       "      <td>1038.400298</td>\n",
       "      <td>1125.989678</td>\n",
       "      <td>1203.801168</td>\n",
       "      <td>1262.344356</td>\n",
       "      <td>1615.840151</td>\n",
       "      <td>1906.159536</td>\n",
       "      <td>2163.834353</td>\n",
       "      <td>2141.193211</td>\n",
       "      <td>2045.397519</td>\n",
       "      <td>1392.473496</td>\n",
       "      <td>1642.885784</td>\n",
       "      <td>1425.817471</td>\n",
       "      <td>1235.423295</td>\n",
       "      <td>1216.862847</td>\n",
       "      <td>1081.300624</td>\n",
       "      <td>1000.744376</td>\n",
       "      <td>927.574038</td>\n",
       "      <td>938.912098</td>\n",
       "      <td>939.342954</td>\n",
       "      <td>961.082691</td>\n",
       "      <td>984.154059</td>\n",
       "      <td>990.419856</td>\n",
       "      <td>13.715</td>\n",
       "      <td>13.685</td>\n",
       "      <td>13.87</td>\n",
       "      <td>14.49</td>\n",
       "      <td>15.24</td>\n",
       "      <td>15.57</td>\n",
       "      <td>15.76</td>\n",
       "      <td>15.765</td>\n",
       "      <td>15.485</td>\n",
       "      <td>15.33</td>\n",
       "      <td>15.45</td>\n",
       "      <td>15.78</td>\n",
       "      <td>16.045</td>\n",
       "      <td>16.045</td>\n",
       "      <td>15.995</td>\n",
       "      <td>15.965</td>\n",
       "      <td>15.585</td>\n",
       "      <td>14.83</td>\n",
       "      <td>14.145</td>\n",
       "      <td>13.705</td>\n",
       "      <td>13.27</td>\n",
       "      <td>12.95</td>\n",
       "      <td>12.925</td>\n",
       "      <td>13.19</td>\n",
       "      <td>1</td>\n",
       "      <td>0.0</td>\n",
       "      <td>1003.897458</td>\n",
       "      <td>1022.89932</td>\n",
       "      <td>1018.746767</td>\n",
       "      <td>970.512303</td>\n",
       "      <td>901.581261</td>\n",
       "      <td>847.178108</td>\n",
       "      <td>864.854141</td>\n",
       "      <td>891.012656</td>\n",
       "      <td>970.925253</td>\n",
       "      <td>970.136841</td>\n",
       "      <td>727.212779</td>\n",
       "      <td>200.974158</td>\n",
       "      <td>0.0</td>\n",
       "      <td>0.0</td>\n",
       "      <td>0.0</td>\n",
       "      <td>0.0</td>\n",
       "      <td>0.0</td>\n",
       "      <td>0.0</td>\n",
       "      <td>0.0</td>\n",
       "      <td>68.356592</td>\n",
       "      <td>200.292594</td>\n",
       "      <td>324.326513</td>\n",
       "      <td>405.764384</td>\n",
       "      <td>454.396293</td>\n",
       "    </tr>\n",
       "  </tbody>\n",
       "</table>\n",
       "</div>"
      ],
      "text/plain": [
       "  0_j-2 1_j-2 2_j-2 3_j-2  4_j-2 5_j-2 6_j-2 7_j-2 8_j-2 9_j-2  10_j-2 11_j-2  12_j-2 13_j-2 14_j-2  15_j-2 16_j-2 17_j-2 18_j-2  19_j-2 20_j-2 21_j-2 22_j-2 23_j-2 heat_on_j-2 clusters_j-2 0_j-2_2      1_j-2_2      2_j-2_2      3_j-2_2     4_j-2_2      5_j-2_2      6_j-2_2      7_j-2_2      8_j-2_2      9_j-2_2    10_j-2_2 11_j-2_2 12_j-2_2 13_j-2_2 14_j-2_2 15_j-2_2   16_j-2_2 17_j-2_2   18_j-2_2    19_j-2_2    20_j-2_2    21_j-2_2    22_j-2_2    23_j-2_2 0_j-1 1_j-1  2_j-1 3_j-1 4_j-1 5_j-1 6_j-1 7_j-1 8_j-1 9_j-1 10_j-1 11_j-1  12_j-1 13_j-1  14_j-1 15_j-1  16_j-1  17_j-1  18_j-1  19_j-1  20_j-1 21_j-1  22_j-1  23_j-1 heat_on_j-1 clusters_j-1     0_j-1_2     1_j-1_2      2_j-1_2      3_j-1_2      4_j-1_2      5_j-1_2      6_j-1_2      7_j-1_2      8_j-1_2      9_j-1_2     10_j-1_2     11_j-1_2     12_j-1_2     13_j-1_2     14_j-1_2     15_j-1_2     16_j-1_2     17_j-1_2    18_j-1_2    19_j-1_2    20_j-1_2    21_j-1_2    22_j-1_2    23_j-1_2       0       1      2      3      4      5      6       7       8      9     10     11      12      13      14      15      16     17      18      19     20     21      22     23 heat_on clusters_1            0           1            2           3           4           5           6           7           8           9          10          11   12   13   14   15   16   17   18         19          20          21          22          23\n",
       "0  9.06  8.93   8.5  8.14  7.985  7.81   7.8  7.81  7.95  8.76  10.415  12.35  13.595  14.29  14.29  12.995  11.43  10.35  9.955  10.115  10.08  9.875   9.74  9.695           1            2     0.0  1191.035222  1312.758731  1419.587492  1513.17473  1578.453365  1964.393414  2340.466249  2674.424141  1974.679566  764.431616      0.0      0.0      0.0      0.0      0.0  46.882802      0.0  12.597284  165.032178  309.615664  454.360768  581.485442  692.696269   9.5   9.2  8.975  8.84  8.77  8.62  8.66  8.93  9.17  9.26    9.5  10.34  11.485  12.41  12.905  13.14  13.225  13.055  12.945  13.215  13.515  13.56  13.555  13.675           1            2  810.107258  932.496397  1038.400298  1125.989678  1203.801168  1262.344356  1615.840151  1906.159536  2163.834353  2141.193211  2045.397519  1392.473496  1642.885784  1425.817471  1235.423295  1216.862847  1081.300624  1000.744376  927.574038  938.912098  939.342954  961.082691  984.154059  990.419856  13.715  13.685  13.87  14.49  15.24  15.57  15.76  15.765  15.485  15.33  15.45  15.78  16.045  16.045  15.995  15.965  15.585  14.83  14.145  13.705  13.27  12.95  12.925  13.19       1        0.0  1003.897458  1022.89932  1018.746767  970.512303  901.581261  847.178108  864.854141  891.012656  970.925253  970.136841  727.212779  200.974158  0.0  0.0  0.0  0.0  0.0  0.0  0.0  68.356592  200.292594  324.326513  405.764384  454.396293"
      ]
     },
     "execution_count": 140,
     "metadata": {},
     "output_type": "execute_result"
    }
   ],
   "source": [
    "Text_final_reordered.head(1)"
   ]
  },
  {
   "cell_type": "code",
   "execution_count": 141,
   "metadata": {},
   "outputs": [],
   "source": [
    "constantes = Text_final_reordered[['heat_on_j-2','clusters_j-2','heat_on_j-1','clusters_j-1','heat_on', 'clusters_1']].values  # shape (N, 4)\n"
   ]
  },
  {
   "cell_type": "code",
   "execution_count": 142,
   "id": "d579e6c0",
   "metadata": {},
   "outputs": [],
   "source": [
    "const_expanded = np.repeat(constantes[:, np.newaxis, :], X.shape[1], axis=1)\n"
   ]
  },
  {
   "cell_type": "code",
   "execution_count": 145,
   "id": "c4d3513c",
   "metadata": {},
   "outputs": [],
   "source": [
    "X = np.concatenate([X, const_expanded], axis=2)"
   ]
  },
  {
   "cell_type": "code",
   "execution_count": 101,
   "id": "42b62dbf",
   "metadata": {},
   "outputs": [
    {
     "data": {
      "application/vnd.plotly.v1+json": {
       "config": {
        "plotlyServerURL": "https://plot.ly"
       },
       "data": [
        {
         "line": {
          "color": "blue"
         },
         "mode": "lines+markers",
         "name": "Valeurs Réelles",
         "type": "scatter",
         "x": [
          0,
          1,
          2,
          3,
          4,
          5,
          6,
          7,
          8,
          9,
          10,
          11,
          12,
          13,
          14,
          15,
          16,
          17,
          18,
          19,
          20,
          21,
          22,
          23,
          24,
          25,
          26,
          27,
          28,
          29,
          30,
          31,
          32,
          33,
          34,
          35,
          36,
          37,
          38,
          39,
          40,
          41,
          42,
          43,
          44,
          45,
          46,
          47,
          48,
          49,
          50,
          51,
          52,
          53,
          54,
          55,
          56,
          57,
          58,
          59,
          60,
          61,
          62,
          63,
          64,
          65,
          66,
          67,
          68,
          69,
          70,
          71,
          72,
          73,
          74,
          75,
          76,
          77,
          78,
          79,
          80,
          81,
          82,
          83,
          84,
          85,
          86,
          87,
          88,
          89,
          90,
          91,
          92,
          93,
          94,
          95,
          96,
          97,
          98,
          99,
          100,
          101,
          102,
          103,
          104,
          105,
          106,
          107,
          108,
          109,
          110,
          111,
          112,
          113,
          114,
          115,
          116,
          117,
          118,
          119
         ],
         "y": [
          866.9641080017461,
          955.6731972890483,
          1066.7541996464934,
          1187.570233425744,
          1271.307972245042,
          1338.5409985251972,
          1367.7235953531415,
          1383.963862322038,
          1411.2283230455432,
          1434.0410317073038,
          1371.7914519760234,
          1006.438400502615,
          178.58766535315226,
          101.89614865947078,
          0,
          30.08954907002772,
          149.1363771921242,
          353.6259076021015,
          490.8235208436672,
          628.931916388894,
          765.8612821844144,
          892.0642132179854,
          1003.0203180915196,
          1134.8480946838536,
          0,
          0,
          0,
          0,
          0,
          0,
          0,
          0,
          0,
          0,
          0,
          0,
          0,
          0,
          0,
          0,
          0,
          0,
          0,
          0,
          0,
          0,
          0,
          0,
          0,
          0,
          0,
          0,
          0,
          0,
          0,
          0,
          0,
          0,
          0,
          0,
          0,
          0,
          0,
          0,
          0,
          0,
          0,
          0,
          0,
          0,
          0,
          0,
          0,
          0,
          0,
          0,
          0,
          0,
          0,
          49.388051661277125,
          340.4595583139453,
          320.994732519408,
          309.50693067860993,
          0,
          0,
          0,
          41.76585369136592,
          0,
          0,
          0,
          0,
          0,
          0,
          120.69347303088581,
          256.0754835380285,
          389.4113803407236,
          740.7761764626848,
          819.7104934075832,
          893.9360417970529,
          975.888167136989,
          1060.3089877522798,
          1110.7133756654584,
          1424.2043729206853,
          1760.2968750590153,
          2077.896839139852,
          2040.8283992708243,
          1910.7546337650565,
          1367.9423303205258,
          1742.2463068778234,
          1584.3921288103013,
          1464.3892623678184,
          1334.9092584524917,
          878.787644214317,
          469.4680039840532,
          679.1799368241627,
          929.5143560576762,
          1092.4501527762695,
          1195.343445092054,
          1263.8757624787904,
          1331.9076777402588
         ]
        },
        {
         "line": {
          "color": "orange"
         },
         "mode": "lines+markers",
         "name": "Prédictions",
         "type": "scatter",
         "x": [
          0,
          1,
          2,
          3,
          4,
          5,
          6,
          7,
          8,
          9,
          10,
          11,
          12,
          13,
          14,
          15,
          16,
          17,
          18,
          19,
          20,
          21,
          22,
          23,
          24,
          25,
          26,
          27,
          28,
          29,
          30,
          31,
          32,
          33,
          34,
          35,
          36,
          37,
          38,
          39,
          40,
          41,
          42,
          43,
          44,
          45,
          46,
          47,
          48,
          49,
          50,
          51,
          52,
          53,
          54,
          55,
          56,
          57,
          58,
          59,
          60,
          61,
          62,
          63,
          64,
          65,
          66,
          67,
          68,
          69,
          70,
          71,
          72,
          73,
          74,
          75,
          76,
          77,
          78,
          79,
          80,
          81,
          82,
          83,
          84,
          85,
          86,
          87,
          88,
          89,
          90,
          91,
          92,
          93,
          94,
          95,
          96,
          97,
          98,
          99,
          100,
          101,
          102,
          103,
          104,
          105,
          106,
          107,
          108,
          109,
          110,
          111,
          112,
          113,
          114,
          115,
          116,
          117,
          118,
          119
         ],
         "y": [
          705.4903564453125,
          766.359130859375,
          830.5405883789062,
          915.0899658203125,
          943.7608642578125,
          967.7391967773438,
          1235.958984375,
          1484.80908203125,
          1519.7384033203125,
          1226.5244140625,
          799.5532836914062,
          376.7630615234375,
          343.3180236816406,
          298.73626708984375,
          249.9129638671875,
          257.7027893066406,
          245.89366149902344,
          226.2467803955078,
          226.71775817871094,
          264.96636962890625,
          322.970947265625,
          379.9156188964844,
          386.06292724609375,
          449.95684814453125,
          41.16240692138672,
          30.837493896484375,
          23.6675968170166,
          33.24129867553711,
          14.673966407775879,
          -22.41643714904785,
          -32.3238639831543,
          -60.28679275512695,
          -90.77140045166016,
          -88.64273071289062,
          -14.350223541259766,
          46.54933166503906,
          49.114830017089844,
          74.0528564453125,
          61.48239517211914,
          45.847694396972656,
          44.076148986816406,
          52.0282096862793,
          29.778146743774414,
          54.649871826171875,
          60.03325271606445,
          31.755979537963867,
          75.62373352050781,
          56.40755844116211,
          -20.271583557128906,
          -24.006032943725586,
          -20.098308563232422,
          -25.81960678100586,
          -11.131052017211914,
          -62.90756607055664,
          16.92029571533203,
          -2.693354606628418,
          87.21497344970703,
          49.31431579589844,
          23.388105392456055,
          -17.299726486206055,
          13.5090970993042,
          -9.048667907714844,
          -52.58140563964844,
          -59.9559211730957,
          -33.336265563964844,
          -31.864688873291016,
          -14.56087875366211,
          22.84653091430664,
          68.96638488769531,
          91.05007934570312,
          132.95753479003906,
          170.0988311767578,
          17.63222312927246,
          51.118751525878906,
          74.10941314697266,
          92.71031188964844,
          132.32643127441406,
          125.03137969970703,
          246.4728546142578,
          333.69598388671875,
          414.60577392578125,
          331.0600891113281,
          275.0252990722656,
          146.02029418945312,
          191.419189453125,
          175.38868713378906,
          137.7084503173828,
          138.90342712402344,
          129.7403564453125,
          121.57373046875,
          123.3200912475586,
          148.4247283935547,
          195.7785186767578,
          231.15345764160156,
          251.05905151367188,
          292.2364196777344,
          628.8663940429688,
          672.2044067382812,
          759.95263671875,
          838.123046875,
          908.391845703125,
          957.2108764648438,
          1250.622802734375,
          1581.9349365234375,
          1756.726318359375,
          1492.3575439453125,
          1121.3929443359375,
          562.1392822265625,
          567.080810546875,
          498.5052490234375,
          412.7635498046875,
          422.9414367675781,
          354.36163330078125,
          369.73699951171875,
          371.94183349609375,
          441.56939697265625,
          514.0392456054688,
          610.87060546875,
          658.4067993164062,
          763.3668823242188
         ]
        }
       ],
       "layout": {
        "hovermode": "x unified",
        "legend": {
         "x": 0.01,
         "y": 0.99
        },
        "shapes": [
         {
          "line": {
           "color": "gray",
           "dash": "dash"
          },
          "opacity": 0.3,
          "type": "line",
          "x0": 24,
          "x1": 24,
          "xref": "x",
          "y0": 0,
          "y1": 1,
          "yref": "y domain"
         },
         {
          "line": {
           "color": "gray",
           "dash": "dash"
          },
          "opacity": 0.3,
          "type": "line",
          "x0": 48,
          "x1": 48,
          "xref": "x",
          "y0": 0,
          "y1": 1,
          "yref": "y domain"
         },
         {
          "line": {
           "color": "gray",
           "dash": "dash"
          },
          "opacity": 0.3,
          "type": "line",
          "x0": 72,
          "x1": 72,
          "xref": "x",
          "y0": 0,
          "y1": 1,
          "yref": "y domain"
         },
         {
          "line": {
           "color": "gray",
           "dash": "dash"
          },
          "opacity": 0.3,
          "type": "line",
          "x0": 96,
          "x1": 96,
          "xref": "x",
          "y0": 0,
          "y1": 1,
          "yref": "y domain"
         }
        ],
        "template": {
         "data": {
          "bar": [
           {
            "error_x": {
             "color": "#2a3f5f"
            },
            "error_y": {
             "color": "#2a3f5f"
            },
            "marker": {
             "line": {
              "color": "#E5ECF6",
              "width": 0.5
             },
             "pattern": {
              "fillmode": "overlay",
              "size": 10,
              "solidity": 0.2
             }
            },
            "type": "bar"
           }
          ],
          "barpolar": [
           {
            "marker": {
             "line": {
              "color": "#E5ECF6",
              "width": 0.5
             },
             "pattern": {
              "fillmode": "overlay",
              "size": 10,
              "solidity": 0.2
             }
            },
            "type": "barpolar"
           }
          ],
          "carpet": [
           {
            "aaxis": {
             "endlinecolor": "#2a3f5f",
             "gridcolor": "white",
             "linecolor": "white",
             "minorgridcolor": "white",
             "startlinecolor": "#2a3f5f"
            },
            "baxis": {
             "endlinecolor": "#2a3f5f",
             "gridcolor": "white",
             "linecolor": "white",
             "minorgridcolor": "white",
             "startlinecolor": "#2a3f5f"
            },
            "type": "carpet"
           }
          ],
          "choropleth": [
           {
            "colorbar": {
             "outlinewidth": 0,
             "ticks": ""
            },
            "type": "choropleth"
           }
          ],
          "contour": [
           {
            "colorbar": {
             "outlinewidth": 0,
             "ticks": ""
            },
            "colorscale": [
             [
              0,
              "#0d0887"
             ],
             [
              0.1111111111111111,
              "#46039f"
             ],
             [
              0.2222222222222222,
              "#7201a8"
             ],
             [
              0.3333333333333333,
              "#9c179e"
             ],
             [
              0.4444444444444444,
              "#bd3786"
             ],
             [
              0.5555555555555556,
              "#d8576b"
             ],
             [
              0.6666666666666666,
              "#ed7953"
             ],
             [
              0.7777777777777778,
              "#fb9f3a"
             ],
             [
              0.8888888888888888,
              "#fdca26"
             ],
             [
              1,
              "#f0f921"
             ]
            ],
            "type": "contour"
           }
          ],
          "contourcarpet": [
           {
            "colorbar": {
             "outlinewidth": 0,
             "ticks": ""
            },
            "type": "contourcarpet"
           }
          ],
          "heatmap": [
           {
            "colorbar": {
             "outlinewidth": 0,
             "ticks": ""
            },
            "colorscale": [
             [
              0,
              "#0d0887"
             ],
             [
              0.1111111111111111,
              "#46039f"
             ],
             [
              0.2222222222222222,
              "#7201a8"
             ],
             [
              0.3333333333333333,
              "#9c179e"
             ],
             [
              0.4444444444444444,
              "#bd3786"
             ],
             [
              0.5555555555555556,
              "#d8576b"
             ],
             [
              0.6666666666666666,
              "#ed7953"
             ],
             [
              0.7777777777777778,
              "#fb9f3a"
             ],
             [
              0.8888888888888888,
              "#fdca26"
             ],
             [
              1,
              "#f0f921"
             ]
            ],
            "type": "heatmap"
           }
          ],
          "histogram": [
           {
            "marker": {
             "pattern": {
              "fillmode": "overlay",
              "size": 10,
              "solidity": 0.2
             }
            },
            "type": "histogram"
           }
          ],
          "histogram2d": [
           {
            "colorbar": {
             "outlinewidth": 0,
             "ticks": ""
            },
            "colorscale": [
             [
              0,
              "#0d0887"
             ],
             [
              0.1111111111111111,
              "#46039f"
             ],
             [
              0.2222222222222222,
              "#7201a8"
             ],
             [
              0.3333333333333333,
              "#9c179e"
             ],
             [
              0.4444444444444444,
              "#bd3786"
             ],
             [
              0.5555555555555556,
              "#d8576b"
             ],
             [
              0.6666666666666666,
              "#ed7953"
             ],
             [
              0.7777777777777778,
              "#fb9f3a"
             ],
             [
              0.8888888888888888,
              "#fdca26"
             ],
             [
              1,
              "#f0f921"
             ]
            ],
            "type": "histogram2d"
           }
          ],
          "histogram2dcontour": [
           {
            "colorbar": {
             "outlinewidth": 0,
             "ticks": ""
            },
            "colorscale": [
             [
              0,
              "#0d0887"
             ],
             [
              0.1111111111111111,
              "#46039f"
             ],
             [
              0.2222222222222222,
              "#7201a8"
             ],
             [
              0.3333333333333333,
              "#9c179e"
             ],
             [
              0.4444444444444444,
              "#bd3786"
             ],
             [
              0.5555555555555556,
              "#d8576b"
             ],
             [
              0.6666666666666666,
              "#ed7953"
             ],
             [
              0.7777777777777778,
              "#fb9f3a"
             ],
             [
              0.8888888888888888,
              "#fdca26"
             ],
             [
              1,
              "#f0f921"
             ]
            ],
            "type": "histogram2dcontour"
           }
          ],
          "mesh3d": [
           {
            "colorbar": {
             "outlinewidth": 0,
             "ticks": ""
            },
            "type": "mesh3d"
           }
          ],
          "parcoords": [
           {
            "line": {
             "colorbar": {
              "outlinewidth": 0,
              "ticks": ""
             }
            },
            "type": "parcoords"
           }
          ],
          "pie": [
           {
            "automargin": true,
            "type": "pie"
           }
          ],
          "scatter": [
           {
            "fillpattern": {
             "fillmode": "overlay",
             "size": 10,
             "solidity": 0.2
            },
            "type": "scatter"
           }
          ],
          "scatter3d": [
           {
            "line": {
             "colorbar": {
              "outlinewidth": 0,
              "ticks": ""
             }
            },
            "marker": {
             "colorbar": {
              "outlinewidth": 0,
              "ticks": ""
             }
            },
            "type": "scatter3d"
           }
          ],
          "scattercarpet": [
           {
            "marker": {
             "colorbar": {
              "outlinewidth": 0,
              "ticks": ""
             }
            },
            "type": "scattercarpet"
           }
          ],
          "scattergeo": [
           {
            "marker": {
             "colorbar": {
              "outlinewidth": 0,
              "ticks": ""
             }
            },
            "type": "scattergeo"
           }
          ],
          "scattergl": [
           {
            "marker": {
             "colorbar": {
              "outlinewidth": 0,
              "ticks": ""
             }
            },
            "type": "scattergl"
           }
          ],
          "scattermap": [
           {
            "marker": {
             "colorbar": {
              "outlinewidth": 0,
              "ticks": ""
             }
            },
            "type": "scattermap"
           }
          ],
          "scattermapbox": [
           {
            "marker": {
             "colorbar": {
              "outlinewidth": 0,
              "ticks": ""
             }
            },
            "type": "scattermapbox"
           }
          ],
          "scatterpolar": [
           {
            "marker": {
             "colorbar": {
              "outlinewidth": 0,
              "ticks": ""
             }
            },
            "type": "scatterpolar"
           }
          ],
          "scatterpolargl": [
           {
            "marker": {
             "colorbar": {
              "outlinewidth": 0,
              "ticks": ""
             }
            },
            "type": "scatterpolargl"
           }
          ],
          "scatterternary": [
           {
            "marker": {
             "colorbar": {
              "outlinewidth": 0,
              "ticks": ""
             }
            },
            "type": "scatterternary"
           }
          ],
          "surface": [
           {
            "colorbar": {
             "outlinewidth": 0,
             "ticks": ""
            },
            "colorscale": [
             [
              0,
              "#0d0887"
             ],
             [
              0.1111111111111111,
              "#46039f"
             ],
             [
              0.2222222222222222,
              "#7201a8"
             ],
             [
              0.3333333333333333,
              "#9c179e"
             ],
             [
              0.4444444444444444,
              "#bd3786"
             ],
             [
              0.5555555555555556,
              "#d8576b"
             ],
             [
              0.6666666666666666,
              "#ed7953"
             ],
             [
              0.7777777777777778,
              "#fb9f3a"
             ],
             [
              0.8888888888888888,
              "#fdca26"
             ],
             [
              1,
              "#f0f921"
             ]
            ],
            "type": "surface"
           }
          ],
          "table": [
           {
            "cells": {
             "fill": {
              "color": "#EBF0F8"
             },
             "line": {
              "color": "white"
             }
            },
            "header": {
             "fill": {
              "color": "#C8D4E3"
             },
             "line": {
              "color": "white"
             }
            },
            "type": "table"
           }
          ]
         },
         "layout": {
          "annotationdefaults": {
           "arrowcolor": "#2a3f5f",
           "arrowhead": 0,
           "arrowwidth": 1
          },
          "autotypenumbers": "strict",
          "coloraxis": {
           "colorbar": {
            "outlinewidth": 0,
            "ticks": ""
           }
          },
          "colorscale": {
           "diverging": [
            [
             0,
             "#8e0152"
            ],
            [
             0.1,
             "#c51b7d"
            ],
            [
             0.2,
             "#de77ae"
            ],
            [
             0.3,
             "#f1b6da"
            ],
            [
             0.4,
             "#fde0ef"
            ],
            [
             0.5,
             "#f7f7f7"
            ],
            [
             0.6,
             "#e6f5d0"
            ],
            [
             0.7,
             "#b8e186"
            ],
            [
             0.8,
             "#7fbc41"
            ],
            [
             0.9,
             "#4d9221"
            ],
            [
             1,
             "#276419"
            ]
           ],
           "sequential": [
            [
             0,
             "#0d0887"
            ],
            [
             0.1111111111111111,
             "#46039f"
            ],
            [
             0.2222222222222222,
             "#7201a8"
            ],
            [
             0.3333333333333333,
             "#9c179e"
            ],
            [
             0.4444444444444444,
             "#bd3786"
            ],
            [
             0.5555555555555556,
             "#d8576b"
            ],
            [
             0.6666666666666666,
             "#ed7953"
            ],
            [
             0.7777777777777778,
             "#fb9f3a"
            ],
            [
             0.8888888888888888,
             "#fdca26"
            ],
            [
             1,
             "#f0f921"
            ]
           ],
           "sequentialminus": [
            [
             0,
             "#0d0887"
            ],
            [
             0.1111111111111111,
             "#46039f"
            ],
            [
             0.2222222222222222,
             "#7201a8"
            ],
            [
             0.3333333333333333,
             "#9c179e"
            ],
            [
             0.4444444444444444,
             "#bd3786"
            ],
            [
             0.5555555555555556,
             "#d8576b"
            ],
            [
             0.6666666666666666,
             "#ed7953"
            ],
            [
             0.7777777777777778,
             "#fb9f3a"
            ],
            [
             0.8888888888888888,
             "#fdca26"
            ],
            [
             1,
             "#f0f921"
            ]
           ]
          },
          "colorway": [
           "#636efa",
           "#EF553B",
           "#00cc96",
           "#ab63fa",
           "#FFA15A",
           "#19d3f3",
           "#FF6692",
           "#B6E880",
           "#FF97FF",
           "#FECB52"
          ],
          "font": {
           "color": "#2a3f5f"
          },
          "geo": {
           "bgcolor": "white",
           "lakecolor": "white",
           "landcolor": "#E5ECF6",
           "showlakes": true,
           "showland": true,
           "subunitcolor": "white"
          },
          "hoverlabel": {
           "align": "left"
          },
          "hovermode": "closest",
          "mapbox": {
           "style": "light"
          },
          "paper_bgcolor": "white",
          "plot_bgcolor": "#E5ECF6",
          "polar": {
           "angularaxis": {
            "gridcolor": "white",
            "linecolor": "white",
            "ticks": ""
           },
           "bgcolor": "#E5ECF6",
           "radialaxis": {
            "gridcolor": "white",
            "linecolor": "white",
            "ticks": ""
           }
          },
          "scene": {
           "xaxis": {
            "backgroundcolor": "#E5ECF6",
            "gridcolor": "white",
            "gridwidth": 2,
            "linecolor": "white",
            "showbackground": true,
            "ticks": "",
            "zerolinecolor": "white"
           },
           "yaxis": {
            "backgroundcolor": "#E5ECF6",
            "gridcolor": "white",
            "gridwidth": 2,
            "linecolor": "white",
            "showbackground": true,
            "ticks": "",
            "zerolinecolor": "white"
           },
           "zaxis": {
            "backgroundcolor": "#E5ECF6",
            "gridcolor": "white",
            "gridwidth": 2,
            "linecolor": "white",
            "showbackground": true,
            "ticks": "",
            "zerolinecolor": "white"
           }
          },
          "shapedefaults": {
           "line": {
            "color": "#2a3f5f"
           }
          },
          "ternary": {
           "aaxis": {
            "gridcolor": "white",
            "linecolor": "white",
            "ticks": ""
           },
           "baxis": {
            "gridcolor": "white",
            "linecolor": "white",
            "ticks": ""
           },
           "bgcolor": "#E5ECF6",
           "caxis": {
            "gridcolor": "white",
            "linecolor": "white",
            "ticks": ""
           }
          },
          "title": {
           "x": 0.05
          },
          "xaxis": {
           "automargin": true,
           "gridcolor": "white",
           "linecolor": "white",
           "ticks": "",
           "title": {
            "standoff": 15
           },
           "zerolinecolor": "white",
           "zerolinewidth": 2
          },
          "yaxis": {
           "automargin": true,
           "gridcolor": "white",
           "linecolor": "white",
           "ticks": "",
           "title": {
            "standoff": 15
           },
           "zerolinecolor": "white",
           "zerolinewidth": 2
          }
         }
        },
        "title": {
         "text": "Valeurs Réelles vs Prédictions (Interactif)"
        },
        "xaxis": {
         "tickmode": "array",
         "ticktext": [
          "Jour 1 - h0",
          "Jour 1 - h4",
          "Jour 1 - h8",
          "Jour 1 - h12",
          "Jour 1 - h16",
          "Jour 1 - h20",
          "Jour 2 - h0",
          "Jour 2 - h4",
          "Jour 2 - h8",
          "Jour 2 - h12",
          "Jour 2 - h16",
          "Jour 2 - h20",
          "Jour 3 - h0",
          "Jour 3 - h4",
          "Jour 3 - h8",
          "Jour 3 - h12",
          "Jour 3 - h16",
          "Jour 3 - h20",
          "Jour 4 - h0",
          "Jour 4 - h4",
          "Jour 4 - h8",
          "Jour 4 - h12",
          "Jour 4 - h16",
          "Jour 4 - h20",
          "Jour 5 - h0",
          "Jour 5 - h4",
          "Jour 5 - h8",
          "Jour 5 - h12",
          "Jour 5 - h16",
          "Jour 5 - h20"
         ],
         "tickvals": [
          0,
          4,
          8,
          12,
          16,
          20,
          24,
          28,
          32,
          36,
          40,
          44,
          48,
          52,
          56,
          60,
          64,
          68,
          72,
          76,
          80,
          84,
          88,
          92,
          96,
          100,
          104,
          108,
          112,
          116
         ],
         "title": {
          "text": "Temps (heures concaténées)"
         }
        },
        "yaxis": {
         "title": {
          "text": "Consommation de chauffage"
         }
        }
       }
      }
     },
     "metadata": {},
     "output_type": "display_data"
    }
   ],
   "source": [
    "plot_true_vs_predicted_interactive(indices=[15, 11, 13,32,89], y_test=y_test, predictions=predictions2, scaler_cons=scaler_Y)\n"
   ]
  },
  {
   "cell_type": "code",
   "execution_count": 302,
   "id": "56ae91f4",
   "metadata": {},
   "outputs": [],
   "source": [
    "from tensorflow.keras.models import Sequential\n",
    "from tensorflow.keras.layers import Conv1D, LSTM, Dropout, Dense\n",
    "\n",
    "def model_cnn_lstm(X_train2, y_train2, X_test2, y_test2, scaler_temp, scaler_cons):\n",
    "    model2 = Sequential()\n",
    "    # Couche convolutionnelle 1D (filtre=32, kernel=3, activation relu)\n",
    "    model2.add(Conv1D(filters=120, kernel_size=5, activation='relu',padding='valid', input_shape=(X_train2.shape[1], X_train2.shape[2])))\n",
    "\n",
    "    model2.add(MaxPooling1D(pool_size=2))\n",
    "    \n",
    "    # Couche LSTM avec 68 unités, activation tanh\n",
    "    model2.add(LSTM(120, activation='tanh'))\n",
    "    \n",
    "    # Dropout pour régularisation\n",
    "    model2.add(Dropout(0.5))\n",
    "    \n",
    "    # Couche Dense finale (24 sorties, activation linéaire)\n",
    "    model2.add(Dense(24, activation='linear'))\n",
    "    \n",
    "    # Entraînement et évaluation\n",
    "    history2, loss2, mae2, mse2, rmse2, mae_test2, mse_test2, rmse_test2, r2, cvrmse, predictions2 = train_and_evaluate(\n",
    "        model2, X_train2, y_train2, X_test2, y_test2, scaler_temp, scaler_cons\n",
    "    )\n",
    "    \n",
    "    return model2, history2, loss2, mae2, mse2, rmse2, mae_test2, mse_test2, rmse_test2, r2, cvrmse, predictions2\n"
   ]
  },
  {
   "cell_type": "code",
   "execution_count": 303,
   "id": "a1feef12",
   "metadata": {},
   "outputs": [
    {
     "data": {
      "text/plain": [
       "(1012, 1, 76)"
      ]
     },
     "execution_count": 303,
     "metadata": {},
     "output_type": "execute_result"
    }
   ],
   "source": [
    "X_train2.shape"
   ]
  },
  {
   "cell_type": "code",
   "execution_count": 304,
   "id": "360cdd4e",
   "metadata": {},
   "outputs": [
    {
     "name": "stderr",
     "output_type": "stream",
     "text": [
      "c:\\Users\\toubia\\anaconda3\\envs\\notebook\\Lib\\site-packages\\keras\\src\\layers\\convolutional\\base_conv.py:107: UserWarning:\n",
      "\n",
      "Do not pass an `input_shape`/`input_dim` argument to a layer. When using Sequential models, prefer using an `Input(shape)` object as the first layer in the model instead.\n",
      "\n"
     ]
    },
    {
     "name": "stdout",
     "output_type": "stream",
     "text": [
      "Epoch 1/100\n",
      "\u001b[1m29/29\u001b[0m \u001b[32m━━━━━━━━━━━━━━━━━━━━\u001b[0m\u001b[37m\u001b[0m \u001b[1m5s\u001b[0m 46ms/step - loss: 0.0592 - mae: 0.1711 - mse: 0.0592 - val_loss: 0.0235 - val_mae: 0.1086 - val_mse: 0.0235\n",
      "Epoch 2/100\n",
      "\u001b[1m29/29\u001b[0m \u001b[32m━━━━━━━━━━━━━━━━━━━━\u001b[0m\u001b[37m\u001b[0m \u001b[1m1s\u001b[0m 25ms/step - loss: 0.0289 - mae: 0.1184 - mse: 0.0289 - val_loss: 0.0195 - val_mae: 0.0924 - val_mse: 0.0195\n",
      "Epoch 3/100\n",
      "\u001b[1m29/29\u001b[0m \u001b[32m━━━━━━━━━━━━━━━━━━━━\u001b[0m\u001b[37m\u001b[0m \u001b[1m1s\u001b[0m 20ms/step - loss: 0.0218 - mae: 0.1020 - mse: 0.0218 - val_loss: 0.0227 - val_mae: 0.0989 - val_mse: 0.0227\n",
      "Epoch 4/100\n",
      "\u001b[1m29/29\u001b[0m \u001b[32m━━━━━━━━━━━━━━━━━━━━\u001b[0m\u001b[37m\u001b[0m \u001b[1m1s\u001b[0m 18ms/step - loss: 0.0204 - mae: 0.0992 - mse: 0.0204 - val_loss: 0.0190 - val_mae: 0.0979 - val_mse: 0.0190\n",
      "Epoch 5/100\n",
      "\u001b[1m29/29\u001b[0m \u001b[32m━━━━━━━━━━━━━━━━━━━━\u001b[0m\u001b[37m\u001b[0m \u001b[1m1s\u001b[0m 24ms/step - loss: 0.0202 - mae: 0.0975 - mse: 0.0202 - val_loss: 0.0173 - val_mae: 0.0864 - val_mse: 0.0173\n",
      "Epoch 6/100\n",
      "\u001b[1m29/29\u001b[0m \u001b[32m━━━━━━━━━━━━━━━━━━━━\u001b[0m\u001b[37m\u001b[0m \u001b[1m1s\u001b[0m 26ms/step - loss: 0.0189 - mae: 0.0939 - mse: 0.0189 - val_loss: 0.0171 - val_mae: 0.0843 - val_mse: 0.0171\n",
      "Epoch 7/100\n",
      "\u001b[1m29/29\u001b[0m \u001b[32m━━━━━━━━━━━━━━━━━━━━\u001b[0m\u001b[37m\u001b[0m \u001b[1m1s\u001b[0m 22ms/step - loss: 0.0178 - mae: 0.0922 - mse: 0.0178 - val_loss: 0.0177 - val_mae: 0.0845 - val_mse: 0.0177\n",
      "Epoch 8/100\n",
      "\u001b[1m29/29\u001b[0m \u001b[32m━━━━━━━━━━━━━━━━━━━━\u001b[0m\u001b[37m\u001b[0m \u001b[1m1s\u001b[0m 19ms/step - loss: 0.0171 - mae: 0.0886 - mse: 0.0171 - val_loss: 0.0179 - val_mae: 0.0849 - val_mse: 0.0179\n",
      "Epoch 9/100\n",
      "\u001b[1m29/29\u001b[0m \u001b[32m━━━━━━━━━━━━━━━━━━━━\u001b[0m\u001b[37m\u001b[0m \u001b[1m1s\u001b[0m 22ms/step - loss: 0.0194 - mae: 0.0949 - mse: 0.0194 - val_loss: 0.0162 - val_mae: 0.0810 - val_mse: 0.0162\n",
      "Epoch 10/100\n",
      "\u001b[1m29/29\u001b[0m \u001b[32m━━━━━━━━━━━━━━━━━━━━\u001b[0m\u001b[37m\u001b[0m \u001b[1m1s\u001b[0m 21ms/step - loss: 0.0176 - mae: 0.0904 - mse: 0.0176 - val_loss: 0.0165 - val_mae: 0.0793 - val_mse: 0.0165\n",
      "Epoch 11/100\n",
      "\u001b[1m29/29\u001b[0m \u001b[32m━━━━━━━━━━━━━━━━━━━━\u001b[0m\u001b[37m\u001b[0m \u001b[1m1s\u001b[0m 22ms/step - loss: 0.0159 - mae: 0.0863 - mse: 0.0159 - val_loss: 0.0167 - val_mae: 0.0827 - val_mse: 0.0167\n",
      "Epoch 12/100\n",
      "\u001b[1m29/29\u001b[0m \u001b[32m━━━━━━━━━━━━━━━━━━━━\u001b[0m\u001b[37m\u001b[0m \u001b[1m1s\u001b[0m 19ms/step - loss: 0.0160 - mae: 0.0853 - mse: 0.0160 - val_loss: 0.0162 - val_mae: 0.0847 - val_mse: 0.0162\n",
      "Epoch 13/100\n",
      "\u001b[1m29/29\u001b[0m \u001b[32m━━━━━━━━━━━━━━━━━━━━\u001b[0m\u001b[37m\u001b[0m \u001b[1m1s\u001b[0m 22ms/step - loss: 0.0160 - mae: 0.0862 - mse: 0.0160 - val_loss: 0.0153 - val_mae: 0.0767 - val_mse: 0.0153\n",
      "Epoch 14/100\n",
      "\u001b[1m29/29\u001b[0m \u001b[32m━━━━━━━━━━━━━━━━━━━━\u001b[0m\u001b[37m\u001b[0m \u001b[1m2s\u001b[0m 31ms/step - loss: 0.0161 - mae: 0.0865 - mse: 0.0161 - val_loss: 0.0159 - val_mae: 0.0827 - val_mse: 0.0159\n",
      "Epoch 15/100\n",
      "\u001b[1m29/29\u001b[0m \u001b[32m━━━━━━━━━━━━━━━━━━━━\u001b[0m\u001b[37m\u001b[0m \u001b[1m1s\u001b[0m 32ms/step - loss: 0.0143 - mae: 0.0813 - mse: 0.0143 - val_loss: 0.0149 - val_mae: 0.0792 - val_mse: 0.0149\n",
      "Epoch 16/100\n",
      "\u001b[1m29/29\u001b[0m \u001b[32m━━━━━━━━━━━━━━━━━━━━\u001b[0m\u001b[37m\u001b[0m \u001b[1m1s\u001b[0m 31ms/step - loss: 0.0155 - mae: 0.0843 - mse: 0.0155 - val_loss: 0.0148 - val_mae: 0.0772 - val_mse: 0.0148\n",
      "Epoch 17/100\n",
      "\u001b[1m29/29\u001b[0m \u001b[32m━━━━━━━━━━━━━━━━━━━━\u001b[0m\u001b[37m\u001b[0m \u001b[1m1s\u001b[0m 46ms/step - loss: 0.0143 - mae: 0.0820 - mse: 0.0143 - val_loss: 0.0145 - val_mae: 0.0805 - val_mse: 0.0145\n",
      "Epoch 18/100\n",
      "\u001b[1m29/29\u001b[0m \u001b[32m━━━━━━━━━━━━━━━━━━━━\u001b[0m\u001b[37m\u001b[0m \u001b[1m1s\u001b[0m 39ms/step - loss: 0.0147 - mae: 0.0823 - mse: 0.0147 - val_loss: 0.0145 - val_mae: 0.0801 - val_mse: 0.0145\n",
      "Epoch 19/100\n",
      "\u001b[1m29/29\u001b[0m \u001b[32m━━━━━━━━━━━━━━━━━━━━\u001b[0m\u001b[37m\u001b[0m \u001b[1m1s\u001b[0m 30ms/step - loss: 0.0139 - mae: 0.0808 - mse: 0.0139 - val_loss: 0.0137 - val_mae: 0.0776 - val_mse: 0.0137\n",
      "Epoch 20/100\n",
      "\u001b[1m29/29\u001b[0m \u001b[32m━━━━━━━━━━━━━━━━━━━━\u001b[0m\u001b[37m\u001b[0m \u001b[1m1s\u001b[0m 26ms/step - loss: 0.0141 - mae: 0.0828 - mse: 0.0141 - val_loss: 0.0141 - val_mae: 0.0799 - val_mse: 0.0141\n",
      "Epoch 21/100\n",
      "\u001b[1m29/29\u001b[0m \u001b[32m━━━━━━━━━━━━━━━━━━━━\u001b[0m\u001b[37m\u001b[0m \u001b[1m1s\u001b[0m 32ms/step - loss: 0.0138 - mae: 0.0815 - mse: 0.0138 - val_loss: 0.0136 - val_mae: 0.0756 - val_mse: 0.0136\n",
      "Epoch 22/100\n",
      "\u001b[1m29/29\u001b[0m \u001b[32m━━━━━━━━━━━━━━━━━━━━\u001b[0m\u001b[37m\u001b[0m \u001b[1m1s\u001b[0m 29ms/step - loss: 0.0140 - mae: 0.0814 - mse: 0.0140 - val_loss: 0.0139 - val_mae: 0.0730 - val_mse: 0.0139\n",
      "Epoch 23/100\n",
      "\u001b[1m29/29\u001b[0m \u001b[32m━━━━━━━━━━━━━━━━━━━━\u001b[0m\u001b[37m\u001b[0m \u001b[1m1s\u001b[0m 27ms/step - loss: 0.0136 - mae: 0.0799 - mse: 0.0136 - val_loss: 0.0143 - val_mae: 0.0813 - val_mse: 0.0143\n",
      "Epoch 24/100\n",
      "\u001b[1m29/29\u001b[0m \u001b[32m━━━━━━━━━━━━━━━━━━━━\u001b[0m\u001b[37m\u001b[0m \u001b[1m1s\u001b[0m 24ms/step - loss: 0.0120 - mae: 0.0773 - mse: 0.0120 - val_loss: 0.0130 - val_mae: 0.0742 - val_mse: 0.0130\n",
      "Epoch 25/100\n",
      "\u001b[1m29/29\u001b[0m \u001b[32m━━━━━━━━━━━━━━━━━━━━\u001b[0m\u001b[37m\u001b[0m \u001b[1m1s\u001b[0m 21ms/step - loss: 0.0124 - mae: 0.0769 - mse: 0.0124 - val_loss: 0.0124 - val_mae: 0.0715 - val_mse: 0.0124\n",
      "Epoch 26/100\n",
      "\u001b[1m29/29\u001b[0m \u001b[32m━━━━━━━━━━━━━━━━━━━━\u001b[0m\u001b[37m\u001b[0m \u001b[1m1s\u001b[0m 28ms/step - loss: 0.0124 - mae: 0.0769 - mse: 0.0124 - val_loss: 0.0120 - val_mae: 0.0713 - val_mse: 0.0120\n",
      "Epoch 27/100\n",
      "\u001b[1m29/29\u001b[0m \u001b[32m━━━━━━━━━━━━━━━━━━━━\u001b[0m\u001b[37m\u001b[0m \u001b[1m1s\u001b[0m 19ms/step - loss: 0.0126 - mae: 0.0755 - mse: 0.0126 - val_loss: 0.0125 - val_mae: 0.0729 - val_mse: 0.0125\n",
      "Epoch 28/100\n",
      "\u001b[1m29/29\u001b[0m \u001b[32m━━━━━━━━━━━━━━━━━━━━\u001b[0m\u001b[37m\u001b[0m \u001b[1m1s\u001b[0m 19ms/step - loss: 0.0135 - mae: 0.0791 - mse: 0.0135 - val_loss: 0.0126 - val_mae: 0.0758 - val_mse: 0.0126\n",
      "Epoch 29/100\n",
      "\u001b[1m29/29\u001b[0m \u001b[32m━━━━━━━━━━━━━━━━━━━━\u001b[0m\u001b[37m\u001b[0m \u001b[1m1s\u001b[0m 19ms/step - loss: 0.0128 - mae: 0.0770 - mse: 0.0128 - val_loss: 0.0113 - val_mae: 0.0686 - val_mse: 0.0113\n",
      "Epoch 30/100\n",
      "\u001b[1m29/29\u001b[0m \u001b[32m━━━━━━━━━━━━━━━━━━━━\u001b[0m\u001b[37m\u001b[0m \u001b[1m1s\u001b[0m 19ms/step - loss: 0.0112 - mae: 0.0741 - mse: 0.0112 - val_loss: 0.0113 - val_mae: 0.0669 - val_mse: 0.0113\n",
      "Epoch 31/100\n",
      "\u001b[1m29/29\u001b[0m \u001b[32m━━━━━━━━━━━━━━━━━━━━\u001b[0m\u001b[37m\u001b[0m \u001b[1m1s\u001b[0m 19ms/step - loss: 0.0123 - mae: 0.0765 - mse: 0.0123 - val_loss: 0.0112 - val_mae: 0.0676 - val_mse: 0.0112\n",
      "Epoch 32/100\n",
      "\u001b[1m29/29\u001b[0m \u001b[32m━━━━━━━━━━━━━━━━━━━━\u001b[0m\u001b[37m\u001b[0m \u001b[1m1s\u001b[0m 19ms/step - loss: 0.0122 - mae: 0.0752 - mse: 0.0122 - val_loss: 0.0105 - val_mae: 0.0659 - val_mse: 0.0105\n",
      "Epoch 33/100\n",
      "\u001b[1m29/29\u001b[0m \u001b[32m━━━━━━━━━━━━━━━━━━━━\u001b[0m\u001b[37m\u001b[0m \u001b[1m1s\u001b[0m 26ms/step - loss: 0.0121 - mae: 0.0754 - mse: 0.0121 - val_loss: 0.0135 - val_mae: 0.0734 - val_mse: 0.0135\n",
      "Epoch 34/100\n",
      "\u001b[1m29/29\u001b[0m \u001b[32m━━━━━━━━━━━━━━━━━━━━\u001b[0m\u001b[37m\u001b[0m \u001b[1m1s\u001b[0m 18ms/step - loss: 0.0114 - mae: 0.0730 - mse: 0.0114 - val_loss: 0.0106 - val_mae: 0.0657 - val_mse: 0.0106\n",
      "Epoch 35/100\n",
      "\u001b[1m29/29\u001b[0m \u001b[32m━━━━━━━━━━━━━━━━━━━━\u001b[0m\u001b[37m\u001b[0m \u001b[1m1s\u001b[0m 23ms/step - loss: 0.0108 - mae: 0.0724 - mse: 0.0108 - val_loss: 0.0124 - val_mae: 0.0740 - val_mse: 0.0124\n",
      "Epoch 36/100\n",
      "\u001b[1m29/29\u001b[0m \u001b[32m━━━━━━━━━━━━━━━━━━━━\u001b[0m\u001b[37m\u001b[0m \u001b[1m1s\u001b[0m 18ms/step - loss: 0.0106 - mae: 0.0706 - mse: 0.0106 - val_loss: 0.0106 - val_mae: 0.0665 - val_mse: 0.0106\n",
      "Epoch 37/100\n",
      "\u001b[1m29/29\u001b[0m \u001b[32m━━━━━━━━━━━━━━━━━━━━\u001b[0m\u001b[37m\u001b[0m \u001b[1m1s\u001b[0m 18ms/step - loss: 0.0112 - mae: 0.0730 - mse: 0.0112 - val_loss: 0.0102 - val_mae: 0.0652 - val_mse: 0.0102\n",
      "Epoch 38/100\n",
      "\u001b[1m29/29\u001b[0m \u001b[32m━━━━━━━━━━━━━━━━━━━━\u001b[0m\u001b[37m\u001b[0m \u001b[1m1s\u001b[0m 16ms/step - loss: 0.0105 - mae: 0.0714 - mse: 0.0105 - val_loss: 0.0101 - val_mae: 0.0651 - val_mse: 0.0101\n",
      "Epoch 39/100\n",
      "\u001b[1m29/29\u001b[0m \u001b[32m━━━━━━━━━━━━━━━━━━━━\u001b[0m\u001b[37m\u001b[0m \u001b[1m1s\u001b[0m 19ms/step - loss: 0.0111 - mae: 0.0727 - mse: 0.0111 - val_loss: 0.0125 - val_mae: 0.0749 - val_mse: 0.0125\n",
      "Epoch 40/100\n",
      "\u001b[1m29/29\u001b[0m \u001b[32m━━━━━━━━━━━━━━━━━━━━\u001b[0m\u001b[37m\u001b[0m \u001b[1m1s\u001b[0m 19ms/step - loss: 0.0118 - mae: 0.0760 - mse: 0.0118 - val_loss: 0.0094 - val_mae: 0.0604 - val_mse: 0.0094\n",
      "Epoch 41/100\n",
      "\u001b[1m29/29\u001b[0m \u001b[32m━━━━━━━━━━━━━━━━━━━━\u001b[0m\u001b[37m\u001b[0m \u001b[1m1s\u001b[0m 20ms/step - loss: 0.0111 - mae: 0.0722 - mse: 0.0111 - val_loss: 0.0113 - val_mae: 0.0664 - val_mse: 0.0113\n",
      "Epoch 42/100\n",
      "\u001b[1m29/29\u001b[0m \u001b[32m━━━━━━━━━━━━━━━━━━━━\u001b[0m\u001b[37m\u001b[0m \u001b[1m1s\u001b[0m 27ms/step - loss: 0.0122 - mae: 0.0757 - mse: 0.0122 - val_loss: 0.0095 - val_mae: 0.0632 - val_mse: 0.0095\n",
      "Epoch 43/100\n",
      "\u001b[1m29/29\u001b[0m \u001b[32m━━━━━━━━━━━━━━━━━━━━\u001b[0m\u001b[37m\u001b[0m \u001b[1m1s\u001b[0m 19ms/step - loss: 0.0101 - mae: 0.0697 - mse: 0.0101 - val_loss: 0.0114 - val_mae: 0.0675 - val_mse: 0.0114\n",
      "Epoch 44/100\n",
      "\u001b[1m29/29\u001b[0m \u001b[32m━━━━━━━━━━━━━━━━━━━━\u001b[0m\u001b[37m\u001b[0m \u001b[1m1s\u001b[0m 19ms/step - loss: 0.0110 - mae: 0.0717 - mse: 0.0110 - val_loss: 0.0102 - val_mae: 0.0669 - val_mse: 0.0102\n",
      "Epoch 45/100\n",
      "\u001b[1m29/29\u001b[0m \u001b[32m━━━━━━━━━━━━━━━━━━━━\u001b[0m\u001b[37m\u001b[0m \u001b[1m1s\u001b[0m 18ms/step - loss: 0.0112 - mae: 0.0738 - mse: 0.0112 - val_loss: 0.0096 - val_mae: 0.0611 - val_mse: 0.0096\n",
      "Epoch 46/100\n",
      "\u001b[1m29/29\u001b[0m \u001b[32m━━━━━━━━━━━━━━━━━━━━\u001b[0m\u001b[37m\u001b[0m \u001b[1m1s\u001b[0m 18ms/step - loss: 0.0109 - mae: 0.0702 - mse: 0.0109 - val_loss: 0.0103 - val_mae: 0.0627 - val_mse: 0.0103\n",
      "Epoch 47/100\n",
      "\u001b[1m29/29\u001b[0m \u001b[32m━━━━━━━━━━━━━━━━━━━━\u001b[0m\u001b[37m\u001b[0m \u001b[1m1s\u001b[0m 18ms/step - loss: 0.0119 - mae: 0.0747 - mse: 0.0119 - val_loss: 0.0091 - val_mae: 0.0594 - val_mse: 0.0091\n",
      "Epoch 48/100\n",
      "\u001b[1m29/29\u001b[0m \u001b[32m━━━━━━━━━━━━━━━━━━━━\u001b[0m\u001b[37m\u001b[0m \u001b[1m1s\u001b[0m 18ms/step - loss: 0.0098 - mae: 0.0666 - mse: 0.0098 - val_loss: 0.0094 - val_mae: 0.0604 - val_mse: 0.0094\n",
      "Epoch 49/100\n",
      "\u001b[1m29/29\u001b[0m \u001b[32m━━━━━━━━━━━━━━━━━━━━\u001b[0m\u001b[37m\u001b[0m \u001b[1m1s\u001b[0m 30ms/step - loss: 0.0096 - mae: 0.0680 - mse: 0.0096 - val_loss: 0.0100 - val_mae: 0.0665 - val_mse: 0.0100\n",
      "Epoch 50/100\n",
      "\u001b[1m29/29\u001b[0m \u001b[32m━━━━━━━━━━━━━━━━━━━━\u001b[0m\u001b[37m\u001b[0m \u001b[1m1s\u001b[0m 19ms/step - loss: 0.0093 - mae: 0.0670 - mse: 0.0093 - val_loss: 0.0110 - val_mae: 0.0685 - val_mse: 0.0110\n",
      "Epoch 51/100\n",
      "\u001b[1m29/29\u001b[0m \u001b[32m━━━━━━━━━━━━━━━━━━━━\u001b[0m\u001b[37m\u001b[0m \u001b[1m1s\u001b[0m 17ms/step - loss: 0.0109 - mae: 0.0735 - mse: 0.0109 - val_loss: 0.0099 - val_mae: 0.0610 - val_mse: 0.0099\n",
      "Epoch 52/100\n",
      "\u001b[1m29/29\u001b[0m \u001b[32m━━━━━━━━━━━━━━━━━━━━\u001b[0m\u001b[37m\u001b[0m \u001b[1m1s\u001b[0m 18ms/step - loss: 0.0103 - mae: 0.0691 - mse: 0.0103 - val_loss: 0.0097 - val_mae: 0.0619 - val_mse: 0.0097\n",
      "Epoch 53/100\n",
      "\u001b[1m29/29\u001b[0m \u001b[32m━━━━━━━━━━━━━━━━━━━━\u001b[0m\u001b[37m\u001b[0m \u001b[1m1s\u001b[0m 19ms/step - loss: 0.0096 - mae: 0.0665 - mse: 0.0096 - val_loss: 0.0089 - val_mae: 0.0594 - val_mse: 0.0089\n",
      "Epoch 54/100\n",
      "\u001b[1m29/29\u001b[0m \u001b[32m━━━━━━━━━━━━━━━━━━━━\u001b[0m\u001b[37m\u001b[0m \u001b[1m1s\u001b[0m 18ms/step - loss: 0.0098 - mae: 0.0680 - mse: 0.0098 - val_loss: 0.0090 - val_mae: 0.0606 - val_mse: 0.0090\n",
      "Epoch 55/100\n",
      "\u001b[1m29/29\u001b[0m \u001b[32m━━━━━━━━━━━━━━━━━━━━\u001b[0m\u001b[37m\u001b[0m \u001b[1m1s\u001b[0m 19ms/step - loss: 0.0095 - mae: 0.0674 - mse: 0.0095 - val_loss: 0.0088 - val_mae: 0.0591 - val_mse: 0.0088\n",
      "Epoch 56/100\n",
      "\u001b[1m29/29\u001b[0m \u001b[32m━━━━━━━━━━━━━━━━━━━━\u001b[0m\u001b[37m\u001b[0m \u001b[1m1s\u001b[0m 18ms/step - loss: 0.0101 - mae: 0.0680 - mse: 0.0101 - val_loss: 0.0106 - val_mae: 0.0684 - val_mse: 0.0106\n",
      "Epoch 57/100\n",
      "\u001b[1m29/29\u001b[0m \u001b[32m━━━━━━━━━━━━━━━━━━━━\u001b[0m\u001b[37m\u001b[0m \u001b[1m1s\u001b[0m 18ms/step - loss: 0.0098 - mae: 0.0679 - mse: 0.0098 - val_loss: 0.0088 - val_mae: 0.0593 - val_mse: 0.0088\n",
      "Epoch 58/100\n",
      "\u001b[1m29/29\u001b[0m \u001b[32m━━━━━━━━━━━━━━━━━━━━\u001b[0m\u001b[37m\u001b[0m \u001b[1m1s\u001b[0m 19ms/step - loss: 0.0094 - mae: 0.0666 - mse: 0.0094 - val_loss: 0.0098 - val_mae: 0.0631 - val_mse: 0.0098\n",
      "Epoch 59/100\n",
      "\u001b[1m29/29\u001b[0m \u001b[32m━━━━━━━━━━━━━━━━━━━━\u001b[0m\u001b[37m\u001b[0m \u001b[1m1s\u001b[0m 17ms/step - loss: 0.0089 - mae: 0.0654 - mse: 0.0089 - val_loss: 0.0085 - val_mae: 0.0573 - val_mse: 0.0085\n",
      "Epoch 60/100\n",
      "\u001b[1m29/29\u001b[0m \u001b[32m━━━━━━━━━━━━━━━━━━━━\u001b[0m\u001b[37m\u001b[0m \u001b[1m1s\u001b[0m 25ms/step - loss: 0.0094 - mae: 0.0651 - mse: 0.0094 - val_loss: 0.0086 - val_mae: 0.0590 - val_mse: 0.0086\n",
      "Epoch 61/100\n",
      "\u001b[1m29/29\u001b[0m \u001b[32m━━━━━━━━━━━━━━━━━━━━\u001b[0m\u001b[37m\u001b[0m \u001b[1m1s\u001b[0m 18ms/step - loss: 0.0092 - mae: 0.0656 - mse: 0.0092 - val_loss: 0.0091 - val_mae: 0.0638 - val_mse: 0.0091\n",
      "Epoch 62/100\n",
      "\u001b[1m29/29\u001b[0m \u001b[32m━━━━━━━━━━━━━━━━━━━━\u001b[0m\u001b[37m\u001b[0m \u001b[1m1s\u001b[0m 26ms/step - loss: 0.0089 - mae: 0.0652 - mse: 0.0089 - val_loss: 0.0092 - val_mae: 0.0619 - val_mse: 0.0092\n",
      "Epoch 63/100\n",
      "\u001b[1m29/29\u001b[0m \u001b[32m━━━━━━━━━━━━━━━━━━━━\u001b[0m\u001b[37m\u001b[0m \u001b[1m1s\u001b[0m 18ms/step - loss: 0.0092 - mae: 0.0668 - mse: 0.0092 - val_loss: 0.0096 - val_mae: 0.0612 - val_mse: 0.0096\n",
      "Epoch 64/100\n",
      "\u001b[1m29/29\u001b[0m \u001b[32m━━━━━━━━━━━━━━━━━━━━\u001b[0m\u001b[37m\u001b[0m \u001b[1m1s\u001b[0m 18ms/step - loss: 0.0089 - mae: 0.0656 - mse: 0.0089 - val_loss: 0.0086 - val_mae: 0.0609 - val_mse: 0.0086\n",
      "Epoch 65/100\n",
      "\u001b[1m29/29\u001b[0m \u001b[32m━━━━━━━━━━━━━━━━━━━━\u001b[0m\u001b[37m\u001b[0m \u001b[1m1s\u001b[0m 19ms/step - loss: 0.0089 - mae: 0.0647 - mse: 0.0089 - val_loss: 0.0088 - val_mae: 0.0603 - val_mse: 0.0088\n",
      "Epoch 66/100\n",
      "\u001b[1m29/29\u001b[0m \u001b[32m━━━━━━━━━━━━━━━━━━━━\u001b[0m\u001b[37m\u001b[0m \u001b[1m1s\u001b[0m 18ms/step - loss: 0.0093 - mae: 0.0662 - mse: 0.0093 - val_loss: 0.0089 - val_mae: 0.0609 - val_mse: 0.0089\n",
      "Epoch 67/100\n",
      "\u001b[1m29/29\u001b[0m \u001b[32m━━━━━━━━━━━━━━━━━━━━\u001b[0m\u001b[37m\u001b[0m \u001b[1m1s\u001b[0m 18ms/step - loss: 0.0096 - mae: 0.0661 - mse: 0.0096 - val_loss: 0.0090 - val_mae: 0.0617 - val_mse: 0.0090\n",
      "Epoch 68/100\n",
      "\u001b[1m29/29\u001b[0m \u001b[32m━━━━━━━━━━━━━━━━━━━━\u001b[0m\u001b[37m\u001b[0m \u001b[1m1s\u001b[0m 19ms/step - loss: 0.0081 - mae: 0.0622 - mse: 0.0081 - val_loss: 0.0088 - val_mae: 0.0594 - val_mse: 0.0088\n",
      "Epoch 69/100\n",
      "\u001b[1m29/29\u001b[0m \u001b[32m━━━━━━━━━━━━━━━━━━━━\u001b[0m\u001b[37m\u001b[0m \u001b[1m1s\u001b[0m 18ms/step - loss: 0.0090 - mae: 0.0642 - mse: 0.0090 - val_loss: 0.0088 - val_mae: 0.0606 - val_mse: 0.0088\n"
     ]
    },
    {
     "data": {
      "image/png": "[encoded data removed]",
      "text/plain": [
       "<Figure size 1200x600 with 1 Axes>"
      ]
     },
     "metadata": {},
     "output_type": "display_data"
    },
    {
     "name": "stdout",
     "output_type": "stream",
     "text": [
      "\u001b[1m4/4\u001b[0m \u001b[32m━━━━━━━━━━━━━━━━━━━━\u001b[0m\u001b[37m\u001b[0m \u001b[1m0s\u001b[0m 17ms/step - loss: 0.0112 - mae: 0.0680 - mse: 0.0112\n",
      "Validation Loss : 0.008496505208313465\n",
      "Validation MAE: 0.057311996817588806\n",
      "Validation MSE: 0.008496505208313465\n",
      "Validation RMSE: 0.09217648945535659\n",
      "\u001b[1m8/8\u001b[0m \u001b[32m━━━━━━━━━━━━━━━━━━━━\u001b[0m\u001b[37m\u001b[0m \u001b[1m1s\u001b[0m 51ms/step\n",
      "Test MAE: 251.65774017757556\n",
      "Test MSE: 135259.92063924565\n",
      "Test RMSE: 367.77699851845773\n",
      "Test R²: 0.7364293623506851\n",
      "Test CVRMSE: 0.5899448077884558\n"
     ]
    }
   ],
   "source": [
    "model2, history2, loss2, mae2, mse2, rmse2, mae_test2, mse_test2, rmse_test2, r2, cvrmse, predictions2 = model_cnn_lstm(\n",
    "    X_train, \n",
    "    y_train, \n",
    "    X_test, \n",
    "    y_test, \n",
    "    scaler_X, \n",
    "    scaler_y\n",
    ")\n",
    "  "
   ]
  },
  {
   "cell_type": "code",
   "execution_count": null,
   "id": "767aa550",
   "metadata": {},
   "outputs": [],
   "source": []
  }
 ],
 "metadata": {
  "kernelspec": {
   "display_name": "notebook",
   "language": "python",
   "name": "python3"
  },
  "language_info": {
   "codemirror_mode": {
    "name": "ipython",
    "version": 3
   },
   "file_extension": ".py",
   "mimetype": "text/x-python",
   "name": "python",
   "nbconvert_exporter": "python",
   "pygments_lexer": "ipython3",
   "version": "3.12.9"
  }
 },
 "nbformat": 4,
 "nbformat_minor": 5
}
