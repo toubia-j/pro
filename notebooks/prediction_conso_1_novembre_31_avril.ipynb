{
 "cells": [
  {
   "cell_type": "code",
   "execution_count": 2,
   "id": "ab5851d8",
   "metadata": {},
   "outputs": [],
   "source": [
    "import sys\n",
    "import os\n",
    "import importlib\n",
    "\n",
    "# Ajout du chemin une fois\n",
    "sys.path.append(os.path.abspath('../python_files'))\n",
    "\n",
    "# Liste des noms des modules à importer et recharger\n",
    "module_names = [\n",
    "    'preprocessing',\n",
    "    'imports',\n",
    "    'files',\n",
    "    'clustering',\n",
    "    'profile_prediction',\n",
    "    'prediction_24h'\n",
    "]\n",
    "\n",
    "# Import et reload automatique\n",
    "modules = {}\n",
    "for name in module_names:\n",
    "    modules[name] = importlib.import_module(name)\n",
    "    importlib.reload(modules[name])\n",
    "\n",
    "# Importer tout en global namespace (équivalent à from ... import *)\n",
    "for name in module_names:\n",
    "    exec(f'from {name} import *')\n"
   ]
  },
  {
   "cell_type": "code",
   "execution_count": 3,
   "id": "7f230a24",
   "metadata": {},
   "outputs": [],
   "source": [
    "consommation_chauffage = extract_and_concat_consommation(Simulation_Dataset, column_index=4, prefix=\"consommation_heat_\")\n"
   ]
  },
  {
   "cell_type": "code",
   "execution_count": 4,
   "id": "e470e7a4",
   "metadata": {},
   "outputs": [],
   "source": [
    "\n",
    "# Exemple d'utilisation\n",
    "city_groups = {\n",
    "    \"Weather_Dataset\": Weather_Dataset\n",
    "   \n",
    "    \n",
    "}\n",
    "\n",
    "prefix_column_map = {\n",
    "    \"Text_\": 1,\n",
    "    \"Hum_\": 3,\n",
    "    \"Wind_\": 4,\n",
    "    \"Solar_\": 5,\n",
    "    \"Ground_\": 10\n",
    "}\n",
    "\n",
    "combined_data = extract_and_combine_all(city_groups, prefix_column_map)\n",
    "\n",
    "city_groups = {\n",
    "    \"Simulation_Dataset\":Simulation_Dataset  \n",
    "}\n",
    "\n",
    "prefix_column_map = {\n",
    "    \"Tint_\": 2,   \n",
    "}\n",
    "\n",
    "combined_Tint = extract_and_combine_all(city_groups, prefix_column_map)\n"
   ]
  },
  {
   "cell_type": "code",
   "execution_count": 5,
   "id": "bbeda070",
   "metadata": {},
   "outputs": [],
   "source": [
    "Text_combined = combined_data.get('Text_combined_Weather_Dataset')\n",
    "Hum_combined = combined_data.get('Hum_combined_Weather_Dataset')\n",
    "Wind_combined = combined_data.get('Wind_combined_Weather_Dataset')\n",
    "Tint_combined = combined_Tint.get('Tint_combined_Simulation_Dataset')\n"
   ]
  },
  {
   "cell_type": "code",
   "execution_count": 6,
   "id": "e18a7374",
   "metadata": {},
   "outputs": [],
   "source": [
    "start_date = \"2018-01-01\"\n",
    "dates = pd.date_range(start=start_date, periods=len(consommation_chauffage), freq=\"D\") \n",
    "consommation_chauffage.insert(0, \"Date\", dates)\n",
    "Text_combined.insert(0, \"Date\", dates)\n",
    "Hum_combined.insert(0, \"Date\", dates)"
   ]
  },
  {
   "cell_type": "code",
   "execution_count": 7,
   "id": "dd7aadcc",
   "metadata": {},
   "outputs": [],
   "source": [
    "def add_heating_season(df, date_column='Date'):\n",
    "    \"\"\"\n",
    "    Ajoute une colonne 'heat_on' qui vaut 1 si la date est entre le 1er novembre et le 30 avril, sinon 0.\n",
    "\n",
    "    \"\"\" \n",
    "    # Extraire le mois et le jour\n",
    "    month_day = df[date_column].dt.month * 100 + df[date_column].dt.day\n",
    "    \n",
    "    # Appliquer la condition: 1 si entre 1101 (1er nov) et 0430 (30 avril), sinon 0\n",
    "    df['heat_on'] = ((month_day >= 1101) | (month_day <= 430)).astype(int)\n",
    "    \n",
    "    return df\n",
    "\n"
   ]
  },
  {
   "cell_type": "code",
   "execution_count": 8,
   "id": "15ee7d7e",
   "metadata": {},
   "outputs": [
    {
     "data": {
      "text/html": [
       "<div>\n",
       "<style scoped>\n",
       "    .dataframe tbody tr th:only-of-type {\n",
       "        vertical-align: middle;\n",
       "    }\n",
       "\n",
       "    .dataframe tbody tr th {\n",
       "        vertical-align: top;\n",
       "    }\n",
       "\n",
       "    .dataframe thead th {\n",
       "        text-align: right;\n",
       "    }\n",
       "</style>\n",
       "<table border=\"1\" class=\"dataframe\">\n",
       "  <thead>\n",
       "    <tr style=\"text-align: right;\">\n",
       "      <th></th>\n",
       "      <th>Date</th>\n",
       "      <th>0</th>\n",
       "      <th>1</th>\n",
       "      <th>2</th>\n",
       "      <th>3</th>\n",
       "      <th>4</th>\n",
       "      <th>5</th>\n",
       "      <th>6</th>\n",
       "      <th>7</th>\n",
       "      <th>8</th>\n",
       "      <th>...</th>\n",
       "      <th>15</th>\n",
       "      <th>16</th>\n",
       "      <th>17</th>\n",
       "      <th>18</th>\n",
       "      <th>19</th>\n",
       "      <th>20</th>\n",
       "      <th>21</th>\n",
       "      <th>22</th>\n",
       "      <th>23</th>\n",
       "      <th>heat_on</th>\n",
       "    </tr>\n",
       "  </thead>\n",
       "  <tbody>\n",
       "    <tr>\n",
       "      <th>0</th>\n",
       "      <td>2018-01-01</td>\n",
       "      <td>82.0</td>\n",
       "      <td>81.0</td>\n",
       "      <td>80.5</td>\n",
       "      <td>83.0</td>\n",
       "      <td>84.5</td>\n",
       "      <td>84.0</td>\n",
       "      <td>85.0</td>\n",
       "      <td>85.0</td>\n",
       "      <td>81.0</td>\n",
       "      <td>...</td>\n",
       "      <td>58.0</td>\n",
       "      <td>72.0</td>\n",
       "      <td>79.0</td>\n",
       "      <td>83.5</td>\n",
       "      <td>83.0</td>\n",
       "      <td>84.0</td>\n",
       "      <td>86.0</td>\n",
       "      <td>86.5</td>\n",
       "      <td>86.5</td>\n",
       "      <td>1</td>\n",
       "    </tr>\n",
       "    <tr>\n",
       "      <th>1</th>\n",
       "      <td>2018-01-02</td>\n",
       "      <td>87.0</td>\n",
       "      <td>88.0</td>\n",
       "      <td>88.5</td>\n",
       "      <td>89.0</td>\n",
       "      <td>89.0</td>\n",
       "      <td>89.5</td>\n",
       "      <td>89.5</td>\n",
       "      <td>89.5</td>\n",
       "      <td>90.0</td>\n",
       "      <td>...</td>\n",
       "      <td>86.0</td>\n",
       "      <td>86.5</td>\n",
       "      <td>88.0</td>\n",
       "      <td>89.5</td>\n",
       "      <td>89.5</td>\n",
       "      <td>89.5</td>\n",
       "      <td>90.5</td>\n",
       "      <td>91.0</td>\n",
       "      <td>91.0</td>\n",
       "      <td>1</td>\n",
       "    </tr>\n",
       "    <tr>\n",
       "      <th>2</th>\n",
       "      <td>2018-01-03</td>\n",
       "      <td>91.0</td>\n",
       "      <td>90.0</td>\n",
       "      <td>88.0</td>\n",
       "      <td>84.5</td>\n",
       "      <td>80.5</td>\n",
       "      <td>78.0</td>\n",
       "      <td>76.0</td>\n",
       "      <td>76.0</td>\n",
       "      <td>78.0</td>\n",
       "      <td>...</td>\n",
       "      <td>69.5</td>\n",
       "      <td>69.0</td>\n",
       "      <td>71.0</td>\n",
       "      <td>73.5</td>\n",
       "      <td>75.0</td>\n",
       "      <td>75.5</td>\n",
       "      <td>75.5</td>\n",
       "      <td>80.0</td>\n",
       "      <td>85.0</td>\n",
       "      <td>1</td>\n",
       "    </tr>\n",
       "    <tr>\n",
       "      <th>3</th>\n",
       "      <td>2018-01-04</td>\n",
       "      <td>85.0</td>\n",
       "      <td>84.5</td>\n",
       "      <td>84.5</td>\n",
       "      <td>85.0</td>\n",
       "      <td>84.5</td>\n",
       "      <td>83.5</td>\n",
       "      <td>82.5</td>\n",
       "      <td>81.5</td>\n",
       "      <td>80.5</td>\n",
       "      <td>...</td>\n",
       "      <td>61.0</td>\n",
       "      <td>60.5</td>\n",
       "      <td>63.0</td>\n",
       "      <td>69.5</td>\n",
       "      <td>74.5</td>\n",
       "      <td>74.5</td>\n",
       "      <td>70.5</td>\n",
       "      <td>73.0</td>\n",
       "      <td>77.5</td>\n",
       "      <td>1</td>\n",
       "    </tr>\n",
       "    <tr>\n",
       "      <th>4</th>\n",
       "      <td>2018-01-05</td>\n",
       "      <td>76.5</td>\n",
       "      <td>76.0</td>\n",
       "      <td>77.0</td>\n",
       "      <td>79.5</td>\n",
       "      <td>81.5</td>\n",
       "      <td>83.0</td>\n",
       "      <td>84.5</td>\n",
       "      <td>84.5</td>\n",
       "      <td>84.5</td>\n",
       "      <td>...</td>\n",
       "      <td>55.5</td>\n",
       "      <td>60.0</td>\n",
       "      <td>68.0</td>\n",
       "      <td>75.0</td>\n",
       "      <td>79.0</td>\n",
       "      <td>82.5</td>\n",
       "      <td>86.5</td>\n",
       "      <td>91.0</td>\n",
       "      <td>94.0</td>\n",
       "      <td>1</td>\n",
       "    </tr>\n",
       "    <tr>\n",
       "      <th>...</th>\n",
       "      <td>...</td>\n",
       "      <td>...</td>\n",
       "      <td>...</td>\n",
       "      <td>...</td>\n",
       "      <td>...</td>\n",
       "      <td>...</td>\n",
       "      <td>...</td>\n",
       "      <td>...</td>\n",
       "      <td>...</td>\n",
       "      <td>...</td>\n",
       "      <td>...</td>\n",
       "      <td>...</td>\n",
       "      <td>...</td>\n",
       "      <td>...</td>\n",
       "      <td>...</td>\n",
       "      <td>...</td>\n",
       "      <td>...</td>\n",
       "      <td>...</td>\n",
       "      <td>...</td>\n",
       "      <td>...</td>\n",
       "      <td>...</td>\n",
       "    </tr>\n",
       "    <tr>\n",
       "      <th>2550</th>\n",
       "      <td>2024-12-25</td>\n",
       "      <td>98.0</td>\n",
       "      <td>98.5</td>\n",
       "      <td>99.5</td>\n",
       "      <td>100.0</td>\n",
       "      <td>100.0</td>\n",
       "      <td>100.0</td>\n",
       "      <td>99.5</td>\n",
       "      <td>99.5</td>\n",
       "      <td>100.0</td>\n",
       "      <td>...</td>\n",
       "      <td>72.5</td>\n",
       "      <td>70.5</td>\n",
       "      <td>73.0</td>\n",
       "      <td>78.0</td>\n",
       "      <td>82.5</td>\n",
       "      <td>87.5</td>\n",
       "      <td>92.0</td>\n",
       "      <td>94.5</td>\n",
       "      <td>96.5</td>\n",
       "      <td>1</td>\n",
       "    </tr>\n",
       "    <tr>\n",
       "      <th>2551</th>\n",
       "      <td>2024-12-26</td>\n",
       "      <td>98.5</td>\n",
       "      <td>99.0</td>\n",
       "      <td>99.0</td>\n",
       "      <td>99.5</td>\n",
       "      <td>100.0</td>\n",
       "      <td>100.0</td>\n",
       "      <td>99.5</td>\n",
       "      <td>99.0</td>\n",
       "      <td>99.0</td>\n",
       "      <td>...</td>\n",
       "      <td>58.0</td>\n",
       "      <td>58.5</td>\n",
       "      <td>65.0</td>\n",
       "      <td>74.5</td>\n",
       "      <td>81.0</td>\n",
       "      <td>83.0</td>\n",
       "      <td>84.5</td>\n",
       "      <td>86.0</td>\n",
       "      <td>89.0</td>\n",
       "      <td>1</td>\n",
       "    </tr>\n",
       "    <tr>\n",
       "      <th>2552</th>\n",
       "      <td>2024-12-27</td>\n",
       "      <td>90.5</td>\n",
       "      <td>90.5</td>\n",
       "      <td>91.5</td>\n",
       "      <td>92.0</td>\n",
       "      <td>92.0</td>\n",
       "      <td>92.5</td>\n",
       "      <td>93.5</td>\n",
       "      <td>94.5</td>\n",
       "      <td>94.5</td>\n",
       "      <td>...</td>\n",
       "      <td>55.5</td>\n",
       "      <td>54.0</td>\n",
       "      <td>59.0</td>\n",
       "      <td>72.5</td>\n",
       "      <td>83.0</td>\n",
       "      <td>86.5</td>\n",
       "      <td>88.5</td>\n",
       "      <td>92.0</td>\n",
       "      <td>95.0</td>\n",
       "      <td>1</td>\n",
       "    </tr>\n",
       "    <tr>\n",
       "      <th>2553</th>\n",
       "      <td>2024-12-28</td>\n",
       "      <td>97.0</td>\n",
       "      <td>98.0</td>\n",
       "      <td>98.0</td>\n",
       "      <td>98.5</td>\n",
       "      <td>99.0</td>\n",
       "      <td>99.0</td>\n",
       "      <td>99.5</td>\n",
       "      <td>100.0</td>\n",
       "      <td>100.0</td>\n",
       "      <td>...</td>\n",
       "      <td>89.5</td>\n",
       "      <td>87.0</td>\n",
       "      <td>86.5</td>\n",
       "      <td>90.0</td>\n",
       "      <td>93.0</td>\n",
       "      <td>93.5</td>\n",
       "      <td>94.5</td>\n",
       "      <td>95.5</td>\n",
       "      <td>96.5</td>\n",
       "      <td>1</td>\n",
       "    </tr>\n",
       "    <tr>\n",
       "      <th>2554</th>\n",
       "      <td>2024-12-29</td>\n",
       "      <td>97.5</td>\n",
       "      <td>98.0</td>\n",
       "      <td>98.0</td>\n",
       "      <td>98.5</td>\n",
       "      <td>99.0</td>\n",
       "      <td>99.0</td>\n",
       "      <td>99.5</td>\n",
       "      <td>99.5</td>\n",
       "      <td>99.5</td>\n",
       "      <td>...</td>\n",
       "      <td>91.5</td>\n",
       "      <td>90.0</td>\n",
       "      <td>91.5</td>\n",
       "      <td>96.5</td>\n",
       "      <td>100.0</td>\n",
       "      <td>100.0</td>\n",
       "      <td>100.0</td>\n",
       "      <td>100.0</td>\n",
       "      <td>100.0</td>\n",
       "      <td>1</td>\n",
       "    </tr>\n",
       "  </tbody>\n",
       "</table>\n",
       "<p>2555 rows × 26 columns</p>\n",
       "</div>"
      ],
      "text/plain": [
       "           Date     0     1     2      3      4      5     6      7      8  \\\n",
       "0    2018-01-01  82.0  81.0  80.5   83.0   84.5   84.0  85.0   85.0   81.0   \n",
       "1    2018-01-02  87.0  88.0  88.5   89.0   89.0   89.5  89.5   89.5   90.0   \n",
       "2    2018-01-03  91.0  90.0  88.0   84.5   80.5   78.0  76.0   76.0   78.0   \n",
       "3    2018-01-04  85.0  84.5  84.5   85.0   84.5   83.5  82.5   81.5   80.5   \n",
       "4    2018-01-05  76.5  76.0  77.0   79.5   81.5   83.0  84.5   84.5   84.5   \n",
       "...         ...   ...   ...   ...    ...    ...    ...   ...    ...    ...   \n",
       "2550 2024-12-25  98.0  98.5  99.5  100.0  100.0  100.0  99.5   99.5  100.0   \n",
       "2551 2024-12-26  98.5  99.0  99.0   99.5  100.0  100.0  99.5   99.0   99.0   \n",
       "2552 2024-12-27  90.5  90.5  91.5   92.0   92.0   92.5  93.5   94.5   94.5   \n",
       "2553 2024-12-28  97.0  98.0  98.0   98.5   99.0   99.0  99.5  100.0  100.0   \n",
       "2554 2024-12-29  97.5  98.0  98.0   98.5   99.0   99.0  99.5   99.5   99.5   \n",
       "\n",
       "      ...    15    16    17    18     19     20     21     22     23  heat_on  \n",
       "0     ...  58.0  72.0  79.0  83.5   83.0   84.0   86.0   86.5   86.5        1  \n",
       "1     ...  86.0  86.5  88.0  89.5   89.5   89.5   90.5   91.0   91.0        1  \n",
       "2     ...  69.5  69.0  71.0  73.5   75.0   75.5   75.5   80.0   85.0        1  \n",
       "3     ...  61.0  60.5  63.0  69.5   74.5   74.5   70.5   73.0   77.5        1  \n",
       "4     ...  55.5  60.0  68.0  75.0   79.0   82.5   86.5   91.0   94.0        1  \n",
       "...   ...   ...   ...   ...   ...    ...    ...    ...    ...    ...      ...  \n",
       "2550  ...  72.5  70.5  73.0  78.0   82.5   87.5   92.0   94.5   96.5        1  \n",
       "2551  ...  58.0  58.5  65.0  74.5   81.0   83.0   84.5   86.0   89.0        1  \n",
       "2552  ...  55.5  54.0  59.0  72.5   83.0   86.5   88.5   92.0   95.0        1  \n",
       "2553  ...  89.5  87.0  86.5  90.0   93.0   93.5   94.5   95.5   96.5        1  \n",
       "2554  ...  91.5  90.0  91.5  96.5  100.0  100.0  100.0  100.0  100.0        1  \n",
       "\n",
       "[2555 rows x 26 columns]"
      ]
     },
     "execution_count": 8,
     "metadata": {},
     "output_type": "execute_result"
    }
   ],
   "source": [
    "\n",
    "add_heating_season(consommation_chauffage)\n",
    "add_heating_season(Text_combined)\n",
    "add_heating_season(Hum_combined)"
   ]
  },
  {
   "cell_type": "code",
   "execution_count": 9,
   "id": "f66b2c5c",
   "metadata": {},
   "outputs": [],
   "source": [
    "df_conso = consommation_chauffage[consommation_chauffage[\"heat_on\"] == 1].copy()\n",
    "df_Text = Text_combined[Text_combined[\"heat_on\"] == 1].copy()\n",
    "df_Hum = Hum_combined[Hum_combined[\"heat_on\"] == 1].copy()\n",
    "\n"
   ]
  },
  {
   "cell_type": "code",
   "execution_count": 10,
   "id": "8024e803",
   "metadata": {},
   "outputs": [],
   "source": [
    "clustering_heat_toulouse = clustering(\n",
    "    df=df_conso.drop(columns=[\"Date\"]),  \n",
    "    n_parts=1,                          \n",
    "    status_column=\"heat_on\",           \n",
    "    n_clusters_list=[3]                \n",
    ")\n",
    "\n"
   ]
  },
  {
   "cell_type": "code",
   "execution_count": 11,
   "id": "29bc32dd",
   "metadata": {},
   "outputs": [
    {
     "data": {
      "image/png": "[encoded data removed]",
      "text/plain": [
       "<Figure size 1000x1000 with 4 Axes>"
      ]
     },
     "metadata": {},
     "output_type": "display_data"
    }
   ],
   "source": [
    "plot_clusters(clustering_heat_toulouse.drop(columns=[\"heat_on\"]))"
   ]
  },
  {
   "cell_type": "code",
   "execution_count": 13,
   "id": "3593486f",
   "metadata": {},
   "outputs": [],
   "source": [
    "Text_conso_heat_tou=pd.concat([df_Text,clustering_heat_toulouse[\"clusters_1\"]],axis=1)"
   ]
  },
  {
   "cell_type": "code",
   "execution_count": 14,
   "id": "457cfb36",
   "metadata": {},
   "outputs": [
    {
     "name": "stdout",
     "output_type": "stream",
     "text": [
      "\n",
      "Évaluation de Random Forest...\n"
     ]
    },
    {
     "data": {
      "image/png": "[encoded data removed]",
      "text/plain": [
       "<Figure size 500x400 with 2 Axes>"
      ]
     },
     "metadata": {},
     "output_type": "display_data"
    },
    {
     "name": "stdout",
     "output_type": "stream",
     "text": [
      "Random Forest - F1: 0.6080 - Accuracy: 0.6063 - Temps: 0.74s\n",
      "###################################################################\n",
      "\n",
      "Évaluation de Logistic Regression...\n"
     ]
    },
    {
     "name": "stderr",
     "output_type": "stream",
     "text": [
      "c:\\Users\\toubia\\anaconda3\\envs\\notebook\\Lib\\site-packages\\sklearn\\linear_model\\_logistic.py:465: ConvergenceWarning: lbfgs failed to converge (status=1):\n",
      "STOP: TOTAL NO. OF ITERATIONS REACHED LIMIT.\n",
      "\n",
      "Increase the number of iterations (max_iter) or scale the data as shown in:\n",
      "    https://scikit-learn.org/stable/modules/preprocessing.html\n",
      "Please also refer to the documentation for alternative solver options:\n",
      "    https://scikit-learn.org/stable/modules/linear_model.html#logistic-regression\n",
      "  n_iter_i = _check_optimize_result(\n"
     ]
    },
    {
     "data": {
      "image/png": "[encoded data removed]",
      "text/plain": [
       "<Figure size 500x400 with 2 Axes>"
      ]
     },
     "metadata": {},
     "output_type": "display_data"
    },
    {
     "name": "stdout",
     "output_type": "stream",
     "text": [
      "Logistic Regression - F1: 0.6562 - Accuracy: 0.6535 - Temps: 0.52s\n",
      "###################################################################\n",
      "\n",
      "Évaluation de SVC...\n"
     ]
    },
    {
     "data": {
      "image/png": "[encoded data removed]",
      "text/plain": [
       "<Figure size 500x400 with 2 Axes>"
      ]
     },
     "metadata": {},
     "output_type": "display_data"
    },
    {
     "name": "stdout",
     "output_type": "stream",
     "text": [
      "SVC - F1: 0.6238 - Accuracy: 0.6220 - Temps: 0.08s\n",
      "###################################################################\n",
      "\n",
      "Évaluation de KNN...\n"
     ]
    },
    {
     "data": {
      "image/png": "[encoded data removed]",
      "text/plain": [
       "<Figure size 500x400 with 2 Axes>"
      ]
     },
     "metadata": {},
     "output_type": "display_data"
    },
    {
     "name": "stdout",
     "output_type": "stream",
     "text": [
      "KNN - F1: 0.5521 - Accuracy: 0.5512 - Temps: 0.02s\n",
      "###################################################################\n",
      "\n",
      "Évaluation de Gradient Boosting...\n"
     ]
    },
    {
     "data": {
      "image/png": "[encoded data removed]",
      "text/plain": [
       "<Figure size 500x400 with 2 Axes>"
      ]
     },
     "metadata": {},
     "output_type": "display_data"
    },
    {
     "name": "stdout",
     "output_type": "stream",
     "text": [
      "Gradient Boosting - F1: 0.5869 - Accuracy: 0.5866 - Temps: 4.83s\n",
      "###################################################################\n"
     ]
    }
   ],
   "source": [
    "\n",
    "Text_conso_heat_tou.columns = Text_conso_heat_tou.columns.astype(str)\n",
    "re, Test_Text_heat_toulouse = evaluate_models_split(\n",
    "    df=Text_conso_heat_tou.drop(columns=[\"Date\"]),\n",
    "    target_cols=\"clusters_1\",\n",
    "    models=models,\n",
    "    split_ratio=8\n",
    ")"
   ]
  },
  {
   "cell_type": "code",
   "execution_count": 115,
   "id": "f992a4a2",
   "metadata": {},
   "outputs": [],
   "source": [
    "Text_conso_heat_tou=pd.concat([df_Text,clustering_heat_toulouse.drop(columns=[\"heat_on\"])],axis=1)"
   ]
  },
  {
   "cell_type": "code",
   "execution_count": 116,
   "id": "a46e067a",
   "metadata": {},
   "outputs": [],
   "source": [
    "Text_combined['clusters'] = 4\n",
    "\n",
    "# Assigner les valeurs de clustering_heat_toulouse uniquement pour les indices correspondants\n",
    "valid_indices = Text_combined.index.intersection(clustering_heat_toulouse.index)\n",
    "Text_combined.loc[valid_indices, 'clusters'] = clustering_heat_toulouse.loc[valid_indices, 'clusters_1'].values"
   ]
  },
  {
   "cell_type": "code",
   "execution_count": 117,
   "id": "dedb4a5e",
   "metadata": {},
   "outputs": [],
   "source": [
    "Text_conso_heat_tou.loc[Test_Text_heat_toulouse.index, \"clusters_1\"] = \\\n",
    "    Test_Text_heat_toulouse[\"y_pred_Gradient Boosting_clusters_1\"]"
   ]
  },
  {
   "cell_type": "code",
   "execution_count": 32,
   "id": "35718b86",
   "metadata": {},
   "outputs": [
    {
     "data": {
      "text/html": [
       "<div>\n",
       "<style scoped>\n",
       "    .dataframe tbody tr th:only-of-type {\n",
       "        vertical-align: middle;\n",
       "    }\n",
       "\n",
       "    .dataframe tbody tr th {\n",
       "        vertical-align: top;\n",
       "    }\n",
       "\n",
       "    .dataframe thead th {\n",
       "        text-align: right;\n",
       "    }\n",
       "</style>\n",
       "<table border=\"1\" class=\"dataframe\">\n",
       "  <thead>\n",
       "    <tr style=\"text-align: right;\">\n",
       "      <th></th>\n",
       "      <th>Date</th>\n",
       "      <th>0</th>\n",
       "      <th>1</th>\n",
       "      <th>2</th>\n",
       "      <th>3</th>\n",
       "      <th>4</th>\n",
       "      <th>5</th>\n",
       "      <th>6</th>\n",
       "      <th>7</th>\n",
       "      <th>8</th>\n",
       "      <th>...</th>\n",
       "      <th>15</th>\n",
       "      <th>16</th>\n",
       "      <th>17</th>\n",
       "      <th>18</th>\n",
       "      <th>19</th>\n",
       "      <th>20</th>\n",
       "      <th>21</th>\n",
       "      <th>22</th>\n",
       "      <th>23</th>\n",
       "      <th>clusters_1</th>\n",
       "    </tr>\n",
       "  </thead>\n",
       "  <tbody>\n",
       "    <tr>\n",
       "      <th>0</th>\n",
       "      <td>2018-01-01</td>\n",
       "      <td>9.060</td>\n",
       "      <td>8.930</td>\n",
       "      <td>8.500</td>\n",
       "      <td>8.140</td>\n",
       "      <td>7.985</td>\n",
       "      <td>7.810</td>\n",
       "      <td>7.800</td>\n",
       "      <td>7.810</td>\n",
       "      <td>7.950</td>\n",
       "      <td>...</td>\n",
       "      <td>0.000000</td>\n",
       "      <td>46.882802</td>\n",
       "      <td>0.000000</td>\n",
       "      <td>12.597284</td>\n",
       "      <td>165.032178</td>\n",
       "      <td>309.615664</td>\n",
       "      <td>454.360768</td>\n",
       "      <td>581.485442</td>\n",
       "      <td>692.696269</td>\n",
       "      <td>2.0</td>\n",
       "    </tr>\n",
       "    <tr>\n",
       "      <th>1</th>\n",
       "      <td>2018-01-02</td>\n",
       "      <td>9.500</td>\n",
       "      <td>9.200</td>\n",
       "      <td>8.975</td>\n",
       "      <td>8.840</td>\n",
       "      <td>8.770</td>\n",
       "      <td>8.620</td>\n",
       "      <td>8.660</td>\n",
       "      <td>8.930</td>\n",
       "      <td>9.170</td>\n",
       "      <td>...</td>\n",
       "      <td>1216.862847</td>\n",
       "      <td>1081.300624</td>\n",
       "      <td>1000.744376</td>\n",
       "      <td>927.574038</td>\n",
       "      <td>938.912098</td>\n",
       "      <td>939.342954</td>\n",
       "      <td>961.082691</td>\n",
       "      <td>984.154059</td>\n",
       "      <td>990.419856</td>\n",
       "      <td>2.0</td>\n",
       "    </tr>\n",
       "    <tr>\n",
       "      <th>2</th>\n",
       "      <td>2018-01-03</td>\n",
       "      <td>13.715</td>\n",
       "      <td>13.685</td>\n",
       "      <td>13.870</td>\n",
       "      <td>14.490</td>\n",
       "      <td>15.240</td>\n",
       "      <td>15.570</td>\n",
       "      <td>15.760</td>\n",
       "      <td>15.765</td>\n",
       "      <td>15.485</td>\n",
       "      <td>...</td>\n",
       "      <td>0.000000</td>\n",
       "      <td>0.000000</td>\n",
       "      <td>0.000000</td>\n",
       "      <td>0.000000</td>\n",
       "      <td>68.356592</td>\n",
       "      <td>200.292594</td>\n",
       "      <td>324.326513</td>\n",
       "      <td>405.764384</td>\n",
       "      <td>454.396293</td>\n",
       "      <td>0.0</td>\n",
       "    </tr>\n",
       "    <tr>\n",
       "      <th>3</th>\n",
       "      <td>2018-01-04</td>\n",
       "      <td>13.885</td>\n",
       "      <td>14.855</td>\n",
       "      <td>15.375</td>\n",
       "      <td>15.390</td>\n",
       "      <td>15.465</td>\n",
       "      <td>15.500</td>\n",
       "      <td>15.530</td>\n",
       "      <td>15.540</td>\n",
       "      <td>15.495</td>\n",
       "      <td>...</td>\n",
       "      <td>0.000000</td>\n",
       "      <td>0.000000</td>\n",
       "      <td>0.000000</td>\n",
       "      <td>0.000000</td>\n",
       "      <td>0.000000</td>\n",
       "      <td>0.000000</td>\n",
       "      <td>0.000000</td>\n",
       "      <td>0.000000</td>\n",
       "      <td>0.000000</td>\n",
       "      <td>0.0</td>\n",
       "    </tr>\n",
       "    <tr>\n",
       "      <th>4</th>\n",
       "      <td>2018-01-05</td>\n",
       "      <td>12.245</td>\n",
       "      <td>12.035</td>\n",
       "      <td>11.640</td>\n",
       "      <td>11.025</td>\n",
       "      <td>10.375</td>\n",
       "      <td>9.815</td>\n",
       "      <td>9.370</td>\n",
       "      <td>9.015</td>\n",
       "      <td>8.880</td>\n",
       "      <td>...</td>\n",
       "      <td>0.000000</td>\n",
       "      <td>0.000000</td>\n",
       "      <td>0.000000</td>\n",
       "      <td>0.000000</td>\n",
       "      <td>0.000000</td>\n",
       "      <td>0.000000</td>\n",
       "      <td>0.000000</td>\n",
       "      <td>0.000000</td>\n",
       "      <td>0.000000</td>\n",
       "      <td>0.0</td>\n",
       "    </tr>\n",
       "    <tr>\n",
       "      <th>...</th>\n",
       "      <td>...</td>\n",
       "      <td>...</td>\n",
       "      <td>...</td>\n",
       "      <td>...</td>\n",
       "      <td>...</td>\n",
       "      <td>...</td>\n",
       "      <td>...</td>\n",
       "      <td>...</td>\n",
       "      <td>...</td>\n",
       "      <td>...</td>\n",
       "      <td>...</td>\n",
       "      <td>...</td>\n",
       "      <td>...</td>\n",
       "      <td>...</td>\n",
       "      <td>...</td>\n",
       "      <td>...</td>\n",
       "      <td>...</td>\n",
       "      <td>...</td>\n",
       "      <td>...</td>\n",
       "      <td>...</td>\n",
       "      <td>...</td>\n",
       "    </tr>\n",
       "    <tr>\n",
       "      <th>2550</th>\n",
       "      <td>2024-12-25</td>\n",
       "      <td>6.590</td>\n",
       "      <td>6.480</td>\n",
       "      <td>6.280</td>\n",
       "      <td>6.235</td>\n",
       "      <td>6.215</td>\n",
       "      <td>6.090</td>\n",
       "      <td>5.925</td>\n",
       "      <td>5.740</td>\n",
       "      <td>5.530</td>\n",
       "      <td>...</td>\n",
       "      <td>0.000000</td>\n",
       "      <td>0.000000</td>\n",
       "      <td>0.000000</td>\n",
       "      <td>0.000000</td>\n",
       "      <td>0.000000</td>\n",
       "      <td>0.000000</td>\n",
       "      <td>18.229098</td>\n",
       "      <td>139.156888</td>\n",
       "      <td>406.034844</td>\n",
       "      <td>1.0</td>\n",
       "    </tr>\n",
       "    <tr>\n",
       "      <th>2551</th>\n",
       "      <td>2024-12-26</td>\n",
       "      <td>3.025</td>\n",
       "      <td>2.570</td>\n",
       "      <td>2.105</td>\n",
       "      <td>1.640</td>\n",
       "      <td>1.165</td>\n",
       "      <td>0.835</td>\n",
       "      <td>0.600</td>\n",
       "      <td>0.355</td>\n",
       "      <td>0.255</td>\n",
       "      <td>...</td>\n",
       "      <td>0.000000</td>\n",
       "      <td>0.000000</td>\n",
       "      <td>0.000000</td>\n",
       "      <td>0.000000</td>\n",
       "      <td>0.000000</td>\n",
       "      <td>0.000000</td>\n",
       "      <td>0.000000</td>\n",
       "      <td>0.000000</td>\n",
       "      <td>0.000000</td>\n",
       "      <td>2.0</td>\n",
       "    </tr>\n",
       "    <tr>\n",
       "      <th>2552</th>\n",
       "      <td>2024-12-27</td>\n",
       "      <td>1.180</td>\n",
       "      <td>0.855</td>\n",
       "      <td>0.530</td>\n",
       "      <td>0.130</td>\n",
       "      <td>-0.230</td>\n",
       "      <td>-0.565</td>\n",
       "      <td>-0.910</td>\n",
       "      <td>-1.245</td>\n",
       "      <td>-1.405</td>\n",
       "      <td>...</td>\n",
       "      <td>0.000000</td>\n",
       "      <td>0.000000</td>\n",
       "      <td>0.000000</td>\n",
       "      <td>0.000000</td>\n",
       "      <td>0.000000</td>\n",
       "      <td>0.000000</td>\n",
       "      <td>0.000000</td>\n",
       "      <td>0.000000</td>\n",
       "      <td>0.000000</td>\n",
       "      <td>2.0</td>\n",
       "    </tr>\n",
       "    <tr>\n",
       "      <th>2553</th>\n",
       "      <td>2024-12-28</td>\n",
       "      <td>1.145</td>\n",
       "      <td>0.350</td>\n",
       "      <td>-0.360</td>\n",
       "      <td>-0.480</td>\n",
       "      <td>-0.235</td>\n",
       "      <td>-0.165</td>\n",
       "      <td>-0.150</td>\n",
       "      <td>-0.035</td>\n",
       "      <td>0.020</td>\n",
       "      <td>...</td>\n",
       "      <td>226.016523</td>\n",
       "      <td>218.062033</td>\n",
       "      <td>321.023562</td>\n",
       "      <td>735.785798</td>\n",
       "      <td>1019.575515</td>\n",
       "      <td>1227.225707</td>\n",
       "      <td>1398.159522</td>\n",
       "      <td>1555.576905</td>\n",
       "      <td>1690.983459</td>\n",
       "      <td>2.0</td>\n",
       "    </tr>\n",
       "    <tr>\n",
       "      <th>2554</th>\n",
       "      <td>2024-12-29</td>\n",
       "      <td>1.685</td>\n",
       "      <td>1.475</td>\n",
       "      <td>1.265</td>\n",
       "      <td>1.080</td>\n",
       "      <td>0.935</td>\n",
       "      <td>0.775</td>\n",
       "      <td>0.645</td>\n",
       "      <td>0.525</td>\n",
       "      <td>0.345</td>\n",
       "      <td>...</td>\n",
       "      <td>1024.083779</td>\n",
       "      <td>378.410736</td>\n",
       "      <td>216.183571</td>\n",
       "      <td>341.009891</td>\n",
       "      <td>765.423902</td>\n",
       "      <td>1050.968394</td>\n",
       "      <td>1247.581915</td>\n",
       "      <td>1400.701013</td>\n",
       "      <td>1524.748205</td>\n",
       "      <td>1.0</td>\n",
       "    </tr>\n",
       "  </tbody>\n",
       "</table>\n",
       "<p>1267 rows × 51 columns</p>\n",
       "</div>"
      ],
      "text/plain": [
       "           Date       0       1       2       3       4       5       6  \\\n",
       "0    2018-01-01   9.060   8.930   8.500   8.140   7.985   7.810   7.800   \n",
       "1    2018-01-02   9.500   9.200   8.975   8.840   8.770   8.620   8.660   \n",
       "2    2018-01-03  13.715  13.685  13.870  14.490  15.240  15.570  15.760   \n",
       "3    2018-01-04  13.885  14.855  15.375  15.390  15.465  15.500  15.530   \n",
       "4    2018-01-05  12.245  12.035  11.640  11.025  10.375   9.815   9.370   \n",
       "...         ...     ...     ...     ...     ...     ...     ...     ...   \n",
       "2550 2024-12-25   6.590   6.480   6.280   6.235   6.215   6.090   5.925   \n",
       "2551 2024-12-26   3.025   2.570   2.105   1.640   1.165   0.835   0.600   \n",
       "2552 2024-12-27   1.180   0.855   0.530   0.130  -0.230  -0.565  -0.910   \n",
       "2553 2024-12-28   1.145   0.350  -0.360  -0.480  -0.235  -0.165  -0.150   \n",
       "2554 2024-12-29   1.685   1.475   1.265   1.080   0.935   0.775   0.645   \n",
       "\n",
       "           7       8  ...           15           16           17          18  \\\n",
       "0      7.810   7.950  ...     0.000000    46.882802     0.000000   12.597284   \n",
       "1      8.930   9.170  ...  1216.862847  1081.300624  1000.744376  927.574038   \n",
       "2     15.765  15.485  ...     0.000000     0.000000     0.000000    0.000000   \n",
       "3     15.540  15.495  ...     0.000000     0.000000     0.000000    0.000000   \n",
       "4      9.015   8.880  ...     0.000000     0.000000     0.000000    0.000000   \n",
       "...      ...     ...  ...          ...          ...          ...         ...   \n",
       "2550   5.740   5.530  ...     0.000000     0.000000     0.000000    0.000000   \n",
       "2551   0.355   0.255  ...     0.000000     0.000000     0.000000    0.000000   \n",
       "2552  -1.245  -1.405  ...     0.000000     0.000000     0.000000    0.000000   \n",
       "2553  -0.035   0.020  ...   226.016523   218.062033   321.023562  735.785798   \n",
       "2554   0.525   0.345  ...  1024.083779   378.410736   216.183571  341.009891   \n",
       "\n",
       "               19           20           21           22           23  \\\n",
       "0      165.032178   309.615664   454.360768   581.485442   692.696269   \n",
       "1      938.912098   939.342954   961.082691   984.154059   990.419856   \n",
       "2       68.356592   200.292594   324.326513   405.764384   454.396293   \n",
       "3        0.000000     0.000000     0.000000     0.000000     0.000000   \n",
       "4        0.000000     0.000000     0.000000     0.000000     0.000000   \n",
       "...           ...          ...          ...          ...          ...   \n",
       "2550     0.000000     0.000000    18.229098   139.156888   406.034844   \n",
       "2551     0.000000     0.000000     0.000000     0.000000     0.000000   \n",
       "2552     0.000000     0.000000     0.000000     0.000000     0.000000   \n",
       "2553  1019.575515  1227.225707  1398.159522  1555.576905  1690.983459   \n",
       "2554   765.423902  1050.968394  1247.581915  1400.701013  1524.748205   \n",
       "\n",
       "      clusters_1  \n",
       "0            2.0  \n",
       "1            2.0  \n",
       "2            0.0  \n",
       "3            0.0  \n",
       "4            0.0  \n",
       "...          ...  \n",
       "2550         1.0  \n",
       "2551         2.0  \n",
       "2552         2.0  \n",
       "2553         2.0  \n",
       "2554         1.0  \n",
       "\n",
       "[1267 rows x 51 columns]"
      ]
     },
     "execution_count": 32,
     "metadata": {},
     "output_type": "execute_result"
    }
   ],
   "source": [
    "Text_conso_heat_tou"
   ]
  },
  {
   "cell_type": "code",
   "execution_count": 114,
   "id": "08672eb4",
   "metadata": {},
   "outputs": [],
   "source": [
    "Text_conso_j_1=pd.concat([Text_combined,consommation_chauffage.drop(columns=[\"Date\",\"heat_on\"])],axis=1)\n"
   ]
  },
  {
   "cell_type": "code",
   "execution_count": 34,
   "id": "1448c4b4",
   "metadata": {},
   "outputs": [],
   "source": [
    "\n",
    "Text_conso_heat_tou = Text_conso_heat_tou.sort_values('Date')\n",
    "Text_conso_j_1 = Text_conso_j_1.sort_values('Date')\n",
    "\n",
    "# Créer une liste pour stocker les lignes combinées\n",
    "combined_rows = []\n",
    "\n",
    "# Parcourir chaque ligne de Text_conso_heat_tou\n",
    "for index, row in Text_conso_heat_tou.iterrows():\n",
    "    jour_precedent = row['Date'] - pd.Timedelta(days=1)  # Trouver jour j-1\n",
    "    \n",
    "    # Vérifier si j-1 existe dans Text_combined\n",
    "    prev_row = Text_conso_j_1[Text_conso_j_1['Date'] == jour_precedent]\n",
    "    \n",
    "    if not prev_row.empty:\n",
    "        prev_row = prev_row.iloc[0]  # Sélectionner uniquement la première correspondance\n",
    "        \n",
    "        # Ajouter un suffixe \"_j-1\" aux colonnes du jour précédent\n",
    "        #prev_row = prev_row.rename(lambda x: f\"{x}_j-1\")\n",
    "\n",
    "        # Fusionner proprement les deux lignes\n",
    "        combined_row = pd.concat([prev_row.to_frame().T.reset_index(drop=True), \n",
    "                                  row.to_frame().T.reset_index(drop=True)], axis=1)\n",
    "        \n",
    "        combined_rows.append(combined_row)  # Ajouter la ligne fusionnée\n",
    "    else:\n",
    "        # Si aucune correspondance, passer à la ligne suivante sans l'ajouter\n",
    "        continue\n",
    "\n",
    "# Convertir la liste en DataFrame final\n",
    "Text_final = pd.concat(combined_rows, ignore_index=True)\n",
    "\n",
    "Text_final2 = Text_final.drop(columns=[col for col in Text_final.columns if \"Date\" in str(col).lower()], errors='ignore')\n",
    "\n"
   ]
  },
  {
   "cell_type": "code",
   "execution_count": null,
   "id": "5b00d538",
   "metadata": {},
   "outputs": [
    {
     "data": {
      "text/html": [
       "<div>\n",
       "<style scoped>\n",
       "    .dataframe tbody tr th:only-of-type {\n",
       "        vertical-align: middle;\n",
       "    }\n",
       "\n",
       "    .dataframe tbody tr th {\n",
       "        vertical-align: top;\n",
       "    }\n",
       "\n",
       "    .dataframe thead th {\n",
       "        text-align: right;\n",
       "    }\n",
       "</style>\n",
       "<table border=\"1\" class=\"dataframe\">\n",
       "  <thead>\n",
       "    <tr style=\"text-align: right;\">\n",
       "      <th></th>\n",
       "      <th>Date</th>\n",
       "      <th>0</th>\n",
       "      <th>1</th>\n",
       "      <th>2</th>\n",
       "      <th>3</th>\n",
       "      <th>4</th>\n",
       "      <th>5</th>\n",
       "      <th>6</th>\n",
       "      <th>7</th>\n",
       "      <th>8</th>\n",
       "      <th>9</th>\n",
       "      <th>10</th>\n",
       "      <th>11</th>\n",
       "      <th>12</th>\n",
       "      <th>13</th>\n",
       "      <th>14</th>\n",
       "      <th>15</th>\n",
       "      <th>16</th>\n",
       "      <th>17</th>\n",
       "      <th>18</th>\n",
       "      <th>19</th>\n",
       "      <th>20</th>\n",
       "      <th>21</th>\n",
       "      <th>22</th>\n",
       "      <th>23</th>\n",
       "      <th>heat_on</th>\n",
       "      <th>clusters</th>\n",
       "      <th>0_2</th>\n",
       "      <th>1_2</th>\n",
       "      <th>2_2</th>\n",
       "      <th>3_2</th>\n",
       "      <th>4_2</th>\n",
       "      <th>5_2</th>\n",
       "      <th>6_2</th>\n",
       "      <th>7_2</th>\n",
       "      <th>8_2</th>\n",
       "      <th>9_2</th>\n",
       "      <th>10_2</th>\n",
       "      <th>11_2</th>\n",
       "      <th>12_2</th>\n",
       "      <th>13_2</th>\n",
       "      <th>14_2</th>\n",
       "      <th>15_2</th>\n",
       "      <th>16_2</th>\n",
       "      <th>17_2</th>\n",
       "      <th>18_2</th>\n",
       "      <th>19_2</th>\n",
       "      <th>20_2</th>\n",
       "      <th>21_2</th>\n",
       "      <th>22_2</th>\n",
       "      <th>23_2</th>\n",
       "      <th>Date_2</th>\n",
       "      <th>0_3</th>\n",
       "      <th>1_3</th>\n",
       "      <th>2_3</th>\n",
       "      <th>3_3</th>\n",
       "      <th>4_3</th>\n",
       "      <th>5_3</th>\n",
       "      <th>6_3</th>\n",
       "      <th>7_3</th>\n",
       "      <th>8_3</th>\n",
       "      <th>9_3</th>\n",
       "      <th>10_3</th>\n",
       "      <th>11_3</th>\n",
       "      <th>12_3</th>\n",
       "      <th>13_3</th>\n",
       "      <th>14_3</th>\n",
       "      <th>15_3</th>\n",
       "      <th>16_3</th>\n",
       "      <th>17_3</th>\n",
       "      <th>18_3</th>\n",
       "      <th>19_3</th>\n",
       "      <th>20_3</th>\n",
       "      <th>21_3</th>\n",
       "      <th>22_3</th>\n",
       "      <th>23_3</th>\n",
       "      <th>heat_on_2</th>\n",
       "      <th>0</th>\n",
       "      <th>1</th>\n",
       "      <th>2</th>\n",
       "      <th>3</th>\n",
       "      <th>4</th>\n",
       "      <th>5</th>\n",
       "      <th>6</th>\n",
       "      <th>7</th>\n",
       "      <th>8</th>\n",
       "      <th>9</th>\n",
       "      <th>10</th>\n",
       "      <th>11</th>\n",
       "      <th>12</th>\n",
       "      <th>13</th>\n",
       "      <th>14</th>\n",
       "      <th>15</th>\n",
       "      <th>16</th>\n",
       "      <th>17</th>\n",
       "      <th>18</th>\n",
       "      <th>19</th>\n",
       "      <th>20</th>\n",
       "      <th>21</th>\n",
       "      <th>22</th>\n",
       "      <th>23</th>\n",
       "      <th>clusters_1</th>\n",
       "    </tr>\n",
       "  </thead>\n",
       "  <tbody>\n",
       "    <tr>\n",
       "      <th>0</th>\n",
       "      <td>2018-01-01 00:00:00</td>\n",
       "      <td>9.06</td>\n",
       "      <td>8.93</td>\n",
       "      <td>8.5</td>\n",
       "      <td>8.14</td>\n",
       "      <td>7.985</td>\n",
       "      <td>7.81</td>\n",
       "      <td>7.8</td>\n",
       "      <td>7.81</td>\n",
       "      <td>7.95</td>\n",
       "      <td>8.76</td>\n",
       "      <td>10.415</td>\n",
       "      <td>12.35</td>\n",
       "      <td>13.595</td>\n",
       "      <td>14.29</td>\n",
       "      <td>14.29</td>\n",
       "      <td>12.995</td>\n",
       "      <td>11.43</td>\n",
       "      <td>10.35</td>\n",
       "      <td>9.955</td>\n",
       "      <td>10.115</td>\n",
       "      <td>10.08</td>\n",
       "      <td>9.875</td>\n",
       "      <td>9.74</td>\n",
       "      <td>9.695</td>\n",
       "      <td>1</td>\n",
       "      <td>2</td>\n",
       "      <td>0.0</td>\n",
       "      <td>1191.035222</td>\n",
       "      <td>1312.758731</td>\n",
       "      <td>1419.587492</td>\n",
       "      <td>1513.17473</td>\n",
       "      <td>1578.453365</td>\n",
       "      <td>1964.393414</td>\n",
       "      <td>2340.466249</td>\n",
       "      <td>2674.424141</td>\n",
       "      <td>1974.679566</td>\n",
       "      <td>764.431616</td>\n",
       "      <td>0.0</td>\n",
       "      <td>0.0</td>\n",
       "      <td>0.0</td>\n",
       "      <td>0.0</td>\n",
       "      <td>0.0</td>\n",
       "      <td>46.882802</td>\n",
       "      <td>0.0</td>\n",
       "      <td>12.597284</td>\n",
       "      <td>165.032178</td>\n",
       "      <td>309.615664</td>\n",
       "      <td>454.360768</td>\n",
       "      <td>581.485442</td>\n",
       "      <td>692.696269</td>\n",
       "      <td>2018-01-02 00:00:00</td>\n",
       "      <td>9.5</td>\n",
       "      <td>9.2</td>\n",
       "      <td>8.975</td>\n",
       "      <td>8.84</td>\n",
       "      <td>8.77</td>\n",
       "      <td>8.62</td>\n",
       "      <td>8.66</td>\n",
       "      <td>8.93</td>\n",
       "      <td>9.17</td>\n",
       "      <td>9.26</td>\n",
       "      <td>9.5</td>\n",
       "      <td>10.34</td>\n",
       "      <td>11.485</td>\n",
       "      <td>12.41</td>\n",
       "      <td>12.905</td>\n",
       "      <td>13.14</td>\n",
       "      <td>13.225</td>\n",
       "      <td>13.055</td>\n",
       "      <td>12.945</td>\n",
       "      <td>13.215</td>\n",
       "      <td>13.515</td>\n",
       "      <td>13.56</td>\n",
       "      <td>13.555</td>\n",
       "      <td>13.675</td>\n",
       "      <td>1</td>\n",
       "      <td>810.107258</td>\n",
       "      <td>932.496397</td>\n",
       "      <td>1038.400298</td>\n",
       "      <td>1125.989678</td>\n",
       "      <td>1203.801168</td>\n",
       "      <td>1262.344356</td>\n",
       "      <td>1615.840151</td>\n",
       "      <td>1906.159536</td>\n",
       "      <td>2163.834353</td>\n",
       "      <td>2141.193211</td>\n",
       "      <td>2045.397519</td>\n",
       "      <td>1392.473496</td>\n",
       "      <td>1642.885784</td>\n",
       "      <td>1425.817471</td>\n",
       "      <td>1235.423295</td>\n",
       "      <td>1216.862847</td>\n",
       "      <td>1081.300624</td>\n",
       "      <td>1000.744376</td>\n",
       "      <td>927.574038</td>\n",
       "      <td>938.912098</td>\n",
       "      <td>939.342954</td>\n",
       "      <td>961.082691</td>\n",
       "      <td>984.154059</td>\n",
       "      <td>990.419856</td>\n",
       "      <td>2.0</td>\n",
       "    </tr>\n",
       "  </tbody>\n",
       "</table>\n",
       "</div>"
      ],
      "text/plain": [
       "                  Date     0     1    2     3      4     5    6     7     8     9      10     11      12     13     14      15     16     17     18      19     20     21    22     23 heat_on clusters  0_2          1_2          2_2          3_2         4_2          5_2          6_2          7_2          8_2          9_2        10_2 11_2 12_2 13_2 14_2 15_2       16_2 17_2       18_2        19_2        20_2        21_2        22_2        23_2               Date_2  0_3  1_3    2_3   3_3   4_3   5_3   6_3   7_3   8_3   9_3 10_3   11_3    12_3   13_3    14_3   15_3    16_3    17_3    18_3    19_3    20_3   21_3    22_3    23_3 heat_on_2           0           1            2            3            4            5            6            7            8            9           10           11           12           13           14           15           16           17          18          19          20          21          22          23 clusters_1\n",
       "0  2018-01-01 00:00:00  9.06  8.93  8.5  8.14  7.985  7.81  7.8  7.81  7.95  8.76  10.415  12.35  13.595  14.29  14.29  12.995  11.43  10.35  9.955  10.115  10.08  9.875  9.74  9.695       1        2  0.0  1191.035222  1312.758731  1419.587492  1513.17473  1578.453365  1964.393414  2340.466249  2674.424141  1974.679566  764.431616  0.0  0.0  0.0  0.0  0.0  46.882802  0.0  12.597284  165.032178  309.615664  454.360768  581.485442  692.696269  2018-01-02 00:00:00  9.5  9.2  8.975  8.84  8.77  8.62  8.66  8.93  9.17  9.26  9.5  10.34  11.485  12.41  12.905  13.14  13.225  13.055  12.945  13.215  13.515  13.56  13.555  13.675         1  810.107258  932.496397  1038.400298  1125.989678  1203.801168  1262.344356  1615.840151  1906.159536  2163.834353  2141.193211  2045.397519  1392.473496  1642.885784  1425.817471  1235.423295  1216.862847  1081.300624  1000.744376  927.574038  938.912098  939.342954  961.082691  984.154059  990.419856        2.0"
      ]
     },
     "execution_count": 66,
     "metadata": {},
     "output_type": "execute_result"
    }
   ],
   "source": [
    "pd.set_option('display.max_columns', None)\n",
    "pd.set_option('display.expand_frame_repr', False)  # pour éviter le retour à la ligne automatique\n",
    "\n",
    "Text_final2.head(1)"
   ]
  },
  {
   "cell_type": "code",
   "execution_count": 36,
   "id": "f4065018",
   "metadata": {},
   "outputs": [],
   "source": [
    "# Ajouter un suffixe automatique pour rendre les noms de colonnes uniques\n",
    "def make_unique_columns(columns):\n",
    "    seen = {}\n",
    "    unique_cols = []\n",
    "    for col in columns:\n",
    "        if col not in seen:\n",
    "            seen[col] = 1\n",
    "            unique_cols.append(col)\n",
    "        else:\n",
    "            seen[col] += 1\n",
    "            unique_cols.append(f\"{col}_{seen[col]}\")\n",
    "    return unique_cols\n",
    "\n",
    "Text_final2.columns = make_unique_columns(Text_final2.columns)\n",
    "\n",
    "cols = Text_final2.columns.tolist()\n",
    "\n",
    "first_part = cols[:-25]              \n",
    "twentyfour_last_cols = cols[-25:-1]  \n",
    "two_before_last = cols[-1:]      \n",
    "new_cols = first_part + two_before_last + twentyfour_last_cols\n",
    "\n",
    "Text_final_reordered = Text_final2[new_cols]"
   ]
  },
  {
   "cell_type": "code",
   "execution_count": 37,
   "id": "2c8046a3",
   "metadata": {},
   "outputs": [
    {
     "data": {
      "text/html": [
       "<div>\n",
       "<style scoped>\n",
       "    .dataframe tbody tr th:only-of-type {\n",
       "        vertical-align: middle;\n",
       "    }\n",
       "\n",
       "    .dataframe tbody tr th {\n",
       "        vertical-align: top;\n",
       "    }\n",
       "\n",
       "    .dataframe thead th {\n",
       "        text-align: right;\n",
       "    }\n",
       "</style>\n",
       "<table border=\"1\" class=\"dataframe\">\n",
       "  <thead>\n",
       "    <tr style=\"text-align: right;\">\n",
       "      <th></th>\n",
       "      <th>Date</th>\n",
       "      <th>0</th>\n",
       "      <th>1</th>\n",
       "      <th>2</th>\n",
       "      <th>3</th>\n",
       "      <th>4</th>\n",
       "      <th>5</th>\n",
       "      <th>6</th>\n",
       "      <th>7</th>\n",
       "      <th>8</th>\n",
       "      <th>...</th>\n",
       "      <th>14</th>\n",
       "      <th>15</th>\n",
       "      <th>16</th>\n",
       "      <th>17</th>\n",
       "      <th>18</th>\n",
       "      <th>19</th>\n",
       "      <th>20</th>\n",
       "      <th>21</th>\n",
       "      <th>22</th>\n",
       "      <th>23</th>\n",
       "    </tr>\n",
       "  </thead>\n",
       "  <tbody>\n",
       "    <tr>\n",
       "      <th>0</th>\n",
       "      <td>2018-01-01 00:00:00</td>\n",
       "      <td>9.06</td>\n",
       "      <td>8.93</td>\n",
       "      <td>8.5</td>\n",
       "      <td>8.14</td>\n",
       "      <td>7.985</td>\n",
       "      <td>7.81</td>\n",
       "      <td>7.8</td>\n",
       "      <td>7.81</td>\n",
       "      <td>7.95</td>\n",
       "      <td>...</td>\n",
       "      <td>1235.423295</td>\n",
       "      <td>1216.862847</td>\n",
       "      <td>1081.300624</td>\n",
       "      <td>1000.744376</td>\n",
       "      <td>927.574038</td>\n",
       "      <td>938.912098</td>\n",
       "      <td>939.342954</td>\n",
       "      <td>961.082691</td>\n",
       "      <td>984.154059</td>\n",
       "      <td>990.419856</td>\n",
       "    </tr>\n",
       "  </tbody>\n",
       "</table>\n",
       "<p>1 rows × 102 columns</p>\n",
       "</div>"
      ],
      "text/plain": [
       "                  Date     0     1    2     3      4     5    6     7     8  \\\n",
       "0  2018-01-01 00:00:00  9.06  8.93  8.5  8.14  7.985  7.81  7.8  7.81  7.95   \n",
       "\n",
       "   ...           14           15           16           17          18  \\\n",
       "0  ...  1235.423295  1216.862847  1081.300624  1000.744376  927.574038   \n",
       "\n",
       "           19          20          21          22          23  \n",
       "0  938.912098  939.342954  961.082691  984.154059  990.419856  \n",
       "\n",
       "[1 rows x 102 columns]"
      ]
     },
     "execution_count": 37,
     "metadata": {},
     "output_type": "execute_result"
    }
   ],
   "source": [
    "Text_final_reordered.head(1)"
   ]
  },
  {
   "cell_type": "code",
   "execution_count": 38,
   "id": "728a90da",
   "metadata": {},
   "outputs": [],
   "source": [
    "Text_final_reordered.columns = Text_final_reordered.columns.astype(str)\n",
    "\n",
    "Text_final_reordered = Text_final_reordered.drop(\n",
    "    columns=[col for col in Text_final_reordered.columns if col.startswith(\"Dat\")]\n",
    ")\n"
   ]
  },
  {
   "cell_type": "code",
   "execution_count": null,
   "id": "1d9f090f",
   "metadata": {},
   "outputs": [],
   "source": []
  },
  {
   "cell_type": "code",
   "execution_count": 39,
   "id": "cef6a387",
   "metadata": {},
   "outputs": [
    {
     "name": "stdout",
     "output_type": "stream",
     "text": [
      "Shape de X_train2 : (1012, 1, 76)\n",
      "Shape de X_test2 : (254, 1, 76)\n",
      "Shape de y_train2 : (1012, 24)\n",
      "Shape de y_test2 : (254, 24)\n"
     ]
    }
   ],
   "source": [
    "from sklearn.preprocessing import MinMaxScaler\n",
    "y2= Text_final_reordered.iloc[:, -24:].values \n",
    "X2 = Text_final_reordered.iloc[:, :-24].values \n",
    "\n",
    "scaler_X = MinMaxScaler()\n",
    "scaler_y = MinMaxScaler()\n",
    "X2 = scaler_X.fit_transform(X2)\n",
    "y2 = scaler_y.fit_transform(y2)\n",
    "\n",
    "\n",
    "split_index = int((X2.shape[0] * 8) / 10)\n",
    "X2 = X2.reshape(X2.shape[0], 1, X2.shape[1])\n",
    "\n",
    "X_train2 = X2[:split_index, :]\n",
    "X_test2 = X2[split_index:, :]\n",
    "y_train2 = y2[:split_index, :]\n",
    "y_test2 = y2[split_index:, :]\n",
    "\n",
    "\n",
    "\n",
    "# Vérification des dimensions\n",
    "print(\"Shape de X_train2 :\", X_train2.shape)\n",
    "print(\"Shape de X_test2 :\", X_test2.shape)\n",
    "print(\"Shape de y_train2 :\", y_train2.shape)\n",
    "print(\"Shape de y_test2 :\", y_test2.shape)"
   ]
  },
  {
   "cell_type": "code",
   "execution_count": 45,
   "id": "e295e39d",
   "metadata": {},
   "outputs": [],
   "source": [
    "\n",
    "def train_and_evaluate(model, X_train, y_train, X_test, y_test, scaler_temp, scaler_cons):\n",
    "    # Compilation du modèle avec optimizer, loss et métriques\n",
    "    model.compile(optimizer='adam', loss='mean_squared_error', metrics=['mae', 'mse'])\n",
    "    # Callback early stopping pour éviter le surapprentissage\n",
    "    early_stopping = EarlyStopping(monitor='val_loss', patience=10, restore_best_weights=True)\n",
    "    \n",
    "    # Séparation d'un ensemble validation à partir des données d'entraînement (sans shuffle)\n",
    "    X_train, X_val, y_train, y_val = train_test_split(X_train, y_train, test_size=0.1, shuffle=False)\n",
    "    # Entraînement du modèle avec validation et early stopping\n",
    "    history = model.fit(X_train, y_train, epochs=100, batch_size=32, validation_data=(X_val, y_val), callbacks=[early_stopping])\n",
    "    \n",
    "    # Affichage de la courbe de loss durant l'entraînement\n",
    "    plt.figure(figsize=(12, 6))\n",
    "    plt.plot(history.history['loss'], label='Train Loss')\n",
    "    plt.plot(history.history['val_loss'], label='Val Loss')\n",
    "    plt.title('Loss during training')\n",
    "    plt.xlabel('Epochs')\n",
    "    plt.ylabel('Loss')\n",
    "    plt.legend()\n",
    "    plt.show()\n",
    "   \n",
    "    # Évaluation du modèle sur l'ensemble validation\n",
    "    loss, mae, mse = model.evaluate(X_val, y_val)\n",
    "    rmse = np.sqrt(mse) \n",
    "    print(f\"Validation Loss : {loss}\")\n",
    "    print(f\"Validation MAE: {mae}\")\n",
    "    print(f\"Validation MSE: {mse}\")\n",
    "    print(f\"Validation RMSE: {rmse}\")\n",
    "    \n",
    "    # Prédiction sur l'ensemble test\n",
    "    predictions = model.predict(X_test) \n",
    "    y_test_reshape = y_test.reshape(-1, 24) \n",
    "    # Inverse transformation de la normalisation de la consommation\n",
    "    predictions_norm = scaler_cons.inverse_transform(predictions)\n",
    "    y_test_reshape_norm = scaler_cons.inverse_transform(y_test_reshape)\n",
    "\n",
    "    # Calcul des métriques sur l'ensemble test\n",
    "    mae_test = mean_absolute_error(y_test_reshape_norm, predictions_norm)\n",
    "    mse_test = mean_squared_error(y_test_reshape_norm, predictions_norm)\n",
    "    rmse_test = np.sqrt(mse_test)\n",
    "    r2 = r2_score(y_test_reshape_norm, predictions_norm)\n",
    "    cvrmse = rmse_test / np.mean(y_test_reshape_norm)\n",
    "\n",
    "    print(f\"Test MAE: {mae_test}\")\n",
    "    print(f\"Test MSE: {mse_test}\")\n",
    "    print(f\"Test RMSE: {rmse_test}\")\n",
    "    print(f\"Test R²: {r2}\")\n",
    "    print(f\"Test CVRMSE: {cvrmse}\")\n",
    "\n",
    "    return history, loss, mae, mse, rmse, mae_test, mse_test, rmse_test, r2, cvrmse, predictions\n",
    "\n",
    "\n",
    "\n",
    "def model_lstm(X_train2, y_train2, X_test2, y_test2, scaler_temp, scaler_cons):\n",
    "    # Définition du modèle LSTM séquentiel\n",
    "    model2 = Sequential()\n",
    "    # Couche LSTM avec 68 unités, activation tanh, forme d'entrée adaptée\n",
    "    model2.add(LSTM(68, activation='tanh', input_shape=(X_train2.shape[1], X_train2.shape[2])))  \n",
    "    # Couche Dropout pour régularisation\n",
    "    model2.add(Dropout(0.2))\n",
    "    # Couche Dense finale avec 24 sorties et activation linéaire (prédiction continue)\n",
    "    model2.add(Dense(24, activation='linear'))   \n",
    "    \n",
    "    # Entraînement et évaluation du modèle\n",
    "    history2, loss2, mae2, mse2, rmse2, mae_test2, mse_test2, rmse_test2, r2, cvrmse, predictions2 = train_and_evaluate(\n",
    "        model2, X_train2, y_train2, X_test2, y_test2, scaler_temp, scaler_cons\n",
    "    )\n",
    "    \n",
    "    return model2, history2, loss2, mae2, mse2, rmse2, mae_test2, mse_test2, rmse_test2, r2, cvrmse, predictions2\n"
   ]
  },
  {
   "cell_type": "code",
   "execution_count": 54,
   "id": "d4defc2e",
   "metadata": {},
   "outputs": [
    {
     "name": "stdout",
     "output_type": "stream",
     "text": [
      "Epoch 1/100\n"
     ]
    },
    {
     "name": "stderr",
     "output_type": "stream",
     "text": [
      "c:\\Users\\toubia\\anaconda3\\envs\\notebook\\Lib\\site-packages\\keras\\src\\layers\\rnn\\rnn.py:200: UserWarning:\n",
      "\n",
      "Do not pass an `input_shape`/`input_dim` argument to a layer. When using Sequential models, prefer using an `Input(shape)` object as the first layer in the model instead.\n",
      "\n"
     ]
    },
    {
     "name": "stdout",
     "output_type": "stream",
     "text": [
      "\u001b[1m29/29\u001b[0m \u001b[32m━━━━━━━━━━━━━━━━━━━━\u001b[0m\u001b[37m\u001b[0m \u001b[1m3s\u001b[0m 21ms/step - loss: 0.0538 - mae: 0.1649 - mse: 0.0538 - val_loss: 0.0321 - val_mae: 0.1270 - val_mse: 0.0321\n",
      "Epoch 2/100\n",
      "\u001b[1m29/29\u001b[0m \u001b[32m━━━━━━━━━━━━━━━━━━━━\u001b[0m\u001b[37m\u001b[0m \u001b[1m0s\u001b[0m 8ms/step - loss: 0.0249 - mae: 0.1137 - mse: 0.0249 - val_loss: 0.0192 - val_mae: 0.0902 - val_mse: 0.0192\n",
      "Epoch 3/100\n",
      "\u001b[1m29/29\u001b[0m \u001b[32m━━━━━━━━━━━━━━━━━━━━\u001b[0m\u001b[37m\u001b[0m \u001b[1m0s\u001b[0m 6ms/step - loss: 0.0218 - mae: 0.1032 - mse: 0.0218 - val_loss: 0.0184 - val_mae: 0.0866 - val_mse: 0.0184\n",
      "Epoch 4/100\n",
      "\u001b[1m29/29\u001b[0m \u001b[32m━━━━━━━━━━━━━━━━━━━━\u001b[0m\u001b[37m\u001b[0m \u001b[1m0s\u001b[0m 9ms/step - loss: 0.0171 - mae: 0.0897 - mse: 0.0171 - val_loss: 0.0168 - val_mae: 0.0834 - val_mse: 0.0168\n",
      "Epoch 5/100\n",
      "\u001b[1m29/29\u001b[0m \u001b[32m━━━━━━━━━━━━━━━━━━━━\u001b[0m\u001b[37m\u001b[0m \u001b[1m0s\u001b[0m 6ms/step - loss: 0.0186 - mae: 0.0939 - mse: 0.0186 - val_loss: 0.0161 - val_mae: 0.0839 - val_mse: 0.0161\n",
      "Epoch 6/100\n",
      "\u001b[1m29/29\u001b[0m \u001b[32m━━━━━━━━━━━━━━━━━━━━\u001b[0m\u001b[37m\u001b[0m \u001b[1m0s\u001b[0m 6ms/step - loss: 0.0170 - mae: 0.0897 - mse: 0.0170 - val_loss: 0.0155 - val_mae: 0.0810 - val_mse: 0.0155\n",
      "Epoch 7/100\n",
      "\u001b[1m29/29\u001b[0m \u001b[32m━━━━━━━━━━━━━━━━━━━━\u001b[0m\u001b[37m\u001b[0m \u001b[1m0s\u001b[0m 9ms/step - loss: 0.0154 - mae: 0.0860 - mse: 0.0154 - val_loss: 0.0150 - val_mae: 0.0798 - val_mse: 0.0150\n",
      "Epoch 8/100\n",
      "\u001b[1m29/29\u001b[0m \u001b[32m━━━━━━━━━━━━━━━━━━━━\u001b[0m\u001b[37m\u001b[0m \u001b[1m0s\u001b[0m 6ms/step - loss: 0.0142 - mae: 0.0822 - mse: 0.0142 - val_loss: 0.0146 - val_mae: 0.0781 - val_mse: 0.0146\n",
      "Epoch 9/100\n",
      "\u001b[1m29/29\u001b[0m \u001b[32m━━━━━━━━━━━━━━━━━━━━\u001b[0m\u001b[37m\u001b[0m \u001b[1m0s\u001b[0m 6ms/step - loss: 0.0145 - mae: 0.0827 - mse: 0.0145 - val_loss: 0.0138 - val_mae: 0.0760 - val_mse: 0.0138\n",
      "Epoch 10/100\n",
      "\u001b[1m29/29\u001b[0m \u001b[32m━━━━━━━━━━━━━━━━━━━━\u001b[0m\u001b[37m\u001b[0m \u001b[1m0s\u001b[0m 7ms/step - loss: 0.0142 - mae: 0.0816 - mse: 0.0142 - val_loss: 0.0136 - val_mae: 0.0760 - val_mse: 0.0136\n",
      "Epoch 11/100\n",
      "\u001b[1m29/29\u001b[0m \u001b[32m━━━━━━━━━━━━━━━━━━━━\u001b[0m\u001b[37m\u001b[0m \u001b[1m0s\u001b[0m 6ms/step - loss: 0.0134 - mae: 0.0808 - mse: 0.0134 - val_loss: 0.0129 - val_mae: 0.0746 - val_mse: 0.0129\n",
      "Epoch 12/100\n",
      "\u001b[1m29/29\u001b[0m \u001b[32m━━━━━━━━━━━━━━━━━━━━\u001b[0m\u001b[37m\u001b[0m \u001b[1m0s\u001b[0m 6ms/step - loss: 0.0127 - mae: 0.0785 - mse: 0.0127 - val_loss: 0.0128 - val_mae: 0.0729 - val_mse: 0.0128\n",
      "Epoch 13/100\n",
      "\u001b[1m29/29\u001b[0m \u001b[32m━━━━━━━━━━━━━━━━━━━━\u001b[0m\u001b[37m\u001b[0m \u001b[1m0s\u001b[0m 6ms/step - loss: 0.0124 - mae: 0.0759 - mse: 0.0124 - val_loss: 0.0126 - val_mae: 0.0739 - val_mse: 0.0126\n",
      "Epoch 14/100\n",
      "\u001b[1m29/29\u001b[0m \u001b[32m━━━━━━━━━━━━━━━━━━━━\u001b[0m\u001b[37m\u001b[0m \u001b[1m0s\u001b[0m 6ms/step - loss: 0.0124 - mae: 0.0788 - mse: 0.0124 - val_loss: 0.0121 - val_mae: 0.0716 - val_mse: 0.0121\n",
      "Epoch 15/100\n",
      "\u001b[1m29/29\u001b[0m \u001b[32m━━━━━━━━━━━━━━━━━━━━\u001b[0m\u001b[37m\u001b[0m \u001b[1m0s\u001b[0m 6ms/step - loss: 0.0120 - mae: 0.0750 - mse: 0.0120 - val_loss: 0.0118 - val_mae: 0.0728 - val_mse: 0.0118\n",
      "Epoch 16/100\n",
      "\u001b[1m29/29\u001b[0m \u001b[32m━━━━━━━━━━━━━━━━━━━━\u001b[0m\u001b[37m\u001b[0m \u001b[1m0s\u001b[0m 6ms/step - loss: 0.0121 - mae: 0.0758 - mse: 0.0121 - val_loss: 0.0112 - val_mae: 0.0702 - val_mse: 0.0112\n",
      "Epoch 17/100\n",
      "\u001b[1m29/29\u001b[0m \u001b[32m━━━━━━━━━━━━━━━━━━━━\u001b[0m\u001b[37m\u001b[0m \u001b[1m0s\u001b[0m 6ms/step - loss: 0.0112 - mae: 0.0738 - mse: 0.0112 - val_loss: 0.0110 - val_mae: 0.0683 - val_mse: 0.0110\n",
      "Epoch 18/100\n",
      "\u001b[1m29/29\u001b[0m \u001b[32m━━━━━━━━━━━━━━━━━━━━\u001b[0m\u001b[37m\u001b[0m \u001b[1m0s\u001b[0m 6ms/step - loss: 0.0106 - mae: 0.0709 - mse: 0.0106 - val_loss: 0.0108 - val_mae: 0.0685 - val_mse: 0.0108\n",
      "Epoch 19/100\n",
      "\u001b[1m29/29\u001b[0m \u001b[32m━━━━━━━━━━━━━━━━━━━━\u001b[0m\u001b[37m\u001b[0m \u001b[1m0s\u001b[0m 6ms/step - loss: 0.0101 - mae: 0.0698 - mse: 0.0101 - val_loss: 0.0102 - val_mae: 0.0665 - val_mse: 0.0102\n",
      "Epoch 20/100\n",
      "\u001b[1m29/29\u001b[0m \u001b[32m━━━━━━━━━━━━━━━━━━━━\u001b[0m\u001b[37m\u001b[0m \u001b[1m0s\u001b[0m 6ms/step - loss: 0.0106 - mae: 0.0710 - mse: 0.0106 - val_loss: 0.0101 - val_mae: 0.0654 - val_mse: 0.0101\n",
      "Epoch 21/100\n",
      "\u001b[1m29/29\u001b[0m \u001b[32m━━━━━━━━━━━━━━━━━━━━\u001b[0m\u001b[37m\u001b[0m \u001b[1m0s\u001b[0m 8ms/step - loss: 0.0090 - mae: 0.0660 - mse: 0.0090 - val_loss: 0.0096 - val_mae: 0.0649 - val_mse: 0.0096\n",
      "Epoch 22/100\n",
      "\u001b[1m29/29\u001b[0m \u001b[32m━━━━━━━━━━━━━━━━━━━━\u001b[0m\u001b[37m\u001b[0m \u001b[1m0s\u001b[0m 7ms/step - loss: 0.0106 - mae: 0.0708 - mse: 0.0106 - val_loss: 0.0093 - val_mae: 0.0632 - val_mse: 0.0093\n",
      "Epoch 23/100\n",
      "\u001b[1m29/29\u001b[0m \u001b[32m━━━━━━━━━━━━━━━━━━━━\u001b[0m\u001b[37m\u001b[0m \u001b[1m0s\u001b[0m 7ms/step - loss: 0.0102 - mae: 0.0682 - mse: 0.0102 - val_loss: 0.0090 - val_mae: 0.0622 - val_mse: 0.0090\n",
      "Epoch 24/100\n",
      "\u001b[1m29/29\u001b[0m \u001b[32m━━━━━━━━━━━━━━━━━━━━\u001b[0m\u001b[37m\u001b[0m \u001b[1m0s\u001b[0m 9ms/step - loss: 0.0109 - mae: 0.0702 - mse: 0.0109 - val_loss: 0.0093 - val_mae: 0.0641 - val_mse: 0.0093\n",
      "Epoch 25/100\n",
      "\u001b[1m29/29\u001b[0m \u001b[32m━━━━━━━━━━━━━━━━━━━━\u001b[0m\u001b[37m\u001b[0m \u001b[1m0s\u001b[0m 6ms/step - loss: 0.0101 - mae: 0.0688 - mse: 0.0101 - val_loss: 0.0089 - val_mae: 0.0614 - val_mse: 0.0089\n",
      "Epoch 26/100\n",
      "\u001b[1m29/29\u001b[0m \u001b[32m━━━━━━━━━━━━━━━━━━━━\u001b[0m\u001b[37m\u001b[0m \u001b[1m0s\u001b[0m 6ms/step - loss: 0.0089 - mae: 0.0644 - mse: 0.0089 - val_loss: 0.0088 - val_mae: 0.0616 - val_mse: 0.0088\n",
      "Epoch 27/100\n",
      "\u001b[1m29/29\u001b[0m \u001b[32m━━━━━━━━━━━━━━━━━━━━\u001b[0m\u001b[37m\u001b[0m \u001b[1m0s\u001b[0m 6ms/step - loss: 0.0092 - mae: 0.0664 - mse: 0.0092 - val_loss: 0.0085 - val_mae: 0.0601 - val_mse: 0.0085\n",
      "Epoch 28/100\n",
      "\u001b[1m29/29\u001b[0m \u001b[32m━━━━━━━━━━━━━━━━━━━━\u001b[0m\u001b[37m\u001b[0m \u001b[1m0s\u001b[0m 6ms/step - loss: 0.0082 - mae: 0.0623 - mse: 0.0082 - val_loss: 0.0089 - val_mae: 0.0628 - val_mse: 0.0089\n",
      "Epoch 29/100\n",
      "\u001b[1m29/29\u001b[0m \u001b[32m━━━━━━━━━━━━━━━━━━━━\u001b[0m\u001b[37m\u001b[0m \u001b[1m0s\u001b[0m 6ms/step - loss: 0.0096 - mae: 0.0674 - mse: 0.0096 - val_loss: 0.0087 - val_mae: 0.0602 - val_mse: 0.0087\n",
      "Epoch 30/100\n",
      "\u001b[1m29/29\u001b[0m \u001b[32m━━━━━━━━━━━━━━━━━━━━\u001b[0m\u001b[37m\u001b[0m \u001b[1m0s\u001b[0m 6ms/step - loss: 0.0089 - mae: 0.0628 - mse: 0.0089 - val_loss: 0.0082 - val_mae: 0.0585 - val_mse: 0.0082\n",
      "Epoch 31/100\n",
      "\u001b[1m29/29\u001b[0m \u001b[32m━━━━━━━━━━━━━━━━━━━━\u001b[0m\u001b[37m\u001b[0m \u001b[1m0s\u001b[0m 6ms/step - loss: 0.0081 - mae: 0.0608 - mse: 0.0081 - val_loss: 0.0088 - val_mae: 0.0612 - val_mse: 0.0088\n",
      "Epoch 32/100\n",
      "\u001b[1m29/29\u001b[0m \u001b[32m━━━━━━━━━━━━━━━━━━━━\u001b[0m\u001b[37m\u001b[0m \u001b[1m0s\u001b[0m 6ms/step - loss: 0.0098 - mae: 0.0650 - mse: 0.0098 - val_loss: 0.0083 - val_mae: 0.0587 - val_mse: 0.0083\n",
      "Epoch 33/100\n",
      "\u001b[1m29/29\u001b[0m \u001b[32m━━━━━━━━━━━━━━━━━━━━\u001b[0m\u001b[37m\u001b[0m \u001b[1m0s\u001b[0m 6ms/step - loss: 0.0087 - mae: 0.0648 - mse: 0.0087 - val_loss: 0.0088 - val_mae: 0.0600 - val_mse: 0.0088\n",
      "Epoch 34/100\n",
      "\u001b[1m29/29\u001b[0m \u001b[32m━━━━━━━━━━━━━━━━━━━━\u001b[0m\u001b[37m\u001b[0m \u001b[1m0s\u001b[0m 6ms/step - loss: 0.0090 - mae: 0.0637 - mse: 0.0090 - val_loss: 0.0082 - val_mae: 0.0604 - val_mse: 0.0082\n",
      "Epoch 35/100\n",
      "\u001b[1m29/29\u001b[0m \u001b[32m━━━━━━━━━━━━━━━━━━━━\u001b[0m\u001b[37m\u001b[0m \u001b[1m0s\u001b[0m 8ms/step - loss: 0.0091 - mae: 0.0645 - mse: 0.0091 - val_loss: 0.0098 - val_mae: 0.0636 - val_mse: 0.0098\n",
      "Epoch 36/100\n",
      "\u001b[1m29/29\u001b[0m \u001b[32m━━━━━━━━━━━━━━━━━━━━\u001b[0m\u001b[37m\u001b[0m \u001b[1m0s\u001b[0m 8ms/step - loss: 0.0088 - mae: 0.0643 - mse: 0.0088 - val_loss: 0.0083 - val_mae: 0.0568 - val_mse: 0.0083\n",
      "Epoch 37/100\n",
      "\u001b[1m29/29\u001b[0m \u001b[32m━━━━━━━━━━━━━━━━━━━━\u001b[0m\u001b[37m\u001b[0m \u001b[1m0s\u001b[0m 7ms/step - loss: 0.0082 - mae: 0.0619 - mse: 0.0082 - val_loss: 0.0083 - val_mae: 0.0580 - val_mse: 0.0083\n",
      "Epoch 38/100\n",
      "\u001b[1m29/29\u001b[0m \u001b[32m━━━━━━━━━━━━━━━━━━━━\u001b[0m\u001b[37m\u001b[0m \u001b[1m0s\u001b[0m 8ms/step - loss: 0.0078 - mae: 0.0594 - mse: 0.0078 - val_loss: 0.0087 - val_mae: 0.0609 - val_mse: 0.0087\n",
      "Epoch 39/100\n",
      "\u001b[1m29/29\u001b[0m \u001b[32m━━━━━━━━━━━━━━━━━━━━\u001b[0m\u001b[37m\u001b[0m \u001b[1m0s\u001b[0m 8ms/step - loss: 0.0083 - mae: 0.0615 - mse: 0.0083 - val_loss: 0.0080 - val_mae: 0.0566 - val_mse: 0.0080\n",
      "Epoch 40/100\n",
      "\u001b[1m29/29\u001b[0m \u001b[32m━━━━━━━━━━━━━━━━━━━━\u001b[0m\u001b[37m\u001b[0m \u001b[1m0s\u001b[0m 6ms/step - loss: 0.0080 - mae: 0.0606 - mse: 0.0080 - val_loss: 0.0079 - val_mae: 0.0579 - val_mse: 0.0079\n",
      "Epoch 41/100\n",
      "\u001b[1m29/29\u001b[0m \u001b[32m━━━━━━━━━━━━━━━━━━━━\u001b[0m\u001b[37m\u001b[0m \u001b[1m0s\u001b[0m 6ms/step - loss: 0.0081 - mae: 0.0606 - mse: 0.0081 - val_loss: 0.0078 - val_mae: 0.0581 - val_mse: 0.0078\n",
      "Epoch 42/100\n",
      "\u001b[1m29/29\u001b[0m \u001b[32m━━━━━━━━━━━━━━━━━━━━\u001b[0m\u001b[37m\u001b[0m \u001b[1m0s\u001b[0m 6ms/step - loss: 0.0082 - mae: 0.0606 - mse: 0.0082 - val_loss: 0.0080 - val_mae: 0.0574 - val_mse: 0.0080\n",
      "Epoch 43/100\n",
      "\u001b[1m29/29\u001b[0m \u001b[32m━━━━━━━━━━━━━━━━━━━━\u001b[0m\u001b[37m\u001b[0m \u001b[1m0s\u001b[0m 6ms/step - loss: 0.0076 - mae: 0.0566 - mse: 0.0076 - val_loss: 0.0080 - val_mae: 0.0584 - val_mse: 0.0080\n",
      "Epoch 44/100\n",
      "\u001b[1m29/29\u001b[0m \u001b[32m━━━━━━━━━━━━━━━━━━━━\u001b[0m\u001b[37m\u001b[0m \u001b[1m0s\u001b[0m 6ms/step - loss: 0.0073 - mae: 0.0589 - mse: 0.0073 - val_loss: 0.0081 - val_mae: 0.0595 - val_mse: 0.0081\n",
      "Epoch 45/100\n",
      "\u001b[1m29/29\u001b[0m \u001b[32m━━━━━━━━━━━━━━━━━━━━\u001b[0m\u001b[37m\u001b[0m \u001b[1m0s\u001b[0m 6ms/step - loss: 0.0077 - mae: 0.0597 - mse: 0.0077 - val_loss: 0.0079 - val_mae: 0.0575 - val_mse: 0.0079\n",
      "Epoch 46/100\n",
      "\u001b[1m29/29\u001b[0m \u001b[32m━━━━━━━━━━━━━━━━━━━━\u001b[0m\u001b[37m\u001b[0m \u001b[1m0s\u001b[0m 6ms/step - loss: 0.0079 - mae: 0.0594 - mse: 0.0079 - val_loss: 0.0079 - val_mae: 0.0571 - val_mse: 0.0079\n",
      "Epoch 47/100\n",
      "\u001b[1m29/29\u001b[0m \u001b[32m━━━━━━━━━━━━━━━━━━━━\u001b[0m\u001b[37m\u001b[0m \u001b[1m0s\u001b[0m 6ms/step - loss: 0.0077 - mae: 0.0589 - mse: 0.0077 - val_loss: 0.0078 - val_mae: 0.0563 - val_mse: 0.0078\n",
      "Epoch 48/100\n",
      "\u001b[1m29/29\u001b[0m \u001b[32m━━━━━━━━━━━━━━━━━━━━\u001b[0m\u001b[37m\u001b[0m \u001b[1m0s\u001b[0m 6ms/step - loss: 0.0076 - mae: 0.0576 - mse: 0.0076 - val_loss: 0.0079 - val_mae: 0.0570 - val_mse: 0.0079\n",
      "Epoch 49/100\n",
      "\u001b[1m29/29\u001b[0m \u001b[32m━━━━━━━━━━━━━━━━━━━━\u001b[0m\u001b[37m\u001b[0m \u001b[1m0s\u001b[0m 6ms/step - loss: 0.0074 - mae: 0.0585 - mse: 0.0074 - val_loss: 0.0078 - val_mae: 0.0587 - val_mse: 0.0078\n",
      "Epoch 50/100\n",
      "\u001b[1m29/29\u001b[0m \u001b[32m━━━━━━━━━━━━━━━━━━━━\u001b[0m\u001b[37m\u001b[0m \u001b[1m0s\u001b[0m 6ms/step - loss: 0.0080 - mae: 0.0611 - mse: 0.0080 - val_loss: 0.0075 - val_mae: 0.0553 - val_mse: 0.0075\n",
      "Epoch 51/100\n",
      "\u001b[1m29/29\u001b[0m \u001b[32m━━━━━━━━━━━━━━━━━━━━\u001b[0m\u001b[37m\u001b[0m \u001b[1m0s\u001b[0m 6ms/step - loss: 0.0083 - mae: 0.0603 - mse: 0.0083 - val_loss: 0.0078 - val_mae: 0.0563 - val_mse: 0.0078\n",
      "Epoch 52/100\n",
      "\u001b[1m29/29\u001b[0m \u001b[32m━━━━━━━━━━━━━━━━━━━━\u001b[0m\u001b[37m\u001b[0m \u001b[1m0s\u001b[0m 7ms/step - loss: 0.0071 - mae: 0.0572 - mse: 0.0071 - val_loss: 0.0077 - val_mae: 0.0558 - val_mse: 0.0077\n",
      "Epoch 53/100\n",
      "\u001b[1m29/29\u001b[0m \u001b[32m━━━━━━━━━━━━━━━━━━━━\u001b[0m\u001b[37m\u001b[0m \u001b[1m0s\u001b[0m 6ms/step - loss: 0.0077 - mae: 0.0590 - mse: 0.0077 - val_loss: 0.0079 - val_mae: 0.0574 - val_mse: 0.0079\n",
      "Epoch 54/100\n",
      "\u001b[1m29/29\u001b[0m \u001b[32m━━━━━━━━━━━━━━━━━━━━\u001b[0m\u001b[37m\u001b[0m \u001b[1m0s\u001b[0m 6ms/step - loss: 0.0072 - mae: 0.0579 - mse: 0.0072 - val_loss: 0.0076 - val_mae: 0.0564 - val_mse: 0.0076\n",
      "Epoch 55/100\n",
      "\u001b[1m29/29\u001b[0m \u001b[32m━━━━━━━━━━━━━━━━━━━━\u001b[0m\u001b[37m\u001b[0m \u001b[1m0s\u001b[0m 6ms/step - loss: 0.0075 - mae: 0.0576 - mse: 0.0075 - val_loss: 0.0076 - val_mae: 0.0568 - val_mse: 0.0076\n",
      "Epoch 56/100\n",
      "\u001b[1m29/29\u001b[0m \u001b[32m━━━━━━━━━━━━━━━━━━━━\u001b[0m\u001b[37m\u001b[0m \u001b[1m0s\u001b[0m 6ms/step - loss: 0.0077 - mae: 0.0595 - mse: 0.0077 - val_loss: 0.0076 - val_mae: 0.0562 - val_mse: 0.0076\n",
      "Epoch 57/100\n",
      "\u001b[1m29/29\u001b[0m \u001b[32m━━━━━━━━━━━━━━━━━━━━\u001b[0m\u001b[37m\u001b[0m \u001b[1m0s\u001b[0m 9ms/step - loss: 0.0072 - mae: 0.0575 - mse: 0.0072 - val_loss: 0.0074 - val_mae: 0.0550 - val_mse: 0.0074\n",
      "Epoch 58/100\n",
      "\u001b[1m29/29\u001b[0m \u001b[32m━━━━━━━━━━━━━━━━━━━━\u001b[0m\u001b[37m\u001b[0m \u001b[1m0s\u001b[0m 6ms/step - loss: 0.0075 - mae: 0.0577 - mse: 0.0075 - val_loss: 0.0075 - val_mae: 0.0560 - val_mse: 0.0075\n",
      "Epoch 59/100\n",
      "\u001b[1m29/29\u001b[0m \u001b[32m━━━━━━━━━━━━━━━━━━━━\u001b[0m\u001b[37m\u001b[0m \u001b[1m0s\u001b[0m 6ms/step - loss: 0.0075 - mae: 0.0575 - mse: 0.0075 - val_loss: 0.0076 - val_mae: 0.0555 - val_mse: 0.0076\n",
      "Epoch 60/100\n",
      "\u001b[1m29/29\u001b[0m \u001b[32m━━━━━━━━━━━━━━━━━━━━\u001b[0m\u001b[37m\u001b[0m \u001b[1m0s\u001b[0m 6ms/step - loss: 0.0073 - mae: 0.0576 - mse: 0.0073 - val_loss: 0.0075 - val_mae: 0.0555 - val_mse: 0.0075\n",
      "Epoch 61/100\n",
      "\u001b[1m29/29\u001b[0m \u001b[32m━━━━━━━━━━━━━━━━━━━━\u001b[0m\u001b[37m\u001b[0m \u001b[1m0s\u001b[0m 8ms/step - loss: 0.0077 - mae: 0.0582 - mse: 0.0077 - val_loss: 0.0078 - val_mae: 0.0558 - val_mse: 0.0078\n",
      "Epoch 62/100\n",
      "\u001b[1m29/29\u001b[0m \u001b[32m━━━━━━━━━━━━━━━━━━━━\u001b[0m\u001b[37m\u001b[0m \u001b[1m0s\u001b[0m 6ms/step - loss: 0.0070 - mae: 0.0565 - mse: 0.0070 - val_loss: 0.0076 - val_mae: 0.0560 - val_mse: 0.0076\n",
      "Epoch 63/100\n",
      "\u001b[1m29/29\u001b[0m \u001b[32m━━━━━━━━━━━━━━━━━━━━\u001b[0m\u001b[37m\u001b[0m \u001b[1m0s\u001b[0m 6ms/step - loss: 0.0073 - mae: 0.0562 - mse: 0.0073 - val_loss: 0.0073 - val_mae: 0.0543 - val_mse: 0.0073\n",
      "Epoch 64/100\n",
      "\u001b[1m29/29\u001b[0m \u001b[32m━━━━━━━━━━━━━━━━━━━━\u001b[0m\u001b[37m\u001b[0m \u001b[1m0s\u001b[0m 6ms/step - loss: 0.0079 - mae: 0.0588 - mse: 0.0079 - val_loss: 0.0076 - val_mae: 0.0545 - val_mse: 0.0076\n",
      "Epoch 65/100\n",
      "\u001b[1m29/29\u001b[0m \u001b[32m━━━━━━━━━━━━━━━━━━━━\u001b[0m\u001b[37m\u001b[0m \u001b[1m0s\u001b[0m 6ms/step - loss: 0.0073 - mae: 0.0568 - mse: 0.0073 - val_loss: 0.0074 - val_mae: 0.0559 - val_mse: 0.0074\n",
      "Epoch 66/100\n",
      "\u001b[1m29/29\u001b[0m \u001b[32m━━━━━━━━━━━━━━━━━━━━\u001b[0m\u001b[37m\u001b[0m \u001b[1m0s\u001b[0m 6ms/step - loss: 0.0067 - mae: 0.0559 - mse: 0.0067 - val_loss: 0.0077 - val_mae: 0.0573 - val_mse: 0.0077\n",
      "Epoch 67/100\n",
      "\u001b[1m29/29\u001b[0m \u001b[32m━━━━━━━━━━━━━━━━━━━━\u001b[0m\u001b[37m\u001b[0m \u001b[1m0s\u001b[0m 6ms/step - loss: 0.0068 - mae: 0.0547 - mse: 0.0068 - val_loss: 0.0075 - val_mae: 0.0541 - val_mse: 0.0075\n",
      "Epoch 68/100\n",
      "\u001b[1m29/29\u001b[0m \u001b[32m━━━━━━━━━━━━━━━━━━━━\u001b[0m\u001b[37m\u001b[0m \u001b[1m0s\u001b[0m 6ms/step - loss: 0.0072 - mae: 0.0582 - mse: 0.0072 - val_loss: 0.0077 - val_mae: 0.0570 - val_mse: 0.0077\n",
      "Epoch 69/100\n",
      "\u001b[1m29/29\u001b[0m \u001b[32m━━━━━━━━━━━━━━━━━━━━\u001b[0m\u001b[37m\u001b[0m \u001b[1m0s\u001b[0m 6ms/step - loss: 0.0074 - mae: 0.0580 - mse: 0.0074 - val_loss: 0.0075 - val_mae: 0.0558 - val_mse: 0.0075\n",
      "Epoch 70/100\n",
      "\u001b[1m29/29\u001b[0m \u001b[32m━━━━━━━━━━━━━━━━━━━━\u001b[0m\u001b[37m\u001b[0m \u001b[1m0s\u001b[0m 6ms/step - loss: 0.0076 - mae: 0.0593 - mse: 0.0076 - val_loss: 0.0077 - val_mae: 0.0567 - val_mse: 0.0077\n",
      "Epoch 71/100\n",
      "\u001b[1m29/29\u001b[0m \u001b[32m━━━━━━━━━━━━━━━━━━━━\u001b[0m\u001b[37m\u001b[0m \u001b[1m0s\u001b[0m 6ms/step - loss: 0.0071 - mae: 0.0576 - mse: 0.0071 - val_loss: 0.0075 - val_mae: 0.0559 - val_mse: 0.0075\n",
      "Epoch 72/100\n",
      "\u001b[1m29/29\u001b[0m \u001b[32m━━━━━━━━━━━━━━━━━━━━\u001b[0m\u001b[37m\u001b[0m \u001b[1m0s\u001b[0m 7ms/step - loss: 0.0074 - mae: 0.0586 - mse: 0.0074 - val_loss: 0.0075 - val_mae: 0.0542 - val_mse: 0.0075\n",
      "Epoch 73/100\n",
      "\u001b[1m29/29\u001b[0m \u001b[32m━━━━━━━━━━━━━━━━━━━━\u001b[0m\u001b[37m\u001b[0m \u001b[1m0s\u001b[0m 9ms/step - loss: 0.0069 - mae: 0.0549 - mse: 0.0069 - val_loss: 0.0075 - val_mae: 0.0545 - val_mse: 0.0075\n"
     ]
    },
    {
     "data": {
      "image/png": "[encoded data removed]",
      "text/plain": [
       "<Figure size 1200x600 with 1 Axes>"
      ]
     },
     "metadata": {},
     "output_type": "display_data"
    },
    {
     "name": "stdout",
     "output_type": "stream",
     "text": [
      "\u001b[1m4/4\u001b[0m \u001b[32m━━━━━━━━━━━━━━━━━━━━\u001b[0m\u001b[37m\u001b[0m \u001b[1m0s\u001b[0m 13ms/step - loss: 0.0099 - mae: 0.0651 - mse: 0.0099\n",
      "Validation Loss : 0.007294331211596727\n",
      "Validation MAE: 0.0542922243475914\n",
      "Validation MSE: 0.007294331211596727\n",
      "Validation RMSE: 0.0854068569354752\n",
      "\u001b[1m8/8\u001b[0m \u001b[32m━━━━━━━━━━━━━━━━━━━━\u001b[0m\u001b[37m\u001b[0m \u001b[1m0s\u001b[0m 27ms/step\n",
      "Test MAE: 244.60156835967692\n",
      "Test MSE: 138087.00223843878\n",
      "Test RMSE: 371.60059504586206\n",
      "Test R²: 0.7146770187042414\n",
      "Test CVRMSE: 0.5983871829170914\n"
     ]
    }
   ],
   "source": [
    "model2, history2, loss2, mae2, mse2, rmse2, mae_test2, mse_test2, rmse_test2, r2, cvrmse, predictions2 = model_lstm(\n",
    "    X_train2, \n",
    "    y_train2, \n",
    "    X_test2, \n",
    "    y_test2, \n",
    "    scaler_X, \n",
    "    scaler_y\n",
    ")\n",
    "  "
   ]
  },
  {
   "cell_type": "code",
   "execution_count": 42,
   "id": "7b0b4ef7",
   "metadata": {},
   "outputs": [
    {
     "data": {
      "application/vnd.plotly.v1+json": {
       "config": {
        "plotlyServerURL": "https://plot.ly"
       },
       "data": [
        {
         "line": {
          "color": "blue"
         },
         "mode": "lines+markers",
         "name": "Valeurs Réelles",
         "type": "scatter",
         "x": [
          0,
          1,
          2,
          3,
          4,
          5,
          6,
          7,
          8,
          9,
          10,
          11,
          12,
          13,
          14,
          15,
          16,
          17,
          18,
          19,
          20,
          21,
          22,
          23,
          24,
          25,
          26,
          27,
          28,
          29,
          30,
          31,
          32,
          33,
          34,
          35,
          36,
          37,
          38,
          39,
          40,
          41,
          42,
          43,
          44,
          45,
          46,
          47,
          48,
          49,
          50,
          51,
          52,
          53,
          54,
          55,
          56,
          57,
          58,
          59,
          60,
          61,
          62,
          63,
          64,
          65,
          66,
          67,
          68,
          69,
          70,
          71,
          72,
          73,
          74,
          75,
          76,
          77,
          78,
          79,
          80,
          81,
          82,
          83,
          84,
          85,
          86,
          87,
          88,
          89,
          90,
          91,
          92,
          93,
          94,
          95,
          96,
          97,
          98,
          99,
          100,
          101,
          102,
          103,
          104,
          105,
          106,
          107,
          108,
          109,
          110,
          111,
          112,
          113,
          114,
          115,
          116,
          117,
          118,
          119
         ],
         "y": [
          866.9641080017461,
          955.6731972890483,
          1066.7541996464934,
          1187.570233425744,
          1271.307972245042,
          1338.5409985251972,
          1367.7235953531415,
          1383.963862322038,
          1411.2283230455432,
          1434.0410317073038,
          1371.7914519760234,
          1006.438400502615,
          178.58766535315226,
          101.89614865947078,
          0,
          30.08954907002772,
          149.1363771921242,
          353.6259076021015,
          490.8235208436672,
          628.931916388894,
          765.8612821844144,
          892.0642132179854,
          1003.0203180915196,
          1134.8480946838536,
          0,
          0,
          0,
          0,
          0,
          0,
          0,
          0,
          0,
          0,
          0,
          0,
          0,
          0,
          0,
          0,
          0,
          0,
          0,
          0,
          0,
          0,
          0,
          0,
          0,
          0,
          0,
          0,
          0,
          0,
          0,
          0,
          0,
          0,
          0,
          0,
          0,
          0,
          0,
          0,
          0,
          0,
          0,
          0,
          0,
          0,
          0,
          0,
          0,
          0,
          0,
          0,
          0,
          0,
          0,
          49.388051661277125,
          340.4595583139453,
          320.994732519408,
          309.50693067860993,
          0,
          0,
          0,
          41.76585369136592,
          0,
          0,
          0,
          0,
          0,
          0,
          120.69347303088581,
          256.0754835380285,
          389.4113803407236,
          740.7761764626848,
          819.7104934075832,
          893.9360417970529,
          975.888167136989,
          1060.3089877522798,
          1110.7133756654584,
          1424.2043729206853,
          1760.2968750590153,
          2077.896839139852,
          2040.8283992708243,
          1910.7546337650565,
          1367.9423303205258,
          1742.2463068778234,
          1584.3921288103013,
          1464.3892623678184,
          1334.9092584524917,
          878.787644214317,
          469.4680039840532,
          679.1799368241627,
          929.5143560576762,
          1092.4501527762695,
          1195.343445092054,
          1263.8757624787904,
          1331.9076777402588
         ]
        },
        {
         "line": {
          "color": "orange"
         },
         "mode": "lines+markers",
         "name": "Prédictions",
         "type": "scatter",
         "x": [
          0,
          1,
          2,
          3,
          4,
          5,
          6,
          7,
          8,
          9,
          10,
          11,
          12,
          13,
          14,
          15,
          16,
          17,
          18,
          19,
          20,
          21,
          22,
          23,
          24,
          25,
          26,
          27,
          28,
          29,
          30,
          31,
          32,
          33,
          34,
          35,
          36,
          37,
          38,
          39,
          40,
          41,
          42,
          43,
          44,
          45,
          46,
          47,
          48,
          49,
          50,
          51,
          52,
          53,
          54,
          55,
          56,
          57,
          58,
          59,
          60,
          61,
          62,
          63,
          64,
          65,
          66,
          67,
          68,
          69,
          70,
          71,
          72,
          73,
          74,
          75,
          76,
          77,
          78,
          79,
          80,
          81,
          82,
          83,
          84,
          85,
          86,
          87,
          88,
          89,
          90,
          91,
          92,
          93,
          94,
          95,
          96,
          97,
          98,
          99,
          100,
          101,
          102,
          103,
          104,
          105,
          106,
          107,
          108,
          109,
          110,
          111,
          112,
          113,
          114,
          115,
          116,
          117,
          118,
          119
         ],
         "y": [
          820.8226928710938,
          930.9061889648438,
          1037.8023681640625,
          1119.597412109375,
          1170.231201171875,
          1280.8994140625,
          1604.69775390625,
          1928.359130859375,
          1968.272216796875,
          1495.02587890625,
          1007.649169921875,
          500.2828369140625,
          505.7491149902344,
          455.2427062988281,
          388.1709899902344,
          361.3094787597656,
          304.54974365234375,
          307.5028991699219,
          323.1507568359375,
          391.78155517578125,
          457.01971435546875,
          510.0814514160156,
          594.2122192382812,
          664.6214599609375,
          -5.300509452819824,
          -12.746996879577637,
          2.6193549633026123,
          -21.79440689086914,
          19.547801971435547,
          9.492121696472168,
          28.131324768066406,
          57.67083740234375,
          107.32874298095703,
          97.60599517822266,
          32.852474212646484,
          -11.601832389831543,
          -15.042681694030762,
          -33.708065032958984,
          -42.433319091796875,
          -18.323345184326172,
          -24.672801971435547,
          -37.57619094848633,
          -27.5269718170166,
          -17.039934158325195,
          -11.122146606445312,
          -13.362176895141602,
          -4.092933177947998,
          27.593061447143555,
          107.55443572998047,
          95.6340103149414,
          66.58656311035156,
          31.381336212158203,
          37.79484176635742,
          -31.73455238342285,
          -81.94744110107422,
          -150.14942932128906,
          -177.61280822753906,
          -46.37904739379883,
          81.49468994140625,
          51.6003303527832,
          -46.276145935058594,
          -38.08614730834961,
          -52.56267166137695,
          -90.77196502685547,
          -52.73736572265625,
          -16.284509658813477,
          -2.418112277984619,
          13.909736633300781,
          42.543060302734375,
          36.2108268737793,
          84.84043884277344,
          107.94731903076172,
          17.94400405883789,
          13.218843460083008,
          46.74137496948242,
          49.41455841064453,
          105.84326934814453,
          130.79278564453125,
          277.01275634765625,
          501.28515625,
          547.855712890625,
          404.69903564453125,
          321.9122314453125,
          210.4729461669922,
          250.12904357910156,
          190.93789672851562,
          185.38946533203125,
          181.38739013671875,
          148.87826538085938,
          150.2800750732422,
          173.94960021972656,
          176.801513671875,
          211.24298095703125,
          250.94985961914062,
          269.3912353515625,
          311.1038818359375,
          805.97509765625,
          870.3916625976562,
          989.59375,
          1038.696533203125,
          1130.9437255859375,
          1155.692626953125,
          1431.30078125,
          1748.1142578125,
          1895.2662353515625,
          1645.8553466796875,
          1231.1959228515625,
          424.6292724609375,
          363.9278564453125,
          229.68357849121094,
          142.19073486328125,
          152.03636169433594,
          97.76151275634766,
          128.9403076171875,
          149.76275634765625,
          214.9736785888672,
          251.44053649902344,
          352.2991027832031,
          438.0648193359375,
          529.0162963867188
         ]
        }
       ],
       "layout": {
        "hovermode": "x unified",
        "legend": {
         "x": 0.01,
         "y": 0.99
        },
        "shapes": [
         {
          "line": {
           "color": "gray",
           "dash": "dash"
          },
          "opacity": 0.3,
          "type": "line",
          "x0": 24,
          "x1": 24,
          "xref": "x",
          "y0": 0,
          "y1": 1,
          "yref": "y domain"
         },
         {
          "line": {
           "color": "gray",
           "dash": "dash"
          },
          "opacity": 0.3,
          "type": "line",
          "x0": 48,
          "x1": 48,
          "xref": "x",
          "y0": 0,
          "y1": 1,
          "yref": "y domain"
         },
         {
          "line": {
           "color": "gray",
           "dash": "dash"
          },
          "opacity": 0.3,
          "type": "line",
          "x0": 72,
          "x1": 72,
          "xref": "x",
          "y0": 0,
          "y1": 1,
          "yref": "y domain"
         },
         {
          "line": {
           "color": "gray",
           "dash": "dash"
          },
          "opacity": 0.3,
          "type": "line",
          "x0": 96,
          "x1": 96,
          "xref": "x",
          "y0": 0,
          "y1": 1,
          "yref": "y domain"
         }
        ],
        "template": {
         "data": {
          "bar": [
           {
            "error_x": {
             "color": "#2a3f5f"
            },
            "error_y": {
             "color": "#2a3f5f"
            },
            "marker": {
             "line": {
              "color": "#E5ECF6",
              "width": 0.5
             },
             "pattern": {
              "fillmode": "overlay",
              "size": 10,
              "solidity": 0.2
             }
            },
            "type": "bar"
           }
          ],
          "barpolar": [
           {
            "marker": {
             "line": {
              "color": "#E5ECF6",
              "width": 0.5
             },
             "pattern": {
              "fillmode": "overlay",
              "size": 10,
              "solidity": 0.2
             }
            },
            "type": "barpolar"
           }
          ],
          "carpet": [
           {
            "aaxis": {
             "endlinecolor": "#2a3f5f",
             "gridcolor": "white",
             "linecolor": "white",
             "minorgridcolor": "white",
             "startlinecolor": "#2a3f5f"
            },
            "baxis": {
             "endlinecolor": "#2a3f5f",
             "gridcolor": "white",
             "linecolor": "white",
             "minorgridcolor": "white",
             "startlinecolor": "#2a3f5f"
            },
            "type": "carpet"
           }
          ],
          "choropleth": [
           {
            "colorbar": {
             "outlinewidth": 0,
             "ticks": ""
            },
            "type": "choropleth"
           }
          ],
          "contour": [
           {
            "colorbar": {
             "outlinewidth": 0,
             "ticks": ""
            },
            "colorscale": [
             [
              0,
              "#0d0887"
             ],
             [
              0.1111111111111111,
              "#46039f"
             ],
             [
              0.2222222222222222,
              "#7201a8"
             ],
             [
              0.3333333333333333,
              "#9c179e"
             ],
             [
              0.4444444444444444,
              "#bd3786"
             ],
             [
              0.5555555555555556,
              "#d8576b"
             ],
             [
              0.6666666666666666,
              "#ed7953"
             ],
             [
              0.7777777777777778,
              "#fb9f3a"
             ],
             [
              0.8888888888888888,
              "#fdca26"
             ],
             [
              1,
              "#f0f921"
             ]
            ],
            "type": "contour"
           }
          ],
          "contourcarpet": [
           {
            "colorbar": {
             "outlinewidth": 0,
             "ticks": ""
            },
            "type": "contourcarpet"
           }
          ],
          "heatmap": [
           {
            "colorbar": {
             "outlinewidth": 0,
             "ticks": ""
            },
            "colorscale": [
             [
              0,
              "#0d0887"
             ],
             [
              0.1111111111111111,
              "#46039f"
             ],
             [
              0.2222222222222222,
              "#7201a8"
             ],
             [
              0.3333333333333333,
              "#9c179e"
             ],
             [
              0.4444444444444444,
              "#bd3786"
             ],
             [
              0.5555555555555556,
              "#d8576b"
             ],
             [
              0.6666666666666666,
              "#ed7953"
             ],
             [
              0.7777777777777778,
              "#fb9f3a"
             ],
             [
              0.8888888888888888,
              "#fdca26"
             ],
             [
              1,
              "#f0f921"
             ]
            ],
            "type": "heatmap"
           }
          ],
          "histogram": [
           {
            "marker": {
             "pattern": {
              "fillmode": "overlay",
              "size": 10,
              "solidity": 0.2
             }
            },
            "type": "histogram"
           }
          ],
          "histogram2d": [
           {
            "colorbar": {
             "outlinewidth": 0,
             "ticks": ""
            },
            "colorscale": [
             [
              0,
              "#0d0887"
             ],
             [
              0.1111111111111111,
              "#46039f"
             ],
             [
              0.2222222222222222,
              "#7201a8"
             ],
             [
              0.3333333333333333,
              "#9c179e"
             ],
             [
              0.4444444444444444,
              "#bd3786"
             ],
             [
              0.5555555555555556,
              "#d8576b"
             ],
             [
              0.6666666666666666,
              "#ed7953"
             ],
             [
              0.7777777777777778,
              "#fb9f3a"
             ],
             [
              0.8888888888888888,
              "#fdca26"
             ],
             [
              1,
              "#f0f921"
             ]
            ],
            "type": "histogram2d"
           }
          ],
          "histogram2dcontour": [
           {
            "colorbar": {
             "outlinewidth": 0,
             "ticks": ""
            },
            "colorscale": [
             [
              0,
              "#0d0887"
             ],
             [
              0.1111111111111111,
              "#46039f"
             ],
             [
              0.2222222222222222,
              "#7201a8"
             ],
             [
              0.3333333333333333,
              "#9c179e"
             ],
             [
              0.4444444444444444,
              "#bd3786"
             ],
             [
              0.5555555555555556,
              "#d8576b"
             ],
             [
              0.6666666666666666,
              "#ed7953"
             ],
             [
              0.7777777777777778,
              "#fb9f3a"
             ],
             [
              0.8888888888888888,
              "#fdca26"
             ],
             [
              1,
              "#f0f921"
             ]
            ],
            "type": "histogram2dcontour"
           }
          ],
          "mesh3d": [
           {
            "colorbar": {
             "outlinewidth": 0,
             "ticks": ""
            },
            "type": "mesh3d"
           }
          ],
          "parcoords": [
           {
            "line": {
             "colorbar": {
              "outlinewidth": 0,
              "ticks": ""
             }
            },
            "type": "parcoords"
           }
          ],
          "pie": [
           {
            "automargin": true,
            "type": "pie"
           }
          ],
          "scatter": [
           {
            "fillpattern": {
             "fillmode": "overlay",
             "size": 10,
             "solidity": 0.2
            },
            "type": "scatter"
           }
          ],
          "scatter3d": [
           {
            "line": {
             "colorbar": {
              "outlinewidth": 0,
              "ticks": ""
             }
            },
            "marker": {
             "colorbar": {
              "outlinewidth": 0,
              "ticks": ""
             }
            },
            "type": "scatter3d"
           }
          ],
          "scattercarpet": [
           {
            "marker": {
             "colorbar": {
              "outlinewidth": 0,
              "ticks": ""
             }
            },
            "type": "scattercarpet"
           }
          ],
          "scattergeo": [
           {
            "marker": {
             "colorbar": {
              "outlinewidth": 0,
              "ticks": ""
             }
            },
            "type": "scattergeo"
           }
          ],
          "scattergl": [
           {
            "marker": {
             "colorbar": {
              "outlinewidth": 0,
              "ticks": ""
             }
            },
            "type": "scattergl"
           }
          ],
          "scattermap": [
           {
            "marker": {
             "colorbar": {
              "outlinewidth": 0,
              "ticks": ""
             }
            },
            "type": "scattermap"
           }
          ],
          "scattermapbox": [
           {
            "marker": {
             "colorbar": {
              "outlinewidth": 0,
              "ticks": ""
             }
            },
            "type": "scattermapbox"
           }
          ],
          "scatterpolar": [
           {
            "marker": {
             "colorbar": {
              "outlinewidth": 0,
              "ticks": ""
             }
            },
            "type": "scatterpolar"
           }
          ],
          "scatterpolargl": [
           {
            "marker": {
             "colorbar": {
              "outlinewidth": 0,
              "ticks": ""
             }
            },
            "type": "scatterpolargl"
           }
          ],
          "scatterternary": [
           {
            "marker": {
             "colorbar": {
              "outlinewidth": 0,
              "ticks": ""
             }
            },
            "type": "scatterternary"
           }
          ],
          "surface": [
           {
            "colorbar": {
             "outlinewidth": 0,
             "ticks": ""
            },
            "colorscale": [
             [
              0,
              "#0d0887"
             ],
             [
              0.1111111111111111,
              "#46039f"
             ],
             [
              0.2222222222222222,
              "#7201a8"
             ],
             [
              0.3333333333333333,
              "#9c179e"
             ],
             [
              0.4444444444444444,
              "#bd3786"
             ],
             [
              0.5555555555555556,
              "#d8576b"
             ],
             [
              0.6666666666666666,
              "#ed7953"
             ],
             [
              0.7777777777777778,
              "#fb9f3a"
             ],
             [
              0.8888888888888888,
              "#fdca26"
             ],
             [
              1,
              "#f0f921"
             ]
            ],
            "type": "surface"
           }
          ],
          "table": [
           {
            "cells": {
             "fill": {
              "color": "#EBF0F8"
             },
             "line": {
              "color": "white"
             }
            },
            "header": {
             "fill": {
              "color": "#C8D4E3"
             },
             "line": {
              "color": "white"
             }
            },
            "type": "table"
           }
          ]
         },
         "layout": {
          "annotationdefaults": {
           "arrowcolor": "#2a3f5f",
           "arrowhead": 0,
           "arrowwidth": 1
          },
          "autotypenumbers": "strict",
          "coloraxis": {
           "colorbar": {
            "outlinewidth": 0,
            "ticks": ""
           }
          },
          "colorscale": {
           "diverging": [
            [
             0,
             "#8e0152"
            ],
            [
             0.1,
             "#c51b7d"
            ],
            [
             0.2,
             "#de77ae"
            ],
            [
             0.3,
             "#f1b6da"
            ],
            [
             0.4,
             "#fde0ef"
            ],
            [
             0.5,
             "#f7f7f7"
            ],
            [
             0.6,
             "#e6f5d0"
            ],
            [
             0.7,
             "#b8e186"
            ],
            [
             0.8,
             "#7fbc41"
            ],
            [
             0.9,
             "#4d9221"
            ],
            [
             1,
             "#276419"
            ]
           ],
           "sequential": [
            [
             0,
             "#0d0887"
            ],
            [
             0.1111111111111111,
             "#46039f"
            ],
            [
             0.2222222222222222,
             "#7201a8"
            ],
            [
             0.3333333333333333,
             "#9c179e"
            ],
            [
             0.4444444444444444,
             "#bd3786"
            ],
            [
             0.5555555555555556,
             "#d8576b"
            ],
            [
             0.6666666666666666,
             "#ed7953"
            ],
            [
             0.7777777777777778,
             "#fb9f3a"
            ],
            [
             0.8888888888888888,
             "#fdca26"
            ],
            [
             1,
             "#f0f921"
            ]
           ],
           "sequentialminus": [
            [
             0,
             "#0d0887"
            ],
            [
             0.1111111111111111,
             "#46039f"
            ],
            [
             0.2222222222222222,
             "#7201a8"
            ],
            [
             0.3333333333333333,
             "#9c179e"
            ],
            [
             0.4444444444444444,
             "#bd3786"
            ],
            [
             0.5555555555555556,
             "#d8576b"
            ],
            [
             0.6666666666666666,
             "#ed7953"
            ],
            [
             0.7777777777777778,
             "#fb9f3a"
            ],
            [
             0.8888888888888888,
             "#fdca26"
            ],
            [
             1,
             "#f0f921"
            ]
           ]
          },
          "colorway": [
           "#636efa",
           "#EF553B",
           "#00cc96",
           "#ab63fa",
           "#FFA15A",
           "#19d3f3",
           "#FF6692",
           "#B6E880",
           "#FF97FF",
           "#FECB52"
          ],
          "font": {
           "color": "#2a3f5f"
          },
          "geo": {
           "bgcolor": "white",
           "lakecolor": "white",
           "landcolor": "#E5ECF6",
           "showlakes": true,
           "showland": true,
           "subunitcolor": "white"
          },
          "hoverlabel": {
           "align": "left"
          },
          "hovermode": "closest",
          "mapbox": {
           "style": "light"
          },
          "paper_bgcolor": "white",
          "plot_bgcolor": "#E5ECF6",
          "polar": {
           "angularaxis": {
            "gridcolor": "white",
            "linecolor": "white",
            "ticks": ""
           },
           "bgcolor": "#E5ECF6",
           "radialaxis": {
            "gridcolor": "white",
            "linecolor": "white",
            "ticks": ""
           }
          },
          "scene": {
           "xaxis": {
            "backgroundcolor": "#E5ECF6",
            "gridcolor": "white",
            "gridwidth": 2,
            "linecolor": "white",
            "showbackground": true,
            "ticks": "",
            "zerolinecolor": "white"
           },
           "yaxis": {
            "backgroundcolor": "#E5ECF6",
            "gridcolor": "white",
            "gridwidth": 2,
            "linecolor": "white",
            "showbackground": true,
            "ticks": "",
            "zerolinecolor": "white"
           },
           "zaxis": {
            "backgroundcolor": "#E5ECF6",
            "gridcolor": "white",
            "gridwidth": 2,
            "linecolor": "white",
            "showbackground": true,
            "ticks": "",
            "zerolinecolor": "white"
           }
          },
          "shapedefaults": {
           "line": {
            "color": "#2a3f5f"
           }
          },
          "ternary": {
           "aaxis": {
            "gridcolor": "white",
            "linecolor": "white",
            "ticks": ""
           },
           "baxis": {
            "gridcolor": "white",
            "linecolor": "white",
            "ticks": ""
           },
           "bgcolor": "#E5ECF6",
           "caxis": {
            "gridcolor": "white",
            "linecolor": "white",
            "ticks": ""
           }
          },
          "title": {
           "x": 0.05
          },
          "xaxis": {
           "automargin": true,
           "gridcolor": "white",
           "linecolor": "white",
           "ticks": "",
           "title": {
            "standoff": 15
           },
           "zerolinecolor": "white",
           "zerolinewidth": 2
          },
          "yaxis": {
           "automargin": true,
           "gridcolor": "white",
           "linecolor": "white",
           "ticks": "",
           "title": {
            "standoff": 15
           },
           "zerolinecolor": "white",
           "zerolinewidth": 2
          }
         }
        },
        "title": {
         "text": "Valeurs Réelles vs Prédictions (Interactif)"
        },
        "xaxis": {
         "tickmode": "array",
         "ticktext": [
          "Jour 1 - h0",
          "Jour 1 - h4",
          "Jour 1 - h8",
          "Jour 1 - h12",
          "Jour 1 - h16",
          "Jour 1 - h20",
          "Jour 2 - h0",
          "Jour 2 - h4",
          "Jour 2 - h8",
          "Jour 2 - h12",
          "Jour 2 - h16",
          "Jour 2 - h20",
          "Jour 3 - h0",
          "Jour 3 - h4",
          "Jour 3 - h8",
          "Jour 3 - h12",
          "Jour 3 - h16",
          "Jour 3 - h20",
          "Jour 4 - h0",
          "Jour 4 - h4",
          "Jour 4 - h8",
          "Jour 4 - h12",
          "Jour 4 - h16",
          "Jour 4 - h20",
          "Jour 5 - h0",
          "Jour 5 - h4",
          "Jour 5 - h8",
          "Jour 5 - h12",
          "Jour 5 - h16",
          "Jour 5 - h20"
         ],
         "tickvals": [
          0,
          4,
          8,
          12,
          16,
          20,
          24,
          28,
          32,
          36,
          40,
          44,
          48,
          52,
          56,
          60,
          64,
          68,
          72,
          76,
          80,
          84,
          88,
          92,
          96,
          100,
          104,
          108,
          112,
          116
         ],
         "title": {
          "text": "Temps (heures concaténées)"
         }
        },
        "yaxis": {
         "title": {
          "text": "Consommation de chauffage"
         }
        }
       }
      }
     },
     "metadata": {},
     "output_type": "display_data"
    }
   ],
   "source": [
    "plot_true_vs_predicted_interactive(indices=[15, 11, 13,32,89], y_test=y_test2, predictions=predictions2, scaler_cons=scaler_y)\n"
   ]
  },
  {
   "cell_type": "code",
   "execution_count": null,
   "id": "6160dd64",
   "metadata": {},
   "outputs": [],
   "source": []
  },
  {
   "cell_type": "code",
   "execution_count": null,
   "id": "56ae91f4",
   "metadata": {},
   "outputs": [],
   "source": []
  }
 ],
 "metadata": {
  "kernelspec": {
   "display_name": "notebook",
   "language": "python",
   "name": "python3"
  },
  "language_info": {
   "codemirror_mode": {
    "name": "ipython",
    "version": 3
   },
   "file_extension": ".py",
   "mimetype": "text/x-python",
   "name": "python",
   "nbconvert_exporter": "python",
   "pygments_lexer": "ipython3",
   "version": "3.12.9"
  }
 },
 "nbformat": 4,
 "nbformat_minor": 5
}
