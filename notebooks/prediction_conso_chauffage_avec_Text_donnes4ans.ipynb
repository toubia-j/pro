{
 "cells": [
  {
   "cell_type": "markdown",
   "id": "26d11648",
   "metadata": {},
   "source": [
    "# 📘 Notebook – Fonctions de Clustering et de Prédiction\n",
    "\n",
    "Ce notebook regroupe les **fonctions utilisées pour le clustering et la prédiction** de la consommation énergétique à partir de données de température et de consommation.\n",
    "\n",
    "- 📂 Les **chemins des fichiers** (datasets, modèles, etc.) sont définis dans le fichier `files.py`.\n",
    "- 🧩 Les **fonctions de traitement** (extraction, concaténation, prétraitement, etc.) sont définies dans `fonctions.py`.\n",
    "\n",
    "Ce document permet de **documenter brièvement chaque fonction**\n",
    "\n",
    "# <span style=\"color:red;\">🔧 Fonctions:</span>\n",
    "\n",
    "## <span style=\"color:orange;\"> **extract_and_concat_consommation**</span> :\n",
    "\n",
    "<span style=\"color:blue;\">**Utilité**</span> :  \n",
    "Extrait une colonne de consommation (chauffage ou climatisation) pour une ville principale (`toulouse`, `seville` ou `zurich`) et ses périphéries, puis les concatène dans un seul DataFrame.\n",
    "\n",
    "<span style=\"color:blue;\">**Paramètres** </span> :  \n",
    "- `ville_principale` : nom de la ville principale (`\"toulouse\"`, `\"seville\"` ou `\"zurich\"`).\n",
    "- `column_index` : index de la colonne à extraire :\n",
    "  - `4` pour le chauffage\n",
    "  - `5` pour la climatisation\n",
    "- `prefix` : préfixe utilisé pour nommer le DataFrame final (ex. `consommation_heat_` → `consommation_heat_toulouse`).\n",
    "  \n",
    "<span style=\"color:blue;\">**Retour** </span> :   \n",
    "Un DataFrame contenant les colonnes concaténées des fichiers de la ville principale et ses périphéries, accessible par le nom suivant :  \n",
    "`consommation_` + `heat` ou `cool` + `_` + `ville_principale` (par exemple, `consommation_heat_toulouse` ou `consommation_cool_seville`).\n",
    "\n",
    "## <span style=\"color:orange;\"> **extract_and_combine_all**</span> :  \n",
    "\n",
    "\n",
    "<span style=\"color:blue;\">**Utilité**</span> :  \n",
    "Cette fonction crée des DataFrames de données météorologiques pour chaque groupe de villes, en combinant les données de la ville principale et ses périphéries. Les colonnes extraites comprennent les informations suivantes :\n",
    "- \"Text_\" : colonne 1\n",
    "- \"Hum_\" : colonne 3\n",
    "- \"Wind_\" : colonne 4\n",
    "- \"Solar_\" : colonne 5\n",
    "- \"Ground_\" : colonne 10\n",
    "\n",
    "<span style=\"color:blue;\">**Paramètres**</span> :  \n",
    "- `ville_principale` : nom de la ville principale (`\"toulouse\"`, `\"seville\"` ou `\"zurich\"`).\n",
    "- `prefix` :column du  préfixe utilisé dans le csv initial  pour former des df monovarier les DataFrames (ex. `Text_`, `Hum_`, `Wind_`, etc.).\n",
    "\n",
    "<span style=\"color:blue;\">**Retour**</span> :  \n",
    "Des DataFrames sont créés avec un nom comme `Text_combined_villeprincipale` pour chaque type de donnée (par exemple, `Text_combined_toulouse`, `Hum_combined_seville`, etc.). Ces DataFrames combinent les données des villes principales et de leurs périphéries.\n",
    "\n",
    "\n",
    "\n",
    "## <span style=\"color:orange;\">**clustering_par_partie**</span>\n",
    "\n",
    "<span style=\"color:blue;\">**Utilité**</span> :  \n",
    "Cette fonction permet de diviser les données de consommation énergétique en parties égales selon le nombre de partitions (`n_parts`). ⚠️ Si `n_parts = 1`, le clustering est effectué sur l'ensemble de la journée (sans partitionnement). Sinon, l'algorithme de clustering est appliqué sur chaque partie de la journée. \n",
    "\n",
    "\n",
    "<span style=\"color:blue;\">**Paramètres**</span> :  \n",
    "- `df` : DataFrame avec 24 colonnes horaires (0 à 23) représentant les données horaires sur une journée.\n",
    "- `n_parts` : Nombre de parties dans lesquelles diviser la journée (1 = pas de partition, autrement il y a plusieurs parties à analyser).\n",
    "- `status_column` : Colonne indiquant si le chauffage est activé (valeur de 1 pour activé, 0 pour non activé).\n",
    "- `n_clusters_list` : Liste du nombre de clusters à appliquer pour chaque partie. La taille de la liste doit être égale à `n_parts` et chaque valeur correspond au nombre de clusters pour chaque partie (exemple : `[3]` pour une seule partition, `[3, 2]` pour deux partitions).\n",
    "\n",
    "<span style=\"color:blue;\">**Retour**</span> :  \n",
    "Un DataFrame avec les résultats du clustering appliqué à chaque partie de la journée. \n",
    "Un DataFrame avec les résultats du clustering appliqué à chaque partie de la journée. Les colonnes de clustering sont de la forme clusters_ + numéro de partition. ⚠️ Si aucune partition n'est utilisée, la colonne sera nommée clusters_1\n",
    "\n",
    "## <span style=\"color:orange;\">**add_profil_and_status**</span>\n",
    "\n",
    "<span style=\"color:blue;\">**Utilité**</span> :  \n",
    "Cette fonction permet d'ajouter la colonne `status_col` ainsi que les colonnes de profils `profil_cols` de `conso_df` à `input_df`. Elle est utilisée pour enrichir un DataFrame de base avec les résultats du clustering (par exemple, le statut de chauffage et les profils de consommation).\n",
    "\n",
    "<span style=\"color:blue;\">**Paramètres**</span> :  \n",
    "- `input_df` : DataFrame de base, tel que `Text_combined_toulouse`.\n",
    "- `conso_df` : DataFrame résultant du clustering, tel que `clustering_heat_toulouse`.\n",
    "- `status_col` : Colonne indiquant le statut (par défaut `heat_on`).\n",
    "- `profil_cols` : Une chaîne (ex. `\"clusters_1\"`) ou une liste (ex. `[\"clusters_1\", \"clusters_2\", ...]`) des colonnes de profil à ajouter.  \n",
    "  ⚠️  : Même si vous avez une seule colonne, elle doit être incluse dans une liste.\n",
    "\n",
    "<span style=\"color:blue;\">**Retour**</span> :  \n",
    "Un DataFrame contenant les colonnes ajoutées du statut et des profils Par exemple, les colonnes `\"heat_on\"`, `\"clusters_1\"`, `\"clusters_2\"`, etc., seront ajoutées à `input_df`.\n",
    "\n",
    "\n",
    "\n",
    "## <span style=\"color:orange;\"> **concat_and_create_final_df**</span>\n",
    "\n",
    "<span style=\"color:blue;\">**Utilité**</span> :  \n",
    "Concatène plusieurs DataFrames (identifiés par leurs préfixes) pour une ville donnée, afin de former une **entrée multivariée** destinée à un modèle de prédiction.\n",
    "\n",
    "<span style=\"color:blue;\">**Paramètres**</span> :  \n",
    "- `city` : nom de la ville principale (ex. `\"toulouse\"`, `\"seville\"` ou `\"zurich\"`).\n",
    "- `prefixes` : liste des préfixes des DataFrames à concaténer (ex. `[\"Text\", \"Solar\", \"Ground\"]`).\n",
    "\n",
    "<span style=\"color:blue;\">**Retour**</span> :  \n",
    "Un DataFrame multivarié, résultat de la concaténation des différents DataFrames selon les préfixes fournis.\n",
    "\n",
    "⚠️ **Le nom du DataFrame final est automatiquement généré** selon la structure :  \n",
    "`{prefix1}_{prefix2}_..._combined_{city}`  Par exemple : **Text_Solar_Ground_combined_toulouse**\n",
    "\n",
    "\n",
    "\n",
    "\n",
    "## <span style=\"color:orange;\"> **evaluate_models_split**</span>\n",
    "\n",
    "<span style=\"color:blue;\">**Utilité**</span> :  \n",
    "Cette fonction évalue plusieurs modèles de machine learning supervisé en appliquant un split manuel des données (80% pour l'entraînement par défaut). Elle peut être utilisée pour des tâches de classification multi-label ou multi-class selon que les données sont partitionnées ou non.\n",
    "\n",
    "<span style=\"color:blue;\">**Modèles utilisés** :</span>\n",
    " **Random Forest** , **Logistic Regression** , **SVM**, **KNN** ,**Gradient Boosting** \n",
    "\n",
    "<span style=\"color:blue;\">**Paramètres** :</span>\n",
    "- `target_cols` : Liste des colonnes cibles. Si elle contient plusieurs colonnes, c'est un problème de **multi-label**.\n",
    "- `split_ratio` : Un nombre entre 1 et 10, indiquant le ratio de division des données pour l'entraînement. Par exemple, `split_ratio=8` signifie que 80% des données sont utilisées pour l'entraînement et 20% pour le test.\n",
    "\n",
    "<span style=\"color:blue;\">**Retour** :</span>  \n",
    "- Un dictionnaire contenant les métriques de performance pour chaque modèle.\n",
    "- Un DataFrame avec les vraies valeurs et les prédictions du modèle.\n",
    "\n",
    "<span style=\"color:blue;\">**Prédictions** :</span>  \n",
    "- Si les jours sont partitionnés, la fonction effectuera des prédictions **multi-label**.\n",
    "- Si les jours ne sont pas partitionnés, la fonction effectuera des prédictions **multi-class**.\n",
    "  \n",
    "  ⚠️Si des prédictions **multi-label** sont effectuées, il faut fournir en paramètre `models2` au lieu de `models`.\n",
    "\n",
    "\n",
    "\n",
    "\n",
    "\n",
    "\n",
    "## <span style=\"color:orange;\"> **preprocess_data**</span>\n",
    "\n",
    "<span style=\"color:blue;\">**Utilité**</span> :  \n",
    "Prépare les données pour l'entraînement d'un modèle **LSTM de prédiction de consommation énergétique sur 24 heures**.\n",
    "\n",
    "<span style=\"color:blue;\">**Détails du traitement**</span> :  \n",
    "- L’**équilibrage** de la classe majoritaire est effectué **uniquement sur les jours prédits** (à t),  \n",
    "  et **pas sur les jours passés** (à t-1) utilisés comme entrée du modèle.\n",
    "- La **prédiction** est basée sur :\n",
    "  - les différentes données d’entrée (ex. température, humidité, etc.) à **t-1**,\n",
    "  - la consommation réelle à t-1,\n",
    "  - les profils réels à t-1,\n",
    "  - les données d’entrée à t et les profils prédits à t.\n",
    "\n",
    "<span style=\"color:blue;\">**Paramètres**</span> :\n",
    "- `Text_combined` : DataFrame des données d’entrée,résultat de la fonction   \n",
    "  - `extract_and_combine_all` (input **monovarié**),  \n",
    "  - ou `concat_and_create_final_df` (input **multivarié**).\n",
    "- `clustering_heat` : DataFrame contenant les clusters, généré par la fonction `clustering`.\n",
    "- `Test_Text_heat` : DataFrame de la **partie test** contenant les **profils reel et  prédits**, généré par `evaluate_models_split`.\n",
    "- `name_combined` : ⚠️⚠️⚠️ doit être de la forme `input_combined_villeprincipale`,  par exemple **Text_combined_toulouse**, utilisé pour savoir si les **jours sont partitionnés ou non**.\n",
    "\n",
    "\n"
   ]
  },
  {
   "cell_type": "code",
   "execution_count": null,
   "id": "f7ba91a3",
   "metadata": {},
   "outputs": [],
   "source": []
  },
  {
   "cell_type": "code",
   "execution_count": 147,
   "id": "828280b2",
   "metadata": {},
   "outputs": [],
   "source": [
    "import sys\n",
    "import os\n",
    "import importlib\n",
    "\n",
    "# Ajout du chemin une fois\n",
    "sys.path.append(os.path.abspath('../python_files'))\n",
    "\n",
    "# Liste des noms des modules à importer et recharger\n",
    "module_names = [\n",
    "    'preprocessing',\n",
    "    'imports',\n",
    "    'files',\n",
    "    'clustering',\n",
    "    'profile_prediction',\n",
    "    'prediction_24h'\n",
    "]\n",
    "\n",
    "# Import et reload automatique\n",
    "modules = {}\n",
    "for name in module_names:\n",
    "    modules[name] = importlib.import_module(name)\n",
    "    importlib.reload(modules[name])\n",
    "\n",
    "# Importer tout en global namespace (équivalent à from ... import *)\n",
    "for name in module_names:\n",
    "    exec(f'from {name} import *')\n"
   ]
  },
  {
   "cell_type": "code",
   "execution_count": 148,
   "id": "b28d3f03",
   "metadata": {},
   "outputs": [],
   "source": [
    "consommation_chauffage_toulouse = extract_and_concat_consommation(toulouse, column_index=4, prefix=\"consommation_heat_\")\n",
    "consommation_chauffage_zurich = extract_and_concat_consommation(zurich, column_index=4, prefix=\"consommation_heat_\")\n",
    "consommation_chauffage_seville = extract_and_concat_consommation(seville, column_index=4, prefix=\"consommation_heat_\")\n",
    "consommation_climatisation_toulouse = extract_and_concat_consommation(toulouse, column_index=5, prefix=\"consommation_cool_\")\n",
    "consommation_climatisation_zurich = extract_and_concat_consommation(zurich, column_index=5, prefix=\"consommation_cool_\")\n",
    "consommation_climatisation_seville = extract_and_concat_consommation(seville, column_index=5, prefix=\"consommation_cool_\")\n"
   ]
  },
  {
   "cell_type": "code",
   "execution_count": 149,
   "id": "e2055f5a",
   "metadata": {},
   "outputs": [],
   "source": [
    "\n",
    "# Exemple d'utilisation\n",
    "city_groups = {\n",
    "    \"toulouse\": toulouse_meteo,\n",
    "    \"zurich\": zurich_meteo,\n",
    "    \"seville\": seville_meteo\n",
    "}\n",
    "\n",
    "prefix_column_map = {\n",
    "    \"Text_\": 1,\n",
    "    \"Hum_\": 3,\n",
    "    \"Wind_\": 4,\n",
    "    \"Solar_\": 5,\n",
    "    \"Ground_\": 10\n",
    "}\n",
    "\n",
    "combined_data = extract_and_combine_all(city_groups, prefix_column_map)"
   ]
  },
  {
   "cell_type": "code",
   "execution_count": 150,
   "id": "ea9e821d",
   "metadata": {},
   "outputs": [],
   "source": [
    "Text_combined_toulouse = combined_data.get('Text_combined_toulouse')\n",
    "Hum_combined_toulouse = combined_data.get('Hum_combined_toulouse')\n",
    "Wind_combined_toulouse = combined_data.get('Wind_combined_toulouse')"
   ]
  },
  {
   "cell_type": "markdown",
   "id": "e78244a3",
   "metadata": {},
   "source": [
    "## Clustering et Prédiction consommation chauffage\n",
    "\n",
    "- Clustering  d’un profil de 24 heures.\n",
    "- Prédiction des profils de consommation.\n",
    "- Prédiction de la consommation sur 24 heures."
   ]
  },
  {
   "cell_type": "code",
   "execution_count": 151,
   "id": "d3b6db32",
   "metadata": {},
   "outputs": [
    {
     "name": "stdout",
     "output_type": "stream",
     "text": [
      "----------------------------------------------------------------------------------------------------\n",
      "----------------------------------------------------------------------------------------------------\n",
      "Prédiction du profil de consommation de chauffage\n",
      "----------------------------------------------------------------------------------------------------\n",
      "----------------------------------------------------------------------------------------------------\n",
      "\n",
      "Évaluation de Random Forest...\n"
     ]
    },
    {
     "data": {
      "image/png": "[encoded data removed]",
      "text/plain": [
       "<Figure size 500x400 with 2 Axes>"
      ]
     },
     "metadata": {},
     "output_type": "display_data"
    },
    {
     "name": "stdout",
     "output_type": "stream",
     "text": [
      "Random Forest - F1: 0.9233 - Accuracy: 0.9212 - Temps: 0.63s\n",
      "###################################################################\n",
      "\n",
      "Évaluation de Logistic Regression...\n"
     ]
    },
    {
     "name": "stderr",
     "output_type": "stream",
     "text": [
      "c:\\Users\\toubia\\anaconda3\\envs\\notebook\\Lib\\site-packages\\sklearn\\linear_model\\_logistic.py:465: ConvergenceWarning:\n",
      "\n",
      "lbfgs failed to converge (status=1):\n",
      "STOP: TOTAL NO. OF ITERATIONS REACHED LIMIT.\n",
      "\n",
      "Increase the number of iterations (max_iter) or scale the data as shown in:\n",
      "    https://scikit-learn.org/stable/modules/preprocessing.html\n",
      "Please also refer to the documentation for alternative solver options:\n",
      "    https://scikit-learn.org/stable/modules/linear_model.html#logistic-regression\n",
      "\n"
     ]
    },
    {
     "data": {
      "image/png": "[encoded data removed]",
      "text/plain": [
       "<Figure size 500x400 with 2 Axes>"
      ]
     },
     "metadata": {},
     "output_type": "display_data"
    },
    {
     "name": "stdout",
     "output_type": "stream",
     "text": [
      "Logistic Regression - F1: 0.9222 - Accuracy: 0.9212 - Temps: 0.62s\n",
      "###################################################################\n",
      "\n",
      "Évaluation de SVC...\n"
     ]
    },
    {
     "data": {
      "image/png": "[encoded data removed]",
      "text/plain": [
       "<Figure size 500x400 with 2 Axes>"
      ]
     },
     "metadata": {},
     "output_type": "display_data"
    },
    {
     "name": "stdout",
     "output_type": "stream",
     "text": [
      "SVC - F1: 0.8295 - Accuracy: 0.8322 - Temps: 0.11s\n",
      "###################################################################\n",
      "\n",
      "Évaluation de KNN...\n"
     ]
    },
    {
     "data": {
      "image/png": "[encoded data removed]",
      "text/plain": [
       "<Figure size 500x400 with 2 Axes>"
      ]
     },
     "metadata": {},
     "output_type": "display_data"
    },
    {
     "name": "stdout",
     "output_type": "stream",
     "text": [
      "KNN - F1: 0.8549 - Accuracy: 0.8527 - Temps: 0.06s\n",
      "###################################################################\n",
      "\n",
      "Évaluation de Gradient Boosting...\n"
     ]
    },
    {
     "data": {
      "image/png": "[encoded data removed]",
      "text/plain": [
       "<Figure size 500x400 with 2 Axes>"
      ]
     },
     "metadata": {},
     "output_type": "display_data"
    },
    {
     "name": "stdout",
     "output_type": "stream",
     "text": [
      "Gradient Boosting - F1: 0.9365 - Accuracy: 0.9349 - Temps: 5.61s\n",
      "###################################################################\n",
      "\t\n",
      "----------------------------------------------------------------------------------------------------\n",
      "----------------------------------------------------------------------------------------------------\n",
      "Prédiction du 24 heures de consommation de chauffage\n",
      "----------------------------------------------------------------------------------------------------\n",
      "----------------------------------------------------------------------------------------------------\n",
      "Prediction based on : Text\n",
      "Epoch 1/100\n"
     ]
    },
    {
     "name": "stderr",
     "output_type": "stream",
     "text": [
      "c:\\Users\\toubia\\anaconda3\\envs\\notebook\\Lib\\site-packages\\keras\\src\\layers\\rnn\\rnn.py:200: UserWarning:\n",
      "\n",
      "Do not pass an `input_shape`/`input_dim` argument to a layer. When using Sequential models, prefer using an `Input(shape)` object as the first layer in the model instead.\n",
      "\n"
     ]
    },
    {
     "name": "stdout",
     "output_type": "stream",
     "text": [
      "\u001b[1m29/29\u001b[0m \u001b[32m━━━━━━━━━━━━━━━━━━━━\u001b[0m\u001b[37m\u001b[0m \u001b[1m4s\u001b[0m 20ms/step - loss: 0.8357 - mae: 0.7086 - mse: 0.8357 - val_loss: 0.5685 - val_mae: 0.5376 - val_mse: 0.5685\n",
      "Epoch 2/100\n",
      "\u001b[1m29/29\u001b[0m \u001b[32m━━━━━━━━━━━━━━━━━━━━\u001b[0m\u001b[37m\u001b[0m \u001b[1m0s\u001b[0m 7ms/step - loss: 0.4308 - mae: 0.4564 - mse: 0.4308 - val_loss: 0.3812 - val_mae: 0.3743 - val_mse: 0.3812\n",
      "Epoch 3/100\n",
      "\u001b[1m29/29\u001b[0m \u001b[32m━━━━━━━━━━━━━━━━━━━━\u001b[0m\u001b[37m\u001b[0m \u001b[1m0s\u001b[0m 7ms/step - loss: 0.2839 - mae: 0.3311 - mse: 0.2839 - val_loss: 0.3179 - val_mae: 0.3250 - val_mse: 0.3179\n",
      "Epoch 4/100\n",
      "\u001b[1m29/29\u001b[0m \u001b[32m━━━━━━━━━━━━━━━━━━━━\u001b[0m\u001b[37m\u001b[0m \u001b[1m0s\u001b[0m 7ms/step - loss: 0.2519 - mae: 0.3041 - mse: 0.2519 - val_loss: 0.2562 - val_mae: 0.3016 - val_mse: 0.2562\n",
      "Epoch 5/100\n",
      "\u001b[1m29/29\u001b[0m \u001b[32m━━━━━━━━━━━━━━━━━━━━\u001b[0m\u001b[37m\u001b[0m \u001b[1m0s\u001b[0m 7ms/step - loss: 0.2290 - mae: 0.2926 - mse: 0.2290 - val_loss: 0.2233 - val_mae: 0.2738 - val_mse: 0.2233\n",
      "Epoch 6/100\n",
      "\u001b[1m29/29\u001b[0m \u001b[32m━━━━━━━━━━━━━━━━━━━━\u001b[0m\u001b[37m\u001b[0m \u001b[1m0s\u001b[0m 7ms/step - loss: 0.1836 - mae: 0.2612 - mse: 0.1836 - val_loss: 0.1921 - val_mae: 0.2560 - val_mse: 0.1921\n",
      "Epoch 7/100\n",
      "\u001b[1m29/29\u001b[0m \u001b[32m━━━━━━━━━━━━━━━━━━━━\u001b[0m\u001b[37m\u001b[0m \u001b[1m0s\u001b[0m 7ms/step - loss: 0.1691 - mae: 0.2498 - mse: 0.1691 - val_loss: 0.1624 - val_mae: 0.2333 - val_mse: 0.1624\n",
      "Epoch 8/100\n",
      "\u001b[1m29/29\u001b[0m \u001b[32m━━━━━━━━━━━━━━━━━━━━\u001b[0m\u001b[37m\u001b[0m \u001b[1m0s\u001b[0m 7ms/step - loss: 0.1558 - mae: 0.2422 - mse: 0.1558 - val_loss: 0.1450 - val_mae: 0.2235 - val_mse: 0.1450\n",
      "Epoch 9/100\n",
      "\u001b[1m29/29\u001b[0m \u001b[32m━━━━━━━━━━━━━━━━━━━━\u001b[0m\u001b[37m\u001b[0m \u001b[1m0s\u001b[0m 12ms/step - loss: 0.1429 - mae: 0.2332 - mse: 0.1429 - val_loss: 0.1580 - val_mae: 0.2204 - val_mse: 0.1580\n",
      "Epoch 10/100\n",
      "\u001b[1m29/29\u001b[0m \u001b[32m━━━━━━━━━━━━━━━━━━━━\u001b[0m\u001b[37m\u001b[0m \u001b[1m0s\u001b[0m 8ms/step - loss: 0.1259 - mae: 0.2189 - mse: 0.1259 - val_loss: 0.1296 - val_mae: 0.2077 - val_mse: 0.1296\n",
      "Epoch 11/100\n",
      "\u001b[1m29/29\u001b[0m \u001b[32m━━━━━━━━━━━━━━━━━━━━\u001b[0m\u001b[37m\u001b[0m \u001b[1m0s\u001b[0m 9ms/step - loss: 0.1255 - mae: 0.2167 - mse: 0.1255 - val_loss: 0.1289 - val_mae: 0.2027 - val_mse: 0.1289\n",
      "Epoch 12/100\n",
      "\u001b[1m29/29\u001b[0m \u001b[32m━━━━━━━━━━━━━━━━━━━━\u001b[0m\u001b[37m\u001b[0m \u001b[1m0s\u001b[0m 9ms/step - loss: 0.1364 - mae: 0.2236 - mse: 0.1364 - val_loss: 0.1188 - val_mae: 0.2009 - val_mse: 0.1188\n",
      "Epoch 13/100\n",
      "\u001b[1m29/29\u001b[0m \u001b[32m━━━━━━━━━━━━━━━━━━━━\u001b[0m\u001b[37m\u001b[0m \u001b[1m0s\u001b[0m 10ms/step - loss: 0.1134 - mae: 0.2108 - mse: 0.1134 - val_loss: 0.1174 - val_mae: 0.1946 - val_mse: 0.1174\n",
      "Epoch 14/100\n",
      "\u001b[1m29/29\u001b[0m \u001b[32m━━━━━━━━━━━━━━━━━━━━\u001b[0m\u001b[37m\u001b[0m \u001b[1m1s\u001b[0m 12ms/step - loss: 0.1214 - mae: 0.2085 - mse: 0.1214 - val_loss: 0.1141 - val_mae: 0.1993 - val_mse: 0.1141\n",
      "Epoch 15/100\n",
      "\u001b[1m29/29\u001b[0m \u001b[32m━━━━━━━━━━━━━━━━━━━━\u001b[0m\u001b[37m\u001b[0m \u001b[1m1s\u001b[0m 11ms/step - loss: 0.1234 - mae: 0.2135 - mse: 0.1234 - val_loss: 0.1606 - val_mae: 0.2118 - val_mse: 0.1606\n",
      "Epoch 16/100\n",
      "\u001b[1m29/29\u001b[0m \u001b[32m━━━━━━━━━━━━━━━━━━━━\u001b[0m\u001b[37m\u001b[0m \u001b[1m1s\u001b[0m 7ms/step - loss: 0.1242 - mae: 0.2168 - mse: 0.1242 - val_loss: 0.1149 - val_mae: 0.2020 - val_mse: 0.1149\n",
      "Epoch 17/100\n",
      "\u001b[1m29/29\u001b[0m \u001b[32m━━━━━━━━━━━━━━━━━━━━\u001b[0m\u001b[37m\u001b[0m \u001b[1m0s\u001b[0m 7ms/step - loss: 0.1107 - mae: 0.2017 - mse: 0.1107 - val_loss: 0.1120 - val_mae: 0.1916 - val_mse: 0.1120\n",
      "Epoch 18/100\n",
      "\u001b[1m29/29\u001b[0m \u001b[32m━━━━━━━━━━━━━━━━━━━━\u001b[0m\u001b[37m\u001b[0m \u001b[1m0s\u001b[0m 7ms/step - loss: 0.1068 - mae: 0.1945 - mse: 0.1068 - val_loss: 0.1085 - val_mae: 0.1893 - val_mse: 0.1085\n",
      "Epoch 19/100\n",
      "\u001b[1m29/29\u001b[0m \u001b[32m━━━━━━━━━━━━━━━━━━━━\u001b[0m\u001b[37m\u001b[0m \u001b[1m0s\u001b[0m 7ms/step - loss: 0.1096 - mae: 0.1986 - mse: 0.1096 - val_loss: 0.1020 - val_mae: 0.1828 - val_mse: 0.1020\n",
      "Epoch 20/100\n",
      "\u001b[1m29/29\u001b[0m \u001b[32m━━━━━━━━━━━━━━━━━━━━\u001b[0m\u001b[37m\u001b[0m \u001b[1m0s\u001b[0m 7ms/step - loss: 0.0972 - mae: 0.1901 - mse: 0.0972 - val_loss: 0.1038 - val_mae: 0.1852 - val_mse: 0.1038\n",
      "Epoch 21/100\n",
      "\u001b[1m29/29\u001b[0m \u001b[32m━━━━━━━━━━━━━━━━━━━━\u001b[0m\u001b[37m\u001b[0m \u001b[1m0s\u001b[0m 7ms/step - loss: 0.1008 - mae: 0.1924 - mse: 0.1008 - val_loss: 0.1095 - val_mae: 0.1815 - val_mse: 0.1095\n",
      "Epoch 22/100\n",
      "\u001b[1m29/29\u001b[0m \u001b[32m━━━━━━━━━━━━━━━━━━━━\u001b[0m\u001b[37m\u001b[0m \u001b[1m0s\u001b[0m 7ms/step - loss: 0.0960 - mae: 0.1849 - mse: 0.0960 - val_loss: 0.1043 - val_mae: 0.1789 - val_mse: 0.1043\n",
      "Epoch 23/100\n",
      "\u001b[1m29/29\u001b[0m \u001b[32m━━━━━━━━━━━━━━━━━━━━\u001b[0m\u001b[37m\u001b[0m \u001b[1m0s\u001b[0m 7ms/step - loss: 0.0971 - mae: 0.1899 - mse: 0.0971 - val_loss: 0.1085 - val_mae: 0.1801 - val_mse: 0.1085\n",
      "Epoch 24/100\n",
      "\u001b[1m29/29\u001b[0m \u001b[32m━━━━━━━━━━━━━━━━━━━━\u001b[0m\u001b[37m\u001b[0m \u001b[1m0s\u001b[0m 7ms/step - loss: 0.1146 - mae: 0.2010 - mse: 0.1146 - val_loss: 0.1023 - val_mae: 0.1834 - val_mse: 0.1023\n",
      "Epoch 25/100\n",
      "\u001b[1m29/29\u001b[0m \u001b[32m━━━━━━━━━━━━━━━━━━━━\u001b[0m\u001b[37m\u001b[0m \u001b[1m0s\u001b[0m 6ms/step - loss: 0.1095 - mae: 0.1947 - mse: 0.1095 - val_loss: 0.1044 - val_mae: 0.1779 - val_mse: 0.1044\n",
      "Epoch 26/100\n",
      "\u001b[1m29/29\u001b[0m \u001b[32m━━━━━━━━━━━━━━━━━━━━\u001b[0m\u001b[37m\u001b[0m \u001b[1m0s\u001b[0m 7ms/step - loss: 0.0938 - mae: 0.1795 - mse: 0.0938 - val_loss: 0.0998 - val_mae: 0.1806 - val_mse: 0.0998\n",
      "Epoch 27/100\n",
      "\u001b[1m29/29\u001b[0m \u001b[32m━━━━━━━━━━━━━━━━━━━━\u001b[0m\u001b[37m\u001b[0m \u001b[1m0s\u001b[0m 7ms/step - loss: 0.0983 - mae: 0.1888 - mse: 0.0983 - val_loss: 0.0941 - val_mae: 0.1721 - val_mse: 0.0941\n",
      "Epoch 28/100\n",
      "\u001b[1m29/29\u001b[0m \u001b[32m━━━━━━━━━━━━━━━━━━━━\u001b[0m\u001b[37m\u001b[0m \u001b[1m0s\u001b[0m 7ms/step - loss: 0.0989 - mae: 0.1869 - mse: 0.0989 - val_loss: 0.0938 - val_mae: 0.1774 - val_mse: 0.0938\n",
      "Epoch 29/100\n",
      "\u001b[1m29/29\u001b[0m \u001b[32m━━━━━━━━━━━━━━━━━━━━\u001b[0m\u001b[37m\u001b[0m \u001b[1m0s\u001b[0m 7ms/step - loss: 0.1047 - mae: 0.1890 - mse: 0.1047 - val_loss: 0.1068 - val_mae: 0.1803 - val_mse: 0.1068\n",
      "Epoch 30/100\n",
      "\u001b[1m29/29\u001b[0m \u001b[32m━━━━━━━━━━━━━━━━━━━━\u001b[0m\u001b[37m\u001b[0m \u001b[1m0s\u001b[0m 7ms/step - loss: 0.0864 - mae: 0.1797 - mse: 0.0864 - val_loss: 0.0971 - val_mae: 0.1709 - val_mse: 0.0971\n",
      "Epoch 31/100\n",
      "\u001b[1m29/29\u001b[0m \u001b[32m━━━━━━━━━━━━━━━━━━━━\u001b[0m\u001b[37m\u001b[0m \u001b[1m0s\u001b[0m 7ms/step - loss: 0.0899 - mae: 0.1800 - mse: 0.0899 - val_loss: 0.0962 - val_mae: 0.1765 - val_mse: 0.0962\n",
      "Epoch 32/100\n",
      "\u001b[1m29/29\u001b[0m \u001b[32m━━━━━━━━━━━━━━━━━━━━\u001b[0m\u001b[37m\u001b[0m \u001b[1m0s\u001b[0m 7ms/step - loss: 0.0961 - mae: 0.1834 - mse: 0.0961 - val_loss: 0.1020 - val_mae: 0.1721 - val_mse: 0.1020\n",
      "Epoch 33/100\n",
      "\u001b[1m29/29\u001b[0m \u001b[32m━━━━━━━━━━━━━━━━━━━━\u001b[0m\u001b[37m\u001b[0m \u001b[1m0s\u001b[0m 7ms/step - loss: 0.0917 - mae: 0.1817 - mse: 0.0917 - val_loss: 0.0929 - val_mae: 0.1742 - val_mse: 0.0929\n",
      "Epoch 34/100\n",
      "\u001b[1m29/29\u001b[0m \u001b[32m━━━━━━━━━━━━━━━━━━━━\u001b[0m\u001b[37m\u001b[0m \u001b[1m0s\u001b[0m 8ms/step - loss: 0.0943 - mae: 0.1841 - mse: 0.0943 - val_loss: 0.0892 - val_mae: 0.1668 - val_mse: 0.0892\n",
      "Epoch 35/100\n",
      "\u001b[1m29/29\u001b[0m \u001b[32m━━━━━━━━━━━━━━━━━━━━\u001b[0m\u001b[37m\u001b[0m \u001b[1m0s\u001b[0m 8ms/step - loss: 0.0907 - mae: 0.1799 - mse: 0.0907 - val_loss: 0.0929 - val_mae: 0.1754 - val_mse: 0.0929\n",
      "Epoch 36/100\n",
      "\u001b[1m29/29\u001b[0m \u001b[32m━━━━━━━━━━━━━━━━━━━━\u001b[0m\u001b[37m\u001b[0m \u001b[1m0s\u001b[0m 8ms/step - loss: 0.0918 - mae: 0.1796 - mse: 0.0918 - val_loss: 0.0929 - val_mae: 0.1787 - val_mse: 0.0929\n",
      "Epoch 37/100\n",
      "\u001b[1m29/29\u001b[0m \u001b[32m━━━━━━━━━━━━━━━━━━━━\u001b[0m\u001b[37m\u001b[0m \u001b[1m0s\u001b[0m 7ms/step - loss: 0.0997 - mae: 0.1870 - mse: 0.0997 - val_loss: 0.0901 - val_mae: 0.1664 - val_mse: 0.0901\n",
      "Epoch 38/100\n",
      "\u001b[1m29/29\u001b[0m \u001b[32m━━━━━━━━━━━━━━━━━━━━\u001b[0m\u001b[37m\u001b[0m \u001b[1m0s\u001b[0m 7ms/step - loss: 0.0748 - mae: 0.1656 - mse: 0.0748 - val_loss: 0.0837 - val_mae: 0.1628 - val_mse: 0.0837\n",
      "Epoch 39/100\n",
      "\u001b[1m29/29\u001b[0m \u001b[32m━━━━━━━━━━━━━━━━━━━━\u001b[0m\u001b[37m\u001b[0m \u001b[1m0s\u001b[0m 7ms/step - loss: 0.0846 - mae: 0.1711 - mse: 0.0846 - val_loss: 0.0879 - val_mae: 0.1622 - val_mse: 0.0879\n",
      "Epoch 40/100\n",
      "\u001b[1m29/29\u001b[0m \u001b[32m━━━━━━━━━━━━━━━━━━━━\u001b[0m\u001b[37m\u001b[0m \u001b[1m0s\u001b[0m 12ms/step - loss: 0.0878 - mae: 0.1769 - mse: 0.0878 - val_loss: 0.0887 - val_mae: 0.1626 - val_mse: 0.0887\n",
      "Epoch 41/100\n",
      "\u001b[1m29/29\u001b[0m \u001b[32m━━━━━━━━━━━━━━━━━━━━\u001b[0m\u001b[37m\u001b[0m \u001b[1m0s\u001b[0m 7ms/step - loss: 0.0804 - mae: 0.1690 - mse: 0.0804 - val_loss: 0.0874 - val_mae: 0.1593 - val_mse: 0.0874\n",
      "Epoch 42/100\n",
      "\u001b[1m29/29\u001b[0m \u001b[32m━━━━━━━━━━━━━━━━━━━━\u001b[0m\u001b[37m\u001b[0m \u001b[1m0s\u001b[0m 7ms/step - loss: 0.0832 - mae: 0.1721 - mse: 0.0832 - val_loss: 0.0863 - val_mae: 0.1676 - val_mse: 0.0863\n",
      "Epoch 43/100\n",
      "\u001b[1m29/29\u001b[0m \u001b[32m━━━━━━━━━━━━━━━━━━━━\u001b[0m\u001b[37m\u001b[0m \u001b[1m0s\u001b[0m 7ms/step - loss: 0.0816 - mae: 0.1707 - mse: 0.0816 - val_loss: 0.0865 - val_mae: 0.1575 - val_mse: 0.0865\n",
      "Epoch 44/100\n",
      "\u001b[1m29/29\u001b[0m \u001b[32m━━━━━━━━━━━━━━━━━━━━\u001b[0m\u001b[37m\u001b[0m \u001b[1m0s\u001b[0m 7ms/step - loss: 0.0816 - mae: 0.1694 - mse: 0.0816 - val_loss: 0.0841 - val_mae: 0.1604 - val_mse: 0.0841\n",
      "Epoch 45/100\n",
      "\u001b[1m29/29\u001b[0m \u001b[32m━━━━━━━━━━━━━━━━━━━━\u001b[0m\u001b[37m\u001b[0m \u001b[1m0s\u001b[0m 7ms/step - loss: 0.0832 - mae: 0.1704 - mse: 0.0832 - val_loss: 0.0876 - val_mae: 0.1652 - val_mse: 0.0876\n",
      "Epoch 46/100\n",
      "\u001b[1m29/29\u001b[0m \u001b[32m━━━━━━━━━━━━━━━━━━━━\u001b[0m\u001b[37m\u001b[0m \u001b[1m0s\u001b[0m 7ms/step - loss: 0.0748 - mae: 0.1682 - mse: 0.0748 - val_loss: 0.0814 - val_mae: 0.1575 - val_mse: 0.0814\n",
      "Epoch 47/100\n",
      "\u001b[1m29/29\u001b[0m \u001b[32m━━━━━━━━━━━━━━━━━━━━\u001b[0m\u001b[37m\u001b[0m \u001b[1m0s\u001b[0m 7ms/step - loss: 0.0774 - mae: 0.1629 - mse: 0.0774 - val_loss: 0.0876 - val_mae: 0.1651 - val_mse: 0.0876\n",
      "Epoch 48/100\n",
      "\u001b[1m29/29\u001b[0m \u001b[32m━━━━━━━━━━━━━━━━━━━━\u001b[0m\u001b[37m\u001b[0m \u001b[1m0s\u001b[0m 7ms/step - loss: 0.0837 - mae: 0.1687 - mse: 0.0837 - val_loss: 0.0841 - val_mae: 0.1629 - val_mse: 0.0841\n",
      "Epoch 49/100\n",
      "\u001b[1m29/29\u001b[0m \u001b[32m━━━━━━━━━━━━━━━━━━━━\u001b[0m\u001b[37m\u001b[0m \u001b[1m1s\u001b[0m 9ms/step - loss: 0.0849 - mae: 0.1716 - mse: 0.0849 - val_loss: 0.0942 - val_mae: 0.1629 - val_mse: 0.0942\n",
      "Epoch 50/100\n",
      "\u001b[1m29/29\u001b[0m \u001b[32m━━━━━━━━━━━━━━━━━━━━\u001b[0m\u001b[37m\u001b[0m \u001b[1m0s\u001b[0m 7ms/step - loss: 0.0862 - mae: 0.1712 - mse: 0.0862 - val_loss: 0.0817 - val_mae: 0.1582 - val_mse: 0.0817\n",
      "Epoch 51/100\n",
      "\u001b[1m29/29\u001b[0m \u001b[32m━━━━━━━━━━━━━━━━━━━━\u001b[0m\u001b[37m\u001b[0m \u001b[1m0s\u001b[0m 7ms/step - loss: 0.0706 - mae: 0.1563 - mse: 0.0706 - val_loss: 0.0856 - val_mae: 0.1687 - val_mse: 0.0856\n",
      "Epoch 52/100\n",
      "\u001b[1m29/29\u001b[0m \u001b[32m━━━━━━━━━━━━━━━━━━━━\u001b[0m\u001b[37m\u001b[0m \u001b[1m0s\u001b[0m 7ms/step - loss: 0.0883 - mae: 0.1720 - mse: 0.0883 - val_loss: 0.0844 - val_mae: 0.1703 - val_mse: 0.0844\n",
      "Epoch 53/100\n",
      "\u001b[1m29/29\u001b[0m \u001b[32m━━━━━━━━━━━━━━━━━━━━\u001b[0m\u001b[37m\u001b[0m \u001b[1m0s\u001b[0m 8ms/step - loss: 0.0769 - mae: 0.1645 - mse: 0.0769 - val_loss: 0.0866 - val_mae: 0.1600 - val_mse: 0.0866\n",
      "Epoch 54/100\n",
      "\u001b[1m29/29\u001b[0m \u001b[32m━━━━━━━━━━━━━━━━━━━━\u001b[0m\u001b[37m\u001b[0m \u001b[1m0s\u001b[0m 7ms/step - loss: 0.0824 - mae: 0.1681 - mse: 0.0824 - val_loss: 0.0912 - val_mae: 0.1617 - val_mse: 0.0912\n",
      "Epoch 55/100\n",
      "\u001b[1m29/29\u001b[0m \u001b[32m━━━━━━━━━━━━━━━━━━━━\u001b[0m\u001b[37m\u001b[0m \u001b[1m0s\u001b[0m 7ms/step - loss: 0.0798 - mae: 0.1639 - mse: 0.0798 - val_loss: 0.0805 - val_mae: 0.1544 - val_mse: 0.0805\n",
      "Epoch 56/100\n",
      "\u001b[1m29/29\u001b[0m \u001b[32m━━━━━━━━━━━━━━━━━━━━\u001b[0m\u001b[37m\u001b[0m \u001b[1m0s\u001b[0m 7ms/step - loss: 0.0741 - mae: 0.1588 - mse: 0.0741 - val_loss: 0.0891 - val_mae: 0.1554 - val_mse: 0.0891\n",
      "Epoch 57/100\n",
      "\u001b[1m29/29\u001b[0m \u001b[32m━━━━━━━━━━━━━━━━━━━━\u001b[0m\u001b[37m\u001b[0m \u001b[1m0s\u001b[0m 7ms/step - loss: 0.0762 - mae: 0.1596 - mse: 0.0762 - val_loss: 0.0909 - val_mae: 0.1572 - val_mse: 0.0909\n",
      "Epoch 58/100\n",
      "\u001b[1m29/29\u001b[0m \u001b[32m━━━━━━━━━━━━━━━━━━━━\u001b[0m\u001b[37m\u001b[0m \u001b[1m0s\u001b[0m 7ms/step - loss: 0.0754 - mae: 0.1621 - mse: 0.0754 - val_loss: 0.0865 - val_mae: 0.1556 - val_mse: 0.0865\n",
      "Epoch 59/100\n",
      "\u001b[1m29/29\u001b[0m \u001b[32m━━━━━━━━━━━━━━━━━━━━\u001b[0m\u001b[37m\u001b[0m \u001b[1m0s\u001b[0m 7ms/step - loss: 0.0754 - mae: 0.1629 - mse: 0.0754 - val_loss: 0.0857 - val_mae: 0.1621 - val_mse: 0.0857\n",
      "Epoch 60/100\n",
      "\u001b[1m29/29\u001b[0m \u001b[32m━━━━━━━━━━━━━━━━━━━━\u001b[0m\u001b[37m\u001b[0m \u001b[1m0s\u001b[0m 7ms/step - loss: 0.0911 - mae: 0.1792 - mse: 0.0911 - val_loss: 0.0853 - val_mae: 0.1609 - val_mse: 0.0853\n",
      "Epoch 61/100\n",
      "\u001b[1m29/29\u001b[0m \u001b[32m━━━━━━━━━━━━━━━━━━━━\u001b[0m\u001b[37m\u001b[0m \u001b[1m0s\u001b[0m 7ms/step - loss: 0.0718 - mae: 0.1594 - mse: 0.0718 - val_loss: 0.0781 - val_mae: 0.1543 - val_mse: 0.0781\n",
      "Epoch 62/100\n",
      "\u001b[1m29/29\u001b[0m \u001b[32m━━━━━━━━━━━━━━━━━━━━\u001b[0m\u001b[37m\u001b[0m \u001b[1m0s\u001b[0m 7ms/step - loss: 0.0656 - mae: 0.1587 - mse: 0.0656 - val_loss: 0.0842 - val_mae: 0.1555 - val_mse: 0.0842\n",
      "Epoch 63/100\n",
      "\u001b[1m29/29\u001b[0m \u001b[32m━━━━━━━━━━━━━━━━━━━━\u001b[0m\u001b[37m\u001b[0m \u001b[1m0s\u001b[0m 7ms/step - loss: 0.0730 - mae: 0.1609 - mse: 0.0730 - val_loss: 0.0777 - val_mae: 0.1537 - val_mse: 0.0777\n",
      "Epoch 64/100\n",
      "\u001b[1m29/29\u001b[0m \u001b[32m━━━━━━━━━━━━━━━━━━━━\u001b[0m\u001b[37m\u001b[0m \u001b[1m0s\u001b[0m 9ms/step - loss: 0.0680 - mae: 0.1560 - mse: 0.0680 - val_loss: 0.0775 - val_mae: 0.1558 - val_mse: 0.0775\n",
      "Epoch 65/100\n",
      "\u001b[1m29/29\u001b[0m \u001b[32m━━━━━━━━━━━━━━━━━━━━\u001b[0m\u001b[37m\u001b[0m \u001b[1m0s\u001b[0m 7ms/step - loss: 0.0673 - mae: 0.1581 - mse: 0.0673 - val_loss: 0.0807 - val_mae: 0.1486 - val_mse: 0.0807\n",
      "Epoch 66/100\n",
      "\u001b[1m29/29\u001b[0m \u001b[32m━━━━━━━━━━━━━━━━━━━━\u001b[0m\u001b[37m\u001b[0m \u001b[1m0s\u001b[0m 7ms/step - loss: 0.0779 - mae: 0.1625 - mse: 0.0779 - val_loss: 0.0751 - val_mae: 0.1511 - val_mse: 0.0751\n",
      "Epoch 67/100\n",
      "\u001b[1m29/29\u001b[0m \u001b[32m━━━━━━━━━━━━━━━━━━━━\u001b[0m\u001b[37m\u001b[0m \u001b[1m0s\u001b[0m 12ms/step - loss: 0.0651 - mae: 0.1541 - mse: 0.0651 - val_loss: 0.0795 - val_mae: 0.1533 - val_mse: 0.0795\n",
      "Epoch 68/100\n",
      "\u001b[1m29/29\u001b[0m \u001b[32m━━━━━━━━━━━━━━━━━━━━\u001b[0m\u001b[37m\u001b[0m \u001b[1m0s\u001b[0m 7ms/step - loss: 0.0786 - mae: 0.1628 - mse: 0.0786 - val_loss: 0.0863 - val_mae: 0.1496 - val_mse: 0.0863\n",
      "Epoch 69/100\n",
      "\u001b[1m29/29\u001b[0m \u001b[32m━━━━━━━━━━━━━━━━━━━━\u001b[0m\u001b[37m\u001b[0m \u001b[1m0s\u001b[0m 7ms/step - loss: 0.0739 - mae: 0.1590 - mse: 0.0739 - val_loss: 0.0875 - val_mae: 0.1502 - val_mse: 0.0875\n",
      "Epoch 70/100\n",
      "\u001b[1m29/29\u001b[0m \u001b[32m━━━━━━━━━━━━━━━━━━━━\u001b[0m\u001b[37m\u001b[0m \u001b[1m0s\u001b[0m 7ms/step - loss: 0.0733 - mae: 0.1606 - mse: 0.0733 - val_loss: 0.0789 - val_mae: 0.1498 - val_mse: 0.0789\n",
      "Epoch 71/100\n",
      "\u001b[1m29/29\u001b[0m \u001b[32m━━━━━━━━━━━━━━━━━━━━\u001b[0m\u001b[37m\u001b[0m \u001b[1m0s\u001b[0m 7ms/step - loss: 0.0669 - mae: 0.1507 - mse: 0.0669 - val_loss: 0.0809 - val_mae: 0.1497 - val_mse: 0.0809\n",
      "Epoch 72/100\n",
      "\u001b[1m29/29\u001b[0m \u001b[32m━━━━━━━━━━━━━━━━━━━━\u001b[0m\u001b[37m\u001b[0m \u001b[1m0s\u001b[0m 7ms/step - loss: 0.0670 - mae: 0.1529 - mse: 0.0670 - val_loss: 0.0727 - val_mae: 0.1500 - val_mse: 0.0727\n",
      "Epoch 73/100\n",
      "\u001b[1m29/29\u001b[0m \u001b[32m━━━━━━━━━━━━━━━━━━━━\u001b[0m\u001b[37m\u001b[0m \u001b[1m0s\u001b[0m 7ms/step - loss: 0.0685 - mae: 0.1529 - mse: 0.0685 - val_loss: 0.0792 - val_mae: 0.1466 - val_mse: 0.0792\n",
      "Epoch 74/100\n",
      "\u001b[1m29/29\u001b[0m \u001b[32m━━━━━━━━━━━━━━━━━━━━\u001b[0m\u001b[37m\u001b[0m \u001b[1m0s\u001b[0m 7ms/step - loss: 0.0693 - mae: 0.1529 - mse: 0.0693 - val_loss: 0.0732 - val_mae: 0.1471 - val_mse: 0.0732\n",
      "Epoch 75/100\n",
      "\u001b[1m29/29\u001b[0m \u001b[32m━━━━━━━━━━━━━━━━━━━━\u001b[0m\u001b[37m\u001b[0m \u001b[1m0s\u001b[0m 7ms/step - loss: 0.0666 - mae: 0.1520 - mse: 0.0666 - val_loss: 0.0747 - val_mae: 0.1542 - val_mse: 0.0747\n",
      "Epoch 76/100\n",
      "\u001b[1m29/29\u001b[0m \u001b[32m━━━━━━━━━━━━━━━━━━━━\u001b[0m\u001b[37m\u001b[0m \u001b[1m0s\u001b[0m 7ms/step - loss: 0.0638 - mae: 0.1489 - mse: 0.0638 - val_loss: 0.0766 - val_mae: 0.1485 - val_mse: 0.0766\n",
      "Epoch 77/100\n",
      "\u001b[1m29/29\u001b[0m \u001b[32m━━━━━━━━━━━━━━━━━━━━\u001b[0m\u001b[37m\u001b[0m \u001b[1m0s\u001b[0m 7ms/step - loss: 0.0714 - mae: 0.1589 - mse: 0.0714 - val_loss: 0.0794 - val_mae: 0.1478 - val_mse: 0.0794\n",
      "Epoch 78/100\n",
      "\u001b[1m29/29\u001b[0m \u001b[32m━━━━━━━━━━━━━━━━━━━━\u001b[0m\u001b[37m\u001b[0m \u001b[1m0s\u001b[0m 7ms/step - loss: 0.0701 - mae: 0.1546 - mse: 0.0701 - val_loss: 0.0756 - val_mae: 0.1481 - val_mse: 0.0756\n",
      "Epoch 79/100\n",
      "\u001b[1m29/29\u001b[0m \u001b[32m━━━━━━━━━━━━━━━━━━━━\u001b[0m\u001b[37m\u001b[0m \u001b[1m0s\u001b[0m 7ms/step - loss: 0.0739 - mae: 0.1562 - mse: 0.0739 - val_loss: 0.0760 - val_mae: 0.1506 - val_mse: 0.0760\n",
      "Epoch 80/100\n",
      "\u001b[1m29/29\u001b[0m \u001b[32m━━━━━━━━━━━━━━━━━━━━\u001b[0m\u001b[37m\u001b[0m \u001b[1m0s\u001b[0m 7ms/step - loss: 0.0625 - mae: 0.1483 - mse: 0.0625 - val_loss: 0.0795 - val_mae: 0.1486 - val_mse: 0.0795\n",
      "Epoch 81/100\n",
      "\u001b[1m29/29\u001b[0m \u001b[32m━━━━━━━━━━━━━━━━━━━━\u001b[0m\u001b[37m\u001b[0m \u001b[1m0s\u001b[0m 7ms/step - loss: 0.0733 - mae: 0.1601 - mse: 0.0733 - val_loss: 0.0729 - val_mae: 0.1447 - val_mse: 0.0729\n",
      "Epoch 82/100\n",
      "\u001b[1m29/29\u001b[0m \u001b[32m━━━━━━━━━━━━━━━━━━━━\u001b[0m\u001b[37m\u001b[0m \u001b[1m0s\u001b[0m 7ms/step - loss: 0.0691 - mae: 0.1554 - mse: 0.0691 - val_loss: 0.0753 - val_mae: 0.1444 - val_mse: 0.0753\n"
     ]
    },
    {
     "data": {
      "image/png": "[encoded data removed]",
      "text/plain": [
       "<Figure size 1200x600 with 1 Axes>"
      ]
     },
     "metadata": {},
     "output_type": "display_data"
    },
    {
     "name": "stdout",
     "output_type": "stream",
     "text": [
      "\u001b[1m4/4\u001b[0m \u001b[32m━━━━━━━━━━━━━━━━━━━━\u001b[0m\u001b[37m\u001b[0m \u001b[1m0s\u001b[0m 12ms/step - loss: 0.0752 - mae: 0.1521 - mse: 0.0752\n",
      "Validation Loss : 0.07271721959114075\n",
      "Validation MAE: 0.14995096623897552\n",
      "Validation MSE: 0.07271721959114075\n",
      "Validation RMSE: 0.26966130532788857\n",
      "WARNING:tensorflow:5 out of the last 17 calls to <function TensorFlowTrainer.make_predict_function.<locals>.one_step_on_data_distributed at 0x0000023BAD5DFCE0> triggered tf.function retracing. Tracing is expensive and the excessive number of tracings could be due to (1) creating @tf.function repeatedly in a loop, (2) passing tensors with different shapes, (3) passing Python objects instead of tensors. For (1), please define your @tf.function outside of the loop. For (2), @tf.function has reduce_retracing=True option that can avoid unnecessary retracing. For (3), please refer to https://www.tensorflow.org/guide/function#controlling_retracing and https://www.tensorflow.org/api_docs/python/tf/function for  more details.\n",
      "\u001b[1m8/8\u001b[0m \u001b[32m━━━━━━━━━━━━━━━━━━━━\u001b[0m\u001b[37m\u001b[0m \u001b[1m0s\u001b[0m 31ms/step\n",
      "Test MAE: 131.96508068788725\n",
      "Test MSE: 54182.10298391763\n",
      "Test RMSE: 232.77049422965453\n",
      "Test R²: 0.9403448260512715\n",
      "Test CVRMSE: 0.3460725220864526\n"
     ]
    }
   ],
   "source": [
    "clustering_heat_toulouse = clustering(\n",
    "    df=consommation_chauffage_toulouse,  \n",
    "    n_parts=1,                          \n",
    "    status_column=\"heat_on\",           \n",
    "    n_clusters_list=[3]                \n",
    ")\n",
    "\n",
    "Text_conso_heat_tou = add_profil_and_status(\n",
    "    input_df=Text_combined_toulouse,\n",
    "    conso_df=clustering_heat_toulouse,\n",
    "    status_col=\"heat_on\",\n",
    "    profil_cols=[\"clusters_1\"]\n",
    ")\n",
    "\n",
    "print(\"-\"*100)\n",
    "print(\"-\"*100)\n",
    "print(\"Prédiction du profil de consommation de chauffage\")\n",
    "print(\"-\"*100)\n",
    "print(\"-\"*100)\n",
    "\n",
    "re, Test_Text_heat_toulouse = evaluate_models_split(\n",
    "    df=Text_conso_heat_tou,\n",
    "    target_cols=\"clusters_1\",\n",
    "    models=models,\n",
    "    split_ratio=8\n",
    ")\n",
    "print(\"\\t\")\n",
    "print(\"-\"*100)\n",
    "print(\"-\"*100)\n",
    "print(\"Prédiction du 24 heures de consommation de chauffage\")\n",
    "print(\"-\"*100)\n",
    "print(\"-\"*100)\n",
    "\n",
    "X_train2, X_test2, y_train2, y_test2 , scaler_temp, scaler_cons  = preprocess_data(\n",
    "    Text_combined_toulouse,\n",
    "    clustering_heat_toulouse,\n",
    "    Test_Text_heat_toulouse,\n",
    "    \"Text_combined_toulouse\"\n",
    ")\n",
    "\n",
    "model2, history2, loss2, mae2, mse2, rmse2, mae_test2, mse_test2, rmse_test2, r2, cvrmse, predictions2 = model_lstm(\n",
    "    X_train2,\n",
    "    y_train2,\n",
    "    X_test2,\n",
    "    y_test2,\n",
    "    scaler_temp,\n",
    "    scaler_cons\n",
    ")\n"
   ]
  },
  {
   "cell_type": "code",
   "execution_count": null,
   "id": "933c218d",
   "metadata": {},
   "outputs": [],
   "source": [
    "clustering_heat_toulouse = clustering(\n",
    "    df=consommation_chauffage_toulouse,  \n",
    "    n_parts=1,                          \n",
    "    status_column=\"heat_on\",           \n",
    "    n_clusters_list=[3]                \n",
    ")\n",
    "\n",
    "Text_conso_heat_tou = add_profil_and_status(\n",
    "    input_df=Text_combined_toulouse,\n",
    "    conso_df=clustering_heat_toulouse,\n",
    "    status_col=\"heat_on\",\n",
    "    profil_cols=[\"clusters_1\"]\n",
    ")\n",
    "\n",
    "print(\"-\"*100)\n",
    "print(\"-\"*100)\n",
    "print(\"Prédiction du profil de consommation de chauffage\")\n",
    "print(\"-\"*100)\n",
    "print(\"-\"*100)\n",
    "\n",
    "re, Test_Text_heat_toulouse = evaluate_models_split(\n",
    "    df=Text_conso_heat_tou,\n",
    "    target_cols=\"clusters_1\",\n",
    "    models=models,\n",
    "    split_ratio=8\n",
    ")\n",
    "print(\"\\t\")\n",
    "print(\"-\"*100)\n",
    "print(\"-\"*100)\n",
    "print(\"Prédiction du 24 heures de consommation de chauffage\")\n",
    "print(\"-\"*100)\n",
    "print(\"-\"*100)\n",
    "\n",
    "X_train2, X_test2, y_train2, y_test2 , scaler_temp, scaler_cons  = preprocess_data(\n",
    "    Text_combined_toulouse,\n",
    "    clustering_heat_toulouse,\n",
    "    Test_Text_heat_toulouse,\n",
    "    \"Text_combined_toulouse\"\n",
    ")\n",
    "\n",
    "model2, history2, loss2, mae2, mse2, rmse2, mae_test2, mse_test2, rmse_test2, r2, cvrmse, predictions2 = model_lstm(\n",
    "    X_train2,\n",
    "    y_train2,\n",
    "    X_test2,\n",
    "    y_test2,\n",
    "    scaler_temp,\n",
    "    scaler_cons\n",
    ")\n"
   ]
  },
  {
   "cell_type": "markdown",
   "id": "58f97c85",
   "metadata": {},
   "source": [
    "## Clustering et Prédiction consommation chauffage\n",
    "\n",
    "- Clustering sur 4 profils de 6 heures (au lieu d’un profil de 24 heures).\n",
    "- Prédiction des profils de consommation.\n",
    "- Prédiction de la consommation sur 24 heures."
   ]
  },
  {
   "cell_type": "code",
   "execution_count": 152,
   "id": "d96d83f9",
   "metadata": {},
   "outputs": [
    {
     "name": "stdout",
     "output_type": "stream",
     "text": [
      "----------------------------------------------------------------------------------------------------\n",
      "----------------------------------------------------------------------------------------------------\n",
      "Prédiction du profil de consommation de chauffage\n",
      "----------------------------------------------------------------------------------------------------\n",
      "----------------------------------------------------------------------------------------------------\n",
      "\n",
      "Évaluation de Random Forest...\n",
      "Random Forest - F1: 0.9871 - Accuracy: 0.9486 - 0/1 Loss: 0.0514 - Hamming Loss: 0.0137 - Temps: 2.19s\n",
      "###################################################################\n",
      "\n",
      "Évaluation de Logistic Regression...\n",
      "Logistic Regression - F1: 0.9765 - Accuracy: 0.9041 - 0/1 Loss: 0.0959 - Hamming Loss: 0.0248 - Temps: 0.39s\n",
      "###################################################################\n",
      "\n",
      "Évaluation de SVC...\n",
      "SVC - F1: 0.9237 - Accuracy: 0.8493 - 0/1 Loss: 0.1507 - Hamming Loss: 0.0839 - Temps: 0.14s\n",
      "###################################################################\n",
      "\n",
      "Évaluation de KNN...\n",
      "KNN - F1: 0.9353 - Accuracy: 0.8767 - 0/1 Loss: 0.1233 - Hamming Loss: 0.0702 - Temps: 0.12s\n",
      "###################################################################\n",
      "\n",
      "Évaluation de Gradient Boosting...\n",
      "Gradient Boosting - F1: 0.9887 - Accuracy: 0.9555 - 0/1 Loss: 0.0445 - Hamming Loss: 0.0120 - Temps: 3.08s\n",
      "###################################################################\n",
      "----------------------------------------------------------------------------------------------------\n",
      "----------------------------------------------------------------------------------------------------\n",
      "Prédiction du 24 heures de consommation de chauffage\n",
      "----------------------------------------------------------------------------------------------------\n",
      "----------------------------------------------------------------------------------------------------\n",
      "Prediction based on : Text\n",
      "Epoch 1/100\n"
     ]
    },
    {
     "name": "stderr",
     "output_type": "stream",
     "text": [
      "c:\\Users\\toubia\\anaconda3\\envs\\notebook\\Lib\\site-packages\\keras\\src\\layers\\rnn\\rnn.py:200: UserWarning:\n",
      "\n",
      "Do not pass an `input_shape`/`input_dim` argument to a layer. When using Sequential models, prefer using an `Input(shape)` object as the first layer in the model instead.\n",
      "\n"
     ]
    },
    {
     "name": "stdout",
     "output_type": "stream",
     "text": [
      "\u001b[1m29/29\u001b[0m \u001b[32m━━━━━━━━━━━━━━━━━━━━\u001b[0m\u001b[37m\u001b[0m \u001b[1m3s\u001b[0m 18ms/step - loss: 0.8422 - mae: 0.6857 - mse: 0.8422 - val_loss: 0.4916 - val_mae: 0.4698 - val_mse: 0.4916\n",
      "Epoch 2/100\n",
      "\u001b[1m29/29\u001b[0m \u001b[32m━━━━━━━━━━━━━━━━━━━━\u001b[0m\u001b[37m\u001b[0m \u001b[1m0s\u001b[0m 6ms/step - loss: 0.3536 - mae: 0.3991 - mse: 0.3536 - val_loss: 0.3607 - val_mae: 0.3565 - val_mse: 0.3607\n",
      "Epoch 3/100\n",
      "\u001b[1m29/29\u001b[0m \u001b[32m━━━━━━━━━━━━━━━━━━━━\u001b[0m\u001b[37m\u001b[0m \u001b[1m0s\u001b[0m 6ms/step - loss: 0.3021 - mae: 0.3427 - mse: 0.3021 - val_loss: 0.3027 - val_mae: 0.3232 - val_mse: 0.3027\n",
      "Epoch 4/100\n",
      "\u001b[1m29/29\u001b[0m \u001b[32m━━━━━━━━━━━━━━━━━━━━\u001b[0m\u001b[37m\u001b[0m \u001b[1m0s\u001b[0m 6ms/step - loss: 0.2504 - mae: 0.3021 - mse: 0.2504 - val_loss: 0.2582 - val_mae: 0.2950 - val_mse: 0.2582\n",
      "Epoch 5/100\n",
      "\u001b[1m29/29\u001b[0m \u001b[32m━━━━━━━━━━━━━━━━━━━━\u001b[0m\u001b[37m\u001b[0m \u001b[1m0s\u001b[0m 6ms/step - loss: 0.2212 - mae: 0.2832 - mse: 0.2212 - val_loss: 0.2220 - val_mae: 0.2729 - val_mse: 0.2220\n",
      "Epoch 6/100\n",
      "\u001b[1m29/29\u001b[0m \u001b[32m━━━━━━━━━━━━━━━━━━━━\u001b[0m\u001b[37m\u001b[0m \u001b[1m0s\u001b[0m 6ms/step - loss: 0.1709 - mae: 0.2459 - mse: 0.1709 - val_loss: 0.1927 - val_mae: 0.2509 - val_mse: 0.1927\n",
      "Epoch 7/100\n",
      "\u001b[1m29/29\u001b[0m \u001b[32m━━━━━━━━━━━━━━━━━━━━\u001b[0m\u001b[37m\u001b[0m \u001b[1m0s\u001b[0m 11ms/step - loss: 0.1604 - mae: 0.2421 - mse: 0.1604 - val_loss: 0.1604 - val_mae: 0.2315 - val_mse: 0.1604\n",
      "Epoch 8/100\n",
      "\u001b[1m29/29\u001b[0m \u001b[32m━━━━━━━━━━━━━━━━━━━━\u001b[0m\u001b[37m\u001b[0m \u001b[1m0s\u001b[0m 6ms/step - loss: 0.1390 - mae: 0.2295 - mse: 0.1390 - val_loss: 0.1629 - val_mae: 0.2258 - val_mse: 0.1629\n",
      "Epoch 9/100\n",
      "\u001b[1m29/29\u001b[0m \u001b[32m━━━━━━━━━━━━━━━━━━━━\u001b[0m\u001b[37m\u001b[0m \u001b[1m0s\u001b[0m 6ms/step - loss: 0.1584 - mae: 0.2380 - mse: 0.1584 - val_loss: 0.1362 - val_mae: 0.2078 - val_mse: 0.1362\n",
      "Epoch 10/100\n",
      "\u001b[1m29/29\u001b[0m \u001b[32m━━━━━━━━━━━━━━━━━━━━\u001b[0m\u001b[37m\u001b[0m \u001b[1m0s\u001b[0m 6ms/step - loss: 0.1430 - mae: 0.2249 - mse: 0.1430 - val_loss: 0.1148 - val_mae: 0.1928 - val_mse: 0.1148\n",
      "Epoch 11/100\n",
      "\u001b[1m29/29\u001b[0m \u001b[32m━━━━━━━━━━━━━━━━━━━━\u001b[0m\u001b[37m\u001b[0m \u001b[1m0s\u001b[0m 6ms/step - loss: 0.1192 - mae: 0.2070 - mse: 0.1192 - val_loss: 0.1194 - val_mae: 0.1935 - val_mse: 0.1194\n",
      "Epoch 12/100\n",
      "\u001b[1m29/29\u001b[0m \u001b[32m━━━━━━━━━━━━━━━━━━━━\u001b[0m\u001b[37m\u001b[0m \u001b[1m0s\u001b[0m 6ms/step - loss: 0.1111 - mae: 0.2006 - mse: 0.1111 - val_loss: 0.1051 - val_mae: 0.1872 - val_mse: 0.1051\n",
      "Epoch 13/100\n",
      "\u001b[1m29/29\u001b[0m \u001b[32m━━━━━━━━━━━━━━━━━━━━\u001b[0m\u001b[37m\u001b[0m \u001b[1m0s\u001b[0m 6ms/step - loss: 0.1139 - mae: 0.2065 - mse: 0.1139 - val_loss: 0.0957 - val_mae: 0.1757 - val_mse: 0.0957\n",
      "Epoch 14/100\n",
      "\u001b[1m29/29\u001b[0m \u001b[32m━━━━━━━━━━━━━━━━━━━━\u001b[0m\u001b[37m\u001b[0m \u001b[1m0s\u001b[0m 6ms/step - loss: 0.1087 - mae: 0.1916 - mse: 0.1087 - val_loss: 0.0985 - val_mae: 0.1784 - val_mse: 0.0985\n",
      "Epoch 15/100\n",
      "\u001b[1m29/29\u001b[0m \u001b[32m━━━━━━━━━━━━━━━━━━━━\u001b[0m\u001b[37m\u001b[0m \u001b[1m0s\u001b[0m 6ms/step - loss: 0.1048 - mae: 0.1942 - mse: 0.1048 - val_loss: 0.0892 - val_mae: 0.1744 - val_mse: 0.0892\n",
      "Epoch 16/100\n",
      "\u001b[1m29/29\u001b[0m \u001b[32m━━━━━━━━━━━━━━━━━━━━\u001b[0m\u001b[37m\u001b[0m \u001b[1m0s\u001b[0m 6ms/step - loss: 0.1061 - mae: 0.1918 - mse: 0.1061 - val_loss: 0.0799 - val_mae: 0.1645 - val_mse: 0.0799\n",
      "Epoch 17/100\n",
      "\u001b[1m29/29\u001b[0m \u001b[32m━━━━━━━━━━━━━━━━━━━━\u001b[0m\u001b[37m\u001b[0m \u001b[1m0s\u001b[0m 6ms/step - loss: 0.1011 - mae: 0.1925 - mse: 0.1011 - val_loss: 0.0898 - val_mae: 0.1706 - val_mse: 0.0898\n",
      "Epoch 18/100\n",
      "\u001b[1m29/29\u001b[0m \u001b[32m━━━━━━━━━━━━━━━━━━━━\u001b[0m\u001b[37m\u001b[0m \u001b[1m0s\u001b[0m 6ms/step - loss: 0.1032 - mae: 0.1905 - mse: 0.1032 - val_loss: 0.0861 - val_mae: 0.1644 - val_mse: 0.0861\n",
      "Epoch 19/100\n",
      "\u001b[1m29/29\u001b[0m \u001b[32m━━━━━━━━━━━━━━━━━━━━\u001b[0m\u001b[37m\u001b[0m \u001b[1m0s\u001b[0m 6ms/step - loss: 0.0978 - mae: 0.1857 - mse: 0.0978 - val_loss: 0.0806 - val_mae: 0.1672 - val_mse: 0.0806\n",
      "Epoch 20/100\n",
      "\u001b[1m29/29\u001b[0m \u001b[32m━━━━━━━━━━━━━━━━━━━━\u001b[0m\u001b[37m\u001b[0m \u001b[1m0s\u001b[0m 6ms/step - loss: 0.0908 - mae: 0.1822 - mse: 0.0908 - val_loss: 0.0867 - val_mae: 0.1709 - val_mse: 0.0867\n",
      "Epoch 21/100\n",
      "\u001b[1m29/29\u001b[0m \u001b[32m━━━━━━━━━━━━━━━━━━━━\u001b[0m\u001b[37m\u001b[0m \u001b[1m0s\u001b[0m 6ms/step - loss: 0.0861 - mae: 0.1764 - mse: 0.0861 - val_loss: 0.0724 - val_mae: 0.1584 - val_mse: 0.0724\n",
      "Epoch 22/100\n",
      "\u001b[1m29/29\u001b[0m \u001b[32m━━━━━━━━━━━━━━━━━━━━\u001b[0m\u001b[37m\u001b[0m \u001b[1m0s\u001b[0m 6ms/step - loss: 0.0919 - mae: 0.1836 - mse: 0.0919 - val_loss: 0.0722 - val_mae: 0.1546 - val_mse: 0.0722\n",
      "Epoch 23/100\n",
      "\u001b[1m29/29\u001b[0m \u001b[32m━━━━━━━━━━━━━━━━━━━━\u001b[0m\u001b[37m\u001b[0m \u001b[1m0s\u001b[0m 6ms/step - loss: 0.0930 - mae: 0.1834 - mse: 0.0930 - val_loss: 0.0738 - val_mae: 0.1561 - val_mse: 0.0738\n",
      "Epoch 24/100\n",
      "\u001b[1m29/29\u001b[0m \u001b[32m━━━━━━━━━━━━━━━━━━━━\u001b[0m\u001b[37m\u001b[0m \u001b[1m0s\u001b[0m 6ms/step - loss: 0.0965 - mae: 0.1855 - mse: 0.0965 - val_loss: 0.0692 - val_mae: 0.1499 - val_mse: 0.0692\n",
      "Epoch 25/100\n",
      "\u001b[1m29/29\u001b[0m \u001b[32m━━━━━━━━━━━━━━━━━━━━\u001b[0m\u001b[37m\u001b[0m \u001b[1m0s\u001b[0m 6ms/step - loss: 0.0818 - mae: 0.1714 - mse: 0.0818 - val_loss: 0.0670 - val_mae: 0.1494 - val_mse: 0.0670\n",
      "Epoch 26/100\n",
      "\u001b[1m29/29\u001b[0m \u001b[32m━━━━━━━━━━━━━━━━━━━━\u001b[0m\u001b[37m\u001b[0m \u001b[1m0s\u001b[0m 6ms/step - loss: 0.0868 - mae: 0.1765 - mse: 0.0868 - val_loss: 0.0662 - val_mae: 0.1508 - val_mse: 0.0662\n",
      "Epoch 27/100\n",
      "\u001b[1m29/29\u001b[0m \u001b[32m━━━━━━━━━━━━━━━━━━━━\u001b[0m\u001b[37m\u001b[0m \u001b[1m0s\u001b[0m 6ms/step - loss: 0.0801 - mae: 0.1663 - mse: 0.0801 - val_loss: 0.0698 - val_mae: 0.1516 - val_mse: 0.0698\n",
      "Epoch 28/100\n",
      "\u001b[1m29/29\u001b[0m \u001b[32m━━━━━━━━━━━━━━━━━━━━\u001b[0m\u001b[37m\u001b[0m \u001b[1m0s\u001b[0m 6ms/step - loss: 0.0754 - mae: 0.1663 - mse: 0.0754 - val_loss: 0.0825 - val_mae: 0.1607 - val_mse: 0.0825\n",
      "Epoch 29/100\n",
      "\u001b[1m29/29\u001b[0m \u001b[32m━━━━━━━━━━━━━━━━━━━━\u001b[0m\u001b[37m\u001b[0m \u001b[1m0s\u001b[0m 6ms/step - loss: 0.0893 - mae: 0.1785 - mse: 0.0893 - val_loss: 0.0708 - val_mae: 0.1491 - val_mse: 0.0708\n",
      "Epoch 30/100\n",
      "\u001b[1m29/29\u001b[0m \u001b[32m━━━━━━━━━━━━━━━━━━━━\u001b[0m\u001b[37m\u001b[0m \u001b[1m0s\u001b[0m 6ms/step - loss: 0.0789 - mae: 0.1665 - mse: 0.0789 - val_loss: 0.0634 - val_mae: 0.1443 - val_mse: 0.0634\n",
      "Epoch 31/100\n",
      "\u001b[1m29/29\u001b[0m \u001b[32m━━━━━━━━━━━━━━━━━━━━\u001b[0m\u001b[37m\u001b[0m \u001b[1m0s\u001b[0m 6ms/step - loss: 0.0753 - mae: 0.1629 - mse: 0.0753 - val_loss: 0.0653 - val_mae: 0.1434 - val_mse: 0.0653\n",
      "Epoch 32/100\n",
      "\u001b[1m29/29\u001b[0m \u001b[32m━━━━━━━━━━━━━━━━━━━━\u001b[0m\u001b[37m\u001b[0m \u001b[1m0s\u001b[0m 6ms/step - loss: 0.0732 - mae: 0.1636 - mse: 0.0732 - val_loss: 0.0611 - val_mae: 0.1433 - val_mse: 0.0611\n",
      "Epoch 33/100\n",
      "\u001b[1m29/29\u001b[0m \u001b[32m━━━━━━━━━━━━━━━━━━━━\u001b[0m\u001b[37m\u001b[0m \u001b[1m0s\u001b[0m 6ms/step - loss: 0.0737 - mae: 0.1627 - mse: 0.0737 - val_loss: 0.0688 - val_mae: 0.1478 - val_mse: 0.0688\n",
      "Epoch 34/100\n",
      "\u001b[1m29/29\u001b[0m \u001b[32m━━━━━━━━━━━━━━━━━━━━\u001b[0m\u001b[37m\u001b[0m \u001b[1m0s\u001b[0m 6ms/step - loss: 0.0737 - mae: 0.1680 - mse: 0.0737 - val_loss: 0.0615 - val_mae: 0.1413 - val_mse: 0.0615\n",
      "Epoch 35/100\n",
      "\u001b[1m29/29\u001b[0m \u001b[32m━━━━━━━━━━━━━━━━━━━━\u001b[0m\u001b[37m\u001b[0m \u001b[1m0s\u001b[0m 6ms/step - loss: 0.0702 - mae: 0.1598 - mse: 0.0702 - val_loss: 0.0618 - val_mae: 0.1414 - val_mse: 0.0618\n",
      "Epoch 36/100\n",
      "\u001b[1m29/29\u001b[0m \u001b[32m━━━━━━━━━━━━━━━━━━━━\u001b[0m\u001b[37m\u001b[0m \u001b[1m0s\u001b[0m 6ms/step - loss: 0.0719 - mae: 0.1604 - mse: 0.0719 - val_loss: 0.0784 - val_mae: 0.1517 - val_mse: 0.0784\n",
      "Epoch 37/100\n",
      "\u001b[1m29/29\u001b[0m \u001b[32m━━━━━━━━━━━━━━━━━━━━\u001b[0m\u001b[37m\u001b[0m \u001b[1m0s\u001b[0m 6ms/step - loss: 0.0695 - mae: 0.1602 - mse: 0.0695 - val_loss: 0.0647 - val_mae: 0.1452 - val_mse: 0.0647\n",
      "Epoch 38/100\n",
      "\u001b[1m29/29\u001b[0m \u001b[32m━━━━━━━━━━━━━━━━━━━━\u001b[0m\u001b[37m\u001b[0m \u001b[1m0s\u001b[0m 6ms/step - loss: 0.0728 - mae: 0.1635 - mse: 0.0728 - val_loss: 0.0621 - val_mae: 0.1433 - val_mse: 0.0621\n",
      "Epoch 39/100\n",
      "\u001b[1m29/29\u001b[0m \u001b[32m━━━━━━━━━━━━━━━━━━━━\u001b[0m\u001b[37m\u001b[0m \u001b[1m0s\u001b[0m 6ms/step - loss: 0.0720 - mae: 0.1618 - mse: 0.0720 - val_loss: 0.0685 - val_mae: 0.1465 - val_mse: 0.0685\n",
      "Epoch 40/100\n",
      "\u001b[1m29/29\u001b[0m \u001b[32m━━━━━━━━━━━━━━━━━━━━\u001b[0m\u001b[37m\u001b[0m \u001b[1m0s\u001b[0m 6ms/step - loss: 0.0739 - mae: 0.1642 - mse: 0.0739 - val_loss: 0.0719 - val_mae: 0.1514 - val_mse: 0.0719\n",
      "Epoch 41/100\n",
      "\u001b[1m29/29\u001b[0m \u001b[32m━━━━━━━━━━━━━━━━━━━━\u001b[0m\u001b[37m\u001b[0m \u001b[1m0s\u001b[0m 6ms/step - loss: 0.0692 - mae: 0.1608 - mse: 0.0692 - val_loss: 0.0594 - val_mae: 0.1404 - val_mse: 0.0594\n",
      "Epoch 42/100\n",
      "\u001b[1m29/29\u001b[0m \u001b[32m━━━━━━━━━━━━━━━━━━━━\u001b[0m\u001b[37m\u001b[0m \u001b[1m0s\u001b[0m 6ms/step - loss: 0.0676 - mae: 0.1597 - mse: 0.0676 - val_loss: 0.0588 - val_mae: 0.1415 - val_mse: 0.0588\n",
      "Epoch 43/100\n",
      "\u001b[1m29/29\u001b[0m \u001b[32m━━━━━━━━━━━━━━━━━━━━\u001b[0m\u001b[37m\u001b[0m \u001b[1m0s\u001b[0m 6ms/step - loss: 0.0678 - mae: 0.1587 - mse: 0.0678 - val_loss: 0.0701 - val_mae: 0.1484 - val_mse: 0.0701\n",
      "Epoch 44/100\n",
      "\u001b[1m29/29\u001b[0m \u001b[32m━━━━━━━━━━━━━━━━━━━━\u001b[0m\u001b[37m\u001b[0m \u001b[1m0s\u001b[0m 6ms/step - loss: 0.0674 - mae: 0.1549 - mse: 0.0674 - val_loss: 0.0701 - val_mae: 0.1415 - val_mse: 0.0701\n",
      "Epoch 45/100\n",
      "\u001b[1m29/29\u001b[0m \u001b[32m━━━━━━━━━━━━━━━━━━━━\u001b[0m\u001b[37m\u001b[0m \u001b[1m0s\u001b[0m 6ms/step - loss: 0.0708 - mae: 0.1595 - mse: 0.0708 - val_loss: 0.0802 - val_mae: 0.1490 - val_mse: 0.0802\n",
      "Epoch 46/100\n",
      "\u001b[1m29/29\u001b[0m \u001b[32m━━━━━━━━━━━━━━━━━━━━\u001b[0m\u001b[37m\u001b[0m \u001b[1m0s\u001b[0m 6ms/step - loss: 0.0740 - mae: 0.1608 - mse: 0.0740 - val_loss: 0.0695 - val_mae: 0.1528 - val_mse: 0.0695\n",
      "Epoch 47/100\n",
      "\u001b[1m29/29\u001b[0m \u001b[32m━━━━━━━━━━━━━━━━━━━━\u001b[0m\u001b[37m\u001b[0m \u001b[1m0s\u001b[0m 6ms/step - loss: 0.0622 - mae: 0.1521 - mse: 0.0622 - val_loss: 0.0847 - val_mae: 0.1508 - val_mse: 0.0847\n",
      "Epoch 48/100\n",
      "\u001b[1m29/29\u001b[0m \u001b[32m━━━━━━━━━━━━━━━━━━━━\u001b[0m\u001b[37m\u001b[0m \u001b[1m0s\u001b[0m 6ms/step - loss: 0.0657 - mae: 0.1549 - mse: 0.0657 - val_loss: 0.0731 - val_mae: 0.1452 - val_mse: 0.0731\n",
      "Epoch 49/100\n",
      "\u001b[1m29/29\u001b[0m \u001b[32m━━━━━━━━━━━━━━━━━━━━\u001b[0m\u001b[37m\u001b[0m \u001b[1m0s\u001b[0m 6ms/step - loss: 0.0682 - mae: 0.1548 - mse: 0.0682 - val_loss: 0.0608 - val_mae: 0.1377 - val_mse: 0.0608\n",
      "Epoch 50/100\n",
      "\u001b[1m29/29\u001b[0m \u001b[32m━━━━━━━━━━━━━━━━━━━━\u001b[0m\u001b[37m\u001b[0m \u001b[1m0s\u001b[0m 6ms/step - loss: 0.0625 - mae: 0.1538 - mse: 0.0625 - val_loss: 0.0571 - val_mae: 0.1364 - val_mse: 0.0571\n",
      "Epoch 51/100\n",
      "\u001b[1m29/29\u001b[0m \u001b[32m━━━━━━━━━━━━━━━━━━━━\u001b[0m\u001b[37m\u001b[0m \u001b[1m0s\u001b[0m 7ms/step - loss: 0.0683 - mae: 0.1575 - mse: 0.0683 - val_loss: 0.0599 - val_mae: 0.1430 - val_mse: 0.0599\n",
      "Epoch 52/100\n",
      "\u001b[1m29/29\u001b[0m \u001b[32m━━━━━━━━━━━━━━━━━━━━\u001b[0m\u001b[37m\u001b[0m \u001b[1m0s\u001b[0m 8ms/step - loss: 0.0639 - mae: 0.1521 - mse: 0.0639 - val_loss: 0.0637 - val_mae: 0.1447 - val_mse: 0.0637\n",
      "Epoch 53/100\n",
      "\u001b[1m29/29\u001b[0m \u001b[32m━━━━━━━━━━━━━━━━━━━━\u001b[0m\u001b[37m\u001b[0m \u001b[1m0s\u001b[0m 7ms/step - loss: 0.0631 - mae: 0.1527 - mse: 0.0631 - val_loss: 0.0576 - val_mae: 0.1331 - val_mse: 0.0576\n",
      "Epoch 54/100\n",
      "\u001b[1m29/29\u001b[0m \u001b[32m━━━━━━━━━━━━━━━━━━━━\u001b[0m\u001b[37m\u001b[0m \u001b[1m1s\u001b[0m 15ms/step - loss: 0.0590 - mae: 0.1479 - mse: 0.0590 - val_loss: 0.0569 - val_mae: 0.1366 - val_mse: 0.0569\n",
      "Epoch 55/100\n",
      "\u001b[1m29/29\u001b[0m \u001b[32m━━━━━━━━━━━━━━━━━━━━\u001b[0m\u001b[37m\u001b[0m \u001b[1m0s\u001b[0m 10ms/step - loss: 0.0603 - mae: 0.1455 - mse: 0.0603 - val_loss: 0.0546 - val_mae: 0.1360 - val_mse: 0.0546\n",
      "Epoch 56/100\n",
      "\u001b[1m29/29\u001b[0m \u001b[32m━━━━━━━━━━━━━━━━━━━━\u001b[0m\u001b[37m\u001b[0m \u001b[1m1s\u001b[0m 10ms/step - loss: 0.0644 - mae: 0.1543 - mse: 0.0644 - val_loss: 0.0553 - val_mae: 0.1333 - val_mse: 0.0553\n",
      "Epoch 57/100\n",
      "\u001b[1m29/29\u001b[0m \u001b[32m━━━━━━━━━━━━━━━━━━━━\u001b[0m\u001b[37m\u001b[0m \u001b[1m0s\u001b[0m 7ms/step - loss: 0.0530 - mae: 0.1395 - mse: 0.0530 - val_loss: 0.0588 - val_mae: 0.1361 - val_mse: 0.0588\n",
      "Epoch 58/100\n",
      "\u001b[1m29/29\u001b[0m \u001b[32m━━━━━━━━━━━━━━━━━━━━\u001b[0m\u001b[37m\u001b[0m \u001b[1m0s\u001b[0m 9ms/step - loss: 0.0634 - mae: 0.1508 - mse: 0.0634 - val_loss: 0.0563 - val_mae: 0.1346 - val_mse: 0.0563\n",
      "Epoch 59/100\n",
      "\u001b[1m29/29\u001b[0m \u001b[32m━━━━━━━━━━━━━━━━━━━━\u001b[0m\u001b[37m\u001b[0m \u001b[1m0s\u001b[0m 14ms/step - loss: 0.0583 - mae: 0.1455 - mse: 0.0583 - val_loss: 0.0718 - val_mae: 0.1464 - val_mse: 0.0718\n",
      "Epoch 60/100\n",
      "\u001b[1m29/29\u001b[0m \u001b[32m━━━━━━━━━━━━━━━━━━━━\u001b[0m\u001b[37m\u001b[0m \u001b[1m0s\u001b[0m 7ms/step - loss: 0.0593 - mae: 0.1448 - mse: 0.0593 - val_loss: 0.0562 - val_mae: 0.1337 - val_mse: 0.0562\n",
      "Epoch 61/100\n",
      "\u001b[1m29/29\u001b[0m \u001b[32m━━━━━━━━━━━━━━━━━━━━\u001b[0m\u001b[37m\u001b[0m \u001b[1m0s\u001b[0m 6ms/step - loss: 0.0526 - mae: 0.1412 - mse: 0.0526 - val_loss: 0.0575 - val_mae: 0.1373 - val_mse: 0.0575\n",
      "Epoch 62/100\n",
      "\u001b[1m29/29\u001b[0m \u001b[32m━━━━━━━━━━━━━━━━━━━━\u001b[0m\u001b[37m\u001b[0m \u001b[1m0s\u001b[0m 6ms/step - loss: 0.0542 - mae: 0.1411 - mse: 0.0542 - val_loss: 0.0545 - val_mae: 0.1334 - val_mse: 0.0545\n",
      "Epoch 63/100\n",
      "\u001b[1m29/29\u001b[0m \u001b[32m━━━━━━━━━━━━━━━━━━━━\u001b[0m\u001b[37m\u001b[0m \u001b[1m0s\u001b[0m 6ms/step - loss: 0.0501 - mae: 0.1365 - mse: 0.0501 - val_loss: 0.0536 - val_mae: 0.1306 - val_mse: 0.0536\n",
      "Epoch 64/100\n",
      "\u001b[1m29/29\u001b[0m \u001b[32m━━━━━━━━━━━━━━━━━━━━\u001b[0m\u001b[37m\u001b[0m \u001b[1m0s\u001b[0m 6ms/step - loss: 0.0604 - mae: 0.1469 - mse: 0.0604 - val_loss: 0.0585 - val_mae: 0.1336 - val_mse: 0.0585\n",
      "Epoch 65/100\n",
      "\u001b[1m29/29\u001b[0m \u001b[32m━━━━━━━━━━━━━━━━━━━━\u001b[0m\u001b[37m\u001b[0m \u001b[1m0s\u001b[0m 7ms/step - loss: 0.0547 - mae: 0.1420 - mse: 0.0547 - val_loss: 0.0515 - val_mae: 0.1277 - val_mse: 0.0515\n",
      "Epoch 66/100\n",
      "\u001b[1m29/29\u001b[0m \u001b[32m━━━━━━━━━━━━━━━━━━━━\u001b[0m\u001b[37m\u001b[0m \u001b[1m0s\u001b[0m 6ms/step - loss: 0.0505 - mae: 0.1352 - mse: 0.0505 - val_loss: 0.0607 - val_mae: 0.1355 - val_mse: 0.0607\n",
      "Epoch 67/100\n",
      "\u001b[1m29/29\u001b[0m \u001b[32m━━━━━━━━━━━━━━━━━━━━\u001b[0m\u001b[37m\u001b[0m \u001b[1m0s\u001b[0m 6ms/step - loss: 0.0581 - mae: 0.1443 - mse: 0.0581 - val_loss: 0.0550 - val_mae: 0.1363 - val_mse: 0.0550\n",
      "Epoch 68/100\n",
      "\u001b[1m29/29\u001b[0m \u001b[32m━━━━━━━━━━━━━━━━━━━━\u001b[0m\u001b[37m\u001b[0m \u001b[1m0s\u001b[0m 8ms/step - loss: 0.0616 - mae: 0.1451 - mse: 0.0616 - val_loss: 0.0547 - val_mae: 0.1350 - val_mse: 0.0547\n",
      "Epoch 69/100\n",
      "\u001b[1m29/29\u001b[0m \u001b[32m━━━━━━━━━━━━━━━━━━━━\u001b[0m\u001b[37m\u001b[0m \u001b[1m0s\u001b[0m 7ms/step - loss: 0.0624 - mae: 0.1469 - mse: 0.0624 - val_loss: 0.0593 - val_mae: 0.1331 - val_mse: 0.0593\n",
      "Epoch 70/100\n",
      "\u001b[1m29/29\u001b[0m \u001b[32m━━━━━━━━━━━━━━━━━━━━\u001b[0m\u001b[37m\u001b[0m \u001b[1m0s\u001b[0m 7ms/step - loss: 0.0557 - mae: 0.1433 - mse: 0.0557 - val_loss: 0.0506 - val_mae: 0.1320 - val_mse: 0.0506\n",
      "Epoch 71/100\n",
      "\u001b[1m29/29\u001b[0m \u001b[32m━━━━━━━━━━━━━━━━━━━━\u001b[0m\u001b[37m\u001b[0m \u001b[1m0s\u001b[0m 9ms/step - loss: 0.0592 - mae: 0.1511 - mse: 0.0592 - val_loss: 0.0563 - val_mae: 0.1331 - val_mse: 0.0563\n",
      "Epoch 72/100\n",
      "\u001b[1m29/29\u001b[0m \u001b[32m━━━━━━━━━━━━━━━━━━━━\u001b[0m\u001b[37m\u001b[0m \u001b[1m0s\u001b[0m 9ms/step - loss: 0.0549 - mae: 0.1432 - mse: 0.0549 - val_loss: 0.0504 - val_mae: 0.1262 - val_mse: 0.0504\n",
      "Epoch 73/100\n",
      "\u001b[1m29/29\u001b[0m \u001b[32m━━━━━━━━━━━━━━━━━━━━\u001b[0m\u001b[37m\u001b[0m \u001b[1m0s\u001b[0m 8ms/step - loss: 0.0541 - mae: 0.1397 - mse: 0.0541 - val_loss: 0.0545 - val_mae: 0.1287 - val_mse: 0.0545\n",
      "Epoch 74/100\n",
      "\u001b[1m29/29\u001b[0m \u001b[32m━━━━━━━━━━━━━━━━━━━━\u001b[0m\u001b[37m\u001b[0m \u001b[1m0s\u001b[0m 6ms/step - loss: 0.0461 - mae: 0.1296 - mse: 0.0461 - val_loss: 0.0516 - val_mae: 0.1260 - val_mse: 0.0516\n",
      "Epoch 75/100\n",
      "\u001b[1m29/29\u001b[0m \u001b[32m━━━━━━━━━━━━━━━━━━━━\u001b[0m\u001b[37m\u001b[0m \u001b[1m0s\u001b[0m 6ms/step - loss: 0.0542 - mae: 0.1393 - mse: 0.0542 - val_loss: 0.0617 - val_mae: 0.1408 - val_mse: 0.0617\n",
      "Epoch 76/100\n",
      "\u001b[1m29/29\u001b[0m \u001b[32m━━━━━━━━━━━━━━━━━━━━\u001b[0m\u001b[37m\u001b[0m \u001b[1m0s\u001b[0m 6ms/step - loss: 0.0567 - mae: 0.1434 - mse: 0.0567 - val_loss: 0.0565 - val_mae: 0.1321 - val_mse: 0.0565\n",
      "Epoch 77/100\n",
      "\u001b[1m29/29\u001b[0m \u001b[32m━━━━━━━━━━━━━━━━━━━━\u001b[0m\u001b[37m\u001b[0m \u001b[1m0s\u001b[0m 6ms/step - loss: 0.0513 - mae: 0.1396 - mse: 0.0513 - val_loss: 0.0536 - val_mae: 0.1312 - val_mse: 0.0536\n",
      "Epoch 78/100\n",
      "\u001b[1m29/29\u001b[0m \u001b[32m━━━━━━━━━━━━━━━━━━━━\u001b[0m\u001b[37m\u001b[0m \u001b[1m0s\u001b[0m 6ms/step - loss: 0.0481 - mae: 0.1360 - mse: 0.0481 - val_loss: 0.0502 - val_mae: 0.1242 - val_mse: 0.0502\n",
      "Epoch 79/100\n",
      "\u001b[1m29/29\u001b[0m \u001b[32m━━━━━━━━━━━━━━━━━━━━\u001b[0m\u001b[37m\u001b[0m \u001b[1m0s\u001b[0m 6ms/step - loss: 0.0509 - mae: 0.1359 - mse: 0.0509 - val_loss: 0.0633 - val_mae: 0.1339 - val_mse: 0.0633\n",
      "Epoch 80/100\n",
      "\u001b[1m29/29\u001b[0m \u001b[32m━━━━━━━━━━━━━━━━━━━━\u001b[0m\u001b[37m\u001b[0m \u001b[1m0s\u001b[0m 11ms/step - loss: 0.0444 - mae: 0.1303 - mse: 0.0444 - val_loss: 0.0509 - val_mae: 0.1250 - val_mse: 0.0509\n",
      "Epoch 81/100\n",
      "\u001b[1m29/29\u001b[0m \u001b[32m━━━━━━━━━━━━━━━━━━━━\u001b[0m\u001b[37m\u001b[0m \u001b[1m0s\u001b[0m 6ms/step - loss: 0.0530 - mae: 0.1363 - mse: 0.0530 - val_loss: 0.0564 - val_mae: 0.1289 - val_mse: 0.0564\n",
      "Epoch 82/100\n",
      "\u001b[1m29/29\u001b[0m \u001b[32m━━━━━━━━━━━━━━━━━━━━\u001b[0m\u001b[37m\u001b[0m \u001b[1m0s\u001b[0m 6ms/step - loss: 0.0508 - mae: 0.1377 - mse: 0.0508 - val_loss: 0.0521 - val_mae: 0.1289 - val_mse: 0.0521\n",
      "Epoch 83/100\n",
      "\u001b[1m29/29\u001b[0m \u001b[32m━━━━━━━━━━━━━━━━━━━━\u001b[0m\u001b[37m\u001b[0m \u001b[1m0s\u001b[0m 6ms/step - loss: 0.0458 - mae: 0.1310 - mse: 0.0458 - val_loss: 0.0565 - val_mae: 0.1299 - val_mse: 0.0565\n",
      "Epoch 84/100\n",
      "\u001b[1m29/29\u001b[0m \u001b[32m━━━━━━━━━━━━━━━━━━━━\u001b[0m\u001b[37m\u001b[0m \u001b[1m0s\u001b[0m 6ms/step - loss: 0.0526 - mae: 0.1392 - mse: 0.0526 - val_loss: 0.0574 - val_mae: 0.1318 - val_mse: 0.0574\n",
      "Epoch 85/100\n",
      "\u001b[1m29/29\u001b[0m \u001b[32m━━━━━━━━━━━━━━━━━━━━\u001b[0m\u001b[37m\u001b[0m \u001b[1m0s\u001b[0m 6ms/step - loss: 0.0586 - mae: 0.1458 - mse: 0.0586 - val_loss: 0.0578 - val_mae: 0.1299 - val_mse: 0.0578\n",
      "Epoch 86/100\n",
      "\u001b[1m29/29\u001b[0m \u001b[32m━━━━━━━━━━━━━━━━━━━━\u001b[0m\u001b[37m\u001b[0m \u001b[1m0s\u001b[0m 6ms/step - loss: 0.0460 - mae: 0.1313 - mse: 0.0460 - val_loss: 0.0523 - val_mae: 0.1302 - val_mse: 0.0523\n",
      "Epoch 87/100\n",
      "\u001b[1m29/29\u001b[0m \u001b[32m━━━━━━━━━━━━━━━━━━━━\u001b[0m\u001b[37m\u001b[0m \u001b[1m0s\u001b[0m 6ms/step - loss: 0.0492 - mae: 0.1362 - mse: 0.0492 - val_loss: 0.0554 - val_mae: 0.1291 - val_mse: 0.0554\n",
      "Epoch 88/100\n",
      "\u001b[1m29/29\u001b[0m \u001b[32m━━━━━━━━━━━━━━━━━━━━\u001b[0m\u001b[37m\u001b[0m \u001b[1m0s\u001b[0m 7ms/step - loss: 0.0474 - mae: 0.1327 - mse: 0.0474 - val_loss: 0.0516 - val_mae: 0.1272 - val_mse: 0.0516\n"
     ]
    },
    {
     "data": {
      "image/png": "[encoded data removed]",
      "text/plain": [
       "<Figure size 1200x600 with 1 Axes>"
      ]
     },
     "metadata": {},
     "output_type": "display_data"
    },
    {
     "name": "stdout",
     "output_type": "stream",
     "text": [
      "\u001b[1m4/4\u001b[0m \u001b[32m━━━━━━━━━━━━━━━━━━━━\u001b[0m\u001b[37m\u001b[0m \u001b[1m0s\u001b[0m 13ms/step - loss: 0.0522 - mae: 0.1261 - mse: 0.0522\n",
      "Validation Loss : 0.05021464079618454\n",
      "Validation MAE: 0.12420140206813812\n",
      "Validation MSE: 0.05021464079618454\n",
      "Validation RMSE: 0.22408623517785412\n",
      "\u001b[1m8/8\u001b[0m \u001b[32m━━━━━━━━━━━━━━━━━━━━\u001b[0m\u001b[37m\u001b[0m \u001b[1m0s\u001b[0m 31ms/step\n",
      "Test MAE: 117.85114164483218\n",
      "Test MSE: 43436.39563579685\n",
      "Test RMSE: 208.4140005752897\n",
      "Test R²: 0.9535717864523997\n",
      "Test CVRMSE: 0.3098604015767439\n"
     ]
    }
   ],
   "source": [
    "clustering_heat_toulouse_4parties = clustering(\n",
    "    df=consommation_chauffage_toulouse,  \n",
    "    n_parts=4,                          \n",
    "    status_column=\"heat_on\",           \n",
    "    n_clusters_list=[2,3,3,2]                \n",
    ")\n",
    "\n",
    "\n",
    "\n",
    "Text_conso_heat_tou = add_profil_and_status(\n",
    "    input_df=Text_combined_toulouse,\n",
    "    conso_df=clustering_heat_toulouse_4parties,\n",
    "    status_col=\"heat_on\",\n",
    "    profil_cols=[\"clusters_1\",\"clusters_2\",\"clusters_3\",\"clusters_4\"]\n",
    ")\n",
    "\n",
    "print(\"-\"*100)\n",
    "print(\"-\"*100)\n",
    "print(\"Prédiction du profil de consommation de chauffage\")\n",
    "print(\"-\"*100)\n",
    "print(\"-\"*100)\n",
    "\n",
    "\n",
    "re, Test_Text_heat_toulouse = evaluate_models_split(\n",
    "    df=Text_conso_heat_tou,\n",
    "    target_cols=[\"clusters_1\",\"clusters_2\",\"clusters_3\",\"clusters_4\"],\n",
    "    models=models2,\n",
    "    split_ratio=8\n",
    ")\n",
    "\n",
    "\n",
    "print(\"-\"*100)\n",
    "print(\"-\"*100)\n",
    "print(\"Prédiction du 24 heures de consommation de chauffage\")\n",
    "print(\"-\"*100)\n",
    "print(\"-\"*100)\n",
    "\n",
    "X_train2, X_test2, y_train2, y_test2 , scaler_temp, scaler_cons  = preprocess_data(\n",
    "    Text_combined_toulouse,\n",
    "    clustering_heat_toulouse_4parties,\n",
    "    Test_Text_heat_toulouse,\n",
    "    \"Text_combined_toulouse\"\n",
    ")\n",
    "\n",
    "model2, history2, loss2, mae2, mse2, rmse2, mae_test2, mse_test2, rmse_test2, r2, cvrmse, predictions2 = model_lstm(\n",
    "    X_train2,\n",
    "    y_train2, \n",
    "    X_test2, \n",
    "    y_test2, \n",
    "    scaler_temp, \n",
    "    scaler_cons\n",
    ")"
   ]
  },
  {
   "cell_type": "code",
   "execution_count": 42,
   "id": "33bfbb64",
   "metadata": {},
   "outputs": [],
   "source": [
    "create_line_gif_point_by_point(y_test2, predictions2, scaler_cons)\n"
   ]
  },
  {
   "cell_type": "code",
   "execution_count": 34,
   "id": "20d624bc",
   "metadata": {},
   "outputs": [
    {
     "data": {
      "application/vnd.plotly.v1+json": {
       "config": {
        "plotlyServerURL": "https://plot.ly"
       },
       "data": [
        {
         "line": {
          "color": "blue"
         },
         "mode": "lines+markers",
         "name": "Valeurs Réelles",
         "type": "scatter",
         "x": [
          0,
          1,
          2,
          3,
          4,
          5,
          6,
          7,
          8,
          9,
          10,
          11,
          12,
          13,
          14,
          15,
          16,
          17,
          18,
          19,
          20,
          21,
          22,
          23,
          24,
          25,
          26,
          27,
          28,
          29,
          30,
          31,
          32,
          33,
          34,
          35,
          36,
          37,
          38,
          39,
          40,
          41,
          42,
          43,
          44,
          45,
          46,
          47,
          48,
          49,
          50,
          51,
          52,
          53,
          54,
          55,
          56,
          57,
          58,
          59,
          60,
          61,
          62,
          63,
          64,
          65,
          66,
          67,
          68,
          69,
          70,
          71,
          72,
          73,
          74,
          75,
          76,
          77,
          78,
          79,
          80,
          81,
          82,
          83,
          84,
          85,
          86,
          87,
          88,
          89,
          90,
          91,
          92,
          93,
          94,
          95,
          96,
          97,
          98,
          99,
          100,
          101,
          102,
          103,
          104,
          105,
          106,
          107,
          108,
          109,
          110,
          111,
          112,
          113,
          114,
          115,
          116,
          117,
          118,
          119
         ],
         "y": [
          2581.4157806132566,
          2670.0733693362645,
          2762.6579019833225,
          2847.0956865825137,
          2917.042873711027,
          2963.590574441536,
          3669.950279510319,
          4368.283832648973,
          5024.842927194243,
          4473.085512921694,
          4426.5596853953175,
          2975.8780846383306,
          4066.88787366316,
          3955.682204676996,
          3146.212071537528,
          2536.734008734893,
          1996.577984760166,
          2094.7602432236017,
          1787.7808855431067,
          1917.6612146464176,
          2033.0618015981308,
          2133.863491906559,
          2227.7240974475567,
          2313.9422365524515,
          1381.8091415764284,
          1476.8498364587576,
          1565.9842128584205,
          1624.1385994028317,
          1676.058295466035,
          1705.2694427122624,
          2068.478126235321,
          2435.722509338477,
          2784.3067535935697,
          2623.2257875078576,
          2381.8233824953127,
          1586.9606253374511,
          1945.0348019821977,
          1827.0355360730464,
          1850.595232651605,
          1909.3351774768958,
          1752.9400940832347,
          1597.3917174217495,
          1442.6080025182819,
          1554.016395984006,
          1656.2507678132315,
          1756.843663107342,
          1856.4050373190407,
          1953.5543142818424,
          0,
          0,
          0,
          0,
          0,
          0,
          0,
          0,
          0,
          0,
          0,
          -5.684341886080802e-14,
          0,
          0,
          0,
          0,
          0,
          0,
          0,
          0,
          0,
          0,
          0,
          0,
          0,
          0,
          0,
          0,
          0,
          0,
          350.4037708463875,
          576.5412750092655,
          392.187966608646,
          0,
          0,
          -5.684341886080802e-14,
          0,
          0,
          0,
          0,
          0,
          0,
          0,
          0,
          0,
          0,
          0,
          0,
          961.1064886898602,
          1069.5312798352024,
          1197.517248970551,
          1308.9771464364749,
          1410.1591615288123,
          1485.066786893789,
          1943.2581916221025,
          2243.0121639007334,
          2413.774224243134,
          2173.876413116472,
          1938.840795928154,
          1104.7642474688546,
          1475.138391119268,
          1391.7217694387436,
          1326.676936289987,
          1201.2053217198263,
          969.3357424647184,
          820.5430444231606,
          724.4129627811635,
          891.1031141814093,
          1018.9938977900456,
          1133.022033845118,
          1235.497878048438,
          1308.8859527116656
         ]
        },
        {
         "line": {
          "color": "orange"
         },
         "mode": "lines+markers",
         "name": "Prédictions",
         "type": "scatter",
         "x": [
          0,
          1,
          2,
          3,
          4,
          5,
          6,
          7,
          8,
          9,
          10,
          11,
          12,
          13,
          14,
          15,
          16,
          17,
          18,
          19,
          20,
          21,
          22,
          23,
          24,
          25,
          26,
          27,
          28,
          29,
          30,
          31,
          32,
          33,
          34,
          35,
          36,
          37,
          38,
          39,
          40,
          41,
          42,
          43,
          44,
          45,
          46,
          47,
          48,
          49,
          50,
          51,
          52,
          53,
          54,
          55,
          56,
          57,
          58,
          59,
          60,
          61,
          62,
          63,
          64,
          65,
          66,
          67,
          68,
          69,
          70,
          71,
          72,
          73,
          74,
          75,
          76,
          77,
          78,
          79,
          80,
          81,
          82,
          83,
          84,
          85,
          86,
          87,
          88,
          89,
          90,
          91,
          92,
          93,
          94,
          95,
          96,
          97,
          98,
          99,
          100,
          101,
          102,
          103,
          104,
          105,
          106,
          107,
          108,
          109,
          110,
          111,
          112,
          113,
          114,
          115,
          116,
          117,
          118,
          119
         ],
         "y": [
          2674.81103515625,
          2712.11962890625,
          2689.983154296875,
          2806.88330078125,
          2862.738037109375,
          2940.552978515625,
          3328.34326171875,
          3853.3125,
          4395.53076171875,
          4499.06787109375,
          4037.636962890625,
          3076.697265625,
          3927.074462890625,
          3382.8623046875,
          3064.245361328125,
          2948.802490234375,
          2669.3984375,
          2422.0693359375,
          2233.9814453125,
          2292.239013671875,
          2440.219970703125,
          2446.833740234375,
          2520.336181640625,
          2599.093017578125,
          1291.6365966796875,
          1421.275146484375,
          1546.712890625,
          1575.9208984375,
          1640.220703125,
          1722.3397216796875,
          2016.0919189453125,
          2428.025390625,
          2591.552734375,
          2279.529296875,
          2036.194091796875,
          1416.45849609375,
          1694.722412109375,
          1564.25537109375,
          1564.3873291015625,
          1551.5101318359375,
          1416.94091796875,
          1369.346435546875,
          1308.1844482421875,
          1414.337646484375,
          1525.755615234375,
          1610.8701171875,
          1723.4490966796875,
          1754.289794921875,
          2.4650862216949463,
          -7.298262596130371,
          -4.168993949890137,
          -5.35488224029541,
          -14.026723861694336,
          -8.561495780944824,
          -5.346797943115234,
          -16.172142028808594,
          -4.463520526885986,
          -19.175195693969727,
          0.8572578430175781,
          -16.531187057495117,
          -5.767343521118164,
          2.319326162338257,
          -4.806698322296143,
          14.855147361755371,
          -8.126328468322754,
          1.3324062824249268,
          -2.863478899002075,
          -2.338740348815918,
          -9.8179292678833,
          -9.138059616088867,
          -19.343936920166016,
          -16.954334259033203,
          -6.429689407348633,
          72.03205871582031,
          108.48262023925781,
          155.79898071289062,
          201.67286682128906,
          277.47735595703125,
          531.96533203125,
          729.7391357421875,
          639.3480834960938,
          258.4736633300781,
          -27.467937469482422,
          -47.103755950927734,
          57.524375915527344,
          55.0552864074707,
          84.58206176757812,
          84.44416809082031,
          47.87422180175781,
          36.672706604003906,
          14.294999122619629,
          -9.528864860534668,
          -41.56093978881836,
          -26.368070602416992,
          -66.77945709228516,
          -80.57341003417969,
          797.8880615234375,
          925.8855590820312,
          1017.0440063476562,
          1104.120849609375,
          1168.248046875,
          1260.36767578125,
          1637.784912109375,
          2022.4456787109375,
          2267.04638671875,
          1904.7308349609375,
          1553.9559326171875,
          1001.5796508789062,
          1361.1932373046875,
          998.4718017578125,
          902.0916748046875,
          883.5504760742188,
          731.68603515625,
          688.9114990234375,
          681.9638671875,
          742.4866333007812,
          781.994140625,
          874.5374755859375,
          964.463623046875,
          1015.4662475585938
         ]
        }
       ],
       "layout": {
        "hovermode": "x unified",
        "legend": {
         "x": 0.01,
         "y": 0.99
        },
        "shapes": [
         {
          "line": {
           "color": "gray",
           "dash": "dash"
          },
          "opacity": 0.3,
          "type": "line",
          "x0": 24,
          "x1": 24,
          "xref": "x",
          "y0": 0,
          "y1": 1,
          "yref": "y domain"
         },
         {
          "line": {
           "color": "gray",
           "dash": "dash"
          },
          "opacity": 0.3,
          "type": "line",
          "x0": 48,
          "x1": 48,
          "xref": "x",
          "y0": 0,
          "y1": 1,
          "yref": "y domain"
         },
         {
          "line": {
           "color": "gray",
           "dash": "dash"
          },
          "opacity": 0.3,
          "type": "line",
          "x0": 72,
          "x1": 72,
          "xref": "x",
          "y0": 0,
          "y1": 1,
          "yref": "y domain"
         },
         {
          "line": {
           "color": "gray",
           "dash": "dash"
          },
          "opacity": 0.3,
          "type": "line",
          "x0": 96,
          "x1": 96,
          "xref": "x",
          "y0": 0,
          "y1": 1,
          "yref": "y domain"
         }
        ],
        "template": {
         "data": {
          "bar": [
           {
            "error_x": {
             "color": "#2a3f5f"
            },
            "error_y": {
             "color": "#2a3f5f"
            },
            "marker": {
             "line": {
              "color": "#E5ECF6",
              "width": 0.5
             },
             "pattern": {
              "fillmode": "overlay",
              "size": 10,
              "solidity": 0.2
             }
            },
            "type": "bar"
           }
          ],
          "barpolar": [
           {
            "marker": {
             "line": {
              "color": "#E5ECF6",
              "width": 0.5
             },
             "pattern": {
              "fillmode": "overlay",
              "size": 10,
              "solidity": 0.2
             }
            },
            "type": "barpolar"
           }
          ],
          "carpet": [
           {
            "aaxis": {
             "endlinecolor": "#2a3f5f",
             "gridcolor": "white",
             "linecolor": "white",
             "minorgridcolor": "white",
             "startlinecolor": "#2a3f5f"
            },
            "baxis": {
             "endlinecolor": "#2a3f5f",
             "gridcolor": "white",
             "linecolor": "white",
             "minorgridcolor": "white",
             "startlinecolor": "#2a3f5f"
            },
            "type": "carpet"
           }
          ],
          "choropleth": [
           {
            "colorbar": {
             "outlinewidth": 0,
             "ticks": ""
            },
            "type": "choropleth"
           }
          ],
          "contour": [
           {
            "colorbar": {
             "outlinewidth": 0,
             "ticks": ""
            },
            "colorscale": [
             [
              0,
              "#0d0887"
             ],
             [
              0.1111111111111111,
              "#46039f"
             ],
             [
              0.2222222222222222,
              "#7201a8"
             ],
             [
              0.3333333333333333,
              "#9c179e"
             ],
             [
              0.4444444444444444,
              "#bd3786"
             ],
             [
              0.5555555555555556,
              "#d8576b"
             ],
             [
              0.6666666666666666,
              "#ed7953"
             ],
             [
              0.7777777777777778,
              "#fb9f3a"
             ],
             [
              0.8888888888888888,
              "#fdca26"
             ],
             [
              1,
              "#f0f921"
             ]
            ],
            "type": "contour"
           }
          ],
          "contourcarpet": [
           {
            "colorbar": {
             "outlinewidth": 0,
             "ticks": ""
            },
            "type": "contourcarpet"
           }
          ],
          "heatmap": [
           {
            "colorbar": {
             "outlinewidth": 0,
             "ticks": ""
            },
            "colorscale": [
             [
              0,
              "#0d0887"
             ],
             [
              0.1111111111111111,
              "#46039f"
             ],
             [
              0.2222222222222222,
              "#7201a8"
             ],
             [
              0.3333333333333333,
              "#9c179e"
             ],
             [
              0.4444444444444444,
              "#bd3786"
             ],
             [
              0.5555555555555556,
              "#d8576b"
             ],
             [
              0.6666666666666666,
              "#ed7953"
             ],
             [
              0.7777777777777778,
              "#fb9f3a"
             ],
             [
              0.8888888888888888,
              "#fdca26"
             ],
             [
              1,
              "#f0f921"
             ]
            ],
            "type": "heatmap"
           }
          ],
          "histogram": [
           {
            "marker": {
             "pattern": {
              "fillmode": "overlay",
              "size": 10,
              "solidity": 0.2
             }
            },
            "type": "histogram"
           }
          ],
          "histogram2d": [
           {
            "colorbar": {
             "outlinewidth": 0,
             "ticks": ""
            },
            "colorscale": [
             [
              0,
              "#0d0887"
             ],
             [
              0.1111111111111111,
              "#46039f"
             ],
             [
              0.2222222222222222,
              "#7201a8"
             ],
             [
              0.3333333333333333,
              "#9c179e"
             ],
             [
              0.4444444444444444,
              "#bd3786"
             ],
             [
              0.5555555555555556,
              "#d8576b"
             ],
             [
              0.6666666666666666,
              "#ed7953"
             ],
             [
              0.7777777777777778,
              "#fb9f3a"
             ],
             [
              0.8888888888888888,
              "#fdca26"
             ],
             [
              1,
              "#f0f921"
             ]
            ],
            "type": "histogram2d"
           }
          ],
          "histogram2dcontour": [
           {
            "colorbar": {
             "outlinewidth": 0,
             "ticks": ""
            },
            "colorscale": [
             [
              0,
              "#0d0887"
             ],
             [
              0.1111111111111111,
              "#46039f"
             ],
             [
              0.2222222222222222,
              "#7201a8"
             ],
             [
              0.3333333333333333,
              "#9c179e"
             ],
             [
              0.4444444444444444,
              "#bd3786"
             ],
             [
              0.5555555555555556,
              "#d8576b"
             ],
             [
              0.6666666666666666,
              "#ed7953"
             ],
             [
              0.7777777777777778,
              "#fb9f3a"
             ],
             [
              0.8888888888888888,
              "#fdca26"
             ],
             [
              1,
              "#f0f921"
             ]
            ],
            "type": "histogram2dcontour"
           }
          ],
          "mesh3d": [
           {
            "colorbar": {
             "outlinewidth": 0,
             "ticks": ""
            },
            "type": "mesh3d"
           }
          ],
          "parcoords": [
           {
            "line": {
             "colorbar": {
              "outlinewidth": 0,
              "ticks": ""
             }
            },
            "type": "parcoords"
           }
          ],
          "pie": [
           {
            "automargin": true,
            "type": "pie"
           }
          ],
          "scatter": [
           {
            "fillpattern": {
             "fillmode": "overlay",
             "size": 10,
             "solidity": 0.2
            },
            "type": "scatter"
           }
          ],
          "scatter3d": [
           {
            "line": {
             "colorbar": {
              "outlinewidth": 0,
              "ticks": ""
             }
            },
            "marker": {
             "colorbar": {
              "outlinewidth": 0,
              "ticks": ""
             }
            },
            "type": "scatter3d"
           }
          ],
          "scattercarpet": [
           {
            "marker": {
             "colorbar": {
              "outlinewidth": 0,
              "ticks": ""
             }
            },
            "type": "scattercarpet"
           }
          ],
          "scattergeo": [
           {
            "marker": {
             "colorbar": {
              "outlinewidth": 0,
              "ticks": ""
             }
            },
            "type": "scattergeo"
           }
          ],
          "scattergl": [
           {
            "marker": {
             "colorbar": {
              "outlinewidth": 0,
              "ticks": ""
             }
            },
            "type": "scattergl"
           }
          ],
          "scattermap": [
           {
            "marker": {
             "colorbar": {
              "outlinewidth": 0,
              "ticks": ""
             }
            },
            "type": "scattermap"
           }
          ],
          "scattermapbox": [
           {
            "marker": {
             "colorbar": {
              "outlinewidth": 0,
              "ticks": ""
             }
            },
            "type": "scattermapbox"
           }
          ],
          "scatterpolar": [
           {
            "marker": {
             "colorbar": {
              "outlinewidth": 0,
              "ticks": ""
             }
            },
            "type": "scatterpolar"
           }
          ],
          "scatterpolargl": [
           {
            "marker": {
             "colorbar": {
              "outlinewidth": 0,
              "ticks": ""
             }
            },
            "type": "scatterpolargl"
           }
          ],
          "scatterternary": [
           {
            "marker": {
             "colorbar": {
              "outlinewidth": 0,
              "ticks": ""
             }
            },
            "type": "scatterternary"
           }
          ],
          "surface": [
           {
            "colorbar": {
             "outlinewidth": 0,
             "ticks": ""
            },
            "colorscale": [
             [
              0,
              "#0d0887"
             ],
             [
              0.1111111111111111,
              "#46039f"
             ],
             [
              0.2222222222222222,
              "#7201a8"
             ],
             [
              0.3333333333333333,
              "#9c179e"
             ],
             [
              0.4444444444444444,
              "#bd3786"
             ],
             [
              0.5555555555555556,
              "#d8576b"
             ],
             [
              0.6666666666666666,
              "#ed7953"
             ],
             [
              0.7777777777777778,
              "#fb9f3a"
             ],
             [
              0.8888888888888888,
              "#fdca26"
             ],
             [
              1,
              "#f0f921"
             ]
            ],
            "type": "surface"
           }
          ],
          "table": [
           {
            "cells": {
             "fill": {
              "color": "#EBF0F8"
             },
             "line": {
              "color": "white"
             }
            },
            "header": {
             "fill": {
              "color": "#C8D4E3"
             },
             "line": {
              "color": "white"
             }
            },
            "type": "table"
           }
          ]
         },
         "layout": {
          "annotationdefaults": {
           "arrowcolor": "#2a3f5f",
           "arrowhead": 0,
           "arrowwidth": 1
          },
          "autotypenumbers": "strict",
          "coloraxis": {
           "colorbar": {
            "outlinewidth": 0,
            "ticks": ""
           }
          },
          "colorscale": {
           "diverging": [
            [
             0,
             "#8e0152"
            ],
            [
             0.1,
             "#c51b7d"
            ],
            [
             0.2,
             "#de77ae"
            ],
            [
             0.3,
             "#f1b6da"
            ],
            [
             0.4,
             "#fde0ef"
            ],
            [
             0.5,
             "#f7f7f7"
            ],
            [
             0.6,
             "#e6f5d0"
            ],
            [
             0.7,
             "#b8e186"
            ],
            [
             0.8,
             "#7fbc41"
            ],
            [
             0.9,
             "#4d9221"
            ],
            [
             1,
             "#276419"
            ]
           ],
           "sequential": [
            [
             0,
             "#0d0887"
            ],
            [
             0.1111111111111111,
             "#46039f"
            ],
            [
             0.2222222222222222,
             "#7201a8"
            ],
            [
             0.3333333333333333,
             "#9c179e"
            ],
            [
             0.4444444444444444,
             "#bd3786"
            ],
            [
             0.5555555555555556,
             "#d8576b"
            ],
            [
             0.6666666666666666,
             "#ed7953"
            ],
            [
             0.7777777777777778,
             "#fb9f3a"
            ],
            [
             0.8888888888888888,
             "#fdca26"
            ],
            [
             1,
             "#f0f921"
            ]
           ],
           "sequentialminus": [
            [
             0,
             "#0d0887"
            ],
            [
             0.1111111111111111,
             "#46039f"
            ],
            [
             0.2222222222222222,
             "#7201a8"
            ],
            [
             0.3333333333333333,
             "#9c179e"
            ],
            [
             0.4444444444444444,
             "#bd3786"
            ],
            [
             0.5555555555555556,
             "#d8576b"
            ],
            [
             0.6666666666666666,
             "#ed7953"
            ],
            [
             0.7777777777777778,
             "#fb9f3a"
            ],
            [
             0.8888888888888888,
             "#fdca26"
            ],
            [
             1,
             "#f0f921"
            ]
           ]
          },
          "colorway": [
           "#636efa",
           "#EF553B",
           "#00cc96",
           "#ab63fa",
           "#FFA15A",
           "#19d3f3",
           "#FF6692",
           "#B6E880",
           "#FF97FF",
           "#FECB52"
          ],
          "font": {
           "color": "#2a3f5f"
          },
          "geo": {
           "bgcolor": "white",
           "lakecolor": "white",
           "landcolor": "#E5ECF6",
           "showlakes": true,
           "showland": true,
           "subunitcolor": "white"
          },
          "hoverlabel": {
           "align": "left"
          },
          "hovermode": "closest",
          "mapbox": {
           "style": "light"
          },
          "paper_bgcolor": "white",
          "plot_bgcolor": "#E5ECF6",
          "polar": {
           "angularaxis": {
            "gridcolor": "white",
            "linecolor": "white",
            "ticks": ""
           },
           "bgcolor": "#E5ECF6",
           "radialaxis": {
            "gridcolor": "white",
            "linecolor": "white",
            "ticks": ""
           }
          },
          "scene": {
           "xaxis": {
            "backgroundcolor": "#E5ECF6",
            "gridcolor": "white",
            "gridwidth": 2,
            "linecolor": "white",
            "showbackground": true,
            "ticks": "",
            "zerolinecolor": "white"
           },
           "yaxis": {
            "backgroundcolor": "#E5ECF6",
            "gridcolor": "white",
            "gridwidth": 2,
            "linecolor": "white",
            "showbackground": true,
            "ticks": "",
            "zerolinecolor": "white"
           },
           "zaxis": {
            "backgroundcolor": "#E5ECF6",
            "gridcolor": "white",
            "gridwidth": 2,
            "linecolor": "white",
            "showbackground": true,
            "ticks": "",
            "zerolinecolor": "white"
           }
          },
          "shapedefaults": {
           "line": {
            "color": "#2a3f5f"
           }
          },
          "ternary": {
           "aaxis": {
            "gridcolor": "white",
            "linecolor": "white",
            "ticks": ""
           },
           "baxis": {
            "gridcolor": "white",
            "linecolor": "white",
            "ticks": ""
           },
           "bgcolor": "#E5ECF6",
           "caxis": {
            "gridcolor": "white",
            "linecolor": "white",
            "ticks": ""
           }
          },
          "title": {
           "x": 0.05
          },
          "xaxis": {
           "automargin": true,
           "gridcolor": "white",
           "linecolor": "white",
           "ticks": "",
           "title": {
            "standoff": 15
           },
           "zerolinecolor": "white",
           "zerolinewidth": 2
          },
          "yaxis": {
           "automargin": true,
           "gridcolor": "white",
           "linecolor": "white",
           "ticks": "",
           "title": {
            "standoff": 15
           },
           "zerolinecolor": "white",
           "zerolinewidth": 2
          }
         }
        },
        "title": {
         "text": "Valeurs Réelles vs Prédictions (Interactif)"
        },
        "xaxis": {
         "tickmode": "array",
         "ticktext": [
          "Jour 1 - h0",
          "Jour 1 - h4",
          "Jour 1 - h8",
          "Jour 1 - h12",
          "Jour 1 - h16",
          "Jour 1 - h20",
          "Jour 2 - h0",
          "Jour 2 - h4",
          "Jour 2 - h8",
          "Jour 2 - h12",
          "Jour 2 - h16",
          "Jour 2 - h20",
          "Jour 3 - h0",
          "Jour 3 - h4",
          "Jour 3 - h8",
          "Jour 3 - h12",
          "Jour 3 - h16",
          "Jour 3 - h20",
          "Jour 4 - h0",
          "Jour 4 - h4",
          "Jour 4 - h8",
          "Jour 4 - h12",
          "Jour 4 - h16",
          "Jour 4 - h20",
          "Jour 5 - h0",
          "Jour 5 - h4",
          "Jour 5 - h8",
          "Jour 5 - h12",
          "Jour 5 - h16",
          "Jour 5 - h20"
         ],
         "tickvals": [
          0,
          4,
          8,
          12,
          16,
          20,
          24,
          28,
          32,
          36,
          40,
          44,
          48,
          52,
          56,
          60,
          64,
          68,
          72,
          76,
          80,
          84,
          88,
          92,
          96,
          100,
          104,
          108,
          112,
          116
         ],
         "title": {
          "text": "Temps (heures concaténées)"
         }
        },
        "yaxis": {
         "title": {
          "text": "Consommation de chauffage"
         }
        }
       }
      }
     },
     "metadata": {},
     "output_type": "display_data"
    }
   ],
   "source": [
    "plot_true_vs_predicted_interactive(indices=[15, 11, 13,32,89], y_test=y_test2, predictions=predictions2, scaler_cons=scaler_cons)\n"
   ]
  },
  {
   "cell_type": "code",
   "execution_count": null,
   "id": "34df3bb0",
   "metadata": {},
   "outputs": [],
   "source": []
  },
  {
   "cell_type": "code",
   "execution_count": 35,
   "id": "ef4fc9f9",
   "metadata": {},
   "outputs": [],
   "source": [
    "\n",
    "create_line_gif_point_by_point_indices([15, 11, 13,32,89], y_test2, predictions2, scaler_cons, filename=\"consommation.gif\")\n"
   ]
  },
  {
   "cell_type": "code",
   "execution_count": 36,
   "id": "523f81fb",
   "metadata": {},
   "outputs": [],
   "source": [
    "def create_line_gif_point_by_point_indices(\n",
    "    indices,         # liste des indices des jours à tracer\n",
    "    y_test,\n",
    "    predictions,\n",
    "    scaler_cons,\n",
    "    filename=\"line_point_by_point.gif\"\n",
    "):\n",
    "    \"\"\"\n",
    "    Crée un GIF où, pour chaque jour (donné dans indices),\n",
    "    les valeurs réelles et prédites apparaissent point par point,\n",
    "    en accumulant les jours précédents à l'affichage.\n",
    "    \"\"\"\n",
    "    num_examples = len(indices)\n",
    "\n",
    "    y_test_rescaled = scaler_cons.inverse_transform(y_test[indices])\n",
    "    predictions_rescaled = scaler_cons.inverse_transform(predictions[indices])\n",
    "\n",
    "    fig, ax = plt.subplots(figsize=(12, 6))\n",
    "\n",
    "    length = y_test_rescaled.shape[1]\n",
    "    total_frames = num_examples * length\n",
    "\n",
    "    def update(frame):\n",
    "        ax.clear()\n",
    "\n",
    "        example_idx = frame // length  # jour actuel\n",
    "        point_idx = frame % length     # heure actuelle dans ce jour\n",
    "\n",
    "        # Initialiser les tableaux cumulés\n",
    "        cumulative_true = []\n",
    "        cumulative_pred = []\n",
    "        cumulative_x = []\n",
    "        offset = 0\n",
    "\n",
    "        for i in range(example_idx + 1):\n",
    "            # On trace toutes les heures précédentes normalement\n",
    "            if i < example_idx:\n",
    "                cumulative_true.extend(y_test_rescaled[i])\n",
    "                cumulative_pred.extend(predictions_rescaled[i])\n",
    "                cumulative_x.extend(np.arange(length) + offset)\n",
    "            else:\n",
    "                # Pour le jour en cours, on ajoute jusqu'au point_idx\n",
    "                cumulative_true.extend(y_test_rescaled[i][:point_idx + 1])\n",
    "                cumulative_pred.extend(predictions_rescaled[i][:point_idx + 1])\n",
    "                cumulative_x.extend(np.arange(point_idx + 1) + offset)\n",
    "            offset += length\n",
    "\n",
    "        # Tracé\n",
    "        ax.plot(cumulative_x, cumulative_true, marker='o', color='blue', label=\"Valeurs réelles\", linestyle='-')\n",
    "        ax.plot(cumulative_x, cumulative_pred, marker='x', color='orange', label=\"Prédictions\", linestyle='--')\n",
    "\n",
    "        ax.set_ylabel(\"Consommation\")\n",
    "        ax.set_xlabel(\"Heures concaténées\")\n",
    "        ax.set_title(f\"Différence entre valeur réelle et prédite de consommation d'énergie - jusqu'à l'heure {point_idx + 1} du jour {example_idx + 1}\")\n",
    "        ax.set_xticks(np.arange(offset))\n",
    "        ax.set_xticklabels([f\"J{i+1}-h{j}\" for i in range(example_idx+1) for j in range(length)][:offset], rotation=45)\n",
    "        ax.legend()\n",
    "        ax.grid(True, linestyle=\"--\", alpha=0.4)\n",
    "        ax.set_ylim(0, 5000)  # Limite fixe\n",
    "\n",
    "    ani = animation.FuncAnimation(fig, update, frames=total_frames, repeat=False)\n",
    "    ani.save(filename, writer='pillow', fps=2)\n",
    "    plt.close()\n"
   ]
  },
  {
   "cell_type": "code",
   "execution_count": 37,
   "id": "46ec0d30",
   "metadata": {},
   "outputs": [],
   "source": [
    "create_line_gif_point_by_point_indices(\n",
    "    indices=[15, 11, 12],\n",
    "    y_test=y_test2,\n",
    "    predictions=predictions2,\n",
    "    scaler_cons=scaler_cons,\n",
    "    filename=\"conso_cumulative.gif\"\n",
    ")\n"
   ]
  },
  {
   "cell_type": "code",
   "execution_count": null,
   "id": "7c9c83b9",
   "metadata": {},
   "outputs": [],
   "source": []
  }
 ],
 "metadata": {
  "kernelspec": {
   "display_name": "notebook",
   "language": "python",
   "name": "python3"
  },
  "language_info": {
   "codemirror_mode": {
    "name": "ipython",
    "version": 3
   },
   "file_extension": ".py",
   "mimetype": "text/x-python",
   "name": "python",
   "nbconvert_exporter": "python",
   "pygments_lexer": "ipython3",
   "version": "3.12.9"
  }
 },
 "nbformat": 4,
 "nbformat_minor": 5
}
