{
 "cells": [
  {
   "cell_type": "markdown",
   "id": "26d11648",
   "metadata": {},
   "source": [
    "# 📘 Notebook – Fonctions de Clustering et de Prédiction\n",
    "\n",
    "Ce notebook regroupe les **fonctions utilisées pour le clustering et la prédiction** de la consommation énergétique à partir de données de température et de consommation.\n",
    "\n",
    "- 📂 Les **chemins des fichiers** (datasets, modèles, etc.) sont définis dans le fichier `files.py`.\n",
    "- 🧩 Les **fonctions de traitement** (extraction, concaténation, prétraitement, etc.) sont définies dans `fonctions.py`.\n",
    "\n",
    "Ce document permet de **documenter brièvement chaque fonction**\n",
    "\n",
    "# <span style=\"color:red;\">🔧 Fonctions:</span>\n",
    "\n",
    "## <span style=\"color:orange;\"> **extract_and_concat_consommation**</span> :\n",
    "\n",
    "<span style=\"color:blue;\">**Utilité**</span> :  \n",
    "Extrait une colonne de consommation (chauffage ou climatisation) pour une ville principale (`toulouse`, `seville` ou `zurich`) et ses périphéries, puis les concatène dans un seul DataFrame.\n",
    "\n",
    "<span style=\"color:blue;\">**Paramètres** </span> :  \n",
    "- `ville_principale` : nom de la ville principale (`\"toulouse\"`, `\"seville\"` ou `\"zurich\"`).\n",
    "- `column_index` : index de la colonne à extraire :\n",
    "  - `4` pour le chauffage\n",
    "  - `5` pour la climatisation\n",
    "- `prefix` : préfixe utilisé pour nommer le DataFrame final (ex. `consommation_heat_` → `consommation_heat_toulouse`).\n",
    "  \n",
    "<span style=\"color:blue;\">**Retour** </span> :   \n",
    "Un DataFrame contenant les colonnes concaténées des fichiers de la ville principale et ses périphéries, accessible par le nom suivant :  \n",
    "`consommation_` + `heat` ou `cool` + `_` + `ville_principale` (par exemple, `consommation_heat_toulouse` ou `consommation_cool_seville`).\n",
    "\n",
    "## <span style=\"color:orange;\"> **extract_and_combine_all**</span> :  \n",
    "\n",
    "\n",
    "<span style=\"color:blue;\">**Utilité**</span> :  \n",
    "Cette fonction crée des DataFrames de données météorologiques pour chaque groupe de villes, en combinant les données de la ville principale et ses périphéries. Les colonnes extraites comprennent les informations suivantes :\n",
    "- \"Text_\" : colonne 1\n",
    "- \"Hum_\" : colonne 3\n",
    "- \"Wind_\" : colonne 4\n",
    "- \"Solar_\" : colonne 5\n",
    "- \"Ground_\" : colonne 10\n",
    "\n",
    "<span style=\"color:blue;\">**Paramètres**</span> :  \n",
    "- `ville_principale` : nom de la ville principale (`\"toulouse\"`, `\"seville\"` ou `\"zurich\"`).\n",
    "- `prefix` :column du  préfixe utilisé dans le csv initial  pour former des df monovarier les DataFrames (ex. `Text_`, `Hum_`, `Wind_`, etc.).\n",
    "\n",
    "<span style=\"color:blue;\">**Retour**</span> :  \n",
    "Des DataFrames sont créés avec un nom comme `Text_combined_villeprincipale` pour chaque type de donnée (par exemple, `Text_combined_toulouse`, `Hum_combined_seville`, etc.). Ces DataFrames combinent les données des villes principales et de leurs périphéries.\n",
    "\n",
    "\n",
    "\n",
    "## <span style=\"color:orange;\">**clustering_par_partie**</span>\n",
    "\n",
    "<span style=\"color:blue;\">**Utilité**</span> :  \n",
    "Cette fonction permet de diviser les données de consommation énergétique en parties égales selon le nombre de partitions (`n_parts`). ⚠️ Si `n_parts = 1`, le clustering est effectué sur l'ensemble de la journée (sans partitionnement). Sinon, l'algorithme de clustering est appliqué sur chaque partie de la journée. \n",
    "\n",
    "\n",
    "<span style=\"color:blue;\">**Paramètres**</span> :  \n",
    "- `df` : DataFrame avec 24 colonnes horaires (0 à 23) représentant les données horaires sur une journée.\n",
    "- `n_parts` : Nombre de parties dans lesquelles diviser la journée (1 = pas de partition, autrement il y a plusieurs parties à analyser).\n",
    "- `status_column` : Colonne indiquant si le chauffage est activé (valeur de 1 pour activé, 0 pour non activé).\n",
    "- `n_clusters_list` : Liste du nombre de clusters à appliquer pour chaque partie. La taille de la liste doit être égale à `n_parts` et chaque valeur correspond au nombre de clusters pour chaque partie (exemple : `[3]` pour une seule partition, `[3, 2]` pour deux partitions).\n",
    "\n",
    "<span style=\"color:blue;\">**Retour**</span> :  \n",
    "Un DataFrame avec les résultats du clustering appliqué à chaque partie de la journée. \n",
    "Un DataFrame avec les résultats du clustering appliqué à chaque partie de la journée. Les colonnes de clustering sont de la forme clusters_ + numéro de partition. ⚠️ Si aucune partition n'est utilisée, la colonne sera nommée clusters_1\n",
    "\n",
    "## <span style=\"color:orange;\">**add_profil_and_status**</span>\n",
    "\n",
    "<span style=\"color:blue;\">**Utilité**</span> :  \n",
    "Cette fonction permet d'ajouter la colonne `status_col` ainsi que les colonnes de profils `profil_cols` de `conso_df` à `input_df`. Elle est utilisée pour enrichir un DataFrame de base avec les résultats du clustering (par exemple, le statut de chauffage et les profils de consommation).\n",
    "\n",
    "<span style=\"color:blue;\">**Paramètres**</span> :  \n",
    "- `input_df` : DataFrame de base, tel que `Text_combined_toulouse`.\n",
    "- `conso_df` : DataFrame résultant du clustering, tel que `clustering_heat_toulouse`.\n",
    "- `status_col` : Colonne indiquant le statut (par défaut `heat_on`).\n",
    "- `profil_cols` : Une chaîne (ex. `\"clusters_1\"`) ou une liste (ex. `[\"clusters_1\", \"clusters_2\", ...]`) des colonnes de profil à ajouter.  \n",
    "  ⚠️  : Même si vous avez une seule colonne, elle doit être incluse dans une liste.\n",
    "\n",
    "<span style=\"color:blue;\">**Retour**</span> :  \n",
    "Un DataFrame contenant les colonnes ajoutées du statut et des profils Par exemple, les colonnes `\"heat_on\"`, `\"clusters_1\"`, `\"clusters_2\"`, etc., seront ajoutées à `input_df`.\n",
    "\n",
    "\n",
    "\n",
    "## <span style=\"color:orange;\"> **concat_and_create_final_df**</span>\n",
    "\n",
    "<span style=\"color:blue;\">**Utilité**</span> :  \n",
    "Concatène plusieurs DataFrames (identifiés par leurs préfixes) pour une ville donnée, afin de former une **entrée multivariée** destinée à un modèle de prédiction.\n",
    "\n",
    "<span style=\"color:blue;\">**Paramètres**</span> :  \n",
    "- `city` : nom de la ville principale (ex. `\"toulouse\"`, `\"seville\"` ou `\"zurich\"`).\n",
    "- `prefixes` : liste des préfixes des DataFrames à concaténer (ex. `[\"Text\", \"Solar\", \"Ground\"]`).\n",
    "\n",
    "<span style=\"color:blue;\">**Retour**</span> :  \n",
    "Un DataFrame multivarié, résultat de la concaténation des différents DataFrames selon les préfixes fournis.\n",
    "\n",
    "⚠️ **Le nom du DataFrame final est automatiquement généré** selon la structure :  \n",
    "`{prefix1}_{prefix2}_..._combined_{city}`  Par exemple : **Text_Solar_Ground_combined_toulouse**\n",
    "\n",
    "\n",
    "\n",
    "\n",
    "## <span style=\"color:orange;\"> **evaluate_models_split**</span>\n",
    "\n",
    "<span style=\"color:blue;\">**Utilité**</span> :  \n",
    "Cette fonction évalue plusieurs modèles de machine learning supervisé en appliquant un split manuel des données (80% pour l'entraînement par défaut). Elle peut être utilisée pour des tâches de classification multi-label ou multi-class selon que les données sont partitionnées ou non.\n",
    "\n",
    "<span style=\"color:blue;\">**Modèles utilisés** :</span>\n",
    " **Random Forest** , **Logistic Regression** , **SVM**, **KNN** ,**Gradient Boosting** \n",
    "\n",
    "<span style=\"color:blue;\">**Paramètres** :</span>\n",
    "- `target_cols` : Liste des colonnes cibles. Si elle contient plusieurs colonnes, c'est un problème de **multi-label**.\n",
    "- `split_ratio` : Un nombre entre 1 et 10, indiquant le ratio de division des données pour l'entraînement. Par exemple, `split_ratio=8` signifie que 80% des données sont utilisées pour l'entraînement et 20% pour le test.\n",
    "\n",
    "<span style=\"color:blue;\">**Retour** :</span>  \n",
    "- Un dictionnaire contenant les métriques de performance pour chaque modèle.\n",
    "- Un DataFrame avec les vraies valeurs et les prédictions du modèle.\n",
    "\n",
    "<span style=\"color:blue;\">**Prédictions** :</span>  \n",
    "- Si les jours sont partitionnés, la fonction effectuera des prédictions **multi-label**.\n",
    "- Si les jours ne sont pas partitionnés, la fonction effectuera des prédictions **multi-class**.\n",
    "  \n",
    "  ⚠️Si des prédictions **multi-label** sont effectuées, il faut fournir en paramètre `models2` au lieu de `models`.\n",
    "\n",
    "\n",
    "\n",
    "\n",
    "\n",
    "\n",
    "## <span style=\"color:orange;\"> **preprocess_data**</span>\n",
    "\n",
    "<span style=\"color:blue;\">**Utilité**</span> :  \n",
    "Prépare les données pour l'entraînement d'un modèle **LSTM de prédiction de consommation énergétique sur 24 heures**.\n",
    "\n",
    "<span style=\"color:blue;\">**Détails du traitement**</span> :  \n",
    "- L’**équilibrage** de la classe majoritaire est effectué **uniquement sur les jours prédits** (à t),  \n",
    "  et **pas sur les jours passés** (à t-1) utilisés comme entrée du modèle.\n",
    "- La **prédiction** est basée sur :\n",
    "  - les différentes données d’entrée (ex. température, humidité, etc.) à **t-1**,\n",
    "  - la consommation réelle à t-1,\n",
    "  - les profils réels à t-1,\n",
    "  - les données d’entrée à t et les profils prédits à t.\n",
    "\n",
    "<span style=\"color:blue;\">**Paramètres**</span> :\n",
    "- `Text_combined` : DataFrame des données d’entrée,résultat de la fonction   \n",
    "  - `extract_and_combine_all` (input **monovarié**),  \n",
    "  - ou `concat_and_create_final_df` (input **multivarié**).\n",
    "- `clustering_heat` : DataFrame contenant les clusters, généré par la fonction `clustering`.\n",
    "- `Test_Text_heat` : DataFrame de la **partie test** contenant les **profils reel et  prédits**, généré par `evaluate_models_split`.\n",
    "- `name_combined` : ⚠️⚠️⚠️ doit être de la forme `input_combined_villeprincipale`,  par exemple **Text_combined_toulouse**, utilisé pour savoir si les **jours sont partitionnés ou non**.\n",
    "\n",
    "\n"
   ]
  },
  {
   "cell_type": "code",
   "execution_count": 1,
   "id": "828280b2",
   "metadata": {},
   "outputs": [],
   "source": [
    "import sys\n",
    "import os\n",
    "import importlib\n",
    "\n",
    "# Ajout du chemin une fois\n",
    "sys.path.append(os.path.abspath('../python_files'))\n",
    "\n",
    "# Liste des noms des modules à importer et recharger\n",
    "module_names = [\n",
    "    'preprocessing',\n",
    "    'imports',\n",
    "    'files',\n",
    "    'clustering',\n",
    "    'profile_prediction',\n",
    "    'prediction_24h'\n",
    "]\n",
    "\n",
    "# Import et reload automatique\n",
    "modules = {}\n",
    "for name in module_names:\n",
    "    modules[name] = importlib.import_module(name)\n",
    "    importlib.reload(modules[name])\n",
    "\n",
    "# Importer tout en global namespace (équivalent à from ... import *)\n",
    "for name in module_names:\n",
    "    exec(f'from {name} import *')\n"
   ]
  },
  {
   "cell_type": "code",
   "execution_count": 2,
   "id": "b28d3f03",
   "metadata": {},
   "outputs": [],
   "source": [
    "consommation_chauffage = extract_and_concat_consommation(Simulation_Dataset, column_index=4, prefix=\"consommation_heat_\")\n",
    "\n"
   ]
  },
  {
   "cell_type": "code",
   "execution_count": 3,
   "id": "e2055f5a",
   "metadata": {},
   "outputs": [],
   "source": [
    "\n",
    "# Exemple d'utilisation\n",
    "city_groups = {\n",
    "    \"Weather_Dataset\": Weather_Dataset\n",
    "   \n",
    "    \n",
    "}\n",
    "\n",
    "prefix_column_map = {\n",
    "    \"Text_\": 1,\n",
    "    \"Hum_\": 3,\n",
    "    \"Wind_\": 4,\n",
    "    \"Solar_\": 5,\n",
    "    \"Ground_\": 10\n",
    "}\n",
    "\n",
    "combined_data = extract_and_combine_all(city_groups, prefix_column_map)\n",
    "\n",
    "city_groups = {\n",
    "    \"Simulation_Dataset\":Simulation_Dataset  \n",
    "}\n",
    "\n",
    "prefix_column_map = {\n",
    "    \"Tint_\": 2,   \n",
    "}\n",
    "\n",
    "combined_Tint = extract_and_combine_all(city_groups, prefix_column_map)\n"
   ]
  },
  {
   "cell_type": "code",
   "execution_count": 4,
   "id": "ea9e821d",
   "metadata": {},
   "outputs": [],
   "source": [
    "Text_combined = combined_data.get('Text_combined_Weather_Dataset')\n",
    "Hum_combined = combined_data.get('Hum_combined_Weather_Dataset')\n",
    "Wind_combined = combined_data.get('Wind_combined_Weather_Dataset')\n",
    "Tint_combined = combined_Tint.get('Tint_combined_Simulation_Dataset')\n"
   ]
  },
  {
   "cell_type": "code",
   "execution_count": 6,
   "id": "e2a1ce3a",
   "metadata": {},
   "outputs": [
    {
     "name": "stdout",
     "output_type": "stream",
     "text": [
      "----------------------------------------------------------------------------------------------------\n",
      "----------------------------------------------------------------------------------------------------\n",
      "Prédiction du profil de consommation de chauffage\n",
      "----------------------------------------------------------------------------------------------------\n",
      "----------------------------------------------------------------------------------------------------\n",
      "\n",
      "Évaluation de Random Forest...\n"
     ]
    },
    {
     "data": {
      "image/png": "[encoded data removed]",
      "text/plain": [
       "<Figure size 500x400 with 2 Axes>"
      ]
     },
     "metadata": {},
     "output_type": "display_data"
    },
    {
     "name": "stdout",
     "output_type": "stream",
     "text": [
      "Random Forest - F1: 0.8640 - Accuracy: 0.8630 - Temps: 0.97s\n",
      "###################################################################\n",
      "\n",
      "Évaluation de Logistic Regression...\n"
     ]
    },
    {
     "data": {
      "image/png": "[encoded data removed]",
      "text/plain": [
       "<Figure size 500x400 with 2 Axes>"
      ]
     },
     "metadata": {},
     "output_type": "display_data"
    },
    {
     "name": "stdout",
     "output_type": "stream",
     "text": [
      "Logistic Regression - F1: 0.8868 - Accuracy: 0.8865 - Temps: 0.70s\n",
      "###################################################################\n",
      "\n",
      "Évaluation de SVC...\n"
     ]
    },
    {
     "data": {
      "image/png": "[encoded data removed]",
      "text/plain": [
       "<Figure size 500x400 with 2 Axes>"
      ]
     },
     "metadata": {},
     "output_type": "display_data"
    },
    {
     "name": "stdout",
     "output_type": "stream",
     "text": [
      "SVC - F1: 0.8133 - Accuracy: 0.8160 - Temps: 0.19s\n",
      "###################################################################\n",
      "\n",
      "Évaluation de KNN...\n"
     ]
    },
    {
     "data": {
      "image/png": "[encoded data removed]",
      "text/plain": [
       "<Figure size 500x400 with 2 Axes>"
      ]
     },
     "metadata": {},
     "output_type": "display_data"
    },
    {
     "name": "stdout",
     "output_type": "stream",
     "text": [
      "KNN - F1: 0.7750 - Accuracy: 0.7769 - Temps: 0.10s\n",
      "###################################################################\n",
      "\n",
      "Évaluation de Gradient Boosting...\n"
     ]
    },
    {
     "data": {
      "image/png": "[encoded data removed]",
      "text/plain": [
       "<Figure size 500x400 with 2 Axes>"
      ]
     },
     "metadata": {},
     "output_type": "display_data"
    },
    {
     "name": "stdout",
     "output_type": "stream",
     "text": [
      "Gradient Boosting - F1: 0.8694 - Accuracy: 0.8689 - Temps: 9.24s\n",
      "###################################################################\n",
      "\t\n",
      "----------------------------------------------------------------------------------------------------\n",
      "----------------------------------------------------------------------------------------------------\n",
      "Prédiction du 24 heures de consommation de chauffage\n",
      "----------------------------------------------------------------------------------------------------\n",
      "----------------------------------------------------------------------------------------------------\n",
      "Prediction based on : Text\n"
     ]
    },
    {
     "name": "stderr",
     "output_type": "stream",
     "text": [
      "c:\\Users\\toubia\\anaconda3\\envs\\notebook\\Lib\\site-packages\\keras\\src\\layers\\rnn\\rnn.py:200: UserWarning: Do not pass an `input_shape`/`input_dim` argument to a layer. When using Sequential models, prefer using an `Input(shape)` object as the first layer in the model instead.\n",
      "  super().__init__(**kwargs)\n"
     ]
    },
    {
     "name": "stdout",
     "output_type": "stream",
     "text": [
      "Epoch 1/100\n",
      "\u001b[1m41/41\u001b[0m \u001b[32m━━━━━━━━━━━━━━━━━━━━\u001b[0m\u001b[37m\u001b[0m \u001b[1m3s\u001b[0m 16ms/step - loss: 0.9348 - mae: 0.7022 - mse: 0.9348 - val_loss: 0.3985 - val_mae: 0.4069 - val_mse: 0.3985\n",
      "Epoch 2/100\n",
      "\u001b[1m41/41\u001b[0m \u001b[32m━━━━━━━━━━━━━━━━━━━━\u001b[0m\u001b[37m\u001b[0m \u001b[1m0s\u001b[0m 6ms/step - loss: 0.4588 - mae: 0.4169 - mse: 0.4588 - val_loss: 0.2986 - val_mae: 0.2952 - val_mse: 0.2986\n",
      "Epoch 3/100\n",
      "\u001b[1m41/41\u001b[0m \u001b[32m━━━━━━━━━━━━━━━━━━━━\u001b[0m\u001b[37m\u001b[0m \u001b[1m0s\u001b[0m 10ms/step - loss: 0.3641 - mae: 0.3542 - mse: 0.3641 - val_loss: 0.2671 - val_mae: 0.2841 - val_mse: 0.2671\n",
      "Epoch 4/100\n",
      "\u001b[1m41/41\u001b[0m \u001b[32m━━━━━━━━━━━━━━━━━━━━\u001b[0m\u001b[37m\u001b[0m \u001b[1m1s\u001b[0m 5ms/step - loss: 0.3479 - mae: 0.3356 - mse: 0.3479 - val_loss: 0.2380 - val_mae: 0.2663 - val_mse: 0.2380\n",
      "Epoch 5/100\n",
      "\u001b[1m41/41\u001b[0m \u001b[32m━━━━━━━━━━━━━━━━━━━━\u001b[0m\u001b[37m\u001b[0m \u001b[1m0s\u001b[0m 6ms/step - loss: 0.2973 - mae: 0.3234 - mse: 0.2973 - val_loss: 0.2140 - val_mae: 0.2552 - val_mse: 0.2140\n",
      "Epoch 6/100\n",
      "\u001b[1m41/41\u001b[0m \u001b[32m━━━━━━━━━━━━━━━━━━━━\u001b[0m\u001b[37m\u001b[0m \u001b[1m0s\u001b[0m 6ms/step - loss: 0.2702 - mae: 0.3052 - mse: 0.2702 - val_loss: 0.1990 - val_mae: 0.2493 - val_mse: 0.1990\n",
      "Epoch 7/100\n",
      "\u001b[1m41/41\u001b[0m \u001b[32m━━━━━━━━━━━━━━━━━━━━\u001b[0m\u001b[37m\u001b[0m \u001b[1m0s\u001b[0m 6ms/step - loss: 0.2281 - mae: 0.2841 - mse: 0.2281 - val_loss: 0.1765 - val_mae: 0.2288 - val_mse: 0.1765\n",
      "Epoch 8/100\n",
      "\u001b[1m41/41\u001b[0m \u001b[32m━━━━━━━━━━━━━━━━━━━━\u001b[0m\u001b[37m\u001b[0m \u001b[1m0s\u001b[0m 5ms/step - loss: 0.2187 - mae: 0.2763 - mse: 0.2187 - val_loss: 0.1699 - val_mae: 0.2190 - val_mse: 0.1699\n",
      "Epoch 9/100\n",
      "\u001b[1m41/41\u001b[0m \u001b[32m━━━━━━━━━━━━━━━━━━━━\u001b[0m\u001b[37m\u001b[0m \u001b[1m0s\u001b[0m 6ms/step - loss: 0.2050 - mae: 0.2651 - mse: 0.2050 - val_loss: 0.1605 - val_mae: 0.2138 - val_mse: 0.1605\n",
      "Epoch 10/100\n",
      "\u001b[1m41/41\u001b[0m \u001b[32m━━━━━━━━━━━━━━━━━━━━\u001b[0m\u001b[37m\u001b[0m \u001b[1m0s\u001b[0m 5ms/step - loss: 0.1914 - mae: 0.2520 - mse: 0.1914 - val_loss: 0.1648 - val_mae: 0.2221 - val_mse: 0.1648\n",
      "Epoch 11/100\n",
      "\u001b[1m41/41\u001b[0m \u001b[32m━━━━━━━━━━━━━━━━━━━━\u001b[0m\u001b[37m\u001b[0m \u001b[1m0s\u001b[0m 5ms/step - loss: 0.2008 - mae: 0.2572 - mse: 0.2008 - val_loss: 0.1654 - val_mae: 0.2214 - val_mse: 0.1654\n",
      "Epoch 12/100\n",
      "\u001b[1m41/41\u001b[0m \u001b[32m━━━━━━━━━━━━━━━━━━━━\u001b[0m\u001b[37m\u001b[0m \u001b[1m0s\u001b[0m 5ms/step - loss: 0.1949 - mae: 0.2520 - mse: 0.1949 - val_loss: 0.1484 - val_mae: 0.2020 - val_mse: 0.1484\n",
      "Epoch 13/100\n",
      "\u001b[1m41/41\u001b[0m \u001b[32m━━━━━━━━━━━━━━━━━━━━\u001b[0m\u001b[37m\u001b[0m \u001b[1m0s\u001b[0m 6ms/step - loss: 0.1660 - mae: 0.2298 - mse: 0.1660 - val_loss: 0.1449 - val_mae: 0.1942 - val_mse: 0.1449\n",
      "Epoch 14/100\n",
      "\u001b[1m41/41\u001b[0m \u001b[32m━━━━━━━━━━━━━━━━━━━━\u001b[0m\u001b[37m\u001b[0m \u001b[1m0s\u001b[0m 6ms/step - loss: 0.1918 - mae: 0.2408 - mse: 0.1918 - val_loss: 0.1466 - val_mae: 0.2013 - val_mse: 0.1466\n",
      "Epoch 15/100\n",
      "\u001b[1m41/41\u001b[0m \u001b[32m━━━━━━━━━━━━━━━━━━━━\u001b[0m\u001b[37m\u001b[0m \u001b[1m0s\u001b[0m 7ms/step - loss: 0.1580 - mae: 0.2300 - mse: 0.1580 - val_loss: 0.1502 - val_mae: 0.2045 - val_mse: 0.1502\n",
      "Epoch 16/100\n",
      "\u001b[1m41/41\u001b[0m \u001b[32m━━━━━━━━━━━━━━━━━━━━\u001b[0m\u001b[37m\u001b[0m \u001b[1m0s\u001b[0m 6ms/step - loss: 0.1855 - mae: 0.2429 - mse: 0.1855 - val_loss: 0.1451 - val_mae: 0.1963 - val_mse: 0.1451\n",
      "Epoch 17/100\n",
      "\u001b[1m41/41\u001b[0m \u001b[32m━━━━━━━━━━━━━━━━━━━━\u001b[0m\u001b[37m\u001b[0m \u001b[1m0s\u001b[0m 6ms/step - loss: 0.1600 - mae: 0.2277 - mse: 0.1600 - val_loss: 0.1543 - val_mae: 0.2054 - val_mse: 0.1543\n",
      "Epoch 18/100\n",
      "\u001b[1m41/41\u001b[0m \u001b[32m━━━━━━━━━━━━━━━━━━━━\u001b[0m\u001b[37m\u001b[0m \u001b[1m0s\u001b[0m 7ms/step - loss: 0.1895 - mae: 0.2390 - mse: 0.1895 - val_loss: 0.1415 - val_mae: 0.1945 - val_mse: 0.1415\n",
      "Epoch 19/100\n",
      "\u001b[1m41/41\u001b[0m \u001b[32m━━━━━━━━━━━━━━━━━━━━\u001b[0m\u001b[37m\u001b[0m \u001b[1m0s\u001b[0m 6ms/step - loss: 0.1751 - mae: 0.2374 - mse: 0.1751 - val_loss: 0.1419 - val_mae: 0.1909 - val_mse: 0.1419\n",
      "Epoch 20/100\n",
      "\u001b[1m41/41\u001b[0m \u001b[32m━━━━━━━━━━━━━━━━━━━━\u001b[0m\u001b[37m\u001b[0m \u001b[1m0s\u001b[0m 5ms/step - loss: 0.1573 - mae: 0.2202 - mse: 0.1573 - val_loss: 0.1422 - val_mae: 0.1893 - val_mse: 0.1422\n",
      "Epoch 21/100\n",
      "\u001b[1m41/41\u001b[0m \u001b[32m━━━━━━━━━━━━━━━━━━━━\u001b[0m\u001b[37m\u001b[0m \u001b[1m0s\u001b[0m 6ms/step - loss: 0.1719 - mae: 0.2288 - mse: 0.1719 - val_loss: 0.1402 - val_mae: 0.1889 - val_mse: 0.1402\n",
      "Epoch 22/100\n",
      "\u001b[1m41/41\u001b[0m \u001b[32m━━━━━━━━━━━━━━━━━━━━\u001b[0m\u001b[37m\u001b[0m \u001b[1m0s\u001b[0m 10ms/step - loss: 0.1596 - mae: 0.2205 - mse: 0.1596 - val_loss: 0.1401 - val_mae: 0.1933 - val_mse: 0.1401\n",
      "Epoch 23/100\n",
      "\u001b[1m41/41\u001b[0m \u001b[32m━━━━━━━━━━━━━━━━━━━━\u001b[0m\u001b[37m\u001b[0m \u001b[1m0s\u001b[0m 6ms/step - loss: 0.1523 - mae: 0.2156 - mse: 0.1523 - val_loss: 0.1421 - val_mae: 0.1907 - val_mse: 0.1421\n",
      "Epoch 24/100\n",
      "\u001b[1m41/41\u001b[0m \u001b[32m━━━━━━━━━━━━━━━━━━━━\u001b[0m\u001b[37m\u001b[0m \u001b[1m0s\u001b[0m 6ms/step - loss: 0.1544 - mae: 0.2227 - mse: 0.1544 - val_loss: 0.1449 - val_mae: 0.1914 - val_mse: 0.1449\n",
      "Epoch 25/100\n",
      "\u001b[1m41/41\u001b[0m \u001b[32m━━━━━━━━━━━━━━━━━━━━\u001b[0m\u001b[37m\u001b[0m \u001b[1m0s\u001b[0m 6ms/step - loss: 0.1500 - mae: 0.2188 - mse: 0.1500 - val_loss: 0.1442 - val_mae: 0.1975 - val_mse: 0.1442\n",
      "Epoch 26/100\n",
      "\u001b[1m41/41\u001b[0m \u001b[32m━━━━━━━━━━━━━━━━━━━━\u001b[0m\u001b[37m\u001b[0m \u001b[1m0s\u001b[0m 6ms/step - loss: 0.1547 - mae: 0.2195 - mse: 0.1547 - val_loss: 0.1407 - val_mae: 0.1898 - val_mse: 0.1407\n",
      "Epoch 27/100\n",
      "\u001b[1m41/41\u001b[0m \u001b[32m━━━━━━━━━━━━━━━━━━━━\u001b[0m\u001b[37m\u001b[0m \u001b[1m0s\u001b[0m 7ms/step - loss: 0.1797 - mae: 0.2312 - mse: 0.1797 - val_loss: 0.1433 - val_mae: 0.1900 - val_mse: 0.1433\n",
      "Epoch 28/100\n",
      "\u001b[1m41/41\u001b[0m \u001b[32m━━━━━━━━━━━━━━━━━━━━\u001b[0m\u001b[37m\u001b[0m \u001b[1m0s\u001b[0m 6ms/step - loss: 0.1556 - mae: 0.2200 - mse: 0.1556 - val_loss: 0.1431 - val_mae: 0.1872 - val_mse: 0.1431\n",
      "Epoch 29/100\n",
      "\u001b[1m41/41\u001b[0m \u001b[32m━━━━━━━━━━━━━━━━━━━━\u001b[0m\u001b[37m\u001b[0m \u001b[1m0s\u001b[0m 7ms/step - loss: 0.1448 - mae: 0.2162 - mse: 0.1448 - val_loss: 0.1449 - val_mae: 0.1892 - val_mse: 0.1449\n",
      "Epoch 30/100\n",
      "\u001b[1m41/41\u001b[0m \u001b[32m━━━━━━━━━━━━━━━━━━━━\u001b[0m\u001b[37m\u001b[0m \u001b[1m0s\u001b[0m 6ms/step - loss: 0.1400 - mae: 0.2067 - mse: 0.1400 - val_loss: 0.1479 - val_mae: 0.1943 - val_mse: 0.1479\n",
      "Epoch 31/100\n",
      "\u001b[1m41/41\u001b[0m \u001b[32m━━━━━━━━━━━━━━━━━━━━\u001b[0m\u001b[37m\u001b[0m \u001b[1m0s\u001b[0m 6ms/step - loss: 0.1577 - mae: 0.2217 - mse: 0.1577 - val_loss: 0.1413 - val_mae: 0.1925 - val_mse: 0.1413\n",
      "Epoch 32/100\n",
      "\u001b[1m41/41\u001b[0m \u001b[32m━━━━━━━━━━━━━━━━━━━━\u001b[0m\u001b[37m\u001b[0m \u001b[1m0s\u001b[0m 6ms/step - loss: 0.1588 - mae: 0.2221 - mse: 0.1588 - val_loss: 0.1395 - val_mae: 0.1930 - val_mse: 0.1395\n",
      "Epoch 33/100\n",
      "\u001b[1m41/41\u001b[0m \u001b[32m━━━━━━━━━━━━━━━━━━━━\u001b[0m\u001b[37m\u001b[0m \u001b[1m0s\u001b[0m 6ms/step - loss: 0.1550 - mae: 0.2191 - mse: 0.1550 - val_loss: 0.1355 - val_mae: 0.1834 - val_mse: 0.1355\n",
      "Epoch 34/100\n",
      "\u001b[1m41/41\u001b[0m \u001b[32m━━━━━━━━━━━━━━━━━━━━\u001b[0m\u001b[37m\u001b[0m \u001b[1m0s\u001b[0m 5ms/step - loss: 0.1457 - mae: 0.2128 - mse: 0.1457 - val_loss: 0.1438 - val_mae: 0.1918 - val_mse: 0.1438\n",
      "Epoch 35/100\n",
      "\u001b[1m41/41\u001b[0m \u001b[32m━━━━━━━━━━━━━━━━━━━━\u001b[0m\u001b[37m\u001b[0m \u001b[1m0s\u001b[0m 6ms/step - loss: 0.1523 - mae: 0.2147 - mse: 0.1523 - val_loss: 0.1501 - val_mae: 0.1901 - val_mse: 0.1501\n",
      "Epoch 36/100\n",
      "\u001b[1m41/41\u001b[0m \u001b[32m━━━━━━━━━━━━━━━━━━━━\u001b[0m\u001b[37m\u001b[0m \u001b[1m0s\u001b[0m 7ms/step - loss: 0.1580 - mae: 0.2185 - mse: 0.1580 - val_loss: 0.1392 - val_mae: 0.1857 - val_mse: 0.1392\n",
      "Epoch 37/100\n",
      "\u001b[1m41/41\u001b[0m \u001b[32m━━━━━━━━━━━━━━━━━━━━\u001b[0m\u001b[37m\u001b[0m \u001b[1m0s\u001b[0m 6ms/step - loss: 0.1545 - mae: 0.2190 - mse: 0.1545 - val_loss: 0.1381 - val_mae: 0.1837 - val_mse: 0.1381\n",
      "Epoch 38/100\n",
      "\u001b[1m41/41\u001b[0m \u001b[32m━━━━━━━━━━━━━━━━━━━━\u001b[0m\u001b[37m\u001b[0m \u001b[1m0s\u001b[0m 6ms/step - loss: 0.1436 - mae: 0.2107 - mse: 0.1436 - val_loss: 0.1446 - val_mae: 0.1866 - val_mse: 0.1446\n",
      "Epoch 39/100\n",
      "\u001b[1m41/41\u001b[0m \u001b[32m━━━━━━━━━━━━━━━━━━━━\u001b[0m\u001b[37m\u001b[0m \u001b[1m0s\u001b[0m 6ms/step - loss: 0.1456 - mae: 0.2061 - mse: 0.1456 - val_loss: 0.1373 - val_mae: 0.1827 - val_mse: 0.1373\n",
      "Epoch 40/100\n",
      "\u001b[1m41/41\u001b[0m \u001b[32m━━━━━━━━━━━━━━━━━━━━\u001b[0m\u001b[37m\u001b[0m \u001b[1m0s\u001b[0m 5ms/step - loss: 0.1442 - mae: 0.2080 - mse: 0.1442 - val_loss: 0.1388 - val_mae: 0.1842 - val_mse: 0.1388\n",
      "Epoch 41/100\n",
      "\u001b[1m41/41\u001b[0m \u001b[32m━━━━━━━━━━━━━━━━━━━━\u001b[0m\u001b[37m\u001b[0m \u001b[1m0s\u001b[0m 6ms/step - loss: 0.1522 - mae: 0.2128 - mse: 0.1522 - val_loss: 0.1472 - val_mae: 0.1923 - val_mse: 0.1472\n",
      "Epoch 42/100\n",
      "\u001b[1m41/41\u001b[0m \u001b[32m━━━━━━━━━━━━━━━━━━━━\u001b[0m\u001b[37m\u001b[0m \u001b[1m0s\u001b[0m 5ms/step - loss: 0.1363 - mae: 0.2055 - mse: 0.1363 - val_loss: 0.1443 - val_mae: 0.1909 - val_mse: 0.1443\n",
      "Epoch 43/100\n",
      "\u001b[1m41/41\u001b[0m \u001b[32m━━━━━━━━━━━━━━━━━━━━\u001b[0m\u001b[37m\u001b[0m \u001b[1m0s\u001b[0m 6ms/step - loss: 0.1360 - mae: 0.2029 - mse: 0.1360 - val_loss: 0.1455 - val_mae: 0.1906 - val_mse: 0.1455\n"
     ]
    },
    {
     "data": {
      "image/png": "[encoded data removed]",
      "text/plain": [
       "<Figure size 1200x600 with 1 Axes>"
      ]
     },
     "metadata": {},
     "output_type": "display_data"
    },
    {
     "name": "stdout",
     "output_type": "stream",
     "text": [
      "\u001b[1m5/5\u001b[0m \u001b[32m━━━━━━━━━━━━━━━━━━━━\u001b[0m\u001b[37m\u001b[0m \u001b[1m0s\u001b[0m 10ms/step - loss: 0.1136 - mae: 0.1721 - mse: 0.1136\n",
      "Validation Loss : 0.13546441495418549\n",
      "Validation MAE: 0.18340441584587097\n",
      "Validation MSE: 0.13546441495418549\n",
      "Validation RMSE: 0.36805490752628944\n",
      "\u001b[1m12/12\u001b[0m \u001b[32m━━━━━━━━━━━━━━━━━━━━\u001b[0m\u001b[37m\u001b[0m \u001b[1m0s\u001b[0m 20ms/step\n",
      "Test MAE: 140.03957804296428\n",
      "Test MSE: 64449.1093364272\n",
      "Test RMSE: 253.86829131742152\n",
      "Test R²: 0.8667927290227545\n",
      "Test CVRMSE: 0.5552786000673575\n"
     ]
    }
   ],
   "source": [
    "\n",
    "clustering_heat_toulouse = clustering(\n",
    "    df=consommation_chauffage,  \n",
    "    n_parts=1,                          \n",
    "    status_column=\"heat_on\",           \n",
    "    n_clusters_list=[3]                \n",
    ")\n",
    "\n",
    "\n",
    "Text_conso_heat_tou = add_profil_and_status(\n",
    "    input_df=Text_combined,\n",
    "    conso_df=clustering_heat_toulouse,\n",
    "    status_col=\"heat_on\",\n",
    "    profil_cols=[\"clusters_1\"]\n",
    ")\n",
    "print(\"-\"*100)\n",
    "print(\"-\"*100)\n",
    "print(\"Prédiction du profil de consommation de chauffage\")\n",
    "print(\"-\"*100)\n",
    "print(\"-\"*100)\n",
    "\n",
    "\n",
    "re, Test_Text_heat_toulouse = evaluate_models_split(\n",
    "    df=Text_conso_heat_tou,\n",
    "    target_cols=\"clusters_1\",\n",
    "    models=models,\n",
    "    split_ratio=8\n",
    ")\n",
    "\n",
    "print(\"\\t\")\n",
    "print(\"-\"*100)\n",
    "print(\"-\"*100)\n",
    "print(\"Prédiction du 24 heures de consommation de chauffage\")\n",
    "print(\"-\"*100)\n",
    "print(\"-\"*100)\n",
    "\n",
    "X_train2, X_test2, y_train2, y_test2 , scaler_temp, scaler_cons  = preprocess_data(\n",
    "    Text_combined,\n",
    "    clustering_heat_toulouse,\n",
    "    Test_Text_heat_toulouse,\n",
    "    \"Text_combined_toulouse\"\n",
    ")\n",
    "\n",
    "model2, history2, loss2, mae2, mse2, rmse2, mae_test2, mse_test2, rmse_test2, r2, cvrmse, predictions2 = model_lstm(\n",
    "    X_train2, \n",
    "    y_train2, \n",
    "    X_test2, \n",
    "    y_test2, \n",
    "    scaler_temp, \n",
    "    scaler_cons\n",
    ")\n",
    "  "
   ]
  },
  {
   "cell_type": "code",
   "execution_count": null,
   "id": "faae6b0a",
   "metadata": {},
   "outputs": [],
   "source": [
    "import plotly.graph_objects as go\n",
    "\n",
    "def plot_true_vs_predicted_interactive(indices, y_test, predictions, scaler_cons):\n",
    "    \"\"\"\n",
    "    Affiche un graphique interactif comparant les valeurs réelles et prédites pour plusieurs jours de test.\n",
    "    \"\"\"\n",
    "    true_total = []\n",
    "    pred_total = []\n",
    "    x_ticks = []\n",
    "    labels = []\n",
    "\n",
    "    for i, idx in enumerate(indices):\n",
    "        conso_reel = scaler_cons.inverse_transform(y_test[idx].reshape(1, -1))\n",
    "        conso_pred = scaler_cons.inverse_transform(predictions[idx].reshape(1, -1))\n",
    "        true_total.extend(conso_reel.flatten())\n",
    "        pred_total.extend(conso_pred.flatten())\n",
    "        x_ticks.extend(list(range(i * 24, (i + 1) * 24)))\n",
    "        labels.extend([f\"Jour {i+1} - h{j}\" for j in range(24)])\n",
    "\n",
    "    fig = go.Figure()\n",
    "\n",
    "    fig.add_trace(go.Scatter(\n",
    "        x=x_ticks,\n",
    "        y=true_total,\n",
    "        mode='lines+markers',\n",
    "        name='Valeurs Réelles',\n",
    "        line=dict(color='blue')\n",
    "    ))\n",
    "\n",
    "    fig.add_trace(go.Scatter(\n",
    "        x=x_ticks,\n",
    "        y=pred_total,\n",
    "        mode='lines+markers',\n",
    "        name='Prédictions',\n",
    "        line=dict(color='orange')\n",
    "    ))\n",
    "\n",
    "    # Ajout des lignes verticales entre les jours\n",
    "    for i in range(1, len(indices)):\n",
    "        fig.add_vline(x=i * 24, line=dict(color='gray', dash='dash'), opacity=0.3)\n",
    "\n",
    "    fig.update_layout(\n",
    "        title=\"Valeurs Réelles vs Prédictions (Interactif)\",\n",
    "        xaxis_title=\"Temps (heures concaténées)\",\n",
    "        yaxis_title=\"Consommation de chauffage\",\n",
    "        hovermode=\"x unified\",\n",
    "        xaxis=dict(tickmode='array', tickvals=x_ticks[::4], ticktext=labels[::4]),\n",
    "        legend=dict(x=0.01, y=0.99)\n",
    "    )\n",
    "\n",
    "    fig.show()\n"
   ]
  },
  {
   "cell_type": "code",
   "execution_count": null,
   "id": "4f2f02e3",
   "metadata": {},
   "outputs": [
    {
     "data": {
      "application/vnd.plotly.v1+json": {
       "config": {
        "plotlyServerURL": "https://plot.ly"
       },
       "data": [
        {
         "line": {
          "color": "blue"
         },
         "mode": "lines+markers",
         "name": "Valeurs Réelles",
         "type": "scatter",
         "x": [
          0,
          1,
          2,
          3,
          4,
          5,
          6,
          7,
          8,
          9,
          10,
          11,
          12,
          13,
          14,
          15,
          16,
          17,
          18,
          19,
          20,
          21,
          22,
          23,
          24,
          25,
          26,
          27,
          28,
          29,
          30,
          31,
          32,
          33,
          34,
          35,
          36,
          37,
          38,
          39,
          40,
          41,
          42,
          43,
          44,
          45,
          46,
          47,
          48,
          49,
          50,
          51,
          52,
          53,
          54,
          55,
          56,
          57,
          58,
          59,
          60,
          61,
          62,
          63,
          64,
          65,
          66,
          67,
          68,
          69,
          70,
          71
         ],
         "y": [
          -5.684341886080802e-14,
          0,
          120.8212606981761,
          372.6299649378634,
          682.2887926623007,
          968.3319855244335,
          1922.9821796637261,
          2817.960830975549,
          2766.824358325037,
          1512.1106701722456,
          214.02583590379072,
          -5.684341886080802e-14,
          0,
          0,
          0,
          0,
          0,
          0,
          0,
          0,
          0,
          0,
          0,
          0,
          -5.684341886080802e-14,
          0,
          84.20373174671107,
          274.74598073167,
          414.2175165956724,
          502.71364697473473,
          959.2243007866272,
          1289.3095024582726,
          1012.5162768269876,
          624.1656930803292,
          471.32396065791545,
          551.9317951287667,
          738.4084066632566,
          275.627063477521,
          0,
          0,
          0,
          0,
          0,
          232.21689020796475,
          421.4792059863103,
          612.1837736098096,
          811.2195892181771,
          980.6341847150105,
          -5.684341886080802e-14,
          0,
          0,
          0,
          0,
          0,
          0,
          15.309924774563115,
          422.71660385768325,
          523.3442865995094,
          434.06183126704127,
          -5.684341886080802e-14,
          495.4902364648879,
          67.39298118540319,
          35.21088428296207,
          198.7674676122624,
          37.036099680743064,
          210.52804277680843,
          199.50980169849208,
          428.3785988202144,
          635.101319821646,
          819.1861213218726,
          994.1178359664991,
          1165.840249726309
         ]
        },
        {
         "line": {
          "color": "orange"
         },
         "mode": "lines+markers",
         "name": "Prédictions",
         "type": "scatter",
         "x": [
          0,
          1,
          2,
          3,
          4,
          5,
          6,
          7,
          8,
          9,
          10,
          11,
          12,
          13,
          14,
          15,
          16,
          17,
          18,
          19,
          20,
          21,
          22,
          23,
          24,
          25,
          26,
          27,
          28,
          29,
          30,
          31,
          32,
          33,
          34,
          35,
          36,
          37,
          38,
          39,
          40,
          41,
          42,
          43,
          44,
          45,
          46,
          47,
          48,
          49,
          50,
          51,
          52,
          53,
          54,
          55,
          56,
          57,
          58,
          59,
          60,
          61,
          62,
          63,
          64,
          65,
          66,
          67,
          68,
          69,
          70,
          71
         ],
         "y": [
          110.49531555175781,
          195.63465881347656,
          275.637939453125,
          448.9896545410156,
          565.0430908203125,
          666.2535400390625,
          1178.3470458984375,
          1760.353759765625,
          1800.453125,
          1111.7083740234375,
          386.2871398925781,
          -92.44727325439453,
          -62.89822769165039,
          -29.401308059692383,
          -38.09080123901367,
          -24.623071670532227,
          -43.49775314331055,
          -33.78511047363281,
          -92.66212463378906,
          -100.79015350341797,
          -78.36204528808594,
          -79.59642791748047,
          -69.16702270507812,
          -50.43694305419922,
          152.5614776611328,
          255.267333984375,
          352.004150390625,
          440.61175537109375,
          527.5072631835938,
          625.6187744140625,
          913.9722900390625,
          1274.1602783203125,
          1501.1973876953125,
          1403.0745849609375,
          1244.9447021484375,
          646.247314453125,
          717.6043090820312,
          573.3766479492188,
          454.6337585449219,
          443.0511779785156,
          408.29510498046875,
          413.37799072265625,
          470.5596008300781,
          542.1786499023438,
          668.0728149414062,
          759.4544677734375,
          888.748046875,
          1025.8712158203125,
          10.905472755432129,
          16.241382598876953,
          58.82748794555664,
          77.79449462890625,
          138.36068725585938,
          156.98536682128906,
          326.63336181640625,
          606.3452758789062,
          776.1010131835938,
          620.7957153320312,
          456.8153991699219,
          201.703369140625,
          276.90960693359375,
          198.0076446533203,
          102.87334442138672,
          133.74710083007812,
          91.81489562988281,
          138.52944946289062,
          156.23526000976562,
          219.58929443359375,
          250.2940673828125,
          347.15069580078125,
          420.15557861328125,
          500.9607849121094
         ]
        }
       ],
       "layout": {
        "hovermode": "x unified",
        "legend": {
         "x": 0.01,
         "y": 0.99
        },
        "shapes": [
         {
          "line": {
           "color": "gray",
           "dash": "dash"
          },
          "opacity": 0.3,
          "type": "line",
          "x0": 24,
          "x1": 24,
          "xref": "x",
          "y0": 0,
          "y1": 1,
          "yref": "y domain"
         },
         {
          "line": {
           "color": "gray",
           "dash": "dash"
          },
          "opacity": 0.3,
          "type": "line",
          "x0": 48,
          "x1": 48,
          "xref": "x",
          "y0": 0,
          "y1": 1,
          "yref": "y domain"
         }
        ],
        "template": {
         "data": {
          "bar": [
           {
            "error_x": {
             "color": "#2a3f5f"
            },
            "error_y": {
             "color": "#2a3f5f"
            },
            "marker": {
             "line": {
              "color": "#E5ECF6",
              "width": 0.5
             },
             "pattern": {
              "fillmode": "overlay",
              "size": 10,
              "solidity": 0.2
             }
            },
            "type": "bar"
           }
          ],
          "barpolar": [
           {
            "marker": {
             "line": {
              "color": "#E5ECF6",
              "width": 0.5
             },
             "pattern": {
              "fillmode": "overlay",
              "size": 10,
              "solidity": 0.2
             }
            },
            "type": "barpolar"
           }
          ],
          "carpet": [
           {
            "aaxis": {
             "endlinecolor": "#2a3f5f",
             "gridcolor": "white",
             "linecolor": "white",
             "minorgridcolor": "white",
             "startlinecolor": "#2a3f5f"
            },
            "baxis": {
             "endlinecolor": "#2a3f5f",
             "gridcolor": "white",
             "linecolor": "white",
             "minorgridcolor": "white",
             "startlinecolor": "#2a3f5f"
            },
            "type": "carpet"
           }
          ],
          "choropleth": [
           {
            "colorbar": {
             "outlinewidth": 0,
             "ticks": ""
            },
            "type": "choropleth"
           }
          ],
          "contour": [
           {
            "colorbar": {
             "outlinewidth": 0,
             "ticks": ""
            },
            "colorscale": [
             [
              0,
              "#0d0887"
             ],
             [
              0.1111111111111111,
              "#46039f"
             ],
             [
              0.2222222222222222,
              "#7201a8"
             ],
             [
              0.3333333333333333,
              "#9c179e"
             ],
             [
              0.4444444444444444,
              "#bd3786"
             ],
             [
              0.5555555555555556,
              "#d8576b"
             ],
             [
              0.6666666666666666,
              "#ed7953"
             ],
             [
              0.7777777777777778,
              "#fb9f3a"
             ],
             [
              0.8888888888888888,
              "#fdca26"
             ],
             [
              1,
              "#f0f921"
             ]
            ],
            "type": "contour"
           }
          ],
          "contourcarpet": [
           {
            "colorbar": {
             "outlinewidth": 0,
             "ticks": ""
            },
            "type": "contourcarpet"
           }
          ],
          "heatmap": [
           {
            "colorbar": {
             "outlinewidth": 0,
             "ticks": ""
            },
            "colorscale": [
             [
              0,
              "#0d0887"
             ],
             [
              0.1111111111111111,
              "#46039f"
             ],
             [
              0.2222222222222222,
              "#7201a8"
             ],
             [
              0.3333333333333333,
              "#9c179e"
             ],
             [
              0.4444444444444444,
              "#bd3786"
             ],
             [
              0.5555555555555556,
              "#d8576b"
             ],
             [
              0.6666666666666666,
              "#ed7953"
             ],
             [
              0.7777777777777778,
              "#fb9f3a"
             ],
             [
              0.8888888888888888,
              "#fdca26"
             ],
             [
              1,
              "#f0f921"
             ]
            ],
            "type": "heatmap"
           }
          ],
          "histogram": [
           {
            "marker": {
             "pattern": {
              "fillmode": "overlay",
              "size": 10,
              "solidity": 0.2
             }
            },
            "type": "histogram"
           }
          ],
          "histogram2d": [
           {
            "colorbar": {
             "outlinewidth": 0,
             "ticks": ""
            },
            "colorscale": [
             [
              0,
              "#0d0887"
             ],
             [
              0.1111111111111111,
              "#46039f"
             ],
             [
              0.2222222222222222,
              "#7201a8"
             ],
             [
              0.3333333333333333,
              "#9c179e"
             ],
             [
              0.4444444444444444,
              "#bd3786"
             ],
             [
              0.5555555555555556,
              "#d8576b"
             ],
             [
              0.6666666666666666,
              "#ed7953"
             ],
             [
              0.7777777777777778,
              "#fb9f3a"
             ],
             [
              0.8888888888888888,
              "#fdca26"
             ],
             [
              1,
              "#f0f921"
             ]
            ],
            "type": "histogram2d"
           }
          ],
          "histogram2dcontour": [
           {
            "colorbar": {
             "outlinewidth": 0,
             "ticks": ""
            },
            "colorscale": [
             [
              0,
              "#0d0887"
             ],
             [
              0.1111111111111111,
              "#46039f"
             ],
             [
              0.2222222222222222,
              "#7201a8"
             ],
             [
              0.3333333333333333,
              "#9c179e"
             ],
             [
              0.4444444444444444,
              "#bd3786"
             ],
             [
              0.5555555555555556,
              "#d8576b"
             ],
             [
              0.6666666666666666,
              "#ed7953"
             ],
             [
              0.7777777777777778,
              "#fb9f3a"
             ],
             [
              0.8888888888888888,
              "#fdca26"
             ],
             [
              1,
              "#f0f921"
             ]
            ],
            "type": "histogram2dcontour"
           }
          ],
          "mesh3d": [
           {
            "colorbar": {
             "outlinewidth": 0,
             "ticks": ""
            },
            "type": "mesh3d"
           }
          ],
          "parcoords": [
           {
            "line": {
             "colorbar": {
              "outlinewidth": 0,
              "ticks": ""
             }
            },
            "type": "parcoords"
           }
          ],
          "pie": [
           {
            "automargin": true,
            "type": "pie"
           }
          ],
          "scatter": [
           {
            "fillpattern": {
             "fillmode": "overlay",
             "size": 10,
             "solidity": 0.2
            },
            "type": "scatter"
           }
          ],
          "scatter3d": [
           {
            "line": {
             "colorbar": {
              "outlinewidth": 0,
              "ticks": ""
             }
            },
            "marker": {
             "colorbar": {
              "outlinewidth": 0,
              "ticks": ""
             }
            },
            "type": "scatter3d"
           }
          ],
          "scattercarpet": [
           {
            "marker": {
             "colorbar": {
              "outlinewidth": 0,
              "ticks": ""
             }
            },
            "type": "scattercarpet"
           }
          ],
          "scattergeo": [
           {
            "marker": {
             "colorbar": {
              "outlinewidth": 0,
              "ticks": ""
             }
            },
            "type": "scattergeo"
           }
          ],
          "scattergl": [
           {
            "marker": {
             "colorbar": {
              "outlinewidth": 0,
              "ticks": ""
             }
            },
            "type": "scattergl"
           }
          ],
          "scattermap": [
           {
            "marker": {
             "colorbar": {
              "outlinewidth": 0,
              "ticks": ""
             }
            },
            "type": "scattermap"
           }
          ],
          "scattermapbox": [
           {
            "marker": {
             "colorbar": {
              "outlinewidth": 0,
              "ticks": ""
             }
            },
            "type": "scattermapbox"
           }
          ],
          "scatterpolar": [
           {
            "marker": {
             "colorbar": {
              "outlinewidth": 0,
              "ticks": ""
             }
            },
            "type": "scatterpolar"
           }
          ],
          "scatterpolargl": [
           {
            "marker": {
             "colorbar": {
              "outlinewidth": 0,
              "ticks": ""
             }
            },
            "type": "scatterpolargl"
           }
          ],
          "scatterternary": [
           {
            "marker": {
             "colorbar": {
              "outlinewidth": 0,
              "ticks": ""
             }
            },
            "type": "scatterternary"
           }
          ],
          "surface": [
           {
            "colorbar": {
             "outlinewidth": 0,
             "ticks": ""
            },
            "colorscale": [
             [
              0,
              "#0d0887"
             ],
             [
              0.1111111111111111,
              "#46039f"
             ],
             [
              0.2222222222222222,
              "#7201a8"
             ],
             [
              0.3333333333333333,
              "#9c179e"
             ],
             [
              0.4444444444444444,
              "#bd3786"
             ],
             [
              0.5555555555555556,
              "#d8576b"
             ],
             [
              0.6666666666666666,
              "#ed7953"
             ],
             [
              0.7777777777777778,
              "#fb9f3a"
             ],
             [
              0.8888888888888888,
              "#fdca26"
             ],
             [
              1,
              "#f0f921"
             ]
            ],
            "type": "surface"
           }
          ],
          "table": [
           {
            "cells": {
             "fill": {
              "color": "#EBF0F8"
             },
             "line": {
              "color": "white"
             }
            },
            "header": {
             "fill": {
              "color": "#C8D4E3"
             },
             "line": {
              "color": "white"
             }
            },
            "type": "table"
           }
          ]
         },
         "layout": {
          "annotationdefaults": {
           "arrowcolor": "#2a3f5f",
           "arrowhead": 0,
           "arrowwidth": 1
          },
          "autotypenumbers": "strict",
          "coloraxis": {
           "colorbar": {
            "outlinewidth": 0,
            "ticks": ""
           }
          },
          "colorscale": {
           "diverging": [
            [
             0,
             "#8e0152"
            ],
            [
             0.1,
             "#c51b7d"
            ],
            [
             0.2,
             "#de77ae"
            ],
            [
             0.3,
             "#f1b6da"
            ],
            [
             0.4,
             "#fde0ef"
            ],
            [
             0.5,
             "#f7f7f7"
            ],
            [
             0.6,
             "#e6f5d0"
            ],
            [
             0.7,
             "#b8e186"
            ],
            [
             0.8,
             "#7fbc41"
            ],
            [
             0.9,
             "#4d9221"
            ],
            [
             1,
             "#276419"
            ]
           ],
           "sequential": [
            [
             0,
             "#0d0887"
            ],
            [
             0.1111111111111111,
             "#46039f"
            ],
            [
             0.2222222222222222,
             "#7201a8"
            ],
            [
             0.3333333333333333,
             "#9c179e"
            ],
            [
             0.4444444444444444,
             "#bd3786"
            ],
            [
             0.5555555555555556,
             "#d8576b"
            ],
            [
             0.6666666666666666,
             "#ed7953"
            ],
            [
             0.7777777777777778,
             "#fb9f3a"
            ],
            [
             0.8888888888888888,
             "#fdca26"
            ],
            [
             1,
             "#f0f921"
            ]
           ],
           "sequentialminus": [
            [
             0,
             "#0d0887"
            ],
            [
             0.1111111111111111,
             "#46039f"
            ],
            [
             0.2222222222222222,
             "#7201a8"
            ],
            [
             0.3333333333333333,
             "#9c179e"
            ],
            [
             0.4444444444444444,
             "#bd3786"
            ],
            [
             0.5555555555555556,
             "#d8576b"
            ],
            [
             0.6666666666666666,
             "#ed7953"
            ],
            [
             0.7777777777777778,
             "#fb9f3a"
            ],
            [
             0.8888888888888888,
             "#fdca26"
            ],
            [
             1,
             "#f0f921"
            ]
           ]
          },
          "colorway": [
           "#636efa",
           "#EF553B",
           "#00cc96",
           "#ab63fa",
           "#FFA15A",
           "#19d3f3",
           "#FF6692",
           "#B6E880",
           "#FF97FF",
           "#FECB52"
          ],
          "font": {
           "color": "#2a3f5f"
          },
          "geo": {
           "bgcolor": "white",
           "lakecolor": "white",
           "landcolor": "#E5ECF6",
           "showlakes": true,
           "showland": true,
           "subunitcolor": "white"
          },
          "hoverlabel": {
           "align": "left"
          },
          "hovermode": "closest",
          "mapbox": {
           "style": "light"
          },
          "paper_bgcolor": "white",
          "plot_bgcolor": "#E5ECF6",
          "polar": {
           "angularaxis": {
            "gridcolor": "white",
            "linecolor": "white",
            "ticks": ""
           },
           "bgcolor": "#E5ECF6",
           "radialaxis": {
            "gridcolor": "white",
            "linecolor": "white",
            "ticks": ""
           }
          },
          "scene": {
           "xaxis": {
            "backgroundcolor": "#E5ECF6",
            "gridcolor": "white",
            "gridwidth": 2,
            "linecolor": "white",
            "showbackground": true,
            "ticks": "",
            "zerolinecolor": "white"
           },
           "yaxis": {
            "backgroundcolor": "#E5ECF6",
            "gridcolor": "white",
            "gridwidth": 2,
            "linecolor": "white",
            "showbackground": true,
            "ticks": "",
            "zerolinecolor": "white"
           },
           "zaxis": {
            "backgroundcolor": "#E5ECF6",
            "gridcolor": "white",
            "gridwidth": 2,
            "linecolor": "white",
            "showbackground": true,
            "ticks": "",
            "zerolinecolor": "white"
           }
          },
          "shapedefaults": {
           "line": {
            "color": "#2a3f5f"
           }
          },
          "ternary": {
           "aaxis": {
            "gridcolor": "white",
            "linecolor": "white",
            "ticks": ""
           },
           "baxis": {
            "gridcolor": "white",
            "linecolor": "white",
            "ticks": ""
           },
           "bgcolor": "#E5ECF6",
           "caxis": {
            "gridcolor": "white",
            "linecolor": "white",
            "ticks": ""
           }
          },
          "title": {
           "x": 0.05
          },
          "xaxis": {
           "automargin": true,
           "gridcolor": "white",
           "linecolor": "white",
           "ticks": "",
           "title": {
            "standoff": 15
           },
           "zerolinecolor": "white",
           "zerolinewidth": 2
          },
          "yaxis": {
           "automargin": true,
           "gridcolor": "white",
           "linecolor": "white",
           "ticks": "",
           "title": {
            "standoff": 15
           },
           "zerolinecolor": "white",
           "zerolinewidth": 2
          }
         }
        },
        "title": {
         "text": "Valeurs Réelles vs Prédictions (Interactif)"
        },
        "xaxis": {
         "tickmode": "array",
         "ticktext": [
          "Jour 1 - h0",
          "Jour 1 - h4",
          "Jour 1 - h8",
          "Jour 1 - h12",
          "Jour 1 - h16",
          "Jour 1 - h20",
          "Jour 2 - h0",
          "Jour 2 - h4",
          "Jour 2 - h8",
          "Jour 2 - h12",
          "Jour 2 - h16",
          "Jour 2 - h20",
          "Jour 3 - h0",
          "Jour 3 - h4",
          "Jour 3 - h8",
          "Jour 3 - h12",
          "Jour 3 - h16",
          "Jour 3 - h20"
         ],
         "tickvals": [
          0,
          4,
          8,
          12,
          16,
          20,
          24,
          28,
          32,
          36,
          40,
          44,
          48,
          52,
          56,
          60,
          64,
          68
         ],
         "title": {
          "text": "Temps (heures concaténées)"
         }
        },
        "yaxis": {
         "title": {
          "text": "Consommation de chauffage"
         }
        }
       }
      }
     },
     "metadata": {},
     "output_type": "display_data"
    }
   ],
   "source": [
    "plot_true_vs_predicted_interactive(indices=[0, 1, 2], y_test=y_test2, predictions=predictions2, scaler_cons=scaler_cons)\n"
   ]
  },
  {
   "cell_type": "code",
   "execution_count": 32,
   "id": "67aaf232",
   "metadata": {},
   "outputs": [],
   "source": [
    "import numpy as np\n",
    "import matplotlib.pyplot as plt\n",
    "import matplotlib.animation as animation\n",
    "\n",
    "def create_line_gif_point_by_point(y_test, predictions, scaler_cons, filename=\"line_point_by_point.gif\", num_examples=4):\n",
    "    \"\"\"\n",
    "    Crée un GIF où, pour chaque exemple, les points vrais et prédits apparaissent un à un en ligne.\n",
    "    \"\"\"\n",
    "    num_examples = min(num_examples, len(y_test), len(predictions))\n",
    "    y_test_rescaled = scaler_cons.inverse_transform(y_test[:num_examples])\n",
    "    predictions_rescaled = scaler_cons.inverse_transform(predictions[:num_examples])\n",
    "\n",
    "    fig, ax = plt.subplots(figsize=(10, 6))\n",
    "\n",
    "    # Total frames = num_examples * length_of_each_series\n",
    "    length = y_test_rescaled.shape[1]\n",
    "    total_frames = num_examples * length\n",
    "\n",
    "    def update(frame):\n",
    "        ax.clear()\n",
    "\n",
    "        # Quel exemple on trace ?\n",
    "        example_idx = frame // length\n",
    "        point_idx = frame % length\n",
    "\n",
    "        y_true = y_test_rescaled[example_idx][:point_idx + 1]\n",
    "        y_pred = predictions_rescaled[example_idx][:point_idx + 1]\n",
    "        indices = np.arange(point_idx + 1)\n",
    "\n",
    "        ax.plot(indices, y_true, marker='o', color='blue', label=\"Valeurs réelles\", linestyle='-')\n",
    "        ax.plot(indices, y_pred, marker='x', color='orange', label=\"Prédictions\", linestyle='--')\n",
    "\n",
    "        ax.set_ylabel(\"Consommation\")\n",
    "        ax.set_xlabel(\"Heures\")\n",
    "        ax.set_title(f\"Exemple {example_idx + 1} - Point {point_idx + 1} sur {length}\")\n",
    "        ax.set_xticks(np.arange(length))\n",
    "        ax.set_xticklabels([f\"Heure {j}\" for j in range(length)], rotation=45)\n",
    "        ax.legend()\n",
    "        ax.grid(True, linestyle=\"--\", alpha=0.4)\n",
    "        y_max = max(y_test_rescaled[example_idx].max(), predictions_rescaled[example_idx].max())\n",
    "        ax.set_ylim(0, y_max * 1.1)\n",
    "\n",
    "    ani = animation.FuncAnimation(fig, update, frames=total_frames, repeat=False)\n",
    "    ani.save(filename, writer='pillow', fps=2)  # fps=2 pour voir doucement\n",
    "    plt.close()\n"
   ]
  },
  {
   "cell_type": "code",
   "execution_count": 33,
   "id": "d6a7a9fa",
   "metadata": {},
   "outputs": [],
   "source": [
    "create_line_gif_point_by_point(y_test2, predictions2, scaler_cons)\n"
   ]
  },
  {
   "cell_type": "code",
   "execution_count": null,
   "id": "2b514148",
   "metadata": {},
   "outputs": [],
   "source": []
  }
 ],
 "metadata": {
  "kernelspec": {
   "display_name": "notebook",
   "language": "python",
   "name": "python3"
  },
  "language_info": {
   "codemirror_mode": {
    "name": "ipython",
    "version": 3
   },
   "file_extension": ".py",
   "mimetype": "text/x-python",
   "name": "python",
   "nbconvert_exporter": "python",
   "pygments_lexer": "ipython3",
   "version": "3.12.9"
  }
 },
 "nbformat": 4,
 "nbformat_minor": 5
}
